{
 "cells": [
  {
   "cell_type": "markdown",
   "metadata": {},
   "source": [
    "# Exercise 1\n",
    " <p><div class=\"lev1\"><a href=\"#Task-A.-Another-LEGO-brick-in-the-wall\"><span class=\"toc-item-num\">Task A.&nbsp;&nbsp;</span>Another LEGO brick in the wall</a></div>\n",
    " <p><div class=\"lev1\"><a href=\"#Task-B.-Drop-the-Bike\"><span class=\"toc-item-num\">Task B.&nbsp;&nbsp;</span>Drop the Bike</a></div>"
   ]
  },
  {
   "cell_type": "code",
   "execution_count": null,
   "metadata": {},
   "outputs": [],
   "source": [
    "# Add your imports here\n",
    "import pandas as pd\n",
    "import numpy as np"
   ]
  },
  {
   "cell_type": "code",
   "execution_count": null,
   "metadata": {},
   "outputs": [],
   "source": [
    "DATA_FOLDER = 'data'"
   ]
  },
  {
   "cell_type": "markdown",
   "metadata": {},
   "source": [
    "## Task A. Another LEGO brick in the wall\n",
    "\n",
    "LEGO is a popular brand of toy building bricks. They are often sold in sets in order to build a specific object. Each set contains a number of parts in different shapes, sizes and colors. This database contains information on which parts are included in different LEGO sets. It was originally compiled to help people who owned some LEGO sets already figure out what other sets they could build with the pieces they had.\n",
    "\n",
    "This dataset contains the official LEGO colors, parts, inventories (i.e., sets of LEGO parts which assembled create an object in the LEGO world) and sets (i.e., sets of LEGO inventories which assembled create a LEGO ecosystem). The schema of the dataset can be shown in the following UML diagram: \n",
    "\n",
    "![lego-schema](lego-schema.png)\n",
    "\n",
    "In this task you have to apply the following Data Wrangling pipeline:\n",
    "1. Load your data into `Pandas`\n",
    "* Explore it and clean its dirty parts\n",
    "* Use it to answer a set of queries\n",
    "\n",
    "Each of these subtasks are described in detail below."
   ]
  },
  {
   "cell_type": "markdown",
   "metadata": {},
   "source": [
    "### A1. Loading phase\n",
    "Load all the csv files into different `DataFrames`. Use meaningful names for your `DataFrames` (e.g., the respective filenames).\n",
    "\n",
    "*Hint: You can load files without first unzipping them (for `Pandas` version >= 0.18.1).*"
   ]
  },
  {
   "cell_type": "code",
   "execution_count": 3,
   "metadata": {},
   "outputs": [],
   "source": [
    "LEGO_DATA_FOLDER = DATA_FOLDER + '/lego'"
   ]
  },
  {
   "cell_type": "code",
   "execution_count": 4,
   "metadata": {},
   "outputs": [],
   "source": [
    "# Write your code here\n",
    "colors = pd.read_csv(LEGO_DATA_FOLDER + \"/colors.csv.zip\")\n",
    "inventories = pd.read_csv(LEGO_DATA_FOLDER + \"/inventories.csv.zip\")\n",
    "inventory_parts = pd.read_csv(LEGO_DATA_FOLDER + \"/inventory_parts.csv.zip\")\n",
    "inventory_sets = pd.read_csv(LEGO_DATA_FOLDER + \"/inventory_sets.csv.zip\")\n",
    "part_categories = pd.read_csv(LEGO_DATA_FOLDER + \"/part_categories.csv.zip\")\n",
    "parts = pd.read_csv(LEGO_DATA_FOLDER + \"/parts.csv.zip\")\n",
    "sets = pd.read_csv(LEGO_DATA_FOLDER + \"/sets.csv.zip\")\n",
    "themes = pd.read_csv(LEGO_DATA_FOLDER + \"/themes.csv.zip\")"
   ]
  },
  {
   "cell_type": "markdown",
   "metadata": {},
   "source": [
    "### A2. Cleaning phase\n",
    "Explore the following columns from your dataset:\n",
    "\n",
    "1. sets: year\n",
    "* inventory_parts: quantity\n",
    "\n",
    "What is the time range of the sets? \n",
    "What is the average quantity of the inventory parts? \n",
    "Do you see any inconsistencies? \n",
    "Provide code that detects and cleans such inconsistencies and validates the coherence of your dataset. "
   ]
  },
  {
   "cell_type": "markdown",
   "metadata": {},
   "source": [
    "#### Task A2.1\n",
    " - Initial evaluation of the time range of the sets gives minimal value '-1962' and maximum value '80s'. \n",
    " - Inconsistencies like negative years (-2013), decades (70s), and typos with five digits are cleaned out by filtering out only values consisting of four characters. In theory, there could still be inconsistencies with strings of length four (e.g. \"60's\"); we therefore check that all values are integers.\n",
    " - After this cleaning phase, the time range of the sets is (1950, 2017) which seems reasonable."
   ]
  },
  {
   "cell_type": "code",
   "execution_count": 5,
   "metadata": {},
   "outputs": [
    {
     "data": {
      "text/plain": [
       "False"
      ]
     },
     "execution_count": 5,
     "metadata": {},
     "output_type": "execute_result"
    }
   ],
   "source": [
    "# TASK A2.1\n",
    "#Test\n",
    "min_year = sets[['year']].min() # -1962\n",
    "max_year = sets[['year']].max() # 80s\n",
    "\n",
    "# Clean\n",
    "sets_clean = sets.copy()\n",
    "sets_clean['year'] = sets['year'][sets['year'].apply(lambda x: len(x) == 4)]\n",
    "sets_clean = sets_clean.dropna()\n",
    "\n",
    "# Verify\n",
    "sets_clean['year'].min() # 1950\n",
    "sets_clean['year'].max() # 2017\n",
    "only_integer = sets_clean['year'].apply(lambda x: x.isdigit())\n",
    "False in only_integer.values # False ==> only digits (only_integer.all())"
   ]
  },
  {
   "cell_type": "markdown",
   "metadata": {},
   "source": [
    "#### Task A2.2\n",
    "When computing the average quantity of the inventory parts, we obtain \"-inf\". This is due to the quantity of certain parts which is set to \"-inf\" (instead of a resonable quantity). To get rid of them, every negative value is changed to \"NaN\", which can be easily ignored when computing the mean or dropped."
   ]
  },
  {
   "cell_type": "code",
   "execution_count": 6,
   "metadata": {},
   "outputs": [
    {
     "data": {
      "text/plain": [
       "3.836938260983857"
      ]
     },
     "execution_count": 6,
     "metadata": {},
     "output_type": "execute_result"
    }
   ],
   "source": [
    "# TASK A2.2\n",
    "# Test\n",
    "inventory_parts['quantity'].mean() # -inf\n",
    "\n",
    "# Clean\n",
    "isneg = inventory_parts['quantity'].apply(lambda x: x<0) # Find negative values\n",
    "inventory_parts.at[isneg,'quantity'] = np.nan # Replace negatives values by NaN\n",
    "inventory_parts_clean = inventory_parts.dropna() # inventory_parts without NaN (or -inf)\n",
    "\n",
    "# Verify\n",
    "inventory_parts['quantity'].mean(skipna = True) # Compute the mean (3.836938260983857)"
   ]
  },
  {
   "cell_type": "markdown",
   "metadata": {},
   "source": [
    "### A3. Querying phase\n",
    "Answer the following queries using the functionality of `Pandas`:\n",
    "\n",
    "1. List the ids of the inventories that belong to sets that contain cars. (*Hint: Find a smart way to distinguish which sets contain cars based on the sets' name*).\n",
    "* Plot the distribution of part categories as a (horizontal) bar chart. Restrict yourself to the 20 largest part categories (in terms of the number of parts belonging to the category).\n",
    "* Find the dominant color of each set. Then, plot using a (horizontal) bar chart, the number of sets per dominant color. Color each bar with the respective color that it represents.\n",
    "* Create a scatter plot of the *luminance*\\* of the sets vs their publishing year. What do you observe for the years 1980-1981? How do you interpret what you see?\n",
    "\n",
    "\\*The luminance of a color is a [measure of brightness](https://en.wikipedia.org/wiki/Luminance) which, given its RGB representation, can be computed as follows:\n",
    "\n",
    "$luminance = \\sqrt{0.299*R^2 + 0.587*G^2 + 0.114*B^2}$"
   ]
  },
  {
   "cell_type": "markdown",
   "metadata": {},
   "source": [
    "#### Task A3.1\n",
    "- Find the sets which names contain the word 'Car'\n",
    "- Set all the other name-values to NaN, and drop them\n",
    "- Merge sets with inventory_sets, and display the ids of the inventories"
   ]
  },
  {
   "cell_type": "code",
   "execution_count": 7,
   "metadata": {},
   "outputs": [
    {
     "data": {
      "text/plain": [
       "0      8202\n",
       "1      1716\n",
       "2     12851\n",
       "3     12851\n",
       "4      2814\n",
       "5      6066\n",
       "6       908\n",
       "7      2559\n",
       "8      6296\n",
       "9     10028\n",
       "10    12110\n",
       "11     8820\n",
       "12     8820\n",
       "13     8820\n",
       "14     7881\n",
       "15     8348\n",
       "16    12437\n",
       "17      500\n",
       "Name: inventory_id, dtype: int64"
      ]
     },
     "execution_count": 7,
     "metadata": {},
     "output_type": "execute_result"
    }
   ],
   "source": [
    "# TASK A3.1\n",
    "sets_find_car = sets['name'].apply((lambda x: x.find(\"Car \") or x.endswith(\"Car\"))) \n",
    "\n",
    "sets_copy = sets.copy() # making a copy of the sets-DataFrame\n",
    "\n",
    "sets_true_false = sets_find_car.apply(lambda x: x == -1) # returns a Series with 0 = False, -1 = True\n",
    "sets_copy.at[sets_true_false, 'name'] = np.nan # sets all the names in sets_copy without 'Car' to NaN\n",
    "sets_only_cars = sets_copy.dropna() # drops all the NaN-values\n",
    "\n",
    "sets_inventory_sets_merged = pd.merge(sets_only_cars, inventory_sets, how = 'inner', left_on = 'id', right_on = 'set_id') \n",
    "sets_inventory_sets_merged['inventory_id']"
   ]
  },
  {
   "cell_type": "markdown",
   "metadata": {},
   "source": [
    "#### Task A3.2\n",
    "- Merge parts and parts_categories with the id of the part categories\n",
    "- Add a column of 1 which is called \"counts\"\n",
    "- Aggregate all lines within the same category such that the 1s in \"counts\" adds up and give the number of parts in each category\n",
    "- Select only the top 20 categories\n",
    "- Make a horizontal bar plot"
   ]
  },
  {
   "cell_type": "code",
   "execution_count": 8,
   "metadata": {},
   "outputs": [],
   "source": [
    "# TASK A3.2\n",
    "# Merge parts and parts_categories\n",
    "parts = parts.rename(index=str, columns={\"name\": \"name_parts\"}) # Rename column \"name\" as \"name_parts\" to avoid confusion later on\n",
    "part_categories = part_categories.rename(index=str, columns={\"name\": \"name_categories\"}) # Rename column \"name\" as \"name_categories\" to avoid confusion later on\n",
    "partswithcat = pd.merge(parts, part_categories, how='inner', left_on='part_cat_id', right_on='id')\n",
    "\n",
    "# Count number of parts in each category\n",
    "partswithcat['counts'] = 1 # Add a column of ones named \"counts\"\n",
    "partswithcatgrouped = partswithcat.groupby('name_categories')\n",
    "temp1 = partswithcatgrouped.sum() # Sum all lines with the same value in \"name_categories\"\n",
    "temp2 = temp1['counts'].sort_values(ascending=[False]).head(20) # Select only the top 20 categories\n",
    "temp2 = temp2.iloc[::-1] # Invert temp2 (to have the largest category first in the bar chart)\n",
    "\n",
    "# Plot\n",
    "ax2 = temp2.plot.barh(title='Number of parts in each of the 20 largest category')\n",
    "ax2.set_xlabel('Number of parts'); ax2.set_ylabel('');"
   ]
  },
  {
   "cell_type": "markdown",
   "metadata": {},
   "source": [
    "#### Task A3.3\n",
    "- Merge sets, inventory_sets, inventory_parts, colors together\n",
    "- Add a column of 1 which is called \"count_parts\"\n",
    "- Aggregate all lines with the same set_id and color_id such that the 1s in \"count_parts\" adds up and give the number of parts with the same color in each set\n",
    "- Consider the dominant color of a set as the color which belongs to the largest number of parts in the set\n",
    "- Add a column of 1 which is called \"count_sets\"\n",
    "- Aggregate all lines with the same color_id such that the 1s in \"count_sets\" adds up and give the number of sets for each dominant color\n",
    "- Plot the number of sets for each dominant color in a horizontal bar chart (with corresponding colors)"
   ]
  },
  {
   "cell_type": "code",
   "execution_count": 9,
   "metadata": {},
   "outputs": [
    {
     "data": {
      "image/png": "[encoded data removed]",
      "text/plain": [
       "<Figure size 432x288 with 1 Axes>"
      ]
     },
     "metadata": {},
     "output_type": "display_data"
    }
   ],
   "source": [
    "#TASK A3.3\n",
    "# Merging sets, inventory_sets, inventory_parts, colors\n",
    "sets_merged_inventory_sets = pd.merge(sets, inventory_sets, how = 'inner', left_on = 'id', right_on = 'set_id')\n",
    "inventory_parts_merged_colors = pd.merge(inventory_parts, colors, how = 'inner', left_on = 'color_id', right_on = 'id')\n",
    "merged = pd.merge(sets_merged_inventory_sets, inventory_parts_merged_colors, how = 'inner', left_on = 'inventory_id', right_on = 'inventory_id', suffixes = ('_invset', '_invpart'))\n",
    "\n",
    "# Find dominant color of each set\n",
    "merged['count_parts'] = 1\n",
    "num_parts_per_color = merged.groupby(['set_id', 'color_id']).sum() # Sum to get the number of parts with the same color in each set\n",
    "num_parts_per_color = num_parts_per_color.reset_index()\n",
    "max_num_parts_per_color = num_parts_per_color.groupby('set_id').apply(lambda x: x.loc[x.count_parts == x.count_parts.max(),['count_parts','color_id']]) # Keep only the row where the number of parts per colors is maximum for each sets\n",
    "max_num_parts_per_color['color_id'] = max_num_parts_per_color['color_id']/max_num_parts_per_color['count_parts'] # Compute the original color_id (which was multiplied by the number in \"count_parts\" during the addition)\n",
    "\n",
    "# Add name and rgb from dataset colors\n",
    "max_num_parts_per_color = max_num_parts_per_color.assign(name=max_num_parts_per_color['color_id'].map(colors.set_index('id')['name']))\n",
    "max_num_parts_per_color = max_num_parts_per_color.assign(rgb=max_num_parts_per_color['color_id'].map(colors.set_index('id')['rgb']))\n",
    "\n",
    "# Count number of sets per dominant color\n",
    "max_num_parts_per_color = max_num_parts_per_color.reset_index()\n",
    "max_num_parts_per_color['count_sets'] = 1\n",
    "num_sets_per_dom_color = max_num_parts_per_color.groupby(['color_id','name','rgb']).sum() # Sum to get the number of sets for each dominant color\n",
    "num_sets_per_dom_color = num_sets_per_dom_color.reset_index()\n",
    "color_list = '#' + num_sets_per_dom_color['rgb'] # Add a hashtag at the beginning of each hexadecimal RGB codes\n",
    "\n",
    "# Plot\n",
    "ax3 = num_sets_per_dom_color.plot.barh(x='name', y='count_sets', color=color_list, title='Number of sets per dominant color')\n",
    "ax3.set_xlabel('Number of sets'); ax3.set_ylabel(''); ax3.legend('');"
   ]
  },
  {
   "cell_type": "markdown",
   "metadata": {},
   "source": [
    "#### Task A3.4\n",
    "- Merge the two dataframes that contains resp. the publishing year and the color code\n",
    "- Convert the color code from hex to RGB and compute the luminance for each set based on their dominant color\n",
    "- Plot luminance vs publishing year"
   ]
  },
  {
   "cell_type": "code",
   "execution_count": 10,
   "metadata": {
    "scrolled": false
   },
   "outputs": [
    {
     "data": {
      "image/png": "[encoded data removed]",
      "text/plain": [
       "<Figure size 432x288 with 1 Axes>"
      ]
     },
     "metadata": {},
     "output_type": "display_data"
    }
   ],
   "source": [
    "# TASK A3.4\n",
    "temp4 = pd.merge(max_num_parts_per_color.dropna(), sets_clean, how='inner', left_on='set_id', right_on='id') # To have the pulishing year and the color code in a single dataframe\n",
    "\n",
    "# Convert hex to RGB and compute the luminance\n",
    "temp4['luminance'] = np.nan # Create a new column for the luminance\n",
    "for i in range(0, temp4.index[-1]): # Loop to convert hex to RGB and compute the luminance\n",
    "    rgbhexa = temp4.loc[i,'rgb']\n",
    "    rgbdeci = tuple(int(rgbhexa[j:j+2], 16) for j in (0, 2 ,4))\n",
    "    temp4.loc[i,'luminance'] = np.sqrt(0.299*rgbdeci[0]**2 + 0.587*rgbdeci[1]**2 + 0.114*rgbdeci[2]**2) # Compute the luminance\n",
    "temp5 = temp4.reset_index()\n",
    "temp5['year'] = temp5['year'].astype('float64') # Convert the year to a float\n",
    "\n",
    "# Plot\n",
    "ax4 = temp5.plot.scatter(x='year', y='luminance', title=\"Average luminance of the sets as a function of the publishing year\")\n",
    "ax4.set_xlabel('Publishing year'); ax4.set_ylabel('Luminance');"
   ]
  },
  {
   "cell_type": "markdown",
   "metadata": {},
   "source": [
    "## Task B. Drop the bike\n",
    "\n",
    "*Los Angeles Metro* has been sharing publicly [anonymized *Metro Bike Share* trip data](https://bikeshare.metro.net/about/data/) under the [Open Database License (ODbL)](http://opendatacommons.org/licenses/odbl/1.0/).\n",
    "\n",
    "In this task you will again perform data wrangling and interpretation."
   ]
  },
  {
   "cell_type": "code",
   "execution_count": 11,
   "metadata": {},
   "outputs": [],
   "source": [
    "import pandas as pd\n",
    "import matplotlib.pyplot as plt"
   ]
  },
  {
   "cell_type": "markdown",
   "metadata": {},
   "source": [
    "### B1. Loading phase\n",
    "Load the json file into a `DataFrame`.\n"
   ]
  },
  {
   "cell_type": "code",
   "execution_count": 12,
   "metadata": {},
   "outputs": [],
   "source": [
    "BIKES_DATA_FOLDER = DATA_FOLDER + '/bikes'"
   ]
  },
  {
   "cell_type": "markdown",
   "metadata": {},
   "source": [
    "Path to the datafolder '/bikes'"
   ]
  },
  {
   "cell_type": "code",
   "execution_count": 13,
   "metadata": {},
   "outputs": [
    {
     "name": "stdout",
     "output_type": "stream",
     "text": [
      "<class 'pandas.core.frame.DataFrame'>\n",
      "RangeIndex: 132427 entries, 0 to 132426\n",
      "Data columns (total 14 columns):\n",
      "bike_id                       132417 non-null float64\n",
      "duration                      132427 non-null int64\n",
      "end_time                      132427 non-null datetime64[ns]\n",
      "ending_station_id             132331 non-null float64\n",
      "ending_station_latitude       131376 non-null float64\n",
      "ending_station_longitude      131376 non-null float64\n",
      "passholder_type               132427 non-null object\n",
      "plan_duration                 131661 non-null float64\n",
      "start_time                    132427 non-null datetime64[ns]\n",
      "starting_station_id           132408 non-null float64\n",
      "starting_station_latitude     132379 non-null float64\n",
      "starting_station_longitude    132379 non-null float64\n",
      "trip_id                       132427 non-null int64\n",
      "trip_route_category           132427 non-null object\n",
      "dtypes: datetime64[ns](2), float64(8), int64(2), object(2)\n",
      "memory usage: 14.1+ MB\n"
     ]
    },
    {
     "data": {
      "text/html": [
       "<div>\n",
       "<style scoped>\n",
       "    .dataframe tbody tr th:only-of-type {\n",
       "        vertical-align: middle;\n",
       "    }\n",
       "\n",
       "    .dataframe tbody tr th {\n",
       "        vertical-align: top;\n",
       "    }\n",
       "\n",
       "    .dataframe thead th {\n",
       "        text-align: right;\n",
       "    }\n",
       "</style>\n",
       "<table border=\"1\" class=\"dataframe\">\n",
       "  <thead>\n",
       "    <tr style=\"text-align: right;\">\n",
       "      <th></th>\n",
       "      <th>bike_id</th>\n",
       "      <th>duration</th>\n",
       "      <th>end_time</th>\n",
       "      <th>ending_station_id</th>\n",
       "      <th>ending_station_latitude</th>\n",
       "      <th>ending_station_longitude</th>\n",
       "      <th>passholder_type</th>\n",
       "      <th>plan_duration</th>\n",
       "      <th>start_time</th>\n",
       "      <th>starting_station_id</th>\n",
       "      <th>starting_station_latitude</th>\n",
       "      <th>starting_station_longitude</th>\n",
       "      <th>trip_id</th>\n",
       "      <th>trip_route_category</th>\n",
       "    </tr>\n",
       "  </thead>\n",
       "  <tbody>\n",
       "    <tr>\n",
       "      <th>0</th>\n",
       "      <td>6281.0</td>\n",
       "      <td>180</td>\n",
       "      <td>2016-07-07 04:20:00</td>\n",
       "      <td>3014.0</td>\n",
       "      <td>34.056610</td>\n",
       "      <td>-118.23721</td>\n",
       "      <td>Monthly Pass</td>\n",
       "      <td>30.0</td>\n",
       "      <td>2016-07-07 04:17:00</td>\n",
       "      <td>3014.0</td>\n",
       "      <td>34.056610</td>\n",
       "      <td>-118.23721</td>\n",
       "      <td>1912818</td>\n",
       "      <td>Round Trip</td>\n",
       "    </tr>\n",
       "    <tr>\n",
       "      <th>1</th>\n",
       "      <td>6281.0</td>\n",
       "      <td>1980</td>\n",
       "      <td>2016-07-07 06:33:00</td>\n",
       "      <td>3014.0</td>\n",
       "      <td>34.056610</td>\n",
       "      <td>-118.23721</td>\n",
       "      <td>Monthly Pass</td>\n",
       "      <td>30.0</td>\n",
       "      <td>2016-07-07 06:00:00</td>\n",
       "      <td>3014.0</td>\n",
       "      <td>34.056610</td>\n",
       "      <td>-118.23721</td>\n",
       "      <td>1919661</td>\n",
       "      <td>Round Trip</td>\n",
       "    </tr>\n",
       "    <tr>\n",
       "      <th>2</th>\n",
       "      <td>5861.0</td>\n",
       "      <td>300</td>\n",
       "      <td>2016-07-07 10:37:00</td>\n",
       "      <td>3016.0</td>\n",
       "      <td>34.052898</td>\n",
       "      <td>-118.24156</td>\n",
       "      <td>Flex Pass</td>\n",
       "      <td>365.0</td>\n",
       "      <td>2016-07-07 10:32:00</td>\n",
       "      <td>3016.0</td>\n",
       "      <td>34.052898</td>\n",
       "      <td>-118.24156</td>\n",
       "      <td>1933383</td>\n",
       "      <td>Round Trip</td>\n",
       "    </tr>\n",
       "    <tr>\n",
       "      <th>3</th>\n",
       "      <td>5861.0</td>\n",
       "      <td>10860</td>\n",
       "      <td>2016-07-07 13:38:00</td>\n",
       "      <td>3016.0</td>\n",
       "      <td>34.052898</td>\n",
       "      <td>-118.24156</td>\n",
       "      <td>Flex Pass</td>\n",
       "      <td>365.0</td>\n",
       "      <td>2016-07-07 10:37:00</td>\n",
       "      <td>3016.0</td>\n",
       "      <td>34.052898</td>\n",
       "      <td>-118.24156</td>\n",
       "      <td>1944197</td>\n",
       "      <td>Round Trip</td>\n",
       "    </tr>\n",
       "    <tr>\n",
       "      <th>4</th>\n",
       "      <td>6674.0</td>\n",
       "      <td>420</td>\n",
       "      <td>2016-07-07 12:58:00</td>\n",
       "      <td>3032.0</td>\n",
       "      <td>34.049889</td>\n",
       "      <td>-118.25588</td>\n",
       "      <td>Walk-up</td>\n",
       "      <td>0.0</td>\n",
       "      <td>2016-07-07 12:51:00</td>\n",
       "      <td>3032.0</td>\n",
       "      <td>34.049889</td>\n",
       "      <td>-118.25588</td>\n",
       "      <td>1940317</td>\n",
       "      <td>Round Trip</td>\n",
       "    </tr>\n",
       "  </tbody>\n",
       "</table>\n",
       "</div>"
      ],
      "text/plain": [
       "   bike_id  duration            end_time  ending_station_id  \\\n",
       "0   6281.0       180 2016-07-07 04:20:00             3014.0   \n",
       "1   6281.0      1980 2016-07-07 06:33:00             3014.0   \n",
       "2   5861.0       300 2016-07-07 10:37:00             3016.0   \n",
       "3   5861.0     10860 2016-07-07 13:38:00             3016.0   \n",
       "4   6674.0       420 2016-07-07 12:58:00             3032.0   \n",
       "\n",
       "   ending_station_latitude  ending_station_longitude passholder_type  \\\n",
       "0                34.056610                -118.23721    Monthly Pass   \n",
       "1                34.056610                -118.23721    Monthly Pass   \n",
       "2                34.052898                -118.24156       Flex Pass   \n",
       "3                34.052898                -118.24156       Flex Pass   \n",
       "4                34.049889                -118.25588         Walk-up   \n",
       "\n",
       "   plan_duration          start_time  starting_station_id  \\\n",
       "0           30.0 2016-07-07 04:17:00               3014.0   \n",
       "1           30.0 2016-07-07 06:00:00               3014.0   \n",
       "2          365.0 2016-07-07 10:32:00               3016.0   \n",
       "3          365.0 2016-07-07 10:37:00               3016.0   \n",
       "4            0.0 2016-07-07 12:51:00               3032.0   \n",
       "\n",
       "   starting_station_latitude  starting_station_longitude  trip_id  \\\n",
       "0                  34.056610                  -118.23721  1912818   \n",
       "1                  34.056610                  -118.23721  1919661   \n",
       "2                  34.052898                  -118.24156  1933383   \n",
       "3                  34.052898                  -118.24156  1944197   \n",
       "4                  34.049889                  -118.25588  1940317   \n",
       "\n",
       "  trip_route_category  \n",
       "0          Round Trip  \n",
       "1          Round Trip  \n",
       "2          Round Trip  \n",
       "3          Round Trip  \n",
       "4          Round Trip  "
      ]
     },
     "execution_count": 13,
     "metadata": {},
     "output_type": "execute_result"
    }
   ],
   "source": [
    "# Write your code here\n",
    "file_path = BIKES_DATA_FOLDER + \"/metro-bike-share-trip-data.json.zip\"\n",
    "\n",
    "data = pd.read_json(file_path)\n",
    "data.columns = data.columns.str.lower().str.replace(' ', '_')\n",
    "data['start_time'] = pd.to_datetime(data['start_time'], format='%Y-%m-%dT%H:%M:%S')\n",
    "data['end_time'] = pd.to_datetime(data['end_time'], format='%Y-%m-%dT%H:%M:%S')\n",
    "data.info()\n",
    "data.head()\n"
   ]
  },
  {
   "cell_type": "markdown",
   "metadata": {},
   "source": [
    "Read the wanted file with pandas.read_json(path_or_buf) function from the Pandas library."
   ]
  },
  {
   "cell_type": "markdown",
   "metadata": {},
   "source": [
    "### B2. Cleaning phase\n",
    "Describe the type and the value range of each attribute. Indicate and transform the attributes that are `Categorical`. Are there redundant columns in the dataset (i.e., are there columns whose value depends only on the value of another column)? What are the possible pitfalls of having such columns? Reduce *data redundancy* by extracting such columns to separate `DataFrames`. Which of the two formats (the initial one or the one with reduced data redundancy) is more susceptible to inconsistencies? At the end print for each `Dataframe` the *type of each column* and it's *shape*."
   ]
  },
  {
   "cell_type": "code",
   "execution_count": 14,
   "metadata": {
    "scrolled": false
   },
   "outputs": [
    {
     "name": "stdout",
     "output_type": "stream",
     "text": [
      "The column: bike_id, has the type: float64, and the value range: 1349.0 - 6728.0\n",
      "The column: duration, has the type: int64, and the value range: 60 - 86400\n",
      "The column: end_time, has the type: datetime64[ns], and the value range: 2016-07-07 04:20:00 - 2017-04-02 10:32:00\n",
      "The column: ending_station_id, has the type: float64, and the value range: 3000.0 - 4108.0\n",
      "The column: ending_station_latitude, has the type: float64, and the value range: 0.0 - 34.0642815\n",
      "The column: ending_station_longitude, has the type: float64, and the value range: -118.472832 - 0.0\n",
      "The column: passholder_type, has the type: object, and has values: Monthly Pass, Flex Pass, Walk-up, Staff Annual\n",
      "The column: plan_duration, has the type: float64, and the value range: 0.0 - 365.0\n",
      "The column: start_time, has the type: datetime64[ns], and the value range: 2016-07-07 04:17:00 - 2017-03-31 23:45:00\n",
      "The column: starting_station_id, has the type: float64, and the value range: 3000.0 - 4108.0\n",
      "The column: starting_station_latitude, has the type: float64, and the value range: 0.0 - 34.0642815\n",
      "The column: starting_station_longitude, has the type: float64, and the value range: -118.472832 - 0.0\n",
      "The column: trip_id, has the type: int64, and the value range: 1912818 - 23794218\n",
      "The column: trip_route_category, has the type: object, and has values: Round Trip, One Way\n",
      "dfWithoutRedundantCols shape and dtypes:\n"
     ]
    },
    {
     "data": {
      "text/plain": [
       "(132427, 12)"
      ]
     },
     "metadata": {},
     "output_type": "display_data"
    },
    {
     "data": {
      "text/plain": [
       "bike_id                                  float64\n",
       "duration                                   int64\n",
       "ending_station_id                        float64\n",
       "start_time                        datetime64[ns]\n",
       "starting_station_id                      float64\n",
       "trip_id                                    int64\n",
       "passholder_type_Flex Pass                  uint8\n",
       "passholder_type_Monthly Pass               uint8\n",
       "passholder_type_Staff Annual               uint8\n",
       "passholder_type_Walk-up                    uint8\n",
       "trip_route_category_One Way                uint8\n",
       "trip_route_category_Round Trip             uint8\n",
       "dtype: object"
      ]
     },
     "metadata": {},
     "output_type": "display_data"
    },
    {
     "name": "stdout",
     "output_type": "stream",
     "text": [
      "data_with_dummies shape and dtypes:\n"
     ]
    },
    {
     "data": {
      "text/plain": [
       "(132427, 18)"
      ]
     },
     "metadata": {},
     "output_type": "display_data"
    },
    {
     "data": {
      "text/plain": [
       "bike_id                                  float64\n",
       "duration                                   int64\n",
       "end_time                          datetime64[ns]\n",
       "ending_station_id                        float64\n",
       "ending_station_latitude                  float64\n",
       "ending_station_longitude                 float64\n",
       "plan_duration                            float64\n",
       "start_time                        datetime64[ns]\n",
       "starting_station_id                      float64\n",
       "starting_station_latitude                float64\n",
       "starting_station_longitude               float64\n",
       "trip_id                                    int64\n",
       "passholder_type_Flex Pass                  uint8\n",
       "passholder_type_Monthly Pass               uint8\n",
       "passholder_type_Staff Annual               uint8\n",
       "passholder_type_Walk-up                    uint8\n",
       "trip_route_category_One Way                uint8\n",
       "trip_route_category_Round Trip             uint8\n",
       "dtype: object"
      ]
     },
     "metadata": {},
     "output_type": "display_data"
    },
    {
     "name": "stdout",
     "output_type": "stream",
     "text": [
      "redundantColumns shape and dtypes:\n"
     ]
    },
    {
     "data": {
      "text/plain": [
       "(132427, 6)"
      ]
     },
     "metadata": {},
     "output_type": "display_data"
    },
    {
     "data": {
      "text/plain": [
       "end_time                      datetime64[ns]\n",
       "ending_station_latitude              float64\n",
       "ending_station_longitude             float64\n",
       "starting_station_latitude            float64\n",
       "starting_station_longitude           float64\n",
       "plan_duration                        float64\n",
       "dtype: object"
      ]
     },
     "metadata": {},
     "output_type": "display_data"
    }
   ],
   "source": [
    "categorical = [\"passholder_type\", \"trip_route_category\"]\n",
    "\n",
    "# print(len(data['Bike ID'].unique()))\n",
    "\n",
    "for column in data.columns:\n",
    "    if column in categorical:\n",
    "        value_str = \"\"\n",
    "        for value in data[column].unique():\n",
    "            value_str += value + \", \"\n",
    "        print(\"The column: \" + column + \", has the type: \" + str(data[column].dtype) + \", and has values: \" +\n",
    "                value_str[:-2])\n",
    "    else:\n",
    "        print(\"The column: \" + column + \", has the type: \" + str(data[column].dtype) + \", and the value range: \" +\n",
    "                str(data[column].min()) + \" - \" + str(data[column].max()))\n",
    "        \n",
    "data_with_dummies = pd.get_dummies(data, columns=[\"passholder_type\", \"trip_route_category\"])\n",
    "\n",
    "redundantCols = [\"end_time\", \"ending_station_latitude\", \"ending_station_longitude\", \"starting_station_latitude\",\n",
    "                 \"starting_station_longitude\", \"plan_duration\"]\n",
    "\n",
    "redundantColumns = data_with_dummies[redundantCols]\n",
    "dfWithoutRedundantCols = data_with_dummies.drop(columns=redundantCols)\n",
    "\n",
    "data = data.drop(columns=redundantCols)\n",
    "print()\n",
    "print(\"dfWithoutRedundantCols shape and dtypes:\")\n",
    "display(dfWithoutRedundantCols.shape, dfWithoutRedundantCols.dtypes)\n",
    "print(\"data_with_dummies shape and dtypes:\")\n",
    "display(data_with_dummies.shape, data_with_dummies.dtypes)\n",
    "print(\"redundantColumns shape and dtypes:\")\n",
    "display(redundantColumns.shape, redundantColumns.dtypes)"
   ]
  },
  {
   "cell_type": "markdown",
   "metadata": {},
   "source": [
    "Describe the type and the value range of each attribute:\n",
    "-  First we find the value range and dtype of each column in our DataFrame. Getting the dtype of each column could have been done by calling .info() on the DataFrame, but since we also need the range of the values we iterate over each column and printing the Series.dtype, Series.min() and Series.max(). We have some dtypes that are objects in the DataFrame. For the starting_time and ending_time we changed them to DateTime objects.\n",
    "\n",
    "Indicate and transform the attributes that are Categorical:\n",
    "-  Categorical attributes that can be transformed are: Passholder Type and Trip Route Category. The reason for this is that these are the only attributes that can be be splitt up into columns representing each value the attribute can have, also without creating an ridicolous amount of new columns. The data with the transformed categorical attributes is stored in the data_with_dummies DataFrame. Plan Duration could also be seen as Categorical data and be transformed, but since it is a redundant column we won't transform it.\n",
    "\n",
    "Redundant columns in this dataset: \n",
    "1. End Time. This column could be calculated using the Start Time and Durations columns.\n",
    "2. Ending and Stating Latitude and Longitude for starting and ending station. Theses four columns take up alot of space in the DataFrame, they could be stored in another DataFrame where the Station ID is the key/index. \n",
    "3. Plan Duration. This is basicly the same column as the Passholder Type. The only difference is that it is represented as a number and not a string. Passholder Type is also easier to one-hot encode using dummie variables.\n",
    "4. Trip Route Category is also a redundant column because we can find out what type of trip it is by looking at the starting and ending station. We choose to not remove it here because we transformed the attribute.\n",
    "\n",
    "What are the possible pitfalls of having such columns:\n",
    "-  Having such columns will increas the amount of memory we have to use to store the DataFrame.\n",
    "-  We also have to be carefull when we would like to update one or more of the columns that a redundant column is dependant on. We would have to check that the the value in the dependant column still is correct after the change, and if it's not we need to update it.\n",
    "-  Also if we update one of the values in a column we need to update all the rows that contained the same value.\n",
    "\n",
    "DataFrame with only redundant columns is called `redundantColumns`.\n",
    "\n",
    "DataFrame with redundant columns is called `data_with_dummies`. \n",
    "\n",
    "DataFrame without redundant columns is called `dfWithoutRedundantCols`.\n",
    "\n",
    "Both of the two last DataFrames have the categorical attributes one-hot encoded.\n",
    "\n",
    "Which of the two formats (the initial one or the one with reduced data redundancy) is more susceptible to inconsistencies:\n",
    "-  The format that contains the redundand data columns is the one more susceptible to inconsistencies. This ie because of the reasons listed above (What are the possible pitfalls of having such columns).\n",
    "\n",
    "At the end we displayed the requested inforamtion. This can be seen in the output space of the cell.\n",
    "\n",
    "For task B3 we will use the data DataFrame with out the redundant columns, but not with the dummie columns."
   ]
  },
  {
   "cell_type": "markdown",
   "metadata": {},
   "source": [
    "### B3. Querying phase\n",
    "Answer the following queries using the functionality of `Pandas`.\n",
    "\n",
    "1. Plot the *distribution* of the number of outgoing trips from each station in a histogram with 20 bins (Hint: each bin describes a range of counts, not stations).\n",
    "* Plot histograms for the *duration* and *trip starting hour in the day* attributes. For both the *duration*  and the *trip starting hour* use *discrete 1-hour intervals*. What do you observe in each plot? What are some popular values in the *duration* plot? Explain the local maxima and the trends you observe on the *trip starting hour* plot based on human behavior.\n",
    "* For each *trip route category*, calculate the proportion of trips by *passholder type* and present your results in *a stacked bar chart with normalized height*.\n",
    "* Considering only trips that begin in the morning hours (before noon), plot in *a single bar chart* the proportion of trips by *passholder type* and *trip route category*. Explain any outliers you observe.\n",
    "* Separate the hours of the day into two intervals that have (approximately) the same number of bikes leaving the stations. For each of the two intervals calculate the proportion of trips by *passholder type* and *trip route category*. Present your results in a `DataFrame` which has a unique, non-composite index. Does the proportion of trips depend on whether it is the first or second hour interval? Would the company have any significant benefit by creating a more complex paying scheme where monthly pass users would pay less in the first interval and (equally) more on the second one? Assume that the number of trips per interval will not change if the scheme changes."
   ]
  },
  {
   "cell_type": "code",
   "execution_count": 15,
   "metadata": {},
   "outputs": [],
   "source": [
    "data1, data2, data3, data4, data5 = data.copy(), data.copy(), data.copy(), data.copy(), data.copy()"
   ]
  },
  {
   "cell_type": "markdown",
   "metadata": {},
   "source": [
    "#### Task B3.1"
   ]
  },
  {
   "cell_type": "code",
   "execution_count": 16,
   "metadata": {
    "scrolled": false
   },
   "outputs": [
    {
     "name": "stdout",
     "output_type": "stream",
     "text": [
      "Min value is: 13, and max value is: 5138\n"
     ]
    },
    {
     "data": {
      "text/plain": [
       "Text(0.5,0,'Number of outgoing trips')"
      ]
     },
     "execution_count": 16,
     "metadata": {},
     "output_type": "execute_result"
    },
    {
     "data": {
      "image/png": "[encoded data removed]",
      "text/plain": [
       "<Figure size 432x288 with 1 Axes>"
      ]
     },
     "metadata": {},
     "output_type": "display_data"
    }
   ],
   "source": [
    "outgoing_values = data.groupby('starting_station_id').apply(lambda x : len(x))\n",
    "print(\"Min value is: \" + str(outgoing_values.min()) + \", \" + \"and max value is: \" + str(outgoing_values.max()))\n",
    "outgoing_values.hist(bins=20)\n",
    "plt.title(\"Outgoing trips per station\")\n",
    "plt.ylabel(\"# of stations\")\n",
    "plt.xlabel(\"Number of outgoing trips\")"
   ]
  },
  {
   "cell_type": "markdown",
   "metadata": {},
   "source": [
    "1.  We want to count unique `Trip ID` values for the feature `Starting Station ID`. This will give us the amount of outgoing trips from each station. First we groupe by the DataFrame by `Starting Station ID` and get `Trip ID` Series from the resulting DataFrame. Then we call the Pandas.nunique() to get a Series with number of distinct observations for each `Starting Station ID`. The max value for the number of outgoing values is 5138 and the min value is 13 so the bins will have a range of 256,25."
   ]
  },
  {
   "cell_type": "markdown",
   "metadata": {},
   "source": [
    "#### Task B3.2"
   ]
  },
  {
   "cell_type": "code",
   "execution_count": 17,
   "metadata": {},
   "outputs": [
    {
     "name": "stdout",
     "output_type": "stream",
     "text": [
      "\n",
      "trip_stating_hour\n"
     ]
    },
    {
     "data": {
      "text/plain": [
       "Text(0.5,0,'Trip starting hour')"
      ]
     },
     "execution_count": 17,
     "metadata": {},
     "output_type": "execute_result"
    },
    {
     "data": {
      "image/png": "[encoded data removed]",
      "text/plain": [
       "<Figure size 432x288 with 1 Axes>"
      ]
     },
     "metadata": {},
     "output_type": "display_data"
    },
    {
     "data": {
      "image/png": "[encoded data removed]",
      "text/plain": [
       "<Figure size 432x288 with 1 Axes>"
      ]
     },
     "metadata": {},
     "output_type": "display_data"
    }
   ],
   "source": [
    "duration_values = data.copy()\n",
    "duration_values['duration'] = duration_values['duration'].apply(lambda x : x / (60 * 60))\n",
    "x, b = pd.cut(duration_values['duration'], [i for i in range(0,25)], right=False, retbins=True)[:20]\n",
    "duration_values.hist(column=['duration'], bins=b)\n",
    "plt.xlabel(\"Trip duration in hours\")\n",
    "plt.ylabel(\"# of trips\")\n",
    "plt.title(\"Trip duration distribution\")\n",
    "print()\n",
    "\n",
    "print(\"trip_stating_hour\")\n",
    "start_time_hour = data.copy()\n",
    "start_time_hour['start_time'] = start_time_hour['start_time'].apply(lambda x : x.hour)\n",
    "x, b = pd.cut(start_time_hour['start_time'], [i for i in range(0,25)], right=False, retbins=True)[:20]\n",
    "start_time_hour.hist(column=['start_time'], bins=b)\n",
    "plt.title(\"Trip starting hour distribution\")\n",
    "plt.ylabel(\"# of trips\")\n",
    "plt.xlabel(\"Trip starting hour\")"
   ]
  },
  {
   "cell_type": "markdown",
   "metadata": {},
   "source": [
    "2.  To get the duration of a ride in hours we apply a lambda expresion on the column for `Duration`, as the duration of a ride is given i secounds we divide it by 60 * 60. This gives us a Series that we can use to plot the distribution of duration times in a histogram with 1-hour bins. We get the bins by using the `Pandas.cut()` function. To plot the second histogram we got the hours from the DateTimes object in the `starting_time` column and get the bins the same way as for the first histogram. As we can see on the histograms there a alot more ride lasting less than 1 hour. Around 7p.m. to 9p.m. we can see the highest increas in number of trips, indication that people ride the bikes to work. But at times when people are leaving work there are more bike rentals than when people are going to work, indicating that more people ride cars or buses to work and bikes from work.\n",
    "\n",
    "#### Task B3.3"
   ]
  },
  {
   "cell_type": "code",
   "execution_count": 18,
   "metadata": {},
   "outputs": [
    {
     "data": {
      "text/html": [
       "<div>\n",
       "<style scoped>\n",
       "    .dataframe tbody tr th:only-of-type {\n",
       "        vertical-align: middle;\n",
       "    }\n",
       "\n",
       "    .dataframe tbody tr th {\n",
       "        vertical-align: top;\n",
       "    }\n",
       "\n",
       "    .dataframe thead th {\n",
       "        text-align: right;\n",
       "    }\n",
       "</style>\n",
       "<table border=\"1\" class=\"dataframe\">\n",
       "  <thead>\n",
       "    <tr style=\"text-align: right;\">\n",
       "      <th></th>\n",
       "      <th>Flex Pass</th>\n",
       "      <th>Monthly Pass</th>\n",
       "      <th>Staff Annual</th>\n",
       "      <th>Walk-up</th>\n",
       "    </tr>\n",
       "  </thead>\n",
       "  <tbody>\n",
       "    <tr>\n",
       "      <th>One Way</th>\n",
       "      <td>0.075509</td>\n",
       "      <td>0.648033</td>\n",
       "      <td>0.002499</td>\n",
       "      <td>0.273959</td>\n",
       "    </tr>\n",
       "    <tr>\n",
       "      <th>Round Trip</th>\n",
       "      <td>0.037779</td>\n",
       "      <td>0.295033</td>\n",
       "      <td>0.006492</td>\n",
       "      <td>0.660696</td>\n",
       "    </tr>\n",
       "  </tbody>\n",
       "</table>\n",
       "</div>"
      ],
      "text/plain": [
       "            Flex Pass  Monthly Pass  Staff Annual   Walk-up\n",
       "One Way      0.075509      0.648033      0.002499  0.273959\n",
       "Round Trip   0.037779      0.295033      0.006492  0.660696"
      ]
     },
     "metadata": {},
     "output_type": "display_data"
    },
    {
     "data": {
      "image/png": "[encoded data removed]",
      "text/plain": [
       "<Figure size 432x288 with 1 Axes>"
      ]
     },
     "metadata": {},
     "output_type": "display_data"
    }
   ],
   "source": [
    "new_df = pd.DataFrame()\n",
    "trips_by_passholder = data.groupby([data[\"trip_route_category\"], data[\"passholder_type\"]])\n",
    "for category, d in trips_by_passholder:\n",
    "    new_df.loc[category[0], category[1]] = len(d)\n",
    "    \n",
    "new_df = new_df.div(new_df.sum(axis=1), axis=0)\n",
    "    \n",
    "display(new_df)\n",
    "\n",
    "fig = new_df.plot.bar(stacked=True)\n",
    "plt.title(\"Passholder type and trips per trip proportion\")\n",
    "plt.xlabel(\"Trip category\")\n",
    "plt.xticks(rotation=45)\n",
    "plt.ylabel(\"Precentage\")\n",
    "plt.legend()\n",
    "plt.show()"
   ]
  },
  {
   "cell_type": "markdown",
   "metadata": {},
   "source": [
    "3.  For this plot we created a new `DataFrame` and added the length of the data for each group after we had grouped the `DataFrame` on `trip_route_category` and `passholder_type`.\n",
    "\n",
    "#### Task B3.4"
   ]
  },
  {
   "cell_type": "code",
   "execution_count": 19,
   "metadata": {},
   "outputs": [
    {
     "data": {
      "image/png": "[encoded data removed]",
      "text/plain": [
       "<Figure size 432x288 with 1 Axes>"
      ]
     },
     "metadata": {},
     "output_type": "display_data"
    }
   ],
   "source": [
    "before_noon_df = data.copy()\n",
    "before_noon_df = before_noon_df.query('start_time.dt.hour < 12', inplace=False)\n",
    "before_noon_df = before_noon_df.groupby(['trip_route_category','passholder_type']).size()/len(before_noon_df)*100\n",
    "ax = before_noon_df.plot(kind='bar', title='Proportion of trips by passholder type and trip route category before noon')"
   ]
  },
  {
   "cell_type": "markdown",
   "metadata": {},
   "source": [
    "4. The goal for task B3.4 is to take only trips before noon. Then a bar plot is made with all different combination of trip_route_category and passholder_type to display the proportion of each. More people with Monthlt passes goes on one way trips than people with flex pass. Y-axis represent the precentage.\n",
    "\n",
    "__Task B3.5__\n",
    "\n",
    "First we want to separate the day into two intervals with approximately the same number of bikes leaving the station. In order to achieve this, we minimize the difference error between the number of trips in each of the two intervals."
   ]
  },
  {
   "cell_type": "code",
   "execution_count": 20,
   "metadata": {},
   "outputs": [
    {
     "name": "stdout",
     "output_type": "stream",
     "text": [
      "Separation of the two intervals:  15  hours past midnight\n",
      "First interval:  66477  bike trips\n",
      "Second interval:  65950  bike trips\n"
     ]
    }
   ],
   "source": [
    "error = []\n",
    "for hour in range(24):\n",
    "    err = (len(data.query('start_time.dt.hour < @hour')) - len(data.query('start_time.dt.hour >= @hour')))**2\n",
    "    error.append(err)\n",
    "separator = error.index(min(error))\n",
    "\n",
    "print('Separation of the two intervals: ', separator, ' hours past midnight')\n",
    "print('First interval: ', len(data.query('start_time.dt.hour < @separator')), ' bike trips')\n",
    "print('Second interval: ', len(data.query('start_time.dt.hour >= @separator')), ' bike trips')"
   ]
  },
  {
   "cell_type": "markdown",
   "metadata": {},
   "source": [
    "After this, using the same strategy as above, we want to distribute the data into the right intervals. We calculate the proportion of trips by 'trip route category' and 'passholder type'."
   ]
  },
  {
   "cell_type": "code",
   "execution_count": 21,
   "metadata": {},
   "outputs": [
    {
     "data": {
      "text/html": [
       "<div>\n",
       "<style scoped>\n",
       "    .dataframe tbody tr th:only-of-type {\n",
       "        vertical-align: middle;\n",
       "    }\n",
       "\n",
       "    .dataframe tbody tr th {\n",
       "        vertical-align: top;\n",
       "    }\n",
       "\n",
       "    .dataframe thead th {\n",
       "        text-align: right;\n",
       "    }\n",
       "</style>\n",
       "<table border=\"1\" class=\"dataframe\">\n",
       "  <thead>\n",
       "    <tr style=\"text-align: right;\">\n",
       "      <th></th>\n",
       "      <th>Before 3 p.m.</th>\n",
       "      <th>After 3 p.m.</th>\n",
       "    </tr>\n",
       "  </thead>\n",
       "  <tbody>\n",
       "    <tr>\n",
       "      <th>One Way Flex Pass</th>\n",
       "      <td>0.069483</td>\n",
       "      <td>0.066945</td>\n",
       "    </tr>\n",
       "    <tr>\n",
       "      <th>One Way Monthly Pass</th>\n",
       "      <td>0.592115</td>\n",
       "      <td>0.578772</td>\n",
       "    </tr>\n",
       "    <tr>\n",
       "      <th>One Way Staff Annual</th>\n",
       "      <td>0.002753</td>\n",
       "      <td>0.001759</td>\n",
       "    </tr>\n",
       "    <tr>\n",
       "      <th>One Way Walk-up</th>\n",
       "      <td>0.236668</td>\n",
       "      <td>0.258438</td>\n",
       "    </tr>\n",
       "    <tr>\n",
       "      <th>Round Trip Flex Pass</th>\n",
       "      <td>0.004031</td>\n",
       "      <td>0.003260</td>\n",
       "    </tr>\n",
       "    <tr>\n",
       "      <th>Round Trip Monthly Pass</th>\n",
       "      <td>0.031093</td>\n",
       "      <td>0.025853</td>\n",
       "    </tr>\n",
       "    <tr>\n",
       "      <th>Round Trip Staff Annual</th>\n",
       "      <td>0.000888</td>\n",
       "      <td>0.000364</td>\n",
       "    </tr>\n",
       "    <tr>\n",
       "      <th>Round Trip Walk-up</th>\n",
       "      <td>0.062969</td>\n",
       "      <td>0.064610</td>\n",
       "    </tr>\n",
       "  </tbody>\n",
       "</table>\n",
       "</div>"
      ],
      "text/plain": [
       "                         Before 3 p.m.  After 3 p.m.\n",
       "One Way Flex Pass             0.069483      0.066945\n",
       "One Way Monthly Pass          0.592115      0.578772\n",
       "One Way Staff Annual          0.002753      0.001759\n",
       "One Way Walk-up               0.236668      0.258438\n",
       "Round Trip Flex Pass          0.004031      0.003260\n",
       "Round Trip Monthly Pass       0.031093      0.025853\n",
       "Round Trip Staff Annual       0.000888      0.000364\n",
       "Round Trip Walk-up            0.062969      0.064610"
      ]
     },
     "metadata": {},
     "output_type": "display_data"
    }
   ],
   "source": [
    "distributions = pd.DataFrame()\n",
    "\n",
    "for cat, d in data.query('start_time.dt.hour < @separator').groupby(['trip_route_category', 'passholder_type']):\n",
    "    distributions.loc[cat[0] + ' ' + cat[1], 'Before 3 p.m.'] = len(d)\n",
    "    \n",
    "for cat, d in data.query('start_time.dt.hour >= @separator').groupby(['trip_route_category', 'passholder_type']):\n",
    "    distributions.loc[cat[0] + ' ' + cat[1], 'After 3 p.m.'] = len(d)\n",
    "    \n",
    "distributions = distributions / (sum(distributions.values) * np.ones(len(distributions))[:, np.newaxis])\n",
    "\n",
    "display(distributions)"
   ]
  },
  {
   "cell_type": "code",
   "execution_count": 22,
   "metadata": {},
   "outputs": [
    {
     "data": {
      "image/png": "[encoded data removed]",
      "text/plain": [
       "<Figure size 864x720 with 1 Axes>"
      ]
     },
     "metadata": {},
     "output_type": "display_data"
    }
   ],
   "source": [
    "figure = distributions.T.plot(kind = 'bar', stacked = True, figsize = (12,10), fontsize = 15)\n",
    "plt.xticks(rotation = 45)\n",
    "plt.legend(prop = {'size': 15})\n",
    "plt.title('Distribution of Trips per Trip Type and Passholder Type', size = 30)\n",
    "plt.xlabel('Start Time of the Trip', size = 20)\n",
    "plt.ylabel('Frequency', size = 20)\n",
    "plt.show()"
   ]
  },
  {
   "cell_type": "markdown",
   "metadata": {},
   "source": [
    "The differences between the two intervals are not very noticable, and this would suggest that the company would not have any significant benefit from creating a more complex paying scheme."
   ]
  }
 ],
 "metadata": {
  "kernelspec": {
   "display_name": "Python 3",
   "language": "python",
   "name": "python3"
  },
  "language_info": {
   "codemirror_mode": {
    "name": "ipython",
    "version": 3
   },
   "file_extension": ".py",
   "mimetype": "text/x-python",
   "name": "python",
   "nbconvert_exporter": "python",
   "pygments_lexer": "ipython3",
   "version": "3.6.7"
  }
 },
 "nbformat": 4,
 "nbformat_minor": 2
}
