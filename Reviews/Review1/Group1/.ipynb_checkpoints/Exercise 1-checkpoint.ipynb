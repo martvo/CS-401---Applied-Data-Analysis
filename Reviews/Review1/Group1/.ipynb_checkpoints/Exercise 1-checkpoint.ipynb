{
 "cells": [
  {
   "cell_type": "markdown",
   "metadata": {},
   "source": [
    "# Exercise 1\n",
    " <p><div class=\"lev1\"><a href=\"#Task-A.-Another-LEGO-brick-in-the-wall\"><span class=\"toc-item-num\">Task A.&nbsp;&nbsp;</span>Another LEGO brick in the wall</a></div>\n",
    " <p><div class=\"lev1\"><a href=\"#Task-B.-Drop-the-Bike\"><span class=\"toc-item-num\">Task B.&nbsp;&nbsp;</span>Drop the Bike</a></div>"
   ]
  },
  {
   "cell_type": "code",
   "execution_count": 1,
   "metadata": {},
   "outputs": [],
   "source": [
    "%matplotlib inline\n",
    "import pandas as pd\n",
    "import numpy as np\n",
    "import matplotlib.pyplot as plt\n",
    "import matplotlib as mpl\n",
    "import math\n",
    "import warnings; warnings.simplefilter('ignore')\n",
    "from datetime import datetime, date, time\n",
    "import re\n",
    "import os"
   ]
  },
  {
   "cell_type": "code",
   "execution_count": 2,
   "metadata": {},
   "outputs": [],
   "source": [
    "DATA_FOLDER = 'data'"
   ]
  },
  {
   "cell_type": "markdown",
   "metadata": {},
   "source": [
    "## Task A. Another LEGO brick in the wall\n",
    "\n",
    "LEGO is a popular brand of toy building bricks. They are often sold in sets in order to build a specific object. Each set contains a number of parts in different shapes, sizes and colors. This database contains information on which parts are included in different LEGO sets. It was originally compiled to help people who owned some LEGO sets already figure out what other sets they could build with the pieces they had.\n",
    "\n",
    "This dataset contains the official LEGO colors, parts, inventories (i.e., sets of LEGO parts which assembled create an object in the LEGO world) and sets (i.e., sets of LEGO inventories which assembled create a LEGO ecosystem). The schema of the dataset can be shown in the following UML diagram: \n",
    "\n",
    "![lego-schema](lego-schema.png)\n",
    "\n",
    "In this task you have to apply the following Data Wrangling pipeline:\n",
    "1. Load your data into `Pandas`\n",
    "* Explore it and clean its dirty parts\n",
    "* Use it to answer a set of queries\n",
    "\n",
    "Each of these subtasks are described in detail below."
   ]
  },
  {
   "cell_type": "markdown",
   "metadata": {},
   "source": [
    "## A1. Loading phase\n",
    "Load all the csv files into different `DataFrames`. Use meaningful names for your `DataFrames` (e.g., the respective filenames).\n",
    "\n",
    "*Hint: You can load files without first unzipping them (for `Pandas` version >= 0.18.1).*"
   ]
  },
  {
   "cell_type": "code",
   "execution_count": 3,
   "metadata": {},
   "outputs": [],
   "source": [
    "LEGO_DATA_FOLDER = DATA_FOLDER + '/lego/'"
   ]
  },
  {
   "cell_type": "markdown",
   "metadata": {},
   "source": [
    "First, let's load all the data"
   ]
  },
  {
   "cell_type": "code",
   "execution_count": 4,
   "metadata": {},
   "outputs": [],
   "source": [
    "colors = pd.read_csv(LEGO_DATA_FOLDER + 'colors.csv.zip', compression = 'zip')\n",
    "inventories = pd.read_csv(LEGO_DATA_FOLDER + 'inventories.csv.zip', compression='zip')\n",
    "inventory_parts = pd.read_csv(LEGO_DATA_FOLDER + 'inventory_parts.csv.zip', compression='zip')\n",
    "inventory_sets= pd.read_csv(LEGO_DATA_FOLDER + 'inventory_sets.csv.zip', compression='zip')\n",
    "part_categories = pd.read_csv(LEGO_DATA_FOLDER + 'part_categories.csv.zip', compression='zip')\n",
    "parts = pd.read_csv(LEGO_DATA_FOLDER + 'parts.csv.zip', compression='zip')\n",
    "sets = pd.read_csv(LEGO_DATA_FOLDER + 'sets.csv.zip', compression='zip')\n",
    "#themes = pd.read_csv(LEGO_DATA_FOLDER + 'themes.csv.zip', compression='zip') #unused here"
   ]
  },
  {
   "cell_type": "markdown",
   "metadata": {},
   "source": [
    "A little more information:\n",
    "* **colors**: each row of the dataframe represents a unique color ID and its characteritics: name, approximate RGB value or transparency \n",
    "* **inventories**: each row of the dataframe represents a unique inventory ID and its version.\n",
    "* **inventory_parts**: the dataframe contains info about what part is present a given inventory and in which quantity and color. We can also distinguish the spare pieces from there.\n",
    "* **inventory_sets**: the dataframe makes the link between the sets and the inventories that are contained inside, and in in which quantity.\n",
    "* **part_categories**: each row of the dataframe represents a unique category ID and its name\n",
    "* **parts**: each row of the dataframe represents a unique category ID, its name and the category it belongs to.\n",
    "* **sets**: each row of the dataframe represents a unique set ID, its name, theme and other infos.\n",
    "\n",
    "But what about LEGOS? What does it mean in LEGO terms?\n",
    "\n",
    "Let's imagine a `set` named *Pink Floyd*. Several `inventories` are contained inside the *Pink Floyd* `set`and are given  by `inventory_sets`: *Wembley Staduim*, *Band*, *Helicopter* ... The *Band* `inventory` contains `parts`: *Roger Waters Head*, *The Wall sticker*, *Guitar* ... The `color` linked to the *Roger Water Head* is probably *Yellow*. And we do not talk about inside his head! The `part_category` linked to *Roger Water Head* is *Minifigures*\n",
    "\n",
    "We can note that the *Wembley Stadium* or the *Helicopter* can be used in other sets as well (*Football Game*, *Police Rescue*,...) The *Guitar* `part` can also be used in other `inventories` in different `quantities` (real rock stars should have multiples ones!), that can be integrated to other `sets` as well.\n",
    "\n",
    "But enough talking, let's dig into the data!"
   ]
  },
  {
   "cell_type": "markdown",
   "metadata": {},
   "source": [
    "## A2. Cleaning phase\n",
    "Explore the following columns from your dataset:\n",
    "\n",
    "1. sets: year\n",
    "* inventory_parts: quantity\n",
    "\n",
    "What is the time range of the sets? \n",
    "What is the average quantity of the inventory parts? \n",
    "Do you see any inconsistencies? \n",
    "Provide code that detects and cleans such inconsistencies and validates the coherence of your dataset. "
   ]
  },
  {
   "cell_type": "markdown",
   "metadata": {},
   "source": [
    "#### Detect what is problematic for the years\n",
    "\"*Every year is getting shorter, never seem to find the [time](https://www.youtube.com/watch?v=rL3AgkwbYgo)*\"\n",
    "\n",
    "We first took a look at the publishing years of the sets. What could be problematic?"
   ]
  },
  {
   "cell_type": "code",
   "execution_count": 5,
   "metadata": {},
   "outputs": [
    {
     "data": {
      "text/plain": [
       "array(['-1962', '-1966', '-1969', '-1971', '-1973', '-1975', '-1977',\n",
       "       '-1979', '-1980', '-1981', '-1982', '-1983', '-1984', '-1985',\n",
       "       '-1986', '-1987', '-1988', '-1989', '-1991', '-1992', '-1993',\n",
       "       '-1994', '-1995', '-1996', '-1997', '-19977', '-1998', '-1999',\n",
       "       '-19999', '-2000', '-20000', '-2001', '-20011', '-2002', '-20022',\n",
       "       '-2003', '-20033', '-2004', '-20044', '-2005', '-2006', '-20066',\n",
       "       '-2007', '-20077', '-2008', '-2009', '-20099', '-2010', '-20100',\n",
       "       '-2011', '-20111', '-2012', '-20122', '-2013', '-20133', '-2014',\n",
       "       '-20144', '-2015', '-20155', '-2016', '-20166', '-2017', '1950',\n",
       "       '1953', '1954', '1955', '19555', '1956', '1957', '1958', '1959',\n",
       "       '1960', '1961', '1962', '19622', '1963', '1964', '1965', '1966',\n",
       "       '19666', '1967', '1968', '1969', '19699', '1971', '1972', '19722',\n",
       "       '1973', '1974', '1975', '1976', '1977', '19777', '1978', '19788',\n",
       "       '1979', '19799', '19800', '1981', '19811', '1982', '19822', '1983',\n",
       "       '19833', '1984', '19844', '1985', '19855', '1986', '19866', '1987',\n",
       "       '19877', '1988', '19888', '1989', '19899', '1990', '19900', '1991',\n",
       "       '19911', '1992', '19922', '1993', '19933', '1994', '19944', '1995',\n",
       "       '19955', '1996', '19966', '1997', '19977', '1998', '19988', '1999',\n",
       "       '19999', '2000', '20000', '2001', '20011', '2002', '20022', '2003',\n",
       "       '20033', '2004', '20044', '2005', '20055', '2006', '20066', '2007',\n",
       "       '20077', '2008', '20088', '2009', '20099', '2010', '20100', '2011',\n",
       "       '20111', '2012', '20122', '2013', '20133', '2014', '20144', '2015',\n",
       "       '20155', '2016', '20166', '2017', '20177', '70s', '80s'],\n",
       "      dtype=object)"
      ]
     },
     "execution_count": 5,
     "metadata": {},
     "output_type": "execute_result"
    }
   ],
   "source": [
    "sets['year'].sort_values().unique() #display the unique values from the publication year of the sets."
   ]
  },
  {
   "cell_type": "markdown",
   "metadata": {},
   "source": [
    "We can see that there is a real diverstiy in formats, and it has to be solved. To do so, a function to check the purity of the year feature was made:"
   ]
  },
  {
   "cell_type": "code",
   "execution_count": 6,
   "metadata": {},
   "outputs": [],
   "source": [
    "def qualitycheck(sets):\n",
    "   #Calculate the number of problematic cases and returns the total number of them.\n",
    "   problematic_sets = sets[sets.year.str.len() != 4] #years are made of 4 digits ideally, no more or less.\n",
    "   problematics = len(problematic_sets)\n",
    "   decades = len(problematic_sets[(problematic_sets.year.str.len() == 3) & (problematic_sets.year.str.contains(\"s\"))]) #to count the \"70s\" cases called decades\n",
    "   negatives = len(problematic_sets[problematic_sets.year.str.contains(\"-\")]) #to count the negative years, i.e. the ones with negative signs in front\n",
    "   too_large = len(problematic_sets[(problematic_sets.year.str.len() != 3) & (~problematic_sets.year.str.contains(\"-\"))]) #to count the years with anormal length without being negative\n",
    "   total = decades + negatives + too_large\n",
    "   if total - problematics != 0:\n",
    "       print(\"Another type of problems that unclear decades, negative of too large values occured\")\n",
    "   elif total == 0 & problematics == 0:\n",
    "       print(\"Looks like it's clean\")\n",
    "   else:\n",
    "       print(\"You have {} unclear decades, {} negatives years and {} ones that are too large. Total is {}\".format(decades,negatives,too_large,problematics))\n",
    "   return total #number of problematic rows from the above cases"
   ]
  },
  {
   "cell_type": "code",
   "execution_count": 7,
   "metadata": {},
   "outputs": [
    {
     "name": "stdout",
     "output_type": "stream",
     "text": [
      "You have 114 unclear decades, 1261 negatives years and 1710 ones that are too large. Total is 3085\n"
     ]
    },
    {
     "data": {
      "text/plain": [
       "3085"
      ]
     },
     "execution_count": 7,
     "metadata": {},
     "output_type": "execute_result"
    }
   ],
   "source": [
    "qualitycheck(sets) #returns zero if no rows are problematic"
   ]
  },
  {
   "cell_type": "markdown",
   "metadata": {},
   "source": [
    "Then clean the anormalities"
   ]
  },
  {
   "cell_type": "code",
   "execution_count": 8,
   "metadata": {},
   "outputs": [],
   "source": [
    "#For the unclear decades.\n",
    "sets = sets[sets.year.str.contains(\"s\") == False]  #Drop the rows containing the 80s or 70s.\n",
    "\n",
    "#For the minus years.\n",
    "sets['year'].replace({'-': ''}, inplace=True, regex=True) #Erase the minus\n",
    "\n",
    "#For the too large years\n",
    "sets['year'] = sets['year'].str[:4] #Keep only the first 4th digits"
   ]
  },
  {
   "cell_type": "markdown",
   "metadata": {},
   "source": [
    "And validate the cleaning"
   ]
  },
  {
   "cell_type": "code",
   "execution_count": 9,
   "metadata": {},
   "outputs": [
    {
     "data": {
      "text/html": [
       "<div>\n",
       "<style scoped>\n",
       "    .dataframe tbody tr th:only-of-type {\n",
       "        vertical-align: middle;\n",
       "    }\n",
       "\n",
       "    .dataframe tbody tr th {\n",
       "        vertical-align: top;\n",
       "    }\n",
       "\n",
       "    .dataframe thead th {\n",
       "        text-align: right;\n",
       "    }\n",
       "</style>\n",
       "<table border=\"1\" class=\"dataframe\">\n",
       "  <thead>\n",
       "    <tr style=\"text-align: right;\">\n",
       "      <th></th>\n",
       "      <th>year</th>\n",
       "    </tr>\n",
       "  </thead>\n",
       "  <tbody>\n",
       "    <tr>\n",
       "      <th>1</th>\n",
       "      <td>1978</td>\n",
       "    </tr>\n",
       "    <tr>\n",
       "      <th>2</th>\n",
       "      <td>1987</td>\n",
       "    </tr>\n",
       "    <tr>\n",
       "      <th>3</th>\n",
       "      <td>1979</td>\n",
       "    </tr>\n",
       "    <tr>\n",
       "      <th>4</th>\n",
       "      <td>1979</td>\n",
       "    </tr>\n",
       "    <tr>\n",
       "      <th>5</th>\n",
       "      <td>1979</td>\n",
       "    </tr>\n",
       "  </tbody>\n",
       "</table>\n",
       "</div>"
      ],
      "text/plain": [
       "   year\n",
       "1  1978\n",
       "2  1987\n",
       "3  1979\n",
       "4  1979\n",
       "5  1979"
      ]
     },
     "execution_count": 9,
     "metadata": {},
     "output_type": "execute_result"
    }
   ],
   "source": [
    "sets[['year']].head() #first control to see if the cleaning was efficient"
   ]
  },
  {
   "cell_type": "code",
   "execution_count": 10,
   "metadata": {},
   "outputs": [
    {
     "name": "stdout",
     "output_type": "stream",
     "text": [
      "Looks like it's clean\n"
     ]
    },
    {
     "data": {
      "text/plain": [
       "0"
      ]
     },
     "execution_count": 10,
     "metadata": {},
     "output_type": "execute_result"
    }
   ],
   "source": [
    "qualitycheck(sets) #Should return zero problematic values if it was done correctly"
   ]
  },
  {
   "cell_type": "markdown",
   "metadata": {},
   "source": [
    "#### Detect what is problematic for the quantities\n",
    "\n",
    "\"*All in all it's just [another brick in the wall](https://www.youtube.com/watch?v=YR5ApYxkU-U)*\""
   ]
  },
  {
   "cell_type": "code",
   "execution_count": 11,
   "metadata": {},
   "outputs": [
    {
     "data": {
      "text/plain": [
       "array([    -inf, 1.00e+00, 3.00e+00, 4.00e+00, 5.00e+00, 6.00e+00,\n",
       "       7.00e+00, 8.00e+00, 9.00e+00, 1.00e+01, 1.10e+01, 1.20e+01,\n",
       "       1.30e+01, 1.40e+01, 1.50e+01, 1.60e+01, 1.70e+01, 1.80e+01,\n",
       "       1.90e+01, 2.00e+01, 2.10e+01, 2.20e+01, 2.30e+01, 2.40e+01,\n",
       "       2.50e+01, 2.60e+01, 2.70e+01, 2.80e+01, 2.90e+01, 3.00e+01,\n",
       "       3.10e+01, 3.20e+01, 3.30e+01, 3.40e+01, 3.50e+01, 3.60e+01,\n",
       "       3.70e+01, 3.80e+01, 3.90e+01, 4.00e+01, 4.10e+01, 4.20e+01,\n",
       "       4.30e+01, 4.40e+01, 4.50e+01, 4.60e+01, 4.70e+01, 4.80e+01,\n",
       "       4.90e+01, 5.00e+01, 5.10e+01, 5.20e+01, 5.30e+01, 5.40e+01,\n",
       "       5.50e+01, 5.60e+01, 5.70e+01, 5.80e+01, 5.90e+01, 6.00e+01,\n",
       "       6.10e+01, 6.20e+01, 6.30e+01, 6.40e+01, 6.50e+01, 6.60e+01,\n",
       "       6.70e+01, 6.80e+01, 6.90e+01, 7.00e+01, 7.10e+01, 7.20e+01,\n",
       "       7.30e+01, 7.40e+01, 7.50e+01, 7.60e+01, 7.70e+01, 7.80e+01,\n",
       "       7.90e+01, 8.00e+01, 8.10e+01, 8.20e+01, 8.30e+01, 8.40e+01,\n",
       "       8.50e+01, 8.60e+01, 8.70e+01, 8.80e+01, 8.90e+01, 9.00e+01,\n",
       "       9.10e+01, 9.20e+01, 9.30e+01, 9.40e+01, 9.50e+01, 9.60e+01,\n",
       "       9.70e+01, 9.80e+01, 9.90e+01, 1.00e+02, 1.01e+02, 1.02e+02,\n",
       "       1.03e+02, 1.04e+02, 1.06e+02, 1.07e+02, 1.08e+02, 1.09e+02,\n",
       "       1.10e+02, 1.11e+02, 1.12e+02, 1.13e+02, 1.14e+02, 1.15e+02,\n",
       "       1.16e+02, 1.17e+02, 1.18e+02, 1.19e+02, 1.20e+02, 1.21e+02,\n",
       "       1.24e+02, 1.25e+02, 1.26e+02, 1.27e+02, 1.28e+02, 1.29e+02,\n",
       "       1.30e+02, 1.31e+02, 1.32e+02, 1.33e+02, 1.34e+02, 1.36e+02,\n",
       "       1.37e+02, 1.38e+02, 1.39e+02, 1.40e+02, 1.42e+02, 1.44e+02,\n",
       "       1.45e+02, 1.46e+02, 1.47e+02, 1.48e+02, 1.49e+02, 1.50e+02,\n",
       "       1.51e+02, 1.54e+02, 1.55e+02, 1.56e+02, 1.58e+02, 1.59e+02,\n",
       "       1.62e+02, 1.64e+02, 1.66e+02, 1.69e+02, 1.70e+02, 1.72e+02,\n",
       "       1.73e+02, 1.74e+02, 1.75e+02, 1.78e+02, 1.80e+02, 1.81e+02,\n",
       "       1.82e+02, 1.83e+02, 1.84e+02, 1.85e+02, 1.88e+02, 1.90e+02,\n",
       "       1.92e+02, 1.93e+02, 1.95e+02, 2.00e+02, 2.03e+02, 2.04e+02,\n",
       "       2.05e+02, 2.08e+02, 2.09e+02, 2.11e+02, 2.12e+02, 2.14e+02,\n",
       "       2.16e+02, 2.19e+02, 2.20e+02, 2.22e+02, 2.27e+02, 2.30e+02,\n",
       "       2.31e+02, 2.34e+02, 2.35e+02, 2.36e+02, 2.38e+02, 2.40e+02,\n",
       "       2.41e+02, 2.42e+02, 2.43e+02, 2.45e+02, 2.52e+02, 2.53e+02,\n",
       "       2.54e+02, 2.60e+02, 2.68e+02, 2.70e+02, 2.72e+02, 2.75e+02,\n",
       "       2.76e+02, 2.85e+02, 2.88e+02, 2.96e+02, 3.00e+02, 3.04e+02,\n",
       "       3.17e+02, 3.22e+02, 3.27e+02, 3.44e+02, 3.46e+02, 3.50e+02,\n",
       "       3.60e+02, 3.74e+02, 3.80e+02, 3.88e+02, 4.00e+02, 4.15e+02,\n",
       "       4.50e+02, 4.51e+02, 4.57e+02, 4.60e+02, 4.95e+02, 5.09e+02,\n",
       "       5.16e+02, 5.40e+02, 5.56e+02, 6.30e+02, 7.20e+02, 7.24e+02,\n",
       "       7.71e+02, 8.10e+02, 9.00e+02, 1.17e+03, 1.44e+03])"
      ]
     },
     "execution_count": 11,
     "metadata": {},
     "output_type": "execute_result"
    }
   ],
   "source": [
    "inventory_parts.quantity.sort_values().unique() #Check the unique values of the different quantities in inventory_parts"
   ]
  },
  {
   "cell_type": "code",
   "execution_count": 12,
   "metadata": {},
   "outputs": [],
   "source": [
    "inventory_parts.quantity = inventory_parts.quantity.replace(-np.inf, np.nan) #Replace the -inf by NaNs to facilitate the calculations"
   ]
  },
  {
   "cell_type": "code",
   "execution_count": 13,
   "metadata": {},
   "outputs": [
    {
     "data": {
      "text/plain": [
       "161796"
      ]
     },
     "execution_count": 13,
     "metadata": {},
     "output_type": "execute_result"
    }
   ],
   "source": [
    "inventory_parts.quantity.isna().sum() #check the number of nans values in the quantity of inventory parts"
   ]
  },
  {
   "cell_type": "markdown",
   "metadata": {},
   "source": [
    "You can see that there is no quantities equal to two, which is a strange with regard to the fact that every other number is represented at least once.\n",
    "So let's take a closer look at what's behind the nans values."
   ]
  },
  {
   "cell_type": "code",
   "execution_count": 14,
   "metadata": {},
   "outputs": [
    {
     "data": {
      "text/plain": [
       "<matplotlib.axes._subplots.AxesSubplot at 0x11ffd0e10>"
      ]
     },
     "execution_count": 14,
     "metadata": {},
     "output_type": "execute_result"
    },
    {
     "data": {
      "image/png": "[encoded data removed]",
      "text/plain": [
       "<Figure size 432x288 with 1 Axes>"
      ]
     },
     "metadata": {
      "needs_background": "light"
     },
     "output_type": "display_data"
    }
   ],
   "source": [
    "inventory_parts.quantity.hist(bins=100) #check the distribution of the quantities"
   ]
  },
  {
   "cell_type": "code",
   "execution_count": 15,
   "metadata": {},
   "outputs": [
    {
     "data": {
      "text/html": [
       "<div>\n",
       "<style scoped>\n",
       "    .dataframe tbody tr th:only-of-type {\n",
       "        vertical-align: middle;\n",
       "    }\n",
       "\n",
       "    .dataframe tbody tr th {\n",
       "        vertical-align: top;\n",
       "    }\n",
       "\n",
       "    .dataframe thead th {\n",
       "        text-align: right;\n",
       "    }\n",
       "</style>\n",
       "<table border=\"1\" class=\"dataframe\">\n",
       "  <thead>\n",
       "    <tr style=\"text-align: right;\">\n",
       "      <th></th>\n",
       "      <th>index</th>\n",
       "      <th>quantity</th>\n",
       "    </tr>\n",
       "  </thead>\n",
       "  <tbody>\n",
       "    <tr>\n",
       "      <th>0</th>\n",
       "      <td>1.0</td>\n",
       "      <td>239479</td>\n",
       "    </tr>\n",
       "    <tr>\n",
       "      <th>2</th>\n",
       "      <td>3.0</td>\n",
       "      <td>31219</td>\n",
       "    </tr>\n",
       "    <tr>\n",
       "      <th>1</th>\n",
       "      <td>4.0</td>\n",
       "      <td>62072</td>\n",
       "    </tr>\n",
       "    <tr>\n",
       "      <th>5</th>\n",
       "      <td>5.0</td>\n",
       "      <td>11448</td>\n",
       "    </tr>\n",
       "    <tr>\n",
       "      <th>3</th>\n",
       "      <td>6.0</td>\n",
       "      <td>20144</td>\n",
       "    </tr>\n",
       "    <tr>\n",
       "      <th>7</th>\n",
       "      <td>7.0</td>\n",
       "      <td>5204</td>\n",
       "    </tr>\n",
       "    <tr>\n",
       "      <th>4</th>\n",
       "      <td>8.0</td>\n",
       "      <td>13723</td>\n",
       "    </tr>\n",
       "    <tr>\n",
       "      <th>9</th>\n",
       "      <td>9.0</td>\n",
       "      <td>3216</td>\n",
       "    </tr>\n",
       "    <tr>\n",
       "      <th>6</th>\n",
       "      <td>10.0</td>\n",
       "      <td>5943</td>\n",
       "    </tr>\n",
       "    <tr>\n",
       "      <th>12</th>\n",
       "      <td>11.0</td>\n",
       "      <td>1957</td>\n",
       "    </tr>\n",
       "  </tbody>\n",
       "</table>\n",
       "</div>"
      ],
      "text/plain": [
       "    index  quantity\n",
       "0     1.0    239479\n",
       "2     3.0     31219\n",
       "1     4.0     62072\n",
       "5     5.0     11448\n",
       "3     6.0     20144\n",
       "7     7.0      5204\n",
       "4     8.0     13723\n",
       "9     9.0      3216\n",
       "6    10.0      5943\n",
       "12   11.0      1957"
      ]
     },
     "execution_count": 15,
     "metadata": {},
     "output_type": "execute_result"
    }
   ],
   "source": [
    "quantity_counts = inventory_parts['quantity'].value_counts().reset_index() #count how many record by quantity\n",
    "quantity_counts.sort_values(by=['index'],ascending=True).head(10) #sort and display the results"
   ]
  },
  {
   "cell_type": "markdown",
   "metadata": {},
   "source": [
    "As the number of nans that were originally -inf values is close to the expected value that should have represented the two, we hypothesized that we all the nans values can be replaced by nans."
   ]
  },
  {
   "cell_type": "code",
   "execution_count": 16,
   "metadata": {},
   "outputs": [],
   "source": [
    "inventory_parts.quantity = inventory_parts.quantity.replace(np.nan, 2) #Replace the -inf by NaNs"
   ]
  },
  {
   "cell_type": "markdown",
   "metadata": {},
   "source": [
    "##### Time span and average quantity of parts per inventory"
   ]
  },
  {
   "cell_type": "code",
   "execution_count": 17,
   "metadata": {},
   "outputs": [
    {
     "name": "stdout",
     "output_type": "stream",
     "text": [
      "The sets time span is 67 years\n",
      "The average quantity of parts per inventory is 3.32\n"
     ]
    }
   ],
   "source": [
    "sets.year = sets.year.astype(int) #convert the frame to facilitate the calculations\n",
    "time_range = max(sets.year)-min(sets.year) #time range of the sets\n",
    "print(\"The sets time span is {} years\".format(time_range))\n",
    "\n",
    "part_per_inventory = inventory_parts.quantity.mean() #average quantity of the inventory parts\n",
    "print(\"The average quantity of parts per inventory is\",round(part_per_inventory,2)) #round the number of parts at 2 digits."
   ]
  },
  {
   "cell_type": "markdown",
   "metadata": {},
   "source": [
    "NB: As you can not have half a piece of lego, the real world value is certainly the closest integer."
   ]
  },
  {
   "cell_type": "markdown",
   "metadata": {},
   "source": [
    "## A3. Querying phase\n",
    "Answer the following queries using the functionality of `Pandas`:\n",
    "\n",
    "1. List the ids of the inventories that belong to sets that contain cars. (*Hint: Find a smart way to distinguish which sets contain cars based on the sets' name*).\n",
    "* Plot the distribution of part categories as a (horizontal) bar chart. Restrict yourself to the 20 largest part categories (in terms of the number of parts belonging to the category).\n",
    "* Find the dominant color of each set. Then, plot using a (horizontal) bar chart, the number of sets per dominant color. Color each bar with the respective color that it represents.\n",
    "* Create a scatter plot of the *luminance*\\* of the sets vs their publishing year. Do you see a trend over the last years? How do you interpret it?"
   ]
  },
  {
   "cell_type": "markdown",
   "metadata": {},
   "source": [
    "### -1- Is there anybody out there?\n",
    "...Or which inventories belong to sets that contain cars?"
   ]
  },
  {
   "cell_type": "markdown",
   "metadata": {},
   "source": [
    "For this query, we need want to list the ids of the inventories that belong to sets that contain cars.\n",
    "First, we need to select from the `sets` DataFrame all the sets that contain a word related to cars in there `name`. For this purpose, we use a regular expression that select these words (with possibly an s at the end)."
   ]
  },
  {
   "cell_type": "code",
   "execution_count": 18,
   "metadata": {},
   "outputs": [],
   "source": [
    "regex_pat = re.compile(r'\\b(Car|Truck|Van)[s]*\\b' ,re.I)\n",
    "car_sets = sets[sets['name'].str.contains(regex_pat, regex=True) == True]['id']"
   ]
  },
  {
   "cell_type": "markdown",
   "metadata": {},
   "source": [
    "We then have the `id` of all the cars related sets. For exemple :"
   ]
  },
  {
   "cell_type": "code",
   "execution_count": 19,
   "metadata": {},
   "outputs": [
    {
     "data": {
      "text/plain": [
       "27    10002-1\n",
       "50    10022-1\n",
       "Name: id, dtype: object"
      ]
     },
     "execution_count": 19,
     "metadata": {},
     "output_type": "execute_result"
    }
   ],
   "source": [
    "car_sets.head(2)"
   ]
  },
  {
   "cell_type": "markdown",
   "metadata": {},
   "source": [
    "Finally, we can select the all these `id` in the inventory_set DataFrame"
   ]
  },
  {
   "cell_type": "code",
   "execution_count": 20,
   "metadata": {},
   "outputs": [
    {
     "data": {
      "text/html": [
       "<div>\n",
       "<style scoped>\n",
       "    .dataframe tbody tr th:only-of-type {\n",
       "        vertical-align: middle;\n",
       "    }\n",
       "\n",
       "    .dataframe tbody tr th {\n",
       "        vertical-align: top;\n",
       "    }\n",
       "\n",
       "    .dataframe thead th {\n",
       "        text-align: right;\n",
       "    }\n",
       "</style>\n",
       "<table border=\"1\" class=\"dataframe\">\n",
       "  <thead>\n",
       "    <tr style=\"text-align: right;\">\n",
       "      <th></th>\n",
       "      <th>inventory_id</th>\n",
       "      <th>set_id</th>\n",
       "      <th>quantity</th>\n",
       "    </tr>\n",
       "  </thead>\n",
       "  <tbody>\n",
       "    <tr>\n",
       "      <th>103</th>\n",
       "      <td>500</td>\n",
       "      <td>9678-1</td>\n",
       "      <td>1</td>\n",
       "    </tr>\n",
       "    <tr>\n",
       "      <th>111</th>\n",
       "      <td>528</td>\n",
       "      <td>6633-1</td>\n",
       "      <td>1</td>\n",
       "    </tr>\n",
       "    <tr>\n",
       "      <th>167</th>\n",
       "      <td>908</td>\n",
       "      <td>7030-1</td>\n",
       "      <td>1</td>\n",
       "    </tr>\n",
       "    <tr>\n",
       "      <th>169</th>\n",
       "      <td>908</td>\n",
       "      <td>7032-1</td>\n",
       "      <td>1</td>\n",
       "    </tr>\n",
       "    <tr>\n",
       "      <th>170</th>\n",
       "      <td>908</td>\n",
       "      <td>7033-1</td>\n",
       "      <td>1</td>\n",
       "    </tr>\n",
       "    <tr>\n",
       "      <th>171</th>\n",
       "      <td>908</td>\n",
       "      <td>7034-1</td>\n",
       "      <td>1</td>\n",
       "    </tr>\n",
       "    <tr>\n",
       "      <th>185</th>\n",
       "      <td>962</td>\n",
       "      <td>7991-1</td>\n",
       "      <td>1</td>\n",
       "    </tr>\n",
       "    <tr>\n",
       "      <th>216</th>\n",
       "      <td>1205</td>\n",
       "      <td>7239-1</td>\n",
       "      <td>1</td>\n",
       "    </tr>\n",
       "    <tr>\n",
       "      <th>217</th>\n",
       "      <td>1205</td>\n",
       "      <td>7733-1</td>\n",
       "      <td>1</td>\n",
       "    </tr>\n",
       "    <tr>\n",
       "      <th>243</th>\n",
       "      <td>1334</td>\n",
       "      <td>850842-1</td>\n",
       "      <td>1</td>\n",
       "    </tr>\n",
       "  </tbody>\n",
       "</table>\n",
       "</div>"
      ],
      "text/plain": [
       "     inventory_id    set_id  quantity\n",
       "103           500    9678-1         1\n",
       "111           528    6633-1         1\n",
       "167           908    7030-1         1\n",
       "169           908    7032-1         1\n",
       "170           908    7033-1         1\n",
       "171           908    7034-1         1\n",
       "185           962    7991-1         1\n",
       "216          1205    7239-1         1\n",
       "217          1205    7733-1         1\n",
       "243          1334  850842-1         1"
      ]
     },
     "execution_count": 20,
     "metadata": {},
     "output_type": "execute_result"
    }
   ],
   "source": [
    "cars_inventory = inventory_sets[inventory_sets['set_id'].isin(car_sets)]\n",
    "cars_inventory.head(10)"
   ]
  },
  {
   "cell_type": "markdown",
   "metadata": {},
   "source": [
    "### -2- Which part categories are the most common?"
   ]
  },
  {
   "cell_type": "markdown",
   "metadata": {},
   "source": [
    "In this task, we want to determine which category of parts is most often represented in the inventories. To do this, we made an internal join between the data frames `parts` and `parts_categories` in order to calculate the occurrence of each category. The group_by function was used to achieve this goal and the resulting data frame was sorted in order to be easily interpretable."
   ]
  },
  {
   "cell_type": "code",
   "execution_count": 21,
   "metadata": {},
   "outputs": [],
   "source": [
    "categories_in_parts = pd.merge(parts,part_categories,left_on='part_cat_id',right_on='id',suffixes=('_parts', '_part_categories'))\n",
    "grp = categories_in_parts.groupby(['name_part_categories']).count() #we group by categories as we want one single quantity per unique category\n",
    "grp = grp.add_suffix('_count').reset_index() #reset the index to get the original data frame headers\n",
    "grp = grp.sort_values(by=['id_parts_count'],ascending=False)"
   ]
  },
  {
   "cell_type": "code",
   "execution_count": 22,
   "metadata": {},
   "outputs": [
    {
     "data": {
      "text/html": [
       "<div>\n",
       "<style scoped>\n",
       "    .dataframe tbody tr th:only-of-type {\n",
       "        vertical-align: middle;\n",
       "    }\n",
       "\n",
       "    .dataframe tbody tr th {\n",
       "        vertical-align: top;\n",
       "    }\n",
       "\n",
       "    .dataframe thead th {\n",
       "        text-align: right;\n",
       "    }\n",
       "</style>\n",
       "<table border=\"1\" class=\"dataframe\">\n",
       "  <thead>\n",
       "    <tr style=\"text-align: right;\">\n",
       "      <th></th>\n",
       "      <th>name_part_categories</th>\n",
       "      <th>id_parts_count</th>\n",
       "      <th>name_parts_count</th>\n",
       "      <th>part_cat_id_count</th>\n",
       "      <th>id_part_categories_count</th>\n",
       "    </tr>\n",
       "  </thead>\n",
       "  <tbody>\n",
       "    <tr>\n",
       "      <th>20</th>\n",
       "      <td>Minifigs</td>\n",
       "      <td>8556</td>\n",
       "      <td>8556</td>\n",
       "      <td>8556</td>\n",
       "      <td>8556</td>\n",
       "    </tr>\n",
       "    <tr>\n",
       "      <th>19</th>\n",
       "      <td>Minifig Accessories</td>\n",
       "      <td>2071</td>\n",
       "      <td>2071</td>\n",
       "      <td>2071</td>\n",
       "      <td>2071</td>\n",
       "    </tr>\n",
       "    <tr>\n",
       "      <th>22</th>\n",
       "      <td>Non-LEGO</td>\n",
       "      <td>1964</td>\n",
       "      <td>1964</td>\n",
       "      <td>1964</td>\n",
       "      <td>1964</td>\n",
       "    </tr>\n",
       "    <tr>\n",
       "      <th>13</th>\n",
       "      <td>Duplo, Quatro and Primo</td>\n",
       "      <td>1552</td>\n",
       "      <td>1552</td>\n",
       "      <td>1552</td>\n",
       "      <td>1552</td>\n",
       "    </tr>\n",
       "    <tr>\n",
       "      <th>47</th>\n",
       "      <td>Tiles Printed</td>\n",
       "      <td>1191</td>\n",
       "      <td>1191</td>\n",
       "      <td>1191</td>\n",
       "      <td>1191</td>\n",
       "    </tr>\n",
       "  </tbody>\n",
       "</table>\n",
       "</div>"
      ],
      "text/plain": [
       "       name_part_categories  id_parts_count  name_parts_count  \\\n",
       "20                 Minifigs            8556              8556   \n",
       "19      Minifig Accessories            2071              2071   \n",
       "22                 Non-LEGO            1964              1964   \n",
       "13  Duplo, Quatro and Primo            1552              1552   \n",
       "47            Tiles Printed            1191              1191   \n",
       "\n",
       "    part_cat_id_count  id_part_categories_count  \n",
       "20               8556                      8556  \n",
       "19               2071                      2071  \n",
       "22               1964                      1964  \n",
       "13               1552                      1552  \n",
       "47               1191                      1191  "
      ]
     },
     "execution_count": 22,
     "metadata": {},
     "output_type": "execute_result"
    }
   ],
   "source": [
    "grp.head(5) #visual control"
   ]
  },
  {
   "cell_type": "code",
   "execution_count": 23,
   "metadata": {},
   "outputs": [
    {
     "data": {
      "image/png": "[encoded data removed]",
      "text/plain": [
       "<Figure size 432x288 with 1 Axes>"
      ]
     },
     "metadata": {
      "needs_background": "light"
     },
     "output_type": "display_data"
    }
   ],
   "source": [
    "fig, ax = plt.subplots()\n",
    "mpl.style.use('seaborn')\n",
    "chosen_number = 20\n",
    "y_pos = np.arange(chosen_number)\n",
    "ax.barh(y_pos, grp.id_parts_count[:chosen_number], align='center', ecolor='black')\n",
    "ax.set_yticks(y_pos)\n",
    "ax.set_yticklabels(grp.name_part_categories)\n",
    "ax.invert_yaxis()  # labels read top-to-bottom\n",
    "ax.set_xlabel('Number of parts')\n",
    "ax.set_ylabel('Name of the category')\n",
    "ax.set_title('Distribution of part per categories')\n",
    "plt.show()"
   ]
  },
  {
   "cell_type": "markdown",
   "metadata": {},
   "source": [
    "### - 3 - Can you tell a green field from a cold steel rail?\n",
    "...Or which color is the dominant color?"
   ]
  },
  {
   "cell_type": "markdown",
   "metadata": {},
   "source": [
    "We now want to determine which color is the dominant color for each set. We define a dominant color as the color corresponding to the largest number of pieces of a hue for a given set. In the case where two colors are equally dominant in terms of the number of pieces in a set, the dominance is chosen randomly between these colors as the first occuring one.\n",
    "Note that the spare parts are not taken into account to assess the dominant colors as they are ideally not used in the building process of the set."
   ]
  },
  {
   "cell_type": "markdown",
   "metadata": {},
   "source": [
    "We first merge the inventory _parts and _sets to get the parts contained in the sets that have an inventory. "
   ]
  },
  {
   "cell_type": "code",
   "execution_count": 24,
   "metadata": {},
   "outputs": [],
   "source": [
    "inventory_parts_in_sets = pd.merge(inventory_parts,inventory_sets,left_on='inventory_id',right_on='inventory_id',suffixes=('_parts', '_sets'))\n",
    "inventory_parts_in_sets = inventory_parts_in_sets[inventory_parts_in_sets.is_spare != 't'] #remove the spare parts for the color analysis of the sets."
   ]
  },
  {
   "cell_type": "markdown",
   "metadata": {},
   "source": [
    "The total quantity is defined as the product of the quantity of the parts in the inventory times the quantity of the given inventory in the set."
   ]
  },
  {
   "cell_type": "code",
   "execution_count": 25,
   "metadata": {},
   "outputs": [],
   "source": [
    "inventory_parts_in_sets['total_quantity'] = inventory_parts_in_sets.quantity_parts * inventory_parts_in_sets.quantity_sets"
   ]
  },
  {
   "cell_type": "markdown",
   "metadata": {},
   "source": [
    "We do a groupby to get unique color values reflecting total number of parts of this color per sets. "
   ]
  },
  {
   "cell_type": "code",
   "execution_count": 26,
   "metadata": {},
   "outputs": [],
   "source": [
    "sets_colors = inventory_parts_in_sets.groupby(['set_id','color_id'])['total_quantity'].sum()\n",
    "sets_colors = sets_colors.reset_index()\n",
    "sets_colors = sets_colors.sort_values(by=['set_id', 'total_quantity'],ascending=False)"
   ]
  },
  {
   "cell_type": "markdown",
   "metadata": {},
   "source": [
    "Then another groupby to get the dominant color of each set. "
   ]
  },
  {
   "cell_type": "code",
   "execution_count": 27,
   "metadata": {},
   "outputs": [],
   "source": [
    "sets_dominant_colors = sets_colors.groupby(['set_id']).first()\n",
    "sets_dominant_colors = sets_dominant_colors.reset_index()\n",
    "sets_dominant_colors['number_of_set'] = 1 #to apply the sum() function easily below"
   ]
  },
  {
   "cell_type": "markdown",
   "metadata": {},
   "source": [
    "And a final groupby to get the number of sets of a given dominant color. "
   ]
  },
  {
   "cell_type": "code",
   "execution_count": 28,
   "metadata": {},
   "outputs": [
    {
     "data": {
      "text/html": [
       "<div>\n",
       "<style scoped>\n",
       "    .dataframe tbody tr th:only-of-type {\n",
       "        vertical-align: middle;\n",
       "    }\n",
       "\n",
       "    .dataframe tbody tr th {\n",
       "        vertical-align: top;\n",
       "    }\n",
       "\n",
       "    .dataframe thead th {\n",
       "        text-align: right;\n",
       "    }\n",
       "</style>\n",
       "<table border=\"1\" class=\"dataframe\">\n",
       "  <thead>\n",
       "    <tr style=\"text-align: right;\">\n",
       "      <th></th>\n",
       "      <th>color_id</th>\n",
       "      <th>number_of_set</th>\n",
       "      <th>id</th>\n",
       "      <th>name</th>\n",
       "      <th>rgb</th>\n",
       "      <th>is_trans</th>\n",
       "    </tr>\n",
       "  </thead>\n",
       "  <tbody>\n",
       "    <tr>\n",
       "      <th>0</th>\n",
       "      <td>89</td>\n",
       "      <td>41</td>\n",
       "      <td>89</td>\n",
       "      <td>Royal Blue</td>\n",
       "      <td>4C61DB</td>\n",
       "      <td>f</td>\n",
       "    </tr>\n",
       "    <tr>\n",
       "      <th>1</th>\n",
       "      <td>9999</td>\n",
       "      <td>33</td>\n",
       "      <td>9999</td>\n",
       "      <td>[No Color]</td>\n",
       "      <td>05131D</td>\n",
       "      <td>f</td>\n",
       "    </tr>\n",
       "    <tr>\n",
       "      <th>2</th>\n",
       "      <td>0</td>\n",
       "      <td>31</td>\n",
       "      <td>0</td>\n",
       "      <td>Black</td>\n",
       "      <td>05131D</td>\n",
       "      <td>f</td>\n",
       "    </tr>\n",
       "    <tr>\n",
       "      <th>3</th>\n",
       "      <td>-1</td>\n",
       "      <td>29</td>\n",
       "      <td>-1</td>\n",
       "      <td>Unknown</td>\n",
       "      <td>0033B2</td>\n",
       "      <td>f</td>\n",
       "    </tr>\n",
       "    <tr>\n",
       "      <th>4</th>\n",
       "      <td>178</td>\n",
       "      <td>6</td>\n",
       "      <td>178</td>\n",
       "      <td>Flat Dark Gold</td>\n",
       "      <td>B48455</td>\n",
       "      <td>f</td>\n",
       "    </tr>\n",
       "  </tbody>\n",
       "</table>\n",
       "</div>"
      ],
      "text/plain": [
       "   color_id  number_of_set    id            name     rgb is_trans\n",
       "0        89             41    89      Royal Blue  4C61DB        f\n",
       "1      9999             33  9999      [No Color]  05131D        f\n",
       "2         0             31     0           Black  05131D        f\n",
       "3        -1             29    -1         Unknown  0033B2        f\n",
       "4       178              6   178  Flat Dark Gold  B48455        f"
      ]
     },
     "execution_count": 28,
     "metadata": {},
     "output_type": "execute_result"
    }
   ],
   "source": [
    "sets_in_colors = sets_dominant_colors.groupby(['color_id'])['number_of_set'].sum().reset_index()\n",
    "sets_in_colors = sets_in_colors.sort_values(by=['number_of_set'],ascending=False)\n",
    "sets_in_colors = sets_in_colors.merge(colors,left_on='color_id',right_on='id') #Associate each inventory contained in a set to its set informations\n",
    "sets_in_colors.head() "
   ]
  },
  {
   "cell_type": "code",
   "execution_count": 29,
   "metadata": {},
   "outputs": [
    {
     "data": {
      "image/png": "[encoded data removed]",
      "text/plain": [
       "<Figure size 576x396 with 1 Axes>"
      ]
     },
     "metadata": {},
     "output_type": "display_data"
    }
   ],
   "source": [
    "#plot part\n",
    "fig, ax = plt.subplots()\n",
    "mpl.style.use('seaborn')\n",
    "chosen_number = len(sets_in_colors)\n",
    "y_pos = np.arange(chosen_number)\n",
    "ax.barh(y_pos, sets_in_colors.number_of_set[:chosen_number], align='center',\n",
    "        color=\"#\"+sets_in_colors.rgb[:chosen_number], ecolor='black')\n",
    "ax.set_yticks(y_pos)\n",
    "ax.set_yticklabels(sets_in_colors.name)\n",
    "ax.invert_yaxis()  # labels read top-to-bottom\n",
    "ax.set_xlabel('Number of sets')\n",
    "ax.set_ylabel('Color Name')\n",
    "ax.set_title('Number of sets per dominant color')\n",
    "plt.show()"
   ]
  },
  {
   "cell_type": "markdown",
   "metadata": {},
   "source": [
    "We can observe that the dominant colors are rather cold tints. The `Unknown` and `No Color` are also widely represented but the unknown color corresponds to a shade of blue that is consistent with the results presented."
   ]
  },
  {
   "cell_type": "markdown",
   "metadata": {},
   "source": [
    "### -4- Shine on you crazy diamond\n",
    "...Or the luminance of the sets across years\n",
    "\n",
    "The luminance of a color is a [measure of brightness](https://en.wikipedia.org/wiki/Luminance) which, given its RGB representation, can be computed as above. In our case, it is calculated from the dominant color of each set. We are interested in the evolution of this characteristic over time.\n",
    "\n",
    "$luminance = \\sqrt{0.299*R^2 + 0.587*G^2 + 0.114*B^2}$\n",
    "\n"
   ]
  },
  {
   "cell_type": "code",
   "execution_count": 30,
   "metadata": {},
   "outputs": [],
   "source": [
    "sets_dominant_colors = sets_dominant_colors.merge(colors,left_on='color_id',right_on='id')"
   ]
  },
  {
   "cell_type": "markdown",
   "metadata": {},
   "source": [
    "Create color components values filled with NaNs and implemented in a loop below"
   ]
  },
  {
   "cell_type": "code",
   "execution_count": 31,
   "metadata": {},
   "outputs": [],
   "source": [
    "sets_dominant_colors['r'] = np.nan\n",
    "sets_dominant_colors['g'] = np.nan\n",
    "sets_dominant_colors['b'] = np.nan"
   ]
  },
  {
   "cell_type": "markdown",
   "metadata": {},
   "source": [
    "Then loop over the length of the dataframe that contains the dominant color per set to convert the hex value into r,g and b components."
   ]
  },
  {
   "cell_type": "code",
   "execution_count": 32,
   "metadata": {},
   "outputs": [],
   "source": [
    "for j in range(0,len(sets_dominant_colors)):\n",
    "    hex = sets_dominant_colors.rgb[j] #dominant color of the set j.\n",
    "    sets_dominant_colors.r[j] = int(hex[0:2], 16) #convert into r component.\n",
    "    sets_dominant_colors.g[j] = int(hex[2:4], 16) #convert into g component.\n",
    "    sets_dominant_colors.b[j] = int(hex[4:6], 16) #convert into b component."
   ]
  },
  {
   "cell_type": "markdown",
   "metadata": {},
   "source": [
    "By using the formula above, we can calculate, for each set, its luminance."
   ]
  },
  {
   "cell_type": "code",
   "execution_count": 33,
   "metadata": {},
   "outputs": [],
   "source": [
    "sets_dominant_colors['luminance'] = (0.299*(sets_dominant_colors['r']**2) + 0.587*(sets_dominant_colors['g']**2) + 0.114*(sets_dominant_colors['b']**2))**(0.5)"
   ]
  },
  {
   "cell_type": "markdown",
   "metadata": {},
   "source": [
    "Finally we merge to retrieve the chronological properties of the sets, that is to say its release year."
   ]
  },
  {
   "cell_type": "code",
   "execution_count": 34,
   "metadata": {},
   "outputs": [],
   "source": [
    "sets_dominant_colors = pd.merge(sets_dominant_colors,sets,left_on='set_id',right_on='id',suffixes=('_dominant', '_sets'))"
   ]
  },
  {
   "cell_type": "markdown",
   "metadata": {},
   "source": [
    "Then plot !"
   ]
  },
  {
   "cell_type": "code",
   "execution_count": 35,
   "metadata": {
    "scrolled": true
   },
   "outputs": [
    {
     "data": {
      "image/png": "[encoded data removed]",
      "text/plain": [
       "<Figure size 576x396 with 1 Axes>"
      ]
     },
     "metadata": {},
     "output_type": "display_data"
    }
   ],
   "source": [
    "plt.scatter(sets_dominant_colors.year.astype(int),sets_dominant_colors.luminance,color=\"#\"+sets_dominant_colors.rgb, alpha=0.5)\n",
    "plt.xlabel('Years')\n",
    "plt.ylabel('Luminance value');\n",
    "plt.xticks(rotation=50)\n",
    "plt.show()"
   ]
  },
  {
   "cell_type": "markdown",
   "metadata": {},
   "source": [
    "We can observe that the LEGO bricks gain some color over the years especially in the blue tone."
   ]
  },
  {
   "cell_type": "markdown",
   "metadata": {},
   "source": [
    "## Task B. Drop the bike\n",
    "\n",
    "*Los Angeles Metro* has been sharing publicly [anonymized *Metro Bike Share* trip data](https://bikeshare.metro.net/about/data/) under the [Open Database License (ODbL)](http://opendatacommons.org/licenses/odbl/1.0/).\n",
    "\n",
    "In this task you will again perform data wrangling and interpretation."
   ]
  },
  {
   "cell_type": "markdown",
   "metadata": {},
   "source": [
    "### B1. Loading phase\n",
    "Load the json file into a `DataFrame`.\n"
   ]
  },
  {
   "cell_type": "code",
   "execution_count": 36,
   "metadata": {},
   "outputs": [
    {
     "data": {
      "text/html": [
       "<div>\n",
       "<style scoped>\n",
       "    .dataframe tbody tr th:only-of-type {\n",
       "        vertical-align: middle;\n",
       "    }\n",
       "\n",
       "    .dataframe tbody tr th {\n",
       "        vertical-align: top;\n",
       "    }\n",
       "\n",
       "    .dataframe thead th {\n",
       "        text-align: right;\n",
       "    }\n",
       "</style>\n",
       "<table border=\"1\" class=\"dataframe\">\n",
       "  <thead>\n",
       "    <tr style=\"text-align: right;\">\n",
       "      <th></th>\n",
       "      <th>Bike ID</th>\n",
       "      <th>Duration</th>\n",
       "      <th>End Time</th>\n",
       "      <th>Ending Station ID</th>\n",
       "      <th>Ending Station Latitude</th>\n",
       "      <th>Ending Station Longitude</th>\n",
       "      <th>Passholder Type</th>\n",
       "      <th>Plan Duration</th>\n",
       "      <th>Start Time</th>\n",
       "      <th>Starting Station ID</th>\n",
       "      <th>Starting Station Latitude</th>\n",
       "      <th>Starting Station Longitude</th>\n",
       "      <th>Trip ID</th>\n",
       "      <th>Trip Route Category</th>\n",
       "    </tr>\n",
       "  </thead>\n",
       "  <tbody>\n",
       "    <tr>\n",
       "      <th>0</th>\n",
       "      <td>6281.0</td>\n",
       "      <td>180</td>\n",
       "      <td>2016-07-07T04:20:00</td>\n",
       "      <td>3014.0</td>\n",
       "      <td>34.056610</td>\n",
       "      <td>-118.23721</td>\n",
       "      <td>Monthly Pass</td>\n",
       "      <td>30.0</td>\n",
       "      <td>2016-07-07T04:17:00</td>\n",
       "      <td>3014.0</td>\n",
       "      <td>34.056610</td>\n",
       "      <td>-118.23721</td>\n",
       "      <td>1912818</td>\n",
       "      <td>Round Trip</td>\n",
       "    </tr>\n",
       "    <tr>\n",
       "      <th>1</th>\n",
       "      <td>6281.0</td>\n",
       "      <td>1980</td>\n",
       "      <td>2016-07-07T06:33:00</td>\n",
       "      <td>3014.0</td>\n",
       "      <td>34.056610</td>\n",
       "      <td>-118.23721</td>\n",
       "      <td>Monthly Pass</td>\n",
       "      <td>30.0</td>\n",
       "      <td>2016-07-07T06:00:00</td>\n",
       "      <td>3014.0</td>\n",
       "      <td>34.056610</td>\n",
       "      <td>-118.23721</td>\n",
       "      <td>1919661</td>\n",
       "      <td>Round Trip</td>\n",
       "    </tr>\n",
       "    <tr>\n",
       "      <th>2</th>\n",
       "      <td>5861.0</td>\n",
       "      <td>300</td>\n",
       "      <td>2016-07-07T10:37:00</td>\n",
       "      <td>3016.0</td>\n",
       "      <td>34.052898</td>\n",
       "      <td>-118.24156</td>\n",
       "      <td>Flex Pass</td>\n",
       "      <td>365.0</td>\n",
       "      <td>2016-07-07T10:32:00</td>\n",
       "      <td>3016.0</td>\n",
       "      <td>34.052898</td>\n",
       "      <td>-118.24156</td>\n",
       "      <td>1933383</td>\n",
       "      <td>Round Trip</td>\n",
       "    </tr>\n",
       "    <tr>\n",
       "      <th>3</th>\n",
       "      <td>5861.0</td>\n",
       "      <td>10860</td>\n",
       "      <td>2016-07-07T13:38:00</td>\n",
       "      <td>3016.0</td>\n",
       "      <td>34.052898</td>\n",
       "      <td>-118.24156</td>\n",
       "      <td>Flex Pass</td>\n",
       "      <td>365.0</td>\n",
       "      <td>2016-07-07T10:37:00</td>\n",
       "      <td>3016.0</td>\n",
       "      <td>34.052898</td>\n",
       "      <td>-118.24156</td>\n",
       "      <td>1944197</td>\n",
       "      <td>Round Trip</td>\n",
       "    </tr>\n",
       "    <tr>\n",
       "      <th>4</th>\n",
       "      <td>6674.0</td>\n",
       "      <td>420</td>\n",
       "      <td>2016-07-07T12:58:00</td>\n",
       "      <td>3032.0</td>\n",
       "      <td>34.049889</td>\n",
       "      <td>-118.25588</td>\n",
       "      <td>Walk-up</td>\n",
       "      <td>0.0</td>\n",
       "      <td>2016-07-07T12:51:00</td>\n",
       "      <td>3032.0</td>\n",
       "      <td>34.049889</td>\n",
       "      <td>-118.25588</td>\n",
       "      <td>1940317</td>\n",
       "      <td>Round Trip</td>\n",
       "    </tr>\n",
       "  </tbody>\n",
       "</table>\n",
       "</div>"
      ],
      "text/plain": [
       "   Bike ID  Duration             End Time  Ending Station ID  \\\n",
       "0   6281.0       180  2016-07-07T04:20:00             3014.0   \n",
       "1   6281.0      1980  2016-07-07T06:33:00             3014.0   \n",
       "2   5861.0       300  2016-07-07T10:37:00             3016.0   \n",
       "3   5861.0     10860  2016-07-07T13:38:00             3016.0   \n",
       "4   6674.0       420  2016-07-07T12:58:00             3032.0   \n",
       "\n",
       "   Ending Station Latitude  Ending Station Longitude Passholder Type  \\\n",
       "0                34.056610                -118.23721    Monthly Pass   \n",
       "1                34.056610                -118.23721    Monthly Pass   \n",
       "2                34.052898                -118.24156       Flex Pass   \n",
       "3                34.052898                -118.24156       Flex Pass   \n",
       "4                34.049889                -118.25588         Walk-up   \n",
       "\n",
       "   Plan Duration           Start Time  Starting Station ID  \\\n",
       "0           30.0  2016-07-07T04:17:00               3014.0   \n",
       "1           30.0  2016-07-07T06:00:00               3014.0   \n",
       "2          365.0  2016-07-07T10:32:00               3016.0   \n",
       "3          365.0  2016-07-07T10:37:00               3016.0   \n",
       "4            0.0  2016-07-07T12:51:00               3032.0   \n",
       "\n",
       "   Starting Station Latitude  Starting Station Longitude  Trip ID  \\\n",
       "0                  34.056610                  -118.23721  1912818   \n",
       "1                  34.056610                  -118.23721  1919661   \n",
       "2                  34.052898                  -118.24156  1933383   \n",
       "3                  34.052898                  -118.24156  1944197   \n",
       "4                  34.049889                  -118.25588  1940317   \n",
       "\n",
       "  Trip Route Category  \n",
       "0          Round Trip  \n",
       "1          Round Trip  \n",
       "2          Round Trip  \n",
       "3          Round Trip  \n",
       "4          Round Trip  "
      ]
     },
     "execution_count": 36,
     "metadata": {},
     "output_type": "execute_result"
    }
   ],
   "source": [
    "BIKES_DATA_FOLDER = DATA_FOLDER + '/bikes'\n",
    "df = pd.read_json(BIKES_DATA_FOLDER + '/metro-bike-share-trip-data.json.zip', compression = 'zip')\n",
    "df.head()"
   ]
  },
  {
   "cell_type": "markdown",
   "metadata": {},
   "source": [
    "### B2. Cleaning phase\n",
    "Describe the type and the value range of each attribute. Indicate and transform the attributes that are `Categorical`. Are there redundant columns in the dataset (i.e., are there columns whose value depends only on the value of another column)? What are the possible pitfalls of having such columns? Reduce *data redundancy* by extracting such columns to separate `DataFrames`. Which of the two formats (the initial one or the one with reduced data redundancy) is more susceptible to inconsistencies? At the end print for each `Dataframe` the *type of each column* and it's *shape*."
   ]
  },
  {
   "cell_type": "markdown",
   "metadata": {},
   "source": [
    "#### Attributes\n",
    "\n",
    "* `Trip ID` is a unique, non-negative integer identifier, so it's used as global ID for the dataframe. It's data type is `int64`."
   ]
  },
  {
   "cell_type": "code",
   "execution_count": 37,
   "metadata": {},
   "outputs": [
    {
     "data": {
      "text/html": [
       "<div>\n",
       "<style scoped>\n",
       "    .dataframe tbody tr th:only-of-type {\n",
       "        vertical-align: middle;\n",
       "    }\n",
       "\n",
       "    .dataframe tbody tr th {\n",
       "        vertical-align: top;\n",
       "    }\n",
       "\n",
       "    .dataframe thead th {\n",
       "        text-align: right;\n",
       "    }\n",
       "</style>\n",
       "<table border=\"1\" class=\"dataframe\">\n",
       "  <thead>\n",
       "    <tr style=\"text-align: right;\">\n",
       "      <th></th>\n",
       "      <th>Bike ID</th>\n",
       "      <th>Duration</th>\n",
       "      <th>End Time</th>\n",
       "      <th>Ending Station ID</th>\n",
       "      <th>Ending Station Latitude</th>\n",
       "      <th>Ending Station Longitude</th>\n",
       "      <th>Passholder Type</th>\n",
       "      <th>Plan Duration</th>\n",
       "      <th>Start Time</th>\n",
       "      <th>Starting Station ID</th>\n",
       "      <th>Starting Station Latitude</th>\n",
       "      <th>Starting Station Longitude</th>\n",
       "      <th>Trip Route Category</th>\n",
       "    </tr>\n",
       "    <tr>\n",
       "      <th>Trip ID</th>\n",
       "      <th></th>\n",
       "      <th></th>\n",
       "      <th></th>\n",
       "      <th></th>\n",
       "      <th></th>\n",
       "      <th></th>\n",
       "      <th></th>\n",
       "      <th></th>\n",
       "      <th></th>\n",
       "      <th></th>\n",
       "      <th></th>\n",
       "      <th></th>\n",
       "      <th></th>\n",
       "    </tr>\n",
       "  </thead>\n",
       "  <tbody>\n",
       "    <tr>\n",
       "      <th>1912818</th>\n",
       "      <td>6281.0</td>\n",
       "      <td>180</td>\n",
       "      <td>2016-07-07T04:20:00</td>\n",
       "      <td>3014.0</td>\n",
       "      <td>34.056610</td>\n",
       "      <td>-118.23721</td>\n",
       "      <td>Monthly Pass</td>\n",
       "      <td>30.0</td>\n",
       "      <td>2016-07-07T04:17:00</td>\n",
       "      <td>3014.0</td>\n",
       "      <td>34.056610</td>\n",
       "      <td>-118.23721</td>\n",
       "      <td>Round Trip</td>\n",
       "    </tr>\n",
       "    <tr>\n",
       "      <th>1919661</th>\n",
       "      <td>6281.0</td>\n",
       "      <td>1980</td>\n",
       "      <td>2016-07-07T06:33:00</td>\n",
       "      <td>3014.0</td>\n",
       "      <td>34.056610</td>\n",
       "      <td>-118.23721</td>\n",
       "      <td>Monthly Pass</td>\n",
       "      <td>30.0</td>\n",
       "      <td>2016-07-07T06:00:00</td>\n",
       "      <td>3014.0</td>\n",
       "      <td>34.056610</td>\n",
       "      <td>-118.23721</td>\n",
       "      <td>Round Trip</td>\n",
       "    </tr>\n",
       "    <tr>\n",
       "      <th>1933383</th>\n",
       "      <td>5861.0</td>\n",
       "      <td>300</td>\n",
       "      <td>2016-07-07T10:37:00</td>\n",
       "      <td>3016.0</td>\n",
       "      <td>34.052898</td>\n",
       "      <td>-118.24156</td>\n",
       "      <td>Flex Pass</td>\n",
       "      <td>365.0</td>\n",
       "      <td>2016-07-07T10:32:00</td>\n",
       "      <td>3016.0</td>\n",
       "      <td>34.052898</td>\n",
       "      <td>-118.24156</td>\n",
       "      <td>Round Trip</td>\n",
       "    </tr>\n",
       "    <tr>\n",
       "      <th>1944197</th>\n",
       "      <td>5861.0</td>\n",
       "      <td>10860</td>\n",
       "      <td>2016-07-07T13:38:00</td>\n",
       "      <td>3016.0</td>\n",
       "      <td>34.052898</td>\n",
       "      <td>-118.24156</td>\n",
       "      <td>Flex Pass</td>\n",
       "      <td>365.0</td>\n",
       "      <td>2016-07-07T10:37:00</td>\n",
       "      <td>3016.0</td>\n",
       "      <td>34.052898</td>\n",
       "      <td>-118.24156</td>\n",
       "      <td>Round Trip</td>\n",
       "    </tr>\n",
       "    <tr>\n",
       "      <th>1940317</th>\n",
       "      <td>6674.0</td>\n",
       "      <td>420</td>\n",
       "      <td>2016-07-07T12:58:00</td>\n",
       "      <td>3032.0</td>\n",
       "      <td>34.049889</td>\n",
       "      <td>-118.25588</td>\n",
       "      <td>Walk-up</td>\n",
       "      <td>0.0</td>\n",
       "      <td>2016-07-07T12:51:00</td>\n",
       "      <td>3032.0</td>\n",
       "      <td>34.049889</td>\n",
       "      <td>-118.25588</td>\n",
       "      <td>Round Trip</td>\n",
       "    </tr>\n",
       "  </tbody>\n",
       "</table>\n",
       "</div>"
      ],
      "text/plain": [
       "         Bike ID  Duration             End Time  Ending Station ID  \\\n",
       "Trip ID                                                              \n",
       "1912818   6281.0       180  2016-07-07T04:20:00             3014.0   \n",
       "1919661   6281.0      1980  2016-07-07T06:33:00             3014.0   \n",
       "1933383   5861.0       300  2016-07-07T10:37:00             3016.0   \n",
       "1944197   5861.0     10860  2016-07-07T13:38:00             3016.0   \n",
       "1940317   6674.0       420  2016-07-07T12:58:00             3032.0   \n",
       "\n",
       "         Ending Station Latitude  Ending Station Longitude Passholder Type  \\\n",
       "Trip ID                                                                      \n",
       "1912818                34.056610                -118.23721    Monthly Pass   \n",
       "1919661                34.056610                -118.23721    Monthly Pass   \n",
       "1933383                34.052898                -118.24156       Flex Pass   \n",
       "1944197                34.052898                -118.24156       Flex Pass   \n",
       "1940317                34.049889                -118.25588         Walk-up   \n",
       "\n",
       "         Plan Duration           Start Time  Starting Station ID  \\\n",
       "Trip ID                                                            \n",
       "1912818           30.0  2016-07-07T04:17:00               3014.0   \n",
       "1919661           30.0  2016-07-07T06:00:00               3014.0   \n",
       "1933383          365.0  2016-07-07T10:32:00               3016.0   \n",
       "1944197          365.0  2016-07-07T10:37:00               3016.0   \n",
       "1940317            0.0  2016-07-07T12:51:00               3032.0   \n",
       "\n",
       "         Starting Station Latitude  Starting Station Longitude  \\\n",
       "Trip ID                                                          \n",
       "1912818                  34.056610                  -118.23721   \n",
       "1919661                  34.056610                  -118.23721   \n",
       "1933383                  34.052898                  -118.24156   \n",
       "1944197                  34.052898                  -118.24156   \n",
       "1940317                  34.049889                  -118.25588   \n",
       "\n",
       "        Trip Route Category  \n",
       "Trip ID                      \n",
       "1912818          Round Trip  \n",
       "1919661          Round Trip  \n",
       "1933383          Round Trip  \n",
       "1944197          Round Trip  \n",
       "1940317          Round Trip  "
      ]
     },
     "execution_count": 37,
     "metadata": {},
     "output_type": "execute_result"
    }
   ],
   "source": [
    "df.set_index('Trip ID',inplace=True)\n",
    "df.head()"
   ]
  },
  {
   "cell_type": "markdown",
   "metadata": {},
   "source": [
    "* `Bike ID`, `Starting Station ID`, `Ending Station ID` are non-negative integer identifiers.\n",
    "Since they contain `NaN` values, they are initially parsed as floating-point numbers.\n",
    "We fill the `NaN`s with zeros and explicitly convert them to their true type format `int64`.\n",
    "* `Plan Duration` is also a non-negative integer as a number of days.\n",
    "As before, we replace `NaN`s and convert it to `int64`."
   ]
  },
  {
   "cell_type": "code",
   "execution_count": 38,
   "metadata": {},
   "outputs": [],
   "source": [
    "df['Bike ID']              = df['Bike ID'].fillna(0).astype('int64')\n",
    "df['Starting Station ID']  = df['Starting Station ID'].fillna(0).astype('int64')\n",
    "df['Ending Station ID']    = df['Ending Station ID'].fillna(0).astype('int64')\n",
    "df['Plan Duration']        = df['Plan Duration'].fillna(0).astype('int64')"
   ]
  },
  {
   "cell_type": "markdown",
   "metadata": {},
   "source": [
    "* We parse the `Start Time` and `End Time` columns to be represented as datetime64 object. That way, we can access the different variables of time separately."
   ]
  },
  {
   "cell_type": "code",
   "execution_count": 39,
   "metadata": {},
   "outputs": [],
   "source": [
    "df['Start Time']           = pd.to_datetime(df['Start Time'])\n",
    "df['End Time']             = pd.to_datetime(df['End Time'])"
   ]
  },
  {
   "cell_type": "code",
   "execution_count": 40,
   "metadata": {},
   "outputs": [
    {
     "data": {
      "text/plain": [
       "End Time      datetime64[ns]\n",
       "Start Time    datetime64[ns]\n",
       "dtype: object"
      ]
     },
     "execution_count": 40,
     "metadata": {},
     "output_type": "execute_result"
    }
   ],
   "source": [
    "df[[\"End Time\",\"Start Time\"]].dtypes"
   ]
  },
  {
   "cell_type": "markdown",
   "metadata": {},
   "source": [
    "* The `Trip Route Category` and `Passholder Type` are Categorical attributes as they only have a small finite set of possible elements. We can convert then to be of type `category`."
   ]
  },
  {
   "cell_type": "code",
   "execution_count": 41,
   "metadata": {},
   "outputs": [],
   "source": [
    "df['Trip Route Category']  = pd.Categorical(df['Trip Route Category'])\n",
    "df['Passholder Type']      = pd.Categorical(df['Passholder Type'])"
   ]
  },
  {
   "cell_type": "markdown",
   "metadata": {},
   "source": [
    "* `Duration` is `int64`\n",
    "* `Starting Station Latitude`,`Starting Station Longitude`,`Ending Station Latitude`, `Ending Station Longitude` are floating point numbers"
   ]
  },
  {
   "cell_type": "code",
   "execution_count": 42,
   "metadata": {},
   "outputs": [
    {
     "data": {
      "text/plain": [
       "Bike ID                                int64\n",
       "Duration                               int64\n",
       "End Time                      datetime64[ns]\n",
       "Ending Station ID                      int64\n",
       "Ending Station Latitude              float64\n",
       "Ending Station Longitude             float64\n",
       "Passholder Type                     category\n",
       "Plan Duration                          int64\n",
       "Start Time                    datetime64[ns]\n",
       "Starting Station ID                    int64\n",
       "Starting Station Latitude            float64\n",
       "Starting Station Longitude           float64\n",
       "Trip Route Category                 category\n",
       "dtype: object"
      ]
     },
     "execution_count": 42,
     "metadata": {},
     "output_type": "execute_result"
    }
   ],
   "source": [
    "df.dtypes"
   ]
  },
  {
   "cell_type": "markdown",
   "metadata": {},
   "source": [
    "#### Redundant Columns\n",
    "Having redundant columns\n",
    "* requires updating multiple rows with the danger of potential logical inconsistencies\n",
    "* leads to high amount of duplicate data"
   ]
  },
  {
   "cell_type": "markdown",
   "metadata": {},
   "source": [
    "In our case,\n",
    "* `Duration` can be inferred by `Start Time` and `End Time`. We can delete one of the three columns as it is redundant. We choose to delete the `End Time`."
   ]
  },
  {
   "cell_type": "code",
   "execution_count": 43,
   "metadata": {},
   "outputs": [
    {
     "name": "stdout",
     "output_type": "stream",
     "text": [
      "End Time    datetime64[ns]\n",
      "dtype: object\n",
      "(132427, 1)\n"
     ]
    }
   ],
   "source": [
    "end_df = df[['End Time']].copy()\n",
    "\n",
    "print(end_df.dtypes)\n",
    "print(end_df.shape)"
   ]
  },
  {
   "cell_type": "markdown",
   "metadata": {},
   "source": [
    "* Each station is referenced by a unique Station ID and set of coordinates. We build a DataFrame that associates the location with each ID. We can then delete both location for ending and starting station from the original dataframe. We keep only distinct stations."
   ]
  },
  {
   "cell_type": "code",
   "execution_count": 44,
   "metadata": {},
   "outputs": [
    {
     "name": "stdout",
     "output_type": "stream",
     "text": [
      "Station ID             int64\n",
      "Station Latitude     float64\n",
      "Station Longitude    float64\n",
      "dtype: object\n",
      "(68, 3)\n"
     ]
    }
   ],
   "source": [
    "coord_columns = ['Station ID','Station Latitude','Station Longitude']\n",
    "\n",
    "start_coords_df = df[['Starting Station ID',\n",
    "                      'Starting Station Latitude',\n",
    "                      'Starting Station Longitude']]\n",
    "start_coords_df.columns = coord_columns\n",
    "\n",
    "end_coords_df = df[['Ending Station ID',\n",
    "                    'Ending Station Latitude',\n",
    "                    'Ending Station Longitude']]\n",
    "end_coords_df.columns = coord_columns\n",
    "\n",
    "coords_df = pd.concat([start_coords_df,end_coords_df])\n",
    "coords_df.drop_duplicates(subset='Station ID',inplace=True)\n",
    "\n",
    "print(coords_df.dtypes)\n",
    "print(coords_df.shape)"
   ]
  },
  {
   "cell_type": "markdown",
   "metadata": {},
   "source": [
    "As a bonus, this DataFrame is indeed a map of all the Station, thus, we can plot them all to see their position."
   ]
  },
  {
   "cell_type": "code",
   "execution_count": 45,
   "metadata": {},
   "outputs": [
    {
     "data": {
      "text/plain": [
       "[<matplotlib.lines.Line2D at 0x12039b0f0>]"
      ]
     },
     "execution_count": 45,
     "metadata": {},
     "output_type": "execute_result"
    },
    {
     "data": {
      "image/png": "[encoded data removed]",
      "text/plain": [
       "<Figure size 576x396 with 1 Axes>"
      ]
     },
     "metadata": {},
     "output_type": "display_data"
    }
   ],
   "source": [
    "coords_df = coords_df.set_index('Station ID').dropna()\n",
    "coords_df = coords_df[coords_df['Station Latitude']!= 0] # Removing coordonnate equals to zero\n",
    "plt.plot(coords_df['Station Latitude'], coords_df['Station Longitude'], '.')"
   ]
  },
  {
   "cell_type": "markdown",
   "metadata": {},
   "source": [
    "* Each passholder's plan has a unique number of days. We store `Plan Duration` on a separate dataframe. We keep only distinct passholder types and delete the previous `Trip ID` index."
   ]
  },
  {
   "cell_type": "code",
   "execution_count": 46,
   "metadata": {},
   "outputs": [
    {
     "name": "stdout",
     "output_type": "stream",
     "text": [
      "Passholder Type    category\n",
      "Plan Duration         int64\n",
      "dtype: object\n",
      "(4, 2)\n"
     ]
    }
   ],
   "source": [
    "pass_df = df[['Passholder Type',\n",
    "              'Plan Duration']].copy()\n",
    "\n",
    "pass_df.reset_index(drop=True,inplace=True)\n",
    "pass_df.drop_duplicates(subset='Passholder Type',inplace=True)\n",
    "\n",
    "print(pass_df.dtypes)\n",
    "print(pass_df.shape)"
   ]
  },
  {
   "cell_type": "markdown",
   "metadata": {},
   "source": [
    "* We can infer if a trip is *Round Trip* or *One Way* from `Starting Station ID` and `Ending Station ID`.\n",
    "Thus, `Trip Route Category` is redundant."
   ]
  },
  {
   "cell_type": "code",
   "execution_count": 47,
   "metadata": {},
   "outputs": [
    {
     "name": "stdout",
     "output_type": "stream",
     "text": [
      "Trip Route Category    category\n",
      "dtype: object\n",
      "(132427, 1)\n"
     ]
    }
   ],
   "source": [
    "route_df = df[['Trip Route Category']].copy()\n",
    "\n",
    "print(route_df.dtypes)\n",
    "print(route_df.shape)"
   ]
  },
  {
   "cell_type": "markdown",
   "metadata": {},
   "source": [
    "We now have a normalized DataFrame without the redundant columns :"
   ]
  },
  {
   "cell_type": "code",
   "execution_count": 48,
   "metadata": {},
   "outputs": [
    {
     "name": "stdout",
     "output_type": "stream",
     "text": [
      "Duration                        int64\n",
      "Start Time             datetime64[ns]\n",
      "Starting Station ID             int64\n",
      "Ending Station ID               int64\n",
      "Bike ID                         int64\n",
      "Passholder Type              category\n",
      "dtype: object\n",
      "(132427, 6)\n"
     ]
    }
   ],
   "source": [
    "df = df[['Duration',\n",
    "         'Start Time',\n",
    "         'Starting Station ID',\n",
    "         'Ending Station ID',\n",
    "         'Bike ID',\n",
    "         'Passholder Type']]\n",
    "\n",
    "print(df.dtypes)\n",
    "print(df.shape)"
   ]
  },
  {
   "cell_type": "markdown",
   "metadata": {},
   "source": [
    "Note: In the above printed `dtypes`,`shape` the index type is not included. In the case of `df` it is"
   ]
  },
  {
   "cell_type": "code",
   "execution_count": 49,
   "metadata": {},
   "outputs": [
    {
     "data": {
      "text/plain": [
       "Int64Index([ 1912818,  1919661,  1933383,  1944197,  1940317,  1944075,\n",
       "             1944073,  1944067,  1944062,  1944063,\n",
       "            ...\n",
       "            23660998, 23660997, 23660996, 23660995, 23660994, 23660993,\n",
       "            23660992, 23660991, 23660990, 23664826],\n",
       "           dtype='int64', name='Trip ID', length=132427)"
      ]
     },
     "execution_count": 49,
     "metadata": {},
     "output_type": "execute_result"
    }
   ],
   "source": [
    "df.index"
   ]
  },
  {
   "cell_type": "markdown",
   "metadata": {},
   "source": [
    "### B3. Querying phase\n",
    "Answer the following queries using the functionality of `Pandas`.\n",
    "\n",
    "1. Plot the *distribution* of the number of outgoing trips from each station in a histogram with 20 bins (Hint: each bin describes a range of counts, not stations).\n",
    "* Plot histograms for the *duration* and *trip starting hour in the day* attributes. For both the *duration*  and the *trip starting hour* use *discrete 1-hour intervals*. What do you observe in each plot? What are some popular values in the *duration* plot? Explain the local maxima and the trends you observe on the *trip starting hour* plot based on human behavior.\n",
    "* For each *trip route category*, calculate the proportion of trips by *passholder type* and present your results in *a stacked bar chart with normalized height*.\n",
    "* Considering only trips that begin in the morning hours (before noon), plot in *a single bar chart* the proportion of trips by *passholder type* and *trip route category*. Explain any outliers you observe.\n",
    "* Separate the hours of the day into two intervals that have (approximately) the same number of bikes leaving the stations. For each of the two intervals calculate the proportion of trips by *passholder type* and *trip route category*. Present your results in a `DataFrame` which has a unique, non-composite index. Does the proportion of trips depend on whether it is the first or second hour interval? Would the company have any significant benefit by creating a more complex paying scheme where monthly pass users would pay less in the first interval and (equally) more on the second one? Assume that the number of trips per interval will not change if the scheme changes."
   ]
  },
  {
   "cell_type": "markdown",
   "metadata": {},
   "source": [
    "###  - 1 - Number of trips from each station"
   ]
  },
  {
   "cell_type": "markdown",
   "metadata": {},
   "source": [
    "For this query, we group by Starting Station. Then, we measure the number of departures from each of them by counting the size of the groups. We can finally plot an histogram where the x axis is a range of number of outgoing trips, and the height of the bin is the number of stations which have that number of outgoing trips."
   ]
  },
  {
   "cell_type": "code",
   "execution_count": 50,
   "metadata": {},
   "outputs": [
    {
     "data": {
      "text/plain": [
       "<matplotlib.axes._subplots.AxesSubplot at 0x120c9d358>"
      ]
     },
     "execution_count": 50,
     "metadata": {},
     "output_type": "execute_result"
    },
    {
     "data": {
      "image/png": "[encoded data removed]",
      "text/plain": [
       "<Figure size 576x396 with 1 Axes>"
      ]
     },
     "metadata": {},
     "output_type": "display_data"
    }
   ],
   "source": [
    "df['Starting Station ID'].value_counts().hist(bins=20, ec='black')"
   ]
  },
  {
   "cell_type": "markdown",
   "metadata": {},
   "source": [
    "We observe that most of the trips are located in very few stations. By examining this information we could eventualy find the places that need more stations in order to have a more balanced traffic load."
   ]
  },
  {
   "cell_type": "markdown",
   "metadata": {},
   "source": [
    "### -  2  - When do poeple take the bike..."
   ]
  },
  {
   "cell_type": "markdown",
   "metadata": {},
   "source": [
    "In this query, we wish to look at the number of departures for each hour of the day. This can show us when the resources are most needed.\n",
    "\n",
    "We select the `Start Time` column that we already parsed. So the type of this column is `datetime64`. We can then access seperately all the different units of time, like `hour`. With that selected, we just plot the histogram with 24 bins"
   ]
  },
  {
   "cell_type": "code",
   "execution_count": 51,
   "metadata": {},
   "outputs": [
    {
     "data": {
      "text/plain": [
       "<matplotlib.axes._subplots.AxesSubplot at 0x120559c18>"
      ]
     },
     "execution_count": 51,
     "metadata": {},
     "output_type": "execute_result"
    },
    {
     "data": {
      "image/png": "[encoded data removed]",
      "text/plain": [
       "<Figure size 576x396 with 1 Axes>"
      ]
     },
     "metadata": {},
     "output_type": "display_data"
    }
   ],
   "source": [
    "df['Start Time'].dt.hour.hist(bins = 24, ec='black')"
   ]
  },
  {
   "cell_type": "markdown",
   "metadata": {},
   "source": [
    "Most of the station are used during the non-work hours of the day, with 3 notable local maxima. The first one occurs when people go to work in the morning. Then, the second one when people go to have lunch somewhere. Finally, the global maximum shows that a lot of people use bikes to leave their work locations. During night few people drive the bike."
   ]
  },
  {
   "cell_type": "markdown",
   "metadata": {},
   "source": [
    "### ... And for how long ?"
   ]
  },
  {
   "cell_type": "markdown",
   "metadata": {},
   "source": [
    "Then, we want to plot the distribution of the `Duration`."
   ]
  },
  {
   "cell_type": "code",
   "execution_count": 52,
   "metadata": {},
   "outputs": [
    {
     "name": "stdout",
     "output_type": "stream",
     "text": [
      "86400\n",
      "60\n"
     ]
    }
   ],
   "source": [
    "print(df['Duration'].max())\n",
    "print(df['Duration'].min())"
   ]
  },
  {
   "cell_type": "markdown",
   "metadata": {},
   "source": [
    "As we can see, the range of `Duration` is very large, from few minutes to a full day.\n",
    "\n",
    "We can still look at the distribution. We select the `Duration` column. We convert from seconds into hours and plot the histogram."
   ]
  },
  {
   "cell_type": "code",
   "execution_count": 53,
   "metadata": {},
   "outputs": [
    {
     "data": {
      "text/plain": [
       "array([[<matplotlib.axes._subplots.AxesSubplot object at 0x121501400>]],\n",
       "      dtype=object)"
      ]
     },
     "execution_count": 53,
     "metadata": {},
     "output_type": "execute_result"
    },
    {
     "data": {
      "image/png": "[encoded data removed]",
      "text/plain": [
       "<Figure size 576x396 with 1 Axes>"
      ]
     },
     "metadata": {},
     "output_type": "display_data"
    }
   ],
   "source": [
    "df[['Duration']].apply(lambda d:d/3600).hist(bins = 24, ec='black')"
   ]
  },
  {
   "cell_type": "markdown",
   "metadata": {},
   "source": [
    "As we can see, most durations are short one with very few outliers. We can plot the distribution for the first two hours with resolution of 6 minutes. We observe that most of the durations are less than 15 minutes long."
   ]
  },
  {
   "cell_type": "code",
   "execution_count": 54,
   "metadata": {},
   "outputs": [
    {
     "data": {
      "text/plain": [
       "<matplotlib.axes._subplots.AxesSubplot at 0x121607a90>"
      ]
     },
     "execution_count": 54,
     "metadata": {},
     "output_type": "execute_result"
    },
    {
     "data": {
      "image/png": "[encoded data removed]",
      "text/plain": [
       "<Figure size 576x396 with 1 Axes>"
      ]
     },
     "metadata": {},
     "output_type": "display_data"
    }
   ],
   "source": [
    "df['Duration'][df['Duration']<7200].apply(lambda d:d/3600).hist(bins = 20, ec='black')"
   ]
  },
  {
   "cell_type": "markdown",
   "metadata": {},
   "source": [
    "### -  3  - What do they do with their bikes and how they pay for it ?\n",
    "For each `Trip Route Category`, we want to calculate the proportion of trips by `Passholder Type`."
   ]
  },
  {
   "cell_type": "markdown",
   "metadata": {},
   "source": [
    "The `Trip Route Category` and `Passholder Type` are two categorical types. We can first see which category each one represents."
   ]
  },
  {
   "cell_type": "code",
   "execution_count": 55,
   "metadata": {},
   "outputs": [
    {
     "name": "stdout",
     "output_type": "stream",
     "text": [
      "[Round Trip, One Way]\n",
      "Categories (2, object): [Round Trip, One Way]\n",
      "[Monthly Pass, Flex Pass, Walk-up, Staff Annual]\n",
      "Categories (4, object): [Monthly Pass, Flex Pass, Walk-up, Staff Annual]\n"
     ]
    }
   ],
   "source": [
    "print(route_df['Trip Route Category'].unique())\n",
    "print(df['Passholder Type'].unique())"
   ]
  },
  {
   "cell_type": "markdown",
   "metadata": {},
   "source": [
    "We then group by `Trip Route Category`. And for each `Trip Route Category`, we group by `Passholder Type`.\n",
    "By unstacking the count for each category, we optain a frame of `Trip Route Category` by `Passholder Type`."
   ]
  },
  {
   "cell_type": "markdown",
   "metadata": {},
   "source": [
    "Before the grouping though, we need to join the main dataframe (`df`) and the one that contains the `Trip Route Category`(`route_df`)"
   ]
  },
  {
   "cell_type": "code",
   "execution_count": 56,
   "metadata": {},
   "outputs": [],
   "source": [
    "joined_df = pd.concat([df, route_df], axis=1)"
   ]
  },
  {
   "cell_type": "code",
   "execution_count": 57,
   "metadata": {},
   "outputs": [
    {
     "data": {
      "text/html": [
       "<div>\n",
       "<style scoped>\n",
       "    .dataframe tbody tr th:only-of-type {\n",
       "        vertical-align: middle;\n",
       "    }\n",
       "\n",
       "    .dataframe tbody tr th {\n",
       "        vertical-align: top;\n",
       "    }\n",
       "\n",
       "    .dataframe thead th {\n",
       "        text-align: right;\n",
       "    }\n",
       "</style>\n",
       "<table border=\"1\" class=\"dataframe\">\n",
       "  <thead>\n",
       "    <tr style=\"text-align: right;\">\n",
       "      <th>Passholder Type</th>\n",
       "      <th>Flex Pass</th>\n",
       "      <th>Monthly Pass</th>\n",
       "      <th>Staff Annual</th>\n",
       "      <th>Walk-up</th>\n",
       "    </tr>\n",
       "    <tr>\n",
       "      <th>Trip Route Category</th>\n",
       "      <th></th>\n",
       "      <th></th>\n",
       "      <th></th>\n",
       "      <th></th>\n",
       "    </tr>\n",
       "  </thead>\n",
       "  <tbody>\n",
       "    <tr>\n",
       "      <th>One Way</th>\n",
       "      <td>9034</td>\n",
       "      <td>77532</td>\n",
       "      <td>299</td>\n",
       "      <td>32777</td>\n",
       "    </tr>\n",
       "    <tr>\n",
       "      <th>Round Trip</th>\n",
       "      <td>483</td>\n",
       "      <td>3772</td>\n",
       "      <td>83</td>\n",
       "      <td>8447</td>\n",
       "    </tr>\n",
       "  </tbody>\n",
       "</table>\n",
       "</div>"
      ],
      "text/plain": [
       "Passholder Type      Flex Pass  Monthly Pass  Staff Annual  Walk-up\n",
       "Trip Route Category                                                \n",
       "One Way                   9034         77532           299    32777\n",
       "Round Trip                 483          3772            83     8447"
      ]
     },
     "execution_count": 57,
     "metadata": {},
     "output_type": "execute_result"
    }
   ],
   "source": [
    "grouped = joined_df.groupby(['Trip Route Category', 'Passholder Type'])['Trip Route Category'].count().unstack('Passholder Type')\n",
    "grouped"
   ]
  },
  {
   "cell_type": "markdown",
   "metadata": {},
   "source": [
    "To normalize, we divide each line (category) by its sum so that it sums up to 1. For that, we first need to convert the type to to `np.float` and then use the `.div` method on the index axis.\n",
    "\n",
    "We can plot the stacked bar chart for each `Trip Route Category`."
   ]
  },
  {
   "cell_type": "code",
   "execution_count": 58,
   "metadata": {},
   "outputs": [
    {
     "data": {
      "text/html": [
       "<div>\n",
       "<style scoped>\n",
       "    .dataframe tbody tr th:only-of-type {\n",
       "        vertical-align: middle;\n",
       "    }\n",
       "\n",
       "    .dataframe tbody tr th {\n",
       "        vertical-align: top;\n",
       "    }\n",
       "\n",
       "    .dataframe thead th {\n",
       "        text-align: right;\n",
       "    }\n",
       "</style>\n",
       "<table border=\"1\" class=\"dataframe\">\n",
       "  <thead>\n",
       "    <tr style=\"text-align: right;\">\n",
       "      <th>Passholder Type</th>\n",
       "      <th>Flex Pass</th>\n",
       "      <th>Monthly Pass</th>\n",
       "      <th>Staff Annual</th>\n",
       "      <th>Walk-up</th>\n",
       "    </tr>\n",
       "    <tr>\n",
       "      <th>Trip Route Category</th>\n",
       "      <th></th>\n",
       "      <th></th>\n",
       "      <th></th>\n",
       "      <th></th>\n",
       "    </tr>\n",
       "  </thead>\n",
       "  <tbody>\n",
       "    <tr>\n",
       "      <th>One Way</th>\n",
       "      <td>0.075509</td>\n",
       "      <td>0.648033</td>\n",
       "      <td>0.002499</td>\n",
       "      <td>0.273959</td>\n",
       "    </tr>\n",
       "    <tr>\n",
       "      <th>Round Trip</th>\n",
       "      <td>0.037779</td>\n",
       "      <td>0.295033</td>\n",
       "      <td>0.006492</td>\n",
       "      <td>0.660696</td>\n",
       "    </tr>\n",
       "  </tbody>\n",
       "</table>\n",
       "</div>"
      ],
      "text/plain": [
       "Passholder Type      Flex Pass  Monthly Pass  Staff Annual   Walk-up\n",
       "Trip Route Category                                                 \n",
       "One Way               0.075509      0.648033      0.002499  0.273959\n",
       "Round Trip            0.037779      0.295033      0.006492  0.660696"
      ]
     },
     "execution_count": 58,
     "metadata": {},
     "output_type": "execute_result"
    },
    {
     "data": {
      "image/png": "[encoded data removed]",
      "text/plain": [
       "<Figure size 576x396 with 1 Axes>"
      ]
     },
     "metadata": {},
     "output_type": "display_data"
    }
   ],
   "source": [
    "grouped = grouped.astype(np.float64)\n",
    "normalized_grouped= grouped.div(grouped.sum(axis = 1),axis = 'index')\n",
    "normalized_grouped.plot(kind='bar', stacked=True, ec='black')\n",
    "normalized_grouped"
   ]
  },
  {
   "cell_type": "markdown",
   "metadata": {},
   "source": [
    "On this graph, we see that most of the One Way Trips are done by users with a Monthly Pass, possibly to go from home to work.\n",
    "\n",
    "In contrary, the Round Trips are most done by Walk-up users. Possibly it represents the people that only occasionnaly take the bike for a relaxing Round Trip during breaks."
   ]
  },
  {
   "cell_type": "markdown",
   "metadata": {},
   "source": [
    "### - 4 - Who uses a bike in the morning ?\n",
    "Considering only trips that begin in the morning hours (before noon), we want to plot in a single bar chart the proportion of trips by passholder type and trip route category."
   ]
  },
  {
   "cell_type": "markdown",
   "metadata": {},
   "source": [
    "With `Start Time` parsed and converted, it is easy to select only the hours before 12.\n",
    "We can then group by `Trip Route Category` and `Passholder Type` to plot the bar chart."
   ]
  },
  {
   "cell_type": "code",
   "execution_count": 59,
   "metadata": {},
   "outputs": [
    {
     "data": {
      "text/plain": [
       "<matplotlib.axes._subplots.AxesSubplot at 0x1220cc978>"
      ]
     },
     "execution_count": 59,
     "metadata": {},
     "output_type": "execute_result"
    },
    {
     "data": {
      "image/png": "[encoded data removed]",
      "text/plain": [
       "<Figure size 576x396 with 1 Axes>"
      ]
     },
     "metadata": {},
     "output_type": "display_data"
    }
   ],
   "source": [
    "beforeNoon = joined_df[df['Start Time'].dt.hour < 12]\n",
    "beforeNoon.groupby(['Trip Route Category', 'Passholder Type'])['Trip Route Category'].size().unstack('Trip Route Category').plot(kind = 'bar', ec='black')"
   ]
  },
  {
   "cell_type": "markdown",
   "metadata": {},
   "source": [
    "In this graph, we see that during the morning, most of the Trips are done with Monthly pass on One Way route. This represents all the poeple that go to work with their bike."
   ]
  },
  {
   "cell_type": "markdown",
   "metadata": {},
   "source": [
    "### - 5 - Can we improve subscription for more benefit ?\n",
    "We want to separate the hours of the day into two intervals that have (approximately) the same number of bikes leaving the stations. For each of the two intervals we calculate the proportion of trips by passholder type and trip route category. Then present our results in a DataFrame which has a unique, non-composite index."
   ]
  },
  {
   "cell_type": "markdown",
   "metadata": {},
   "source": [
    "First we count the number of bike departures per hour of the day. We also calculate the half of the total departures.\n",
    "We proceed to iterate over the trip counts of each hour from the beginning of the day, keeping a sum of the departures\n",
    "until that point until we reach the amount of half total trips. Then, we have partioned our day into two."
   ]
  },
  {
   "cell_type": "code",
   "execution_count": 60,
   "metadata": {},
   "outputs": [
    {
     "name": "stdout",
     "output_type": "stream",
     "text": [
      "66477 out of 132427 departures at 15\n"
     ]
    }
   ],
   "source": [
    "hour_counts = df['Start Time'].dt.hour.value_counts().sort_index().to_frame()\n",
    "half_trips  = math.floor(df.shape[0]/2)\n",
    "hour_sum = 0\n",
    "for index,row in hour_counts.iterrows():\n",
    "    if hour_sum < half_trips:\n",
    "        hour_sum = hour_sum + row.iloc[0]\n",
    "    else:\n",
    "        break\n",
    "\n",
    "first   = df['Start Time'].dt.hour < index\n",
    "second  = df['Start Time'].dt.hour >= index\n",
    "\n",
    "print('{} out of {} departures at {}'.format(hour_sum,df.shape[0],index))"
   ]
  },
  {
   "cell_type": "markdown",
   "metadata": {},
   "source": [
    "Then, we group by `Trip Route Category` and `Passholder Type` the same way from the previous exercices, for each interval."
   ]
  },
  {
   "cell_type": "code",
   "execution_count": 61,
   "metadata": {},
   "outputs": [],
   "source": [
    "begin = joined_df[first].groupby(['Trip Route Category', 'Passholder Type'])['Passholder Type'].size().unstack('Trip Route Category')\n",
    "end   = joined_df[second].groupby(['Trip Route Category', 'Passholder Type'])['Passholder Type'].size().unstack('Trip Route Category')"
   ]
  },
  {
   "cell_type": "markdown",
   "metadata": {},
   "source": [
    "And we concatenate both DataFrames to get a final Hierachical Frame."
   ]
  },
  {
   "cell_type": "code",
   "execution_count": 62,
   "metadata": {},
   "outputs": [],
   "source": [
    "result = pd.concat([begin, end], keys=['First interval','Second interval'])"
   ]
  },
  {
   "cell_type": "markdown",
   "metadata": {},
   "source": [
    "We flatten the `MultiIndex` to get a unique, non-composite index which is a string."
   ]
  },
  {
   "cell_type": "code",
   "execution_count": 63,
   "metadata": {},
   "outputs": [
    {
     "data": {
      "text/html": [
       "<div>\n",
       "<style scoped>\n",
       "    .dataframe tbody tr th:only-of-type {\n",
       "        vertical-align: middle;\n",
       "    }\n",
       "\n",
       "    .dataframe tbody tr th {\n",
       "        vertical-align: top;\n",
       "    }\n",
       "\n",
       "    .dataframe thead th {\n",
       "        text-align: right;\n",
       "    }\n",
       "</style>\n",
       "<table border=\"1\" class=\"dataframe\">\n",
       "  <thead>\n",
       "    <tr style=\"text-align: right;\">\n",
       "      <th>Trip Route Category</th>\n",
       "      <th>One Way</th>\n",
       "      <th>Round Trip</th>\n",
       "    </tr>\n",
       "  </thead>\n",
       "  <tbody>\n",
       "    <tr>\n",
       "      <th>First interval, Flex Pass</th>\n",
       "      <td>4619</td>\n",
       "      <td>268</td>\n",
       "    </tr>\n",
       "    <tr>\n",
       "      <th>First interval, Monthly Pass</th>\n",
       "      <td>39362</td>\n",
       "      <td>2067</td>\n",
       "    </tr>\n",
       "    <tr>\n",
       "      <th>First interval, Staff Annual</th>\n",
       "      <td>183</td>\n",
       "      <td>59</td>\n",
       "    </tr>\n",
       "    <tr>\n",
       "      <th>First interval, Walk-up</th>\n",
       "      <td>15733</td>\n",
       "      <td>4186</td>\n",
       "    </tr>\n",
       "    <tr>\n",
       "      <th>Second interval, Flex Pass</th>\n",
       "      <td>4415</td>\n",
       "      <td>215</td>\n",
       "    </tr>\n",
       "    <tr>\n",
       "      <th>Second interval, Monthly Pass</th>\n",
       "      <td>38170</td>\n",
       "      <td>1705</td>\n",
       "    </tr>\n",
       "    <tr>\n",
       "      <th>Second interval, Staff Annual</th>\n",
       "      <td>116</td>\n",
       "      <td>24</td>\n",
       "    </tr>\n",
       "    <tr>\n",
       "      <th>Second interval, Walk-up</th>\n",
       "      <td>17044</td>\n",
       "      <td>4261</td>\n",
       "    </tr>\n",
       "  </tbody>\n",
       "</table>\n",
       "</div>"
      ],
      "text/plain": [
       "Trip Route Category            One Way  Round Trip\n",
       "First interval, Flex Pass         4619         268\n",
       "First interval, Monthly Pass     39362        2067\n",
       "First interval, Staff Annual       183          59\n",
       "First interval, Walk-up          15733        4186\n",
       "Second interval, Flex Pass        4415         215\n",
       "Second interval, Monthly Pass    38170        1705\n",
       "Second interval, Staff Annual      116          24\n",
       "Second interval, Walk-up         17044        4261"
      ]
     },
     "execution_count": 63,
     "metadata": {},
     "output_type": "execute_result"
    }
   ],
   "source": [
    "result.index = result.index.map('{0[0]}, {0[1]}'.format)\n",
    "result"
   ]
  },
  {
   "cell_type": "markdown",
   "metadata": {},
   "source": [
    "Based on these results, we can say that the proportion of trips is not significantly impacted by the time of day. Since there are slightly more Monthly Pass users in the first interval, the company would not benefit much from lowering the cost at that time frame. Also it could motivate customers to prefer it and increase the gap between the two intervals, damaging the balance of traffic load."
   ]
  }
 ],
 "metadata": {
  "kernelspec": {
   "display_name": "Python [default]",
   "language": "python",
   "name": "python3"
  },
  "language_info": {
   "codemirror_mode": {
    "name": "ipython",
    "version": 3
   },
   "file_extension": ".py",
   "mimetype": "text/x-python",
   "name": "python",
   "nbconvert_exporter": "python",
   "pygments_lexer": "ipython3",
   "version": "3.7.0"
  }
 },
 "nbformat": 4,
 "nbformat_minor": 2
}
