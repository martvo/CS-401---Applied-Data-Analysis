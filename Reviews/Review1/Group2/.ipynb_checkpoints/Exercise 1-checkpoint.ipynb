{
 "cells": [
  {
   "cell_type": "markdown",
   "metadata": {},
   "source": [
    "# Exercise 1\n",
    " <p><div class=\"lev1\"><a href=\"#Task-A.-Another-LEGO-brick-in-the-wall\"><span class=\"toc-item-num\">Task A.&nbsp;&nbsp;</span>Another LEGO brick in the wall</a></div>\n",
    " <p><div class=\"lev1\"><a href=\"#Task-B.-Drop-the-Bike\"><span class=\"toc-item-num\">Task B.&nbsp;&nbsp;</span>Drop the Bike</a></div>"
   ]
  },
  {
   "cell_type": "code",
   "execution_count": 2,
   "metadata": {},
   "outputs": [],
   "source": [
    "# Add your imports here\n",
    "import matplotlib.pyplot as plt\n",
    "import pandas as pd\n",
    "import numpy as np\n",
    "import json\n",
    "import math\n",
    "from datetime import datetime, date, time\n",
    "pd.options.mode.chained_assignment = None\n",
    "%matplotlib inline"
   ]
  },
  {
   "cell_type": "code",
   "execution_count": 3,
   "metadata": {},
   "outputs": [],
   "source": [
    "DATA_FOLDER = 'data'"
   ]
  },
  {
   "cell_type": "markdown",
   "metadata": {},
   "source": [
    "## Task A. Another LEGO brick in the wall\n",
    "\n",
    "LEGO is a popular brand of toy building bricks. They are often sold in sets in order to build a specific object. Each set contains a number of parts in different shapes, sizes and colors. This database contains information on which parts are included in different LEGO sets. It was originally compiled to help people who owned some LEGO sets already figure out what other sets they could build with the pieces they had.\n",
    "\n",
    "This dataset contains the official LEGO colors, parts, inventories (i.e., sets of LEGO parts which assembled create an object in the LEGO world) and sets (i.e., sets of LEGO inventories which assembled create a LEGO ecosystem). The schema of the dataset can be shown in the following UML diagram: \n",
    "\n",
    "![lego-schema](lego-schema.png)\n",
    "\n",
    "In this task you have to apply the following Data Wrangling pipeline:\n",
    "1. Load your data into `Pandas`\n",
    "* Explore it and clean its dirty parts\n",
    "* Use it to answer a set of queries\n",
    "\n",
    "Each of these subtasks are described in detail below."
   ]
  },
  {
   "cell_type": "markdown",
   "metadata": {},
   "source": [
    "### A1. Loading phase\n",
    "Load all the csv files into different `DataFrames`. Use meaningful names for your `DataFrames` (e.g., the respective filenames).\n",
    "\n",
    "*Hint: You can load files without first unzipping them (for `Pandas` version >= 0.18.1).*"
   ]
  },
  {
   "cell_type": "code",
   "execution_count": 4,
   "metadata": {},
   "outputs": [],
   "source": [
    "LEGO_DATA_FOLDER = DATA_FOLDER + '/lego'\n",
    "FILE_EXTENSION = '.csv.zip'\n",
    "colors = pd.read_csv(LEGO_DATA_FOLDER + '/colors' + FILE_EXTENSION)\n",
    "inventories = pd.read_csv(LEGO_DATA_FOLDER + '/inventories' + FILE_EXTENSION)\n",
    "inventory_parts = pd.read_csv(LEGO_DATA_FOLDER + '/inventory_parts' + FILE_EXTENSION)\n",
    "inventory_sets = pd.read_csv(LEGO_DATA_FOLDER + '/inventory_sets' + FILE_EXTENSION)\n",
    "part_categories = pd.read_csv(LEGO_DATA_FOLDER + '/part_categories' + FILE_EXTENSION)\n",
    "parts = pd.read_csv(LEGO_DATA_FOLDER + '/parts' + FILE_EXTENSION)\n",
    "sets = pd.read_csv(LEGO_DATA_FOLDER + '/sets' + FILE_EXTENSION)\n",
    "themes = pd.read_csv(LEGO_DATA_FOLDER + '/themes' + FILE_EXTENSION)"
   ]
  },
  {
   "cell_type": "markdown",
   "metadata": {},
   "source": [
    "### A2. Cleaning phase\n",
    "Explore the following columns from your dataset:\n",
    "\n",
    "1. sets: year\n",
    "* inventory_parts: quantity\n",
    "\n",
    "What is the time range of the sets? \n",
    "What is the average quantity of the inventory parts? \n",
    "Do you see any inconsistencies? \n",
    "Provide code that detects and cleans such inconsistencies and validates the coherence of your dataset. "
   ]
  },
  {
   "cell_type": "code",
   "execution_count": 5,
   "metadata": {},
   "outputs": [
    {
     "name": "stdout",
     "output_type": "stream",
     "text": [
      "Time range of the sets is : [1950;2017]\n"
     ]
    }
   ],
   "source": [
    "# sets: year\n",
    "from datetime import datetime, date, time\n",
    "\n",
    "\n",
    "years_cp = sets['year'].copy()\n",
    "\n",
    "years_cp[years_cp.str.startswith('-')] = years_cp[years_cp.str.startswith('-')].str.slice(start=1)\n",
    "years_cp[years_cp.str.len()>4] = years_cp[years_cp.str.len()>4].str.slice(stop=4, step=None)\n",
    "sets.year = years_cp\n",
    "\n",
    "#convert to datetime, replacing decades (like '70s') by NaT and keep only the year part\n",
    "sets.year = sets.year.apply(lambda x: pd.to_datetime(x, format=('%Y'), errors='coerce').year)\n",
    "print(\"Time range of the sets is : [\" + str(int(sets.year.min())) + \";\" + str(int(sets.year.max())) + \"]\")"
   ]
  },
  {
   "cell_type": "code",
   "execution_count": 6,
   "metadata": {},
   "outputs": [
    {
     "name": "stdout",
     "output_type": "stream",
     "text": [
      "The average quantity of the invetory part is: 3.836938260983857\n"
     ]
    }
   ],
   "source": [
    "# inventory_parts: quantity\n",
    "\n",
    "#replace -inf and inf by NaN and drop NaNs from the dataset\n",
    "inventory_parts.quantity.replace([np.inf, -np.inf], np.nan, inplace=True)\n",
    "print(\"The average quantity of the invetory part is:\", inventory_parts.quantity.mean())"
   ]
  },
  {
   "cell_type": "markdown",
   "metadata": {},
   "source": [
    "A good start to check the data is to apply the method describe() on the different columns. In the year column of Sets DataFrame, 3 different inconsistencies have been observed:\n",
    "\n",
    "1.) Some years were in form of decades (ex: 70s, 80s). This causes a problem because for instance if one wants to find the time range, \"80s\" would be the maximum of this range while years more than 2010 exist in the data.\n",
    "\n",
    "2.) Some years had 5 digits (19955). One should notice that the last two digits are duplicated.\n",
    "\n",
    "3.) Some years had a minus sign (-2013).\n",
    "\n",
    "To clean up the data, we decided to create a copy of the year column and rewrite properly the typing mistakes. Then, we decided to replace the decade given by NaT because choosing an arbitrary year within the decade would distort future results. We also suppressed the last number in 5-digits numbers, as it was also due to a repetition of the fourth number.\n",
    "\n",
    "In the quantity column of Inventory Parts DataFrame, 1 inconsistency has been observed: It's obvious that there can be no negative value for a quantity so every -inf value has been replaced by NaN. we can't replace it by 0 because it would again distort futur values."
   ]
  },
  {
   "cell_type": "markdown",
   "metadata": {},
   "source": [
    "### A3. Querying phase\n",
    "Answer the following queries using the functionality of `Pandas`:\n",
    "\n",
    "1. List the ids of the inventories that belong to sets that contain cars. (*Hint: Find a smart way to distinguish which sets contain cars based on the sets' name*).\n",
    "* Plot the distribution of part categories as a (horizontal) bar chart. Restrict yourself to the 20 largest part categories (in terms of the number of parts belonging to the category).\n",
    "* Find the dominant color of each set. Then, plot using a (horizontal) bar chart, the number of sets per dominant color. Color each bar with the respective color that it represents.\n",
    "* Create a scatter plot of the *luminance*\\* of the sets vs their publishing year. What do you observe for the years 1980-1981? How do you interpret what you see?\n",
    "\n",
    "\\*The luminance of a color is a [measure of brightness](https://en.wikipedia.org/wiki/Luminance) which, given its RGB representation, can be computed as follows:\n",
    "\n",
    "$luminance = \\sqrt{0.299*R^2 + 0.587*G^2 + 0.114*B^2}$"
   ]
  },
  {
   "cell_type": "code",
   "execution_count": 7,
   "metadata": {},
   "outputs": [
    {
     "name": "stdout",
     "output_type": "stream",
     "text": [
      "Ids of inventories belonging to sets that contain cars :  [528, 908, 1371, 1401, 1418, 1649, 1716, 1732, 2917, 3109, 3764, 4051, 4187, 4430, 4969, 5358, 5857, 5904, 6086, 6530, 7151, 7363, 7430, 7881, 8140, 9426, 10406, 10515, 11861, 11966, 13355, 13380, 13398, 13427, 13696, 13941, 14011, 14174, 14493, 14711, 14919, 15010, 15694, 16131]\n",
      "\n",
      "Percentage of inventories belonging to sets that contain cars : 0.188 %\n",
      "Sets whose compound name comprises 'Car' :  ['ERBIE the Robo-Car', 'Jet-Car']\n"
     ]
    }
   ],
   "source": [
    "#1\n",
    "car_sets = sets.set_index('name').filter(regex='Car$', axis=0)\n",
    "cars_sets = sets.set_index('name').filter(regex='Cars$', axis=0)\n",
    "car_sets_ids = pd.merge(car_sets, cars_sets, how='outer').id\n",
    "inventories_ids = list(inventory_sets[inventory_sets.set_id.isin(car_sets_ids)].inventory_id.drop_duplicates().values)\n",
    "print('Ids of inventories belonging to sets that contain cars : ', inventories_ids)\n",
    "\n",
    "print('\\nPercentage of inventories belonging to sets that contain cars : %s %%'%round(len(inventories_ids)/inventories.size*100,3))\n",
    "\n",
    "print('Sets whose compound name comprises \\'Car\\' : ', list(sets.set_index('name').filter(regex='-Car$', axis=0).index))"
   ]
  },
  {
   "cell_type": "markdown",
   "metadata": {},
   "source": [
    "In order to fetch the list of inventories belonging to sets that contain cars, the sets names were sorted in order to keep only the ones containing the strict sequence of letters 'Car' or 'Cars' at the end. This query should not lead to false positive, due to this strict '$' condition; however we may miss some of the sets whose name need external conceptual knowledge to be associated to cars. Note that the plural condition 'Cars' is not necessary here because only one inventory (id=11966) is linked to these sets and it is also comprised in another car set.\n",
    "\n",
    "Note that one could wonder whether we should pick compound names ending by '-Car' or not (regex='Car\\$' or regex=' Car\\$'), but these names correspond indeed to car lego sets."
   ]
  },
  {
   "cell_type": "code",
   "execution_count": 11,
   "metadata": {},
   "outputs": [
    {
     "data": {
      "image/png": "[encoded data removed]",
      "text/plain": [
       "<Figure size 432x288 with 1 Axes>"
      ]
     },
     "metadata": {},
     "output_type": "display_data"
    }
   ],
   "source": [
    "#2\n",
    "category_counts = pd.Series(parts['part_cat_id']).value_counts().sort_values(ascending=False)\n",
    "categories_indexed = part_categories.set_index(['id'])\n",
    "category_names = categories_indexed.loc[category_counts.index]['name']\n",
    "\n",
    "y_pos = np.arange(len(category_counts.index[:20]))\n",
    "plt.barh(y_pos, category_counts.values[:20], align='center', alpha=0.5, edgecolor='black', linewidth=1.2)\n",
    "plt.yticks(y_pos, category_names[:20])\n",
    "plt.xlabel('Number of parts')\n",
    "plt.ylabel('Category')\n",
    "plt.title('Distribution of the 20 largest part categories', fontweight=\"bold\")\n",
    "plt.show()"
   ]
  },
  {
   "cell_type": "markdown",
   "metadata": {},
   "source": [
    "The whole 'parts' dataset has been sorted by its 'part_cat_id' field then value counts were computed and only the twenty more represented categories were plotted on a horizontal histogram, associated to their number of appearance. The main conclusion on this graph is that by far, most of the Lego parts are mini figurines."
   ]
  },
  {
   "cell_type": "code",
   "execution_count": 9,
   "metadata": {},
   "outputs": [
    {
     "data": {
      "text/html": [
       "<div>\n",
       "<style scoped>\n",
       "    .dataframe tbody tr th:only-of-type {\n",
       "        vertical-align: middle;\n",
       "    }\n",
       "\n",
       "    .dataframe tbody tr th {\n",
       "        vertical-align: top;\n",
       "    }\n",
       "\n",
       "    .dataframe thead th {\n",
       "        text-align: right;\n",
       "    }\n",
       "</style>\n",
       "<table border=\"1\" class=\"dataframe\">\n",
       "  <thead>\n",
       "    <tr style=\"text-align: right;\">\n",
       "      <th></th>\n",
       "      <th>set_name</th>\n",
       "      <th>color_name</th>\n",
       "    </tr>\n",
       "  </thead>\n",
       "  <tbody>\n",
       "    <tr>\n",
       "      <th>0</th>\n",
       "      <td>NHL Action Set with Stickers</td>\n",
       "      <td>Black</td>\n",
       "    </tr>\n",
       "    <tr>\n",
       "      <th>0</th>\n",
       "      <td>Holiday Train</td>\n",
       "      <td>Black</td>\n",
       "    </tr>\n",
       "    <tr>\n",
       "      <th>0</th>\n",
       "      <td>Emerald Night</td>\n",
       "      <td>[No Color]</td>\n",
       "    </tr>\n",
       "    <tr>\n",
       "      <th>0</th>\n",
       "      <td>Horizon Express</td>\n",
       "      <td>[No Color]</td>\n",
       "    </tr>\n",
       "    <tr>\n",
       "      <th>0</th>\n",
       "      <td>{Town Vehicles}</td>\n",
       "      <td>Black</td>\n",
       "    </tr>\n",
       "    <tr>\n",
       "      <th>0</th>\n",
       "      <td>Dacta Buildings</td>\n",
       "      <td>Black</td>\n",
       "    </tr>\n",
       "    <tr>\n",
       "      <th>0</th>\n",
       "      <td>DK Star Wars Brickmaster: Battle For The Stole...</td>\n",
       "      <td>[No Color]</td>\n",
       "    </tr>\n",
       "    <tr>\n",
       "      <th>0</th>\n",
       "      <td>Vakama (bagged)</td>\n",
       "      <td>Red</td>\n",
       "    </tr>\n",
       "    <tr>\n",
       "      <th>0</th>\n",
       "      <td>Adventurers Car &amp; Skeleton</td>\n",
       "      <td>Royal Blue</td>\n",
       "    </tr>\n",
       "    <tr>\n",
       "      <th>0</th>\n",
       "      <td>Adventurers Tomb</td>\n",
       "      <td>Royal Blue</td>\n",
       "    </tr>\n",
       "    <tr>\n",
       "      <th>0</th>\n",
       "      <td>Basic Set</td>\n",
       "      <td>Red</td>\n",
       "    </tr>\n",
       "    <tr>\n",
       "      <th>0</th>\n",
       "      <td>Soccer Field</td>\n",
       "      <td>[No Color]</td>\n",
       "    </tr>\n",
       "    <tr>\n",
       "      <th>0</th>\n",
       "      <td>Field Accessories</td>\n",
       "      <td>[No Color]</td>\n",
       "    </tr>\n",
       "    <tr>\n",
       "      <th>0</th>\n",
       "      <td>Dutch National Player</td>\n",
       "      <td>[No Color]</td>\n",
       "    </tr>\n",
       "    <tr>\n",
       "      <th>0</th>\n",
       "      <td>World Team Player</td>\n",
       "      <td>[No Color]</td>\n",
       "    </tr>\n",
       "    <tr>\n",
       "      <th>0</th>\n",
       "      <td>Soccer Goalies</td>\n",
       "      <td>[No Color]</td>\n",
       "    </tr>\n",
       "    <tr>\n",
       "      <th>0</th>\n",
       "      <td>German National Player</td>\n",
       "      <td>[No Color]</td>\n",
       "    </tr>\n",
       "    <tr>\n",
       "      <th>0</th>\n",
       "      <td>English Player</td>\n",
       "      <td>[No Color]</td>\n",
       "    </tr>\n",
       "    <tr>\n",
       "      <th>0</th>\n",
       "      <td>Black Bus</td>\n",
       "      <td>White</td>\n",
       "    </tr>\n",
       "    <tr>\n",
       "      <th>0</th>\n",
       "      <td>Streetball 2 vs 2</td>\n",
       "      <td>[No Color]</td>\n",
       "    </tr>\n",
       "    <tr>\n",
       "      <th>0</th>\n",
       "      <td>Bungalow</td>\n",
       "      <td>Green</td>\n",
       "    </tr>\n",
       "    <tr>\n",
       "      <th>0</th>\n",
       "      <td>House with Car</td>\n",
       "      <td>Green</td>\n",
       "    </tr>\n",
       "    <tr>\n",
       "      <th>0</th>\n",
       "      <td>Fire Station with Mini Cars</td>\n",
       "      <td>Green</td>\n",
       "    </tr>\n",
       "    <tr>\n",
       "      <th>0</th>\n",
       "      <td>Hockey Game Set</td>\n",
       "      <td>Black</td>\n",
       "    </tr>\n",
       "    <tr>\n",
       "      <th>0</th>\n",
       "      <td>Robotics Invention System, Version 2.0</td>\n",
       "      <td>Light Bluish Gray</td>\n",
       "    </tr>\n",
       "    <tr>\n",
       "      <th>0</th>\n",
       "      <td>Black Robots Pod</td>\n",
       "      <td>Unknown</td>\n",
       "    </tr>\n",
       "    <tr>\n",
       "      <th>0</th>\n",
       "      <td>Robo Pod</td>\n",
       "      <td>Unknown</td>\n",
       "    </tr>\n",
       "    <tr>\n",
       "      <th>0</th>\n",
       "      <td>Auto Pod</td>\n",
       "      <td>Unknown</td>\n",
       "    </tr>\n",
       "    <tr>\n",
       "      <th>0</th>\n",
       "      <td>Aero Pod</td>\n",
       "      <td>Unknown</td>\n",
       "    </tr>\n",
       "    <tr>\n",
       "      <th>0</th>\n",
       "      <td>Wild Pod</td>\n",
       "      <td>Unknown</td>\n",
       "    </tr>\n",
       "  </tbody>\n",
       "</table>\n",
       "</div>"
      ],
      "text/plain": [
       "                                            set_name         color_name\n",
       "0                       NHL Action Set with Stickers              Black\n",
       "0                                      Holiday Train              Black\n",
       "0                                      Emerald Night         [No Color]\n",
       "0                                    Horizon Express         [No Color]\n",
       "0                                    {Town Vehicles}              Black\n",
       "0                                    Dacta Buildings              Black\n",
       "0  DK Star Wars Brickmaster: Battle For The Stole...         [No Color]\n",
       "0                                    Vakama (bagged)                Red\n",
       "0                         Adventurers Car & Skeleton         Royal Blue\n",
       "0                                   Adventurers Tomb         Royal Blue\n",
       "0                                          Basic Set                Red\n",
       "0                                       Soccer Field         [No Color]\n",
       "0                                  Field Accessories         [No Color]\n",
       "0                              Dutch National Player         [No Color]\n",
       "0                                  World Team Player         [No Color]\n",
       "0                                     Soccer Goalies         [No Color]\n",
       "0                             German National Player         [No Color]\n",
       "0                                     English Player         [No Color]\n",
       "0                                          Black Bus              White\n",
       "0                                  Streetball 2 vs 2         [No Color]\n",
       "0                                           Bungalow              Green\n",
       "0                                     House with Car              Green\n",
       "0                        Fire Station with Mini Cars              Green\n",
       "0                                    Hockey Game Set              Black\n",
       "0             Robotics Invention System, Version 2.0  Light Bluish Gray\n",
       "0                                   Black Robots Pod            Unknown\n",
       "0                                           Robo Pod            Unknown\n",
       "0                                           Auto Pod            Unknown\n",
       "0                                           Aero Pod            Unknown\n",
       "0                                           Wild Pod            Unknown"
      ]
     },
     "execution_count": 9,
     "metadata": {},
     "output_type": "execute_result"
    }
   ],
   "source": [
    "#3\n",
    "dominant_colors_df = pd.DataFrame()\n",
    "\n",
    "#group inventory_sets by their set_ids\n",
    "inventory_sets_grouped = inventory_sets.groupby('set_id')\n",
    "\n",
    "#iterate over each set_id and its associated inventories to compute the dominant color\n",
    "for set_id, group in inventory_sets_grouped:\n",
    "    \n",
    "    #fetch all inventory_parts belonging to this set and associate them to the quantity of similar inventories\n",
    "    all_parts = inventory_parts[inventory_parts.inventory_id.isin(group.inventory_id)]\n",
    "    all_parts['inventory_quantity'] = group['quantity']\n",
    "    \n",
    "    #get rid of -inf values, for future computation\n",
    "    all_parts['quantity'].replace([-np.inf], np.nan, inplace=True)\n",
    "    all_parts['quantity'].dropna(inplace=True)\n",
    "    all_parts['inventory_quantity'].replace([-np.inf], np.nan, inplace=True)\n",
    "    all_parts['inventory_quantity'].dropna(inplace=True)\n",
    "    \n",
    "    #multiply both quantities (inventory level and set level)\n",
    "    all_parts['quantity'] = all_parts['quantity']*all_parts['inventory_quantity']\n",
    "    \n",
    "    #sort parts by their color and sum in order to have the total color counts over the whole set\n",
    "    color_counts = all_parts.groupby('color_id')['quantity'].sum()\n",
    "    \n",
    "    if not color_counts.empty:\n",
    "        #get the id of the color of the highest number of parts in the set\n",
    "        dominant_color_id = color_counts.idxmax()\n",
    "        \n",
    "        #add a new row in dominant_colors_df\n",
    "        temp_df = pd.DataFrame({'set_id':[set_id], 'color_id':[dominant_color_id]})\n",
    "        dominant_colors_df = dominant_colors_df.append(temp_df)\n",
    "    \n",
    "#associate each set to its name, dominant color name and rgb value\n",
    "sets_indexed = sets.set_index(['id'])\n",
    "dominant_colors_df['set_name'] = [sets_indexed.loc[set_id]['name'] for set_id in dominant_colors_df['set_id']]\n",
    "colors_indexed = colors.set_index(['id'])\n",
    "dominant_colors_df['color_name'] = [colors_indexed.loc[color_id]['name'] for color_id in dominant_colors_df['color_id']]\n",
    "dominant_colors_df['rgb_value'] = [colors_indexed.loc[color_id]['rgb'] for color_id in dominant_colors_df['color_id']]\n",
    "\n",
    "\n",
    "#group by color type over all sets and return value_counts\n",
    "dominant_colors_name_grouped = dominant_colors_df.groupby(dominant_colors_df['color_name'])\n",
    "dominant_colors_counts = dominant_colors_name_grouped.size()\n",
    "\n",
    "#plot on a horizontal bar chart and associate each bar to its corresponding color\n",
    "dominant_colors_rgb = ['#'+group['rgb_value'].values[0] for name, group in dominant_colors_name_grouped]\n",
    "\n",
    "#Print the dominant_color associated to each set\n",
    "dominant_colors_df[['set_name', 'color_name']].head(30)"
   ]
  },
  {
   "cell_type": "code",
   "execution_count": 10,
   "metadata": {},
   "outputs": [
    {
     "data": {
      "image/png": "[encoded data removed]",
      "text/plain": [
       "<Figure size 432x288 with 1 Axes>"
      ]
     },
     "metadata": {},
     "output_type": "display_data"
    }
   ],
   "source": [
    "#plot on a horizontal bar chart\n",
    "color_copy = dominant_colors_rgb.copy()\n",
    "\n",
    "color_copy[7] = '#FFFFFF'\n",
    "color_copy[9] = '#FFFFFF'\n",
    "\n",
    "patterns = [ \"\", \"\" , \"\" , \"\" , \"\" , \"\", \"\", \"*\", \"\", \"/\" ]\n",
    "y_pos = np.arange(len(dominant_colors_counts.index))\n",
    "bar = plt.barh(y_pos, dominant_colors_counts.values, align='center', alpha=0.9, color=color_copy, edgecolor='black', linewidth=1.2)\n",
    "plt.yticks(y_pos, dominant_colors_counts.index)\n",
    "\n",
    "plt.xlabel('Number of sets')\n",
    "plt.ylabel('Dominant color')\n",
    "plt.title('Number of sets per dominant color', fontweight=\"bold\") \n",
    "\n",
    "for i,thisbar in enumerate(bar.patches):\n",
    "    # Set a different hatch for each bar\n",
    "    thisbar.set_hatch(patterns[i])\n",
    "plt.show()"
   ]
  },
  {
   "cell_type": "markdown",
   "metadata": {},
   "source": [
    "The strategy we used in this question, was to collect for each set, the complete list of its corresponding parts. Then, by coupling both the quantity of each inventory in each set, and the quantity of each part in each inventory, we were able to compute the dominant color of each set - that is the color possessed by the maximal number of parts in the set. Then a new dataframe (dominant_colors_df) was built. It contains for each set: its dominant color id, name and rgb value. This dataframe will be used in the next query.\n",
    "\n",
    "Finally, value counts for each color over all sets were computed, and a horizontal bar chart was plotted. The rgb values were used to associate each horizontal bar to its corresponding color, enabling a more intuituve analysis of the result. The result shows us that the two main dominant colors represented are \"black\" and \"royal blue\", in their non transparent variants. We also find some other basic colors like \"green\" or \"red\", and more original ones like \"metallic gold\", \"light bluish gray\" or \"flat dark gold\". Moreover, we notice that the number of total dominant colors is very small, meaning that most parts have similar colors and also that no set has a transparent dominant color. The two categories \"Unknown\" and \"No color\" are abundantly represented. This can be explained by the fact that the data have probably been filled by hand, and hence are not really accurate.\n",
    "\n",
    "Note that for our analysis, we did not have to take into account the \"is_trans\" field of color items because this specificity results also in a different color name and a different rgb value.\n",
    "\n"
   ]
  },
  {
   "cell_type": "code",
   "execution_count": 10,
   "metadata": {},
   "outputs": [
    {
     "data": {
      "image/png": "[encoded data removed]",
      "text/plain": [
       "<Figure size 432x288 with 1 Axes>"
      ]
     },
     "metadata": {},
     "output_type": "display_data"
    }
   ],
   "source": [
    "#4\n",
    "#Reuse result from previous question : dominant_colors_df contains columns 'set_name', 'dominant_color_name' and 'rgb_value'\n",
    "\n",
    "#add a column containing publishing years\n",
    "sets_indexed_by_name = sets.drop_duplicates(['name']) #to get rid of the problem of multiple corresponding sets\n",
    "sets_indexed_by_name = sets_indexed_by_name.set_index(['name'])\n",
    "publishing_years = [sets_indexed_by_name.loc[set_name].year for set_name in dominant_colors_df['set_name']]\n",
    "dominant_colors_df['year']=publishing_years\n",
    "\n",
    "#convert hex color code to rgb\n",
    "dominant_colors_df['rgb_tuple'] = [tuple(int(value[i:i+2], 16) for i in (0, 2 ,4)) for value in dominant_colors_df['rgb_value']]\n",
    "\n",
    "#compute luminance\n",
    "dominant_colors_df['luminance']=[round(math.sqrt(0.299*(val[0])**2 + 0.587*(val[1])**2 + 0.114*(val[2])**2), 2) for val in dominant_colors_df['rgb_tuple']]\n",
    "\n",
    "\n",
    "#scatter plot luminance vs. publishing year for each set\n",
    "ax = dominant_colors_df.plot.scatter(x='luminance', y='year')\n",
    "legend = ax.set(title='Luminance of the sets \\n with respect to their publishing years', xlabel='Luminance', ylabel='Publishing year')"
   ]
  },
  {
   "cell_type": "markdown",
   "metadata": {},
   "source": [
    "On this scatter plot, we can see that the luminance increases and get more diverse with the years. It can be easily explain by the improvement of the production technics which allow more color possibilities."
   ]
  },
  {
   "cell_type": "markdown",
   "metadata": {},
   "source": [
    "## Task B. Drop the bike\n",
    "\n",
    "*Los Angeles Metro* has been sharing publicly [anonymized *Metro Bike Share* trip data](https://bikeshare.metro.net/about/data/) under the [Open Database License (ODbL)](http://opendatacommons.org/licenses/odbl/1.0/).\n",
    "\n",
    "In this task you will again perform data wrangling and interpretation."
   ]
  },
  {
   "cell_type": "markdown",
   "metadata": {},
   "source": [
    "### B1. Loading phase\n",
    "Load the json file into a `DataFrame`.\n"
   ]
  },
  {
   "cell_type": "code",
   "execution_count": 11,
   "metadata": {},
   "outputs": [],
   "source": [
    "BIKES_DATA_FOLDER = DATA_FOLDER + '/bikes'"
   ]
  },
  {
   "cell_type": "code",
   "execution_count": 12,
   "metadata": {},
   "outputs": [],
   "source": [
    "bikes_df = pd.read_json(BIKES_DATA_FOLDER + '/metro-bike-share-trip-data.json.zip')"
   ]
  },
  {
   "cell_type": "markdown",
   "metadata": {},
   "source": [
    "### B2. Cleaning phase\n",
    "Describe the type and the value range of each attribute. Indicate and transform the attributes that are `Categorical`. Are there redundant columns in the dataset (i.e., are there columns whose value depends only on the value of another column)? What are the possible pitfalls of having such columns? Reduce *data redundancy* by extracting such columns to separate `DataFrames`. Which of the two formats (the initial one or the one with reduced data redundancy) is more susceptible to inconsistencies? At the end print for each `Dataframe` the *type of each column* and it's *shape*."
   ]
  },
  {
   "cell_type": "code",
   "execution_count": 13,
   "metadata": {},
   "outputs": [
    {
     "name": "stderr",
     "output_type": "stream",
     "text": [
      "/Users/sinangokce/anaconda3/lib/python3.6/site-packages/ipykernel_launcher.py:4: FutureWarning: Sorting because non-concatenation axis is not aligned. A future version\n",
      "of pandas will change to not sort by default.\n",
      "\n",
      "To accept the future behavior, pass 'sort=False'.\n",
      "\n",
      "To retain the current behavior and silence the warning, pass 'sort=True'.\n",
      "\n",
      "  after removing the cwd from sys.path.\n"
     ]
    },
    {
     "name": "stdout",
     "output_type": "stream",
     "text": [
      "\n",
      " ******************************Type and Value Range******************************\n",
      "                               Type                  min                  max\n",
      "Bike ID                     float64                 1349                 6728\n",
      "Duration                      int64                   60                86400\n",
      "End Time                     object  2016-07-07 04:20:00  2017-04-02 10:32:00\n",
      "Ending Station ID           float64                 3000                 4108\n",
      "Ending Station Latitude     float64                    0              34.0643\n",
      "Ending Station Longitude    float64             -118.473                    0\n",
      "Passholder Type              object                  NaN                  NaN\n",
      "Plan Duration               float64                    0                  365\n",
      "Start Time                   object  2016-07-07 04:17:00  2017-03-31 23:45:00\n",
      "Starting Station ID         float64                 3000                 4108\n",
      "Starting Station Latitude   float64                    0              34.0643\n",
      "Starting Station Longitude  float64             -118.473                    0\n",
      "Trip ID                       int64          1.91282e+06          2.37942e+07\n",
      "Trip Route Category          object                  NaN                  NaN\n",
      "\n",
      "\n",
      "\n",
      " ***********Type and Shape of redundant columns (the dropped columns)************\n",
      "Duration            int64\n",
      "Plan Duration    category\n",
      "dtype: object\n",
      "(132427, 2)\n",
      "\n",
      " *************Type and Shape after extracting the redundant columns**************\n",
      "Bike ID                       category\n",
      "End Time                        object\n",
      "Ending Station ID             category\n",
      "Ending Station Latitude        float64\n",
      "Ending Station Longitude       float64\n",
      "Passholder Type               category\n",
      "Start Time                      object\n",
      "Starting Station ID           category\n",
      "Starting Station Latitude      float64\n",
      "Starting Station Longitude     float64\n",
      "Trip ID                          int64\n",
      "Trip Route Category           category\n",
      "dtype: object\n",
      "(132427, 12)\n"
     ]
    }
   ],
   "source": [
    "end_time = pd.to_datetime(bikes_df['End Time'])\n",
    "start_time = pd.to_datetime(bikes_df['Start Time'])\n",
    "\n",
    "range_df = pd.concat([bikes_df.dtypes, bikes_df.describe().loc['min'], bikes_df.describe().loc['max']], axis=1)\n",
    "range_df = range_df.rename(columns = {0:'Type'})\n",
    "range_df.at['End Time',['min', 'max']] = [min(end_time), max(end_time)]\n",
    "range_df.at['Start Time',['min', 'max']] = [min(start_time), max(start_time)]\n",
    "print('\\n', 'Type and Value Range'.center(80, '*'))\n",
    "print(range_df)\n",
    "print('\\n')\n",
    "\n",
    "bikes_df['Bike ID'] = bikes_df['Bike ID'].astype('category') #763 categories\n",
    "bikes_df['Ending Station ID'] = bikes_df['Ending Station ID'].astype('category') #67 categories\n",
    "bikes_df['Starting Station ID'] = bikes_df['Starting Station ID'].astype('category') #67 categories\n",
    "bikes_df['Passholder Type'] = bikes_df['Passholder Type'].astype('category') #4 categories\n",
    "bikes_df['Plan Duration'] = bikes_df['Plan Duration'].astype('category') # 3 categories\n",
    "bikes_df['Trip Route Category'] = bikes_df['Trip Route Category'].astype('category') #2 categories\n",
    "\n",
    "redundant_columns = bikes_df[['Duration', 'Plan Duration']]\n",
    "\n",
    "bikes_df.drop(['Duration', 'Plan Duration'], axis = 1,  inplace=True)\n",
    "\n",
    "print('\\n', 'Type and Shape of redundant columns (the dropped columns)'.center(80, '*'))\n",
    "print(redundant_columns.dtypes)\n",
    "print(redundant_columns.shape)\n",
    "print('\\n', 'Type and Shape after extracting the redundant columns'.center(80, '*'))\n",
    "print(bikes_df.dtypes)\n",
    "print(bikes_df.shape)"
   ]
  },
  {
   "cell_type": "markdown",
   "metadata": {},
   "source": [
    "__\\* Briefly explain your approach here \\*__\n",
    "\n",
    "Bike ID, Ending Station ID, Starting Station ID, Passholder Type, Plan Duration, Trip Route Category are chosen as a Categorical attribute.\n",
    "\n",
    "There are redundant columns in the dataset: \n",
    "\n",
    "1.)Duration column is a redundant column because it depends on the corresponding  difference of End Time and Start Time values.\n",
    "\n",
    "2.) Plan durataion is a redundant column because it can be deduced if the passholder type is known.\n",
    "\n",
    "Latitudes and longitudes could be also redundant columns if geographical positions were stored in a different DataFrame with respect to Station ID's.\n",
    "\n",
    "Having redundant columns requires maintenance because whenever there is a change in the columns on which the redundant column depends, this column should be updated respectively to the changes. A second disadvantage is that more space will be needed for adding the redundant columns.\n",
    "\n",
    "The initial format is more susceptible to inconsistencies because whenever there is an inconsistency in a given column, this can lead to major problems in the results depending on this column. If we consider duration column, maximum value is 86400 seconds for a trip who took more than 5 days(index 23475). If we base on the given duration column values, instead of calculating the difference between end and start time, we can end up with false answers."
   ]
  },
  {
   "cell_type": "markdown",
   "metadata": {},
   "source": [
    "### B3. Querying phase\n",
    "Answer the following queries using the functionality of `Pandas`.\n",
    "\n",
    "1. Plot the *distribution* of the number of outgoing trips from each station in a histogram with 20 bins (Hint: each bin describes a range of counts, not stations).\n",
    "* Plot histograms for the *duration* and *trip starting hour in the day* attributes. For both the *duration*  and the *trip starting hour* use *discrete 1-hour intervals*. What do you observe in each plot? What are some popular values in the *duration* plot? Explain the local maxima and the trends you observe on the *trip starting hour* plot based on human behavior.\n",
    "* For each *trip route category*, calculate the proportion of trips by *passholder type* and present your results in *a stacked bar chart with normalized height*.\n",
    "* Considering only trips that begin in the morning hours (before noon), plot in *a single bar chart* the proportion of trips by *passholder type* and *trip route category*. Explain any outliers you observe.\n",
    "* Separate the hours of the day into two intervals that have (approximately) the same number of bikes leaving the stations. For each of the two intervals calculate the proportion of trips by *passholder type* and *trip route category*. Present your results in a `DataFrame` which has a unique, non-composite index. Does the proportion of trips depend on whether it is the first or second hour interval? Would the company have any significant benefit by creating a more complex paying scheme where monthly pass users would pay less in the first interval and (equally) more on the second one? Assume that the number of trips per interval will not change if the scheme changes."
   ]
  },
  {
   "cell_type": "code",
   "execution_count": 14,
   "metadata": {},
   "outputs": [
    {
     "data": {
      "text/plain": [
       "Text(0,0.5,'Number of Stations')"
      ]
     },
     "execution_count": 14,
     "metadata": {},
     "output_type": "execute_result"
    },
    {
     "data": {
      "image/png": "[encoded data removed]",
      "text/plain": [
       "<Figure size 432x288 with 1 Axes>"
      ]
     },
     "metadata": {},
     "output_type": "display_data"
    }
   ],
   "source": [
    "#1\n",
    "plt.hist(bikes_df['Starting Station ID'].value_counts(), bins=20) \n",
    "plt.xlabel(\"Outgoing Trips\")\n",
    "plt.ylabel(\"Number of Stations\")"
   ]
  },
  {
   "cell_type": "code",
   "execution_count": 15,
   "metadata": {
    "scrolled": false
   },
   "outputs": [
    {
     "data": {
      "image/png": "[encoded data removed]",
      "text/plain": [
       "<Figure size 432x288 with 1 Axes>"
      ]
     },
     "metadata": {},
     "output_type": "display_data"
    },
    {
     "data": {
      "image/png": "[encoded data removed]",
      "text/plain": [
       "<Figure size 432x288 with 1 Axes>"
      ]
     },
     "metadata": {},
     "output_type": "display_data"
    }
   ],
   "source": [
    "#2\n",
    "duration = (end_time-start_time).astype('timedelta64[h]')\n",
    "bins1 = (duration.max()-duration.min()).astype('int') \n",
    "plt.hist(duration, bins1)\n",
    "plt.xlabel('Duration [hours]')\n",
    "plt.show()\n",
    "\n",
    "trip_starting_hour = start_time.dt.hour\n",
    "bins2 = (trip_starting_hour.max() - trip_starting_hour.min()).astype('int') #There are 23 bins since a day is 24-hour\n",
    "plt.hist(trip_starting_hour, bins2)\n",
    "plt.xlabel('24-hour clock')\n",
    "plt.show()\n"
   ]
  },
  {
   "cell_type": "markdown",
   "metadata": {},
   "source": [
    "Regarding the first plot, which shows the time of trips (in hours) on x axis and number of trips on y axis, it's obviuos that most trips have lasted less than 5 hours. Espacially the number of trips under 1 hour is 125203 which corresponds approximately to 95% of the all trips in the dataset.\n",
    "\n",
    "We think that there is one thing which deserves to be clearly explained regarding the first plot. In the given dataset, the values in duration column are capped at 24 hours (according to the website) but if one calculates the difference between the end and start time, there are values much bigger than 24 hours (136 hours at maximum). Thus, instead of using duration column in our plot, we used the trip lengths which are manually calculated.\n",
    "\n",
    "On the other hand, the second plot summarizes the number of trips on a daily basis. Since most of the people is sleeping during the night, the number of trips is the least from midnight(00:00) until (06:00) comparing to the rest of the day. From 06:00, the number starts remarkably increases until 09:00 and hits a pick in the interval of (08:00-09:00) when people usually leave their home to start the work or school day. Around the noon is the second pick since people are having their launch break. The third pick and also the global maximum comes around 17:00-18:00 when people end their day and go back to their home. The fourth and the last pick is situated in the interval 22:00-23:00 which is the going-out and drinking hours for fun people :). In general, this plot sticks highly to the human daily behaviour. "
   ]
  },
  {
   "cell_type": "code",
   "execution_count": 16,
   "metadata": {},
   "outputs": [
    {
     "data": {
      "text/html": [
       "<div>\n",
       "<style scoped>\n",
       "    .dataframe tbody tr th:only-of-type {\n",
       "        vertical-align: middle;\n",
       "    }\n",
       "\n",
       "    .dataframe tbody tr th {\n",
       "        vertical-align: top;\n",
       "    }\n",
       "\n",
       "    .dataframe thead th {\n",
       "        text-align: right;\n",
       "    }\n",
       "</style>\n",
       "<table border=\"1\" class=\"dataframe\">\n",
       "  <thead>\n",
       "    <tr style=\"text-align: right;\">\n",
       "      <th>Passholder Type</th>\n",
       "      <th>Flex Pass</th>\n",
       "      <th>Monthly Pass</th>\n",
       "      <th>Staff Annual</th>\n",
       "      <th>Walk-up</th>\n",
       "    </tr>\n",
       "    <tr>\n",
       "      <th>Trip Route Category</th>\n",
       "      <th></th>\n",
       "      <th></th>\n",
       "      <th></th>\n",
       "      <th></th>\n",
       "    </tr>\n",
       "  </thead>\n",
       "  <tbody>\n",
       "    <tr>\n",
       "      <th>One Way</th>\n",
       "      <td>0.075509</td>\n",
       "      <td>0.648033</td>\n",
       "      <td>0.002499</td>\n",
       "      <td>0.273959</td>\n",
       "    </tr>\n",
       "    <tr>\n",
       "      <th>Round Trip</th>\n",
       "      <td>0.037779</td>\n",
       "      <td>0.295033</td>\n",
       "      <td>0.006492</td>\n",
       "      <td>0.660696</td>\n",
       "    </tr>\n",
       "  </tbody>\n",
       "</table>\n",
       "</div>"
      ],
      "text/plain": [
       "Passholder Type      Flex Pass  Monthly Pass  Staff Annual   Walk-up\n",
       "Trip Route Category                                                 \n",
       "One Way               0.075509      0.648033      0.002499  0.273959\n",
       "Round Trip            0.037779      0.295033      0.006492  0.660696"
      ]
     },
     "execution_count": 16,
     "metadata": {},
     "output_type": "execute_result"
    },
    {
     "data": {
      "image/png": "[encoded data removed]",
      "text/plain": [
       "<Figure size 432x288 with 1 Axes>"
      ]
     },
     "metadata": {},
     "output_type": "display_data"
    }
   ],
   "source": [
    "#3\n",
    "trip_categories_grouped =  bikes_df.groupby('Trip Route Category')['Passholder Type'].value_counts().unstack(level=-1)\n",
    "passholders = bikes_df['Passholder Type'].drop_duplicates()\n",
    "trip_categories_grouped.loc[:,passholders] = trip_categories_grouped.loc[:,passholders].div(trip_categories_grouped.sum(axis=1), axis=0)\n",
    "trip_categories_grouped.plot.bar(stacked = True)\n",
    "trip_categories_grouped"
   ]
  },
  {
   "cell_type": "markdown",
   "metadata": {},
   "source": [
    "__/ trip_categories_grouped.loc[:,passholders] = trip_categories_grouped.loc[:,passholders].div(trip_categories_grouped.sum(axis=1), axis=0) /__ command divides the rows of the \"trip_categories_grouped\" dataframe by the sum of the corresponding row. Thus, values in each row (each trip route category) sums up to 1."
   ]
  },
  {
   "cell_type": "code",
   "execution_count": 17,
   "metadata": {
    "scrolled": false
   },
   "outputs": [
    {
     "data": {
      "text/html": [
       "<div>\n",
       "<style scoped>\n",
       "    .dataframe tbody tr th:only-of-type {\n",
       "        vertical-align: middle;\n",
       "    }\n",
       "\n",
       "    .dataframe tbody tr th {\n",
       "        vertical-align: top;\n",
       "    }\n",
       "\n",
       "    .dataframe thead th {\n",
       "        text-align: right;\n",
       "    }\n",
       "</style>\n",
       "<table border=\"1\" class=\"dataframe\">\n",
       "  <thead>\n",
       "    <tr style=\"text-align: right;\">\n",
       "      <th>Passholder Type</th>\n",
       "      <th>Flex Pass</th>\n",
       "      <th>Monthly Pass</th>\n",
       "      <th>Staff Annual</th>\n",
       "      <th>Walk-up</th>\n",
       "    </tr>\n",
       "    <tr>\n",
       "      <th>Trip Route Category</th>\n",
       "      <th></th>\n",
       "      <th></th>\n",
       "      <th></th>\n",
       "      <th></th>\n",
       "    </tr>\n",
       "  </thead>\n",
       "  <tbody>\n",
       "    <tr>\n",
       "      <th>One Way</th>\n",
       "      <td>2653</td>\n",
       "      <td>24570</td>\n",
       "      <td>97</td>\n",
       "      <td>7510</td>\n",
       "    </tr>\n",
       "    <tr>\n",
       "      <th>Round Trip</th>\n",
       "      <td>126</td>\n",
       "      <td>1056</td>\n",
       "      <td>39</td>\n",
       "      <td>2129</td>\n",
       "    </tr>\n",
       "  </tbody>\n",
       "</table>\n",
       "</div>"
      ],
      "text/plain": [
       "Passholder Type      Flex Pass  Monthly Pass  Staff Annual  Walk-up\n",
       "Trip Route Category                                                \n",
       "One Way                   2653         24570            97     7510\n",
       "Round Trip                 126          1056            39     2129"
      ]
     },
     "execution_count": 17,
     "metadata": {},
     "output_type": "execute_result"
    },
    {
     "data": {
      "image/png": "[encoded data removed]",
      "text/plain": [
       "<Figure size 432x288 with 1 Axes>"
      ]
     },
     "metadata": {},
     "output_type": "display_data"
    }
   ],
   "source": [
    "#4\n",
    "morning_trips = bikes_df[trip_starting_hour < 12].groupby('Trip Route Category')['Passholder Type'].value_counts().unstack(level=-1)\n",
    "morning_trips.plot.bar()\n",
    "morning_trips"
   ]
  },
  {
   "cell_type": "markdown",
   "metadata": {},
   "source": [
    "Considering the morning bike trips, there is one outlier for one way trips which is the staff annual passholder type. For round trips, we have flex pass passholder type as outlier in addition to the staff annual passholder type."
   ]
  },
  {
   "cell_type": "code",
   "execution_count": 18,
   "metadata": {},
   "outputs": [
    {
     "data": {
      "text/html": [
       "<div>\n",
       "<style scoped>\n",
       "    .dataframe tbody tr th:only-of-type {\n",
       "        vertical-align: middle;\n",
       "    }\n",
       "\n",
       "    .dataframe tbody tr th {\n",
       "        vertical-align: top;\n",
       "    }\n",
       "\n",
       "    .dataframe thead th {\n",
       "        text-align: right;\n",
       "    }\n",
       "</style>\n",
       "<table border=\"1\" class=\"dataframe\">\n",
       "  <thead>\n",
       "    <tr style=\"text-align: right;\">\n",
       "      <th>index</th>\n",
       "      <th>Intervals</th>\n",
       "      <th>Trip Route Category</th>\n",
       "      <th>Flex Pass</th>\n",
       "      <th>Monthly Pass</th>\n",
       "      <th>Staff Annual</th>\n",
       "      <th>Walk-up</th>\n",
       "    </tr>\n",
       "  </thead>\n",
       "  <tbody>\n",
       "    <tr>\n",
       "      <th>0</th>\n",
       "      <td>First Interval</td>\n",
       "      <td>One Way</td>\n",
       "      <td>4582</td>\n",
       "      <td>39444</td>\n",
       "      <td>163</td>\n",
       "      <td>18025</td>\n",
       "    </tr>\n",
       "    <tr>\n",
       "      <th>1</th>\n",
       "      <td>First Interval</td>\n",
       "      <td>Round Trip</td>\n",
       "      <td>266</td>\n",
       "      <td>2001</td>\n",
       "      <td>35</td>\n",
       "      <td>4300</td>\n",
       "    </tr>\n",
       "    <tr>\n",
       "      <th>2</th>\n",
       "      <td>Second Interval</td>\n",
       "      <td>One Way</td>\n",
       "      <td>4452</td>\n",
       "      <td>38088</td>\n",
       "      <td>136</td>\n",
       "      <td>14752</td>\n",
       "    </tr>\n",
       "    <tr>\n",
       "      <th>3</th>\n",
       "      <td>Second Interval</td>\n",
       "      <td>Round Trip</td>\n",
       "      <td>217</td>\n",
       "      <td>1771</td>\n",
       "      <td>48</td>\n",
       "      <td>4147</td>\n",
       "    </tr>\n",
       "  </tbody>\n",
       "</table>\n",
       "</div>"
      ],
      "text/plain": [
       "index        Intervals Trip Route Category  Flex Pass  Monthly Pass  \\\n",
       "0       First Interval             One Way       4582         39444   \n",
       "1       First Interval          Round Trip        266          2001   \n",
       "2      Second Interval             One Way       4452         38088   \n",
       "3      Second Interval          Round Trip        217          1771   \n",
       "\n",
       "index  Staff Annual  Walk-up  \n",
       "0               163    18025  \n",
       "1                35     4300  \n",
       "2               136    14752  \n",
       "3                48     4147  "
      ]
     },
     "execution_count": 18,
     "metadata": {},
     "output_type": "execute_result"
    }
   ],
   "source": [
    "#5\n",
    "first_interval_hours = []\n",
    "trip_sum = 0\n",
    "hour_list = trip_starting_hour.value_counts().index\n",
    "total_trips = len(bikes_df)\n",
    "\n",
    "for hour in hour_list:\n",
    "    if trip_sum <= int(total_trips/2):\n",
    "        trip_sum = trip_sum + trip_starting_hour.value_counts()[hour]\n",
    "        first_interval_hours.append(hour)\n",
    "\n",
    "       \n",
    "second_interval_hours = list(set(hour_list).difference(set(first_interval_hours)))    \n",
    "first_interval = bikes_df[trip_starting_hour.isin(first_interval_hours)]\n",
    "second_interval = bikes_df[trip_starting_hour.isin(second_interval_hours)]\n",
    "\n",
    "first_interval_grouped = first_interval.groupby('Trip Route Category')['Passholder Type'].value_counts().unstack(level=-1)\n",
    "second_interval_grouped = second_interval.groupby('Trip Route Category')['Passholder Type'].value_counts().unstack(level=-1)\n",
    "frames = [first_interval_grouped, second_interval_grouped]\n",
    "df = pd.concat(frames, keys=['First Interval','Second Interval'], names=['Intervals'])\n",
    "df.reset_index(level = ['Intervals','Trip Route Category'], inplace = True)\n",
    "df.columns.name = 'index'\n",
    "df"
   ]
  },
  {
   "cell_type": "markdown",
   "metadata": {},
   "source": [
    "The proportion of trips doesn't depend on the intervals since the values are very similar for each row and column.\n",
    "\n",
    "The company wouldn't make a significant benefit by changing the paying scheme for monthly pass users because the number of trips in the first interval is 39444 and 38088 in the second interval for one way trips. For round trips, the trip numbers are 2001 and 1771 for respectively first and second interval."
   ]
  },
  {
   "cell_type": "code",
   "execution_count": null,
   "metadata": {},
   "outputs": [],
   "source": []
  }
 ],
 "metadata": {
  "kernelspec": {
   "display_name": "Python [default]",
   "language": "python",
   "name": "python3"
  },
  "language_info": {
   "codemirror_mode": {
    "name": "ipython",
    "version": 3
   },
   "file_extension": ".py",
   "mimetype": "text/x-python",
   "name": "python",
   "nbconvert_exporter": "python",
   "pygments_lexer": "ipython3",
   "version": "3.7.0"
  }
 },
 "nbformat": 4,
 "nbformat_minor": 2
}
