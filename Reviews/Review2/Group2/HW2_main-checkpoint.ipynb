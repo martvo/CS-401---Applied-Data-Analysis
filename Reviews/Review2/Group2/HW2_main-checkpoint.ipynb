{
 "cells": [
  {
   "cell_type": "markdown",
   "metadata": {},
   "source": [
    "# Assignment 2: Voting Visualized"
   ]
  },
  {
   "cell_type": "markdown",
   "metadata": {},
   "source": [
    "## Deadline\n",
    "\n",
    "Oct. 24th\n",
    "\n",
    "## Important notes\n",
    "\n",
    "- Make sure you push on GitHub your notebook with all the cells already evaluated.\n",
    "- Note that maps do not render in a standard Github environment. You should export them to HTML and link them in your notebook.\n",
    "- Don't forget to add a textual description of your thought process, the assumptions you made, and the solution you implemented.\n",
    "- Please write all your comments in English, and use meaningful variable names in your code.\n",
    "\n",
    "## Background\n"
   ]
  },
  {
   "cell_type": "markdown",
   "metadata": {},
   "source": [
    "* Are you curious to know what the political leanings of the people of Switzerland are?\n",
    "* Do you wake up in a cold sweat, wondering which party won the last cantonal parliament election in Vaud?\n",
    "* Are you looking to learn all sorts of visualizations, including maps, in Python?\n",
    "\n",
    "If your answer to any of the above is yes, this assignment is just right for you. Otherwise, it's still an assignment, so we're terribly sorry.\n",
    "\n",
    "The chief aim of this assignment is to familiarize you with visualizations in Python, particularly maps, and also to give you some insight into how visualizations are to be interpreted. The data we will use is the data on Swiss cantonal parliament elections from 2007 to 2018, which contains, for each cantonal election in this time period, the voting percentages for each party and canton.\n",
    "\n",
    "For the visualization part, install [Folium](Folium) (_Hint: it is not available in your standard Anaconda environment, therefore search on the Web how to install it easily!_). Folium's README comes with very clear examples, and links to their own iPython Notebooks -- make good use of this information. For your own convenience, in this same directory you can already find one TopoJSON file, containing the geo-coordinates of the cantonal borders of Switzerland.\n",
    "\n",
    "One last, general reminder: back up any hypotheses and claims with data, since this is an important aspect of the course."
   ]
  },
  {
   "cell_type": "code",
   "execution_count": 101,
   "metadata": {},
   "outputs": [],
   "source": [
    "# Put your imports here.\n",
    "import os\n",
    "import pandas as pd\n",
    "import numpy as np\n",
    "import matplotlib.pyplot as plt\n",
    "\n",
    "# Set global plot size\n",
    "plt.rcParams['figure.figsize'] = 15, 5\n",
    "\n",
    "import folium\n",
    "import json\n",
    "%matplotlib inline\n",
    "\n",
    "from IPython.core.display import display, HTML"
   ]
  },
  {
   "cell_type": "code",
   "execution_count": 102,
   "metadata": {},
   "outputs": [],
   "source": [
    "data_folder = './data/'"
   ]
  },
  {
   "cell_type": "markdown",
   "metadata": {},
   "source": [
    "## Task 1: Cartography and census\n",
    "\n",
    "__A)__ Display a Swiss map that has cantonal borders as well as the national borders. We provide a TopoJSON `data/ch-cantons.topojson.json` that contains the borders of the cantons.\n",
    "\n",
    "__B)__ Take the spreadsheet `data/communes_pop.xls`, collected from [admin.ch](https://www.bfs.admin.ch/bfs/fr/home/statistiques/catalogues-banques-donnees/tableaux.assetdetail.5886191.html), containing population figures for every commune. You can use [pd.read_excel()](https://pandas.pydata.org/pandas-docs/version/0.20/generated/pandas.read_excel.html) to read the file and to select specific sheets. Plot a histogram of the population counts and explain your observations. Do not use a log-scale plot for now. What does this histogram tell you about urban and rural communes in Switzerland? Are there any clear outliers on either side, and if so, which communes?\n",
    "\n",
    "__C)__ The figure below represents 4 types of histogram. At this stage, our distribution should look like Fig.(a). A common way to represent [power-laws](https://en.wikipedia.org/wiki/Power_law) is to use a histogram using a log-log scale  -- remember: the x-axis of an histogram is segmented in bins of equal sizes and y-values are the average of each bin. As shown in Fig.(b), small bins sizes might introduce artifacts. Fig.(b) and Fig.(c) are examples of histograms with two different bin sizes. Another great way to visualize such distribution is to use a cumulative representation, as show in Fig.(d), in which the y-axis represents the number of data points with values greater than y.  \n",
    "  \n",
    "Create the figures (b) and (d) using the data extracted for task 1B. For Fig.(b), represent two histograms using two different bin sizes and provide a brief description of the results. What does this tell you about the relationship between the two variables, namely the frequency of each bin and the value (i.e. population in case of the communal data) for each bin?\n",
    "\n",
    "<img src=\"plaw_crop.png\" style=\"width: 600px;\">\n",
    "  \n",
    "The figure is extracted from [this paper](https://arxiv.org/pdf/cond-mat/0412004.pdf) that contains more information about this family of distributions."
   ]
  },
  {
   "cell_type": "markdown",
   "metadata": {
    "collapsed": true
   },
   "source": [
    "### A)"
   ]
  },
  {
   "cell_type": "code",
   "execution_count": 103,
   "metadata": {
    "scrolled": true
   },
   "outputs": [],
   "source": [
    "data_cantons= json.load(open(data_folder + \"ch-cantons.topojson.json\"))\n",
    "mymap = folium.Map(location=(47.0504799,8.3063498), tiles = \"Stamen toner\", zoom_start=7)\n",
    "folium.TopoJson(data_cantons, \n",
    "                object_path='objects.cantons', \n",
    "                style_function=lambda x: {'color' : 'blue'}).add_to(mymap)\n",
    "\n",
    "mymap.save('mymap.html')"
   ]
  },
  {
   "cell_type": "markdown",
   "metadata": {},
   "source": [
    "Display map with html in order to make them visible on github:"
   ]
  },
  {
   "cell_type": "code",
   "execution_count": 104,
   "metadata": {},
   "outputs": [
    {
     "data": {
      "text/html": [
       "<iframe src=mymap.html width=100% height=600></iframe>"
      ],
      "text/plain": [
       "<IPython.core.display.HTML object>"
      ]
     },
     "metadata": {},
     "output_type": "display_data"
    }
   ],
   "source": [
    "display(HTML('<iframe src=' + 'mymap.html' + ' width=100% height=600></iframe>'))"
   ]
  },
  {
   "cell_type": "markdown",
   "metadata": {},
   "source": [
    "### B)"
   ]
  },
  {
   "cell_type": "markdown",
   "metadata": {},
   "source": [
    "### Import the excel data \n",
    "We are only interested in the latest data (2017) and we skip the first 5 rows which are part of the excel file header."
   ]
  },
  {
   "cell_type": "code",
   "execution_count": 105,
   "metadata": {},
   "outputs": [
    {
     "data": {
      "text/html": [
       "<div>\n",
       "<style scoped>\n",
       "    .dataframe tbody tr th:only-of-type {\n",
       "        vertical-align: middle;\n",
       "    }\n",
       "\n",
       "    .dataframe tbody tr th {\n",
       "        vertical-align: top;\n",
       "    }\n",
       "\n",
       "    .dataframe thead th {\n",
       "        text-align: right;\n",
       "    }\n",
       "</style>\n",
       "<table border=\"1\" class=\"dataframe\">\n",
       "  <thead>\n",
       "    <tr style=\"text-align: right;\">\n",
       "      <th></th>\n",
       "      <th>Unnamed: 0</th>\n",
       "      <th>au 1er janvier</th>\n",
       "      <th>Unnamed: 2</th>\n",
       "      <th>Unnamed: 3</th>\n",
       "      <th>Unnamed: 4</th>\n",
       "      <th>Unnamed: 5</th>\n",
       "      <th>Unnamed: 6</th>\n",
       "      <th>Unnamed: 7</th>\n",
       "      <th></th>\n",
       "      <th>au 31 décembre</th>\n",
       "      <th>Unnamed: 10</th>\n",
       "      <th>Unnamed: 11</th>\n",
       "    </tr>\n",
       "  </thead>\n",
       "  <tbody>\n",
       "    <tr>\n",
       "      <th>0</th>\n",
       "      <td>Suisse 2)</td>\n",
       "      <td>8419550.0</td>\n",
       "      <td>87381.0</td>\n",
       "      <td>66971.0</td>\n",
       "      <td>20410.0</td>\n",
       "      <td>681011.0</td>\n",
       "      <td>635063.0</td>\n",
       "      <td>45948.0</td>\n",
       "      <td>-1778.0</td>\n",
       "      <td>8484130.0</td>\n",
       "      <td>64580.0</td>\n",
       "      <td>0.767024</td>\n",
       "    </tr>\n",
       "    <tr>\n",
       "      <th>1</th>\n",
       "      <td>- Zürich</td>\n",
       "      <td>1487969.0</td>\n",
       "      <td>17070.0</td>\n",
       "      <td>11076.0</td>\n",
       "      <td>5994.0</td>\n",
       "      <td>120593.0</td>\n",
       "      <td>108666.0</td>\n",
       "      <td>11927.0</td>\n",
       "      <td>-1544.0</td>\n",
       "      <td>1504346.0</td>\n",
       "      <td>16377.0</td>\n",
       "      <td>1.100628</td>\n",
       "    </tr>\n",
       "    <tr>\n",
       "      <th>2</th>\n",
       "      <td>&gt;&gt; Bezirk Affoltern</td>\n",
       "      <td>52904.0</td>\n",
       "      <td>517.0</td>\n",
       "      <td>310.0</td>\n",
       "      <td>207.0</td>\n",
       "      <td>4501.0</td>\n",
       "      <td>3862.0</td>\n",
       "      <td>639.0</td>\n",
       "      <td>21.0</td>\n",
       "      <td>53771.0</td>\n",
       "      <td>867.0</td>\n",
       "      <td>1.638817</td>\n",
       "    </tr>\n",
       "    <tr>\n",
       "      <th>3</th>\n",
       "      <td>......0001 Aeugst am Albis</td>\n",
       "      <td>1977.0</td>\n",
       "      <td>10.0</td>\n",
       "      <td>7.0</td>\n",
       "      <td>3.0</td>\n",
       "      <td>129.0</td>\n",
       "      <td>165.0</td>\n",
       "      <td>-36.0</td>\n",
       "      <td>-3.0</td>\n",
       "      <td>1941.0</td>\n",
       "      <td>-36.0</td>\n",
       "      <td>-1.820941</td>\n",
       "    </tr>\n",
       "    <tr>\n",
       "      <th>4</th>\n",
       "      <td>......0002 Affoltern am Albis</td>\n",
       "      <td>11900.0</td>\n",
       "      <td>128.0</td>\n",
       "      <td>93.0</td>\n",
       "      <td>35.0</td>\n",
       "      <td>1239.0</td>\n",
       "      <td>1029.0</td>\n",
       "      <td>210.0</td>\n",
       "      <td>1.0</td>\n",
       "      <td>12146.0</td>\n",
       "      <td>246.0</td>\n",
       "      <td>2.067227</td>\n",
       "    </tr>\n",
       "  </tbody>\n",
       "</table>\n",
       "</div>"
      ],
      "text/plain": [
       "                      Unnamed: 0  au 1er janvier  Unnamed: 2  Unnamed: 3  \\\n",
       "0                      Suisse 2)       8419550.0     87381.0     66971.0   \n",
       "1                       - Zürich       1487969.0     17070.0     11076.0   \n",
       "2            >> Bezirk Affoltern         52904.0       517.0       310.0   \n",
       "3     ......0001 Aeugst am Albis          1977.0        10.0         7.0   \n",
       "4  ......0002 Affoltern am Albis         11900.0       128.0        93.0   \n",
       "\n",
       "   Unnamed: 4  Unnamed: 5  Unnamed: 6  Unnamed: 7              au 31 décembre  \\\n",
       "0     20410.0    681011.0    635063.0     45948.0     -1778.0       8484130.0   \n",
       "1      5994.0    120593.0    108666.0     11927.0     -1544.0       1504346.0   \n",
       "2       207.0      4501.0      3862.0       639.0        21.0         53771.0   \n",
       "3         3.0       129.0       165.0       -36.0        -3.0          1941.0   \n",
       "4        35.0      1239.0      1029.0       210.0         1.0         12146.0   \n",
       "\n",
       "   Unnamed: 10  Unnamed: 11  \n",
       "0      64580.0     0.767024  \n",
       "1      16377.0     1.100628  \n",
       "2        867.0     1.638817  \n",
       "3        -36.0    -1.820941  \n",
       "4        246.0     2.067227  "
      ]
     },
     "execution_count": 105,
     "metadata": {},
     "output_type": "execute_result"
    }
   ],
   "source": [
    "data_communal = pd.read_excel(data_folder + \"communes_pop.xls\", sheet_name='2017', skiprows=5)\n",
    "data_communal.head()"
   ]
  },
  {
   "cell_type": "markdown",
   "metadata": {},
   "source": [
    "__*The first columns of the dataframe is the population count that we are interested in. We also remove the first line which contains popuation info about all switzerland and ignore the last 7 rows which are the excel sheet footer.*__\n"
   ]
  },
  {
   "cell_type": "code",
   "execution_count": 107,
   "metadata": {},
   "outputs": [
    {
     "data": {
      "text/html": [
       "<div>\n",
       "<style scoped>\n",
       "    .dataframe tbody tr th:only-of-type {\n",
       "        vertical-align: middle;\n",
       "    }\n",
       "\n",
       "    .dataframe tbody tr th {\n",
       "        vertical-align: top;\n",
       "    }\n",
       "\n",
       "    .dataframe thead th {\n",
       "        text-align: right;\n",
       "    }\n",
       "</style>\n",
       "<table border=\"1\" class=\"dataframe\">\n",
       "  <thead>\n",
       "    <tr style=\"text-align: right;\">\n",
       "      <th></th>\n",
       "      <th>name</th>\n",
       "      <th>population</th>\n",
       "    </tr>\n",
       "  </thead>\n",
       "  <tbody>\n",
       "    <tr>\n",
       "      <th>1</th>\n",
       "      <td>- Zürich</td>\n",
       "      <td>1487969.0</td>\n",
       "    </tr>\n",
       "    <tr>\n",
       "      <th>2</th>\n",
       "      <td>&gt;&gt; Bezirk Affoltern</td>\n",
       "      <td>52904.0</td>\n",
       "    </tr>\n",
       "    <tr>\n",
       "      <th>3</th>\n",
       "      <td>......0001 Aeugst am Albis</td>\n",
       "      <td>1977.0</td>\n",
       "    </tr>\n",
       "    <tr>\n",
       "      <th>4</th>\n",
       "      <td>......0002 Affoltern am Albis</td>\n",
       "      <td>11900.0</td>\n",
       "    </tr>\n",
       "    <tr>\n",
       "      <th>5</th>\n",
       "      <td>......0003 Bonstetten</td>\n",
       "      <td>5435.0</td>\n",
       "    </tr>\n",
       "  </tbody>\n",
       "</table>\n",
       "</div>"
      ],
      "text/plain": [
       "                            name  population\n",
       "1                       - Zürich   1487969.0\n",
       "2            >> Bezirk Affoltern     52904.0\n",
       "3     ......0001 Aeugst am Albis      1977.0\n",
       "4  ......0002 Affoltern am Albis     11900.0\n",
       "5          ......0003 Bonstetten      5435.0"
      ]
     },
     "execution_count": 107,
     "metadata": {},
     "output_type": "execute_result"
    }
   ],
   "source": [
    "data_communal = data_communal.iloc[1:data_communal.shape[0]-7, [0, 1]]\n",
    "data_communal.columns = ['name', 'population']\n",
    "data_communal.head()"
   ]
  },
  {
   "cell_type": "markdown",
   "metadata": {},
   "source": [
    "Entries starting with - are cantoons and entries starting with '>>' are districts. \n",
    "We only want the communes, so we remove these entries."
   ]
  },
  {
   "cell_type": "code",
   "execution_count": 108,
   "metadata": {},
   "outputs": [],
   "source": [
    "data_communal = data_communal[data_communal.name.apply(lambda x: not(str(x).startswith('-') \n",
    "                                                                     or str(x).startswith('>>')))]"
   ]
  },
  {
   "cell_type": "markdown",
   "metadata": {},
   "source": [
    "Plot a histogram of the canton population data: "
   ]
  },
  {
   "cell_type": "code",
   "execution_count": 109,
   "metadata": {},
   "outputs": [
    {
     "data": {
      "image/png": "[encoded data removed]",
      "text/plain": [
       "<Figure size 432x288 with 1 Axes>"
      ]
     },
     "metadata": {
      "needs_background": "light"
     },
     "output_type": "display_data"
    }
   ],
   "source": [
    "population = data_communal['population']\n",
    "# Plot\n",
    "bins = 100\n",
    "pl1 = plt.hist(population, bins = bins)\n",
    "plt.show()"
   ]
  },
  {
   "cell_type": "markdown",
   "metadata": {},
   "source": [
    "__* The above plot is not very informative, we will have to split the data. However, the fact that most communes are quite small in swizerland can be observed in the plot above.*__"
   ]
  },
  {
   "cell_type": "markdown",
   "metadata": {},
   "source": [
    "Let's use the describe function to get some information about our dataframe:"
   ]
  },
  {
   "cell_type": "code",
   "execution_count": 111,
   "metadata": {},
   "outputs": [
    {
     "data": {
      "text/html": [
       "<div>\n",
       "<style scoped>\n",
       "    .dataframe tbody tr th:only-of-type {\n",
       "        vertical-align: middle;\n",
       "    }\n",
       "\n",
       "    .dataframe tbody tr th {\n",
       "        vertical-align: top;\n",
       "    }\n",
       "\n",
       "    .dataframe thead th {\n",
       "        text-align: right;\n",
       "    }\n",
       "</style>\n",
       "<table border=\"1\" class=\"dataframe\">\n",
       "  <thead>\n",
       "    <tr style=\"text-align: right;\">\n",
       "      <th></th>\n",
       "      <th>population</th>\n",
       "    </tr>\n",
       "  </thead>\n",
       "  <tbody>\n",
       "    <tr>\n",
       "      <th>count</th>\n",
       "      <td>2240.000000</td>\n",
       "    </tr>\n",
       "    <tr>\n",
       "      <th>mean</th>\n",
       "      <td>3758.727679</td>\n",
       "    </tr>\n",
       "    <tr>\n",
       "      <th>std</th>\n",
       "      <td>12306.015472</td>\n",
       "    </tr>\n",
       "    <tr>\n",
       "      <th>min</th>\n",
       "      <td>14.000000</td>\n",
       "    </tr>\n",
       "    <tr>\n",
       "      <th>25%</th>\n",
       "      <td>670.500000</td>\n",
       "    </tr>\n",
       "    <tr>\n",
       "      <th>50%</th>\n",
       "      <td>1477.500000</td>\n",
       "    </tr>\n",
       "    <tr>\n",
       "      <th>75%</th>\n",
       "      <td>3604.500000</td>\n",
       "    </tr>\n",
       "    <tr>\n",
       "      <th>max</th>\n",
       "      <td>402762.000000</td>\n",
       "    </tr>\n",
       "  </tbody>\n",
       "</table>\n",
       "</div>"
      ],
      "text/plain": [
       "          population\n",
       "count    2240.000000\n",
       "mean     3758.727679\n",
       "std     12306.015472\n",
       "min        14.000000\n",
       "25%       670.500000\n",
       "50%      1477.500000\n",
       "75%      3604.500000\n",
       "max    402762.000000"
      ]
     },
     "execution_count": 111,
     "metadata": {},
     "output_type": "execute_result"
    }
   ],
   "source": [
    "data_communal.describe()"
   ]
  },
  {
   "cell_type": "markdown",
   "metadata": {},
   "source": [
    "__*The output of the describe function above tells us that 50% of all communes have a population of 1477 or less.*__\n"
   ]
  },
  {
   "cell_type": "code",
   "execution_count": 112,
   "metadata": {},
   "outputs": [
    {
     "data": {
      "image/png": "[encoded data removed]",
      "text/plain": [
       "<Figure size 432x288 with 1 Axes>"
      ]
     },
     "metadata": {
      "needs_background": "light"
     },
     "output_type": "display_data"
    }
   ],
   "source": [
    "plt.hist(population[population < 10000], bins = bins, color='red')\n",
    "plt.title(\"Distribution of rural communes in Switzerland\")\n",
    "plt.show()"
   ]
  },
  {
   "cell_type": "code",
   "execution_count": 113,
   "metadata": {},
   "outputs": [
    {
     "data": {
      "image/png": "[encoded data removed]",
      "text/plain": [
       "<Figure size 432x288 with 1 Axes>"
      ]
     },
     "metadata": {
      "needs_background": "light"
     },
     "output_type": "display_data"
    }
   ],
   "source": [
    "plt.hist(population[population >= 10000], bins = bins, color='blue')\n",
    "plt.title(\"Distribution of urban communes in Switzerland\")\n",
    "plt.xticks(rotation=45)\n",
    "plt.show()"
   ]
  },
  {
   "cell_type": "markdown",
   "metadata": {
    "collapsed": true
   },
   "source": [
    "__*Comparing the to histograms, we could conclude that cities with 100000 inhabitants (see below) are some kind of outliers in the second case, and in the first one, the data is following a very clear distribution (no outliers).*__"
   ]
  },
  {
   "cell_type": "code",
   "execution_count": 114,
   "metadata": {},
   "outputs": [
    {
     "data": {
      "text/html": [
       "<div>\n",
       "<style scoped>\n",
       "    .dataframe tbody tr th:only-of-type {\n",
       "        vertical-align: middle;\n",
       "    }\n",
       "\n",
       "    .dataframe tbody tr th {\n",
       "        vertical-align: top;\n",
       "    }\n",
       "\n",
       "    .dataframe thead th {\n",
       "        text-align: right;\n",
       "    }\n",
       "</style>\n",
       "<table border=\"1\" class=\"dataframe\">\n",
       "  <thead>\n",
       "    <tr style=\"text-align: right;\">\n",
       "      <th></th>\n",
       "      <th>name</th>\n",
       "      <th>population</th>\n",
       "    </tr>\n",
       "  </thead>\n",
       "  <tbody>\n",
       "    <tr>\n",
       "      <th>181</th>\n",
       "      <td>......0261 Zürich</td>\n",
       "      <td>402762.0</td>\n",
       "    </tr>\n",
       "    <tr>\n",
       "      <th>2321</th>\n",
       "      <td>......6621 Genève</td>\n",
       "      <td>198979.0</td>\n",
       "    </tr>\n",
       "    <tr>\n",
       "      <th>993</th>\n",
       "      <td>......2701 Basel</td>\n",
       "      <td>171017.0</td>\n",
       "    </tr>\n",
       "    <tr>\n",
       "      <th>1962</th>\n",
       "      <td>......5586 Lausanne</td>\n",
       "      <td>137810.0</td>\n",
       "    </tr>\n",
       "    <tr>\n",
       "      <th>377</th>\n",
       "      <td>......0351 Bern</td>\n",
       "      <td>133115.0</td>\n",
       "    </tr>\n",
       "    <tr>\n",
       "      <th>165</th>\n",
       "      <td>......0230 Winterthur</td>\n",
       "      <td>109775.0</td>\n",
       "    </tr>\n",
       "  </tbody>\n",
       "</table>\n",
       "</div>"
      ],
      "text/plain": [
       "                       name  population\n",
       "181       ......0261 Zürich    402762.0\n",
       "2321      ......6621 Genève    198979.0\n",
       "993        ......2701 Basel    171017.0\n",
       "1962    ......5586 Lausanne    137810.0\n",
       "377         ......0351 Bern    133115.0\n",
       "165   ......0230 Winterthur    109775.0"
      ]
     },
     "execution_count": 114,
     "metadata": {},
     "output_type": "execute_result"
    }
   ],
   "source": [
    "data_communal[[\"name\", \"population\"]].sort_values(\"population\", ascending=False).head(6)"
   ]
  },
  {
   "cell_type": "markdown",
   "metadata": {},
   "source": [
    "__*Now some log-log plots to help us identify the power law of the data.*__"
   ]
  },
  {
   "cell_type": "code",
   "execution_count": 115,
   "metadata": {},
   "outputs": [
    {
     "data": {
      "image/png": "[encoded data removed]",
      "text/plain": [
       "<Figure size 432x288 with 1 Axes>"
      ]
     },
     "metadata": {
      "needs_background": "light"
     },
     "output_type": "display_data"
    }
   ],
   "source": [
    "# log-log hist with small number of bins\n",
    "\n",
    "# Here we use the hist just to extract the bins averages and their count\n",
    "bins = 100\n",
    "pl1 = plt.hist(population, bins = bins, visible=False)\n",
    "\n",
    "plt.loglog(pl1[1][:-1], pl1[0], linewidth=1.5)\n",
    "plt.title(\"Log-log representation of histogram with {} bins\".format(bins))\n",
    "plt.xlabel(\"Bin average\")\n",
    "plt.ylabel(\"Count\")\n",
    "plt.show()"
   ]
  },
  {
   "cell_type": "code",
   "execution_count": 116,
   "metadata": {},
   "outputs": [
    {
     "data": {
      "image/png": "[encoded data removed]",
      "text/plain": [
       "<Figure size 432x288 with 1 Axes>"
      ]
     },
     "metadata": {
      "needs_background": "light"
     },
     "output_type": "display_data"
    }
   ],
   "source": [
    "# Now with a huge number\n",
    "bins = 10000\n",
    "\n",
    "pl1 = plt.hist(population, bins = bins, visible=False)\n",
    "\n",
    "plt.loglog(pl1[1][:-1], pl1[0])\n",
    "plt.title(\"Log-log representation of histogram with {} bins\".format(bins))\n",
    "plt.xlabel(\"Bin average\")\n",
    "plt.ylabel(\"Count\")\n",
    "plt.show()"
   ]
  },
  {
   "cell_type": "markdown",
   "metadata": {},
   "source": [
    "__* What we can read from the second histogram, is that the number of small bins is growing VERY fast when we vary their average in the x-axis. After around 2000 there are no bins with more than 10 samples in them, and after 20000 there are no bins with more than 1 sample! *__\n",
    "\n",
    "__* This suggests that we are indeed dealing with some kind of a power law of our data. *__\n",
    "\n",
    "__*\n",
    "The tail of the histograms become more and more noicy the more bins we add. This happens because the number of samples in each bin becomes smaller which gives larger variance between bins. *__"
   ]
  },
  {
   "cell_type": "code",
   "execution_count": 117,
   "metadata": {},
   "outputs": [
    {
     "data": {
      "image/png": "[encoded data removed]",
      "text/plain": [
       "<Figure size 432x288 with 1 Axes>"
      ]
     },
     "metadata": {
      "needs_background": "light"
     },
     "output_type": "display_data"
    }
   ],
   "source": [
    "# And finally the log-log plot for t -> 1-CDF(t), where t is an average value of some bin from last hist\n",
    "\n",
    "# Extract bins\n",
    "bins = 1000\n",
    "pl1 = plt.hist(population, bins = bins, visible=False)\n",
    "\n",
    "# Get 1-CDF values\n",
    "res = []\n",
    "for i in range(len(pl1[1][:-1])):\n",
    "    res.append(len(population[population > pl1[1][i]]))\n",
    "\n",
    "    # Plot\n",
    "plt.loglog(pl1[1][:-1], np.array(res)/max(res), c=\"r\")\n",
    "plt.title(\"1-CDF with log-log axes\")\n",
    "plt.ylabel(\"Probability of {X > x}\")\n",
    "plt.xlabel(\"Commune size (x)\")\n",
    "plt.ylim(3*10**(-4), 2)\n",
    "plt.show()"
   ]
  },
  {
   "cell_type": "markdown",
   "metadata": {},
   "source": [
    "## Task 2: Parties visualized\n",
    "\n",
    "We provide a spreadsheet, `data/voters.xls`, (again) collected from [admin.ch](https://www.bfs.admin.ch/bfs/fr/home/statistiques/politique/elections/conseil-national/force-partis.assetdetail.217195.html), which contains the percentage of voters for each party and for each canton. For the following task, we will focus on the period 2014-2018 (the first page of the spreadsheet). Please report any assumptions you make regarding outliers, missing values, etc. Notice that data is missing for two cantons, namely Appenzell Ausserrhoden and Graubünden, and your visualisations should include data for every other canton.\n",
    "\n",
    "\n",
    "__A)__ For the period 2014-2018 and for each canton, visualize, on the map, **the percentage of voters** in that canton who voted for the party [`UDC`](https://en.wikipedia.org/wiki/Swiss_People%27s_Party) (Union démocratique du centre). Does this party seem to be more popular in the German-speaking part, the French-speaking part, or the Italian-speaking part?\n",
    "\n",
    "__B)__ For the same period, now visualize **the number of residents** in each canton who voted for UDC.\n",
    "\n",
    "__C)__ Which one of the two visualizations above would be more informative in case of a national election with majority voting (i.e. when a party needs to have the largest number of citizens voting for it among all parties)? Which one is more informative for the cantonal parliament elections?\n",
    "\n",
    "For part B, you can use the `data/national_council_elections.xslx` file ([guess where we got it from](https://www.bfs.admin.ch/bfs/fr/home/statistiques/politique/elections/conseil-national/participation.assetdetail.81625.html)) to have the voting-eligible population of each canton in 2015."
   ]
  },
  {
   "cell_type": "markdown",
   "metadata": {
    "collapsed": true
   },
   "source": [
    "### Import and cleaning of data set"
   ]
  },
  {
   "cell_type": "code",
   "execution_count": 118,
   "metadata": {},
   "outputs": [
    {
     "data": {
      "text/html": [
       "<div>\n",
       "<style scoped>\n",
       "    .dataframe tbody tr th:only-of-type {\n",
       "        vertical-align: middle;\n",
       "    }\n",
       "\n",
       "    .dataframe tbody tr th {\n",
       "        vertical-align: top;\n",
       "    }\n",
       "\n",
       "    .dataframe thead th {\n",
       "        text-align: right;\n",
       "    }\n",
       "</style>\n",
       "<table border=\"1\" class=\"dataframe\">\n",
       "  <thead>\n",
       "    <tr style=\"text-align: right;\">\n",
       "      <th></th>\n",
       "      <th>Année électorale</th>\n",
       "      <th>Participation</th>\n",
       "      <th>PLR</th>\n",
       "      <th>PDC</th>\n",
       "      <th>PS</th>\n",
       "      <th>UDC</th>\n",
       "      <th>Dém.</th>\n",
       "      <th>PLS</th>\n",
       "      <th>AdI</th>\n",
       "      <th>PEV</th>\n",
       "      <th>...</th>\n",
       "      <th>PSL</th>\n",
       "      <th>Lega</th>\n",
       "      <th>MCR</th>\n",
       "      <th>LS</th>\n",
       "      <th>JB</th>\n",
       "      <th>Front</th>\n",
       "      <th>Grut</th>\n",
       "      <th>Autres</th>\n",
       "      <th>K</th>\n",
       "      <th>Total</th>\n",
       "    </tr>\n",
       "    <tr>\n",
       "      <th>canton</th>\n",
       "      <th></th>\n",
       "      <th></th>\n",
       "      <th></th>\n",
       "      <th></th>\n",
       "      <th></th>\n",
       "      <th></th>\n",
       "      <th></th>\n",
       "      <th></th>\n",
       "      <th></th>\n",
       "      <th></th>\n",
       "      <th></th>\n",
       "      <th></th>\n",
       "      <th></th>\n",
       "      <th></th>\n",
       "      <th></th>\n",
       "      <th></th>\n",
       "      <th></th>\n",
       "      <th></th>\n",
       "      <th></th>\n",
       "      <th></th>\n",
       "      <th></th>\n",
       "    </tr>\n",
       "  </thead>\n",
       "  <tbody>\n",
       "    <tr>\n",
       "      <th>Zurich</th>\n",
       "      <td>2015.0</td>\n",
       "      <td>32.652497</td>\n",
       "      <td>17.327820</td>\n",
       "      <td>4.878712</td>\n",
       "      <td>19.716444</td>\n",
       "      <td>30.023215</td>\n",
       "      <td>0.0</td>\n",
       "      <td>0.0</td>\n",
       "      <td>0.0</td>\n",
       "      <td>4.271767</td>\n",
       "      <td>...</td>\n",
       "      <td>0.0</td>\n",
       "      <td>0.0</td>\n",
       "      <td>0.0</td>\n",
       "      <td>0.0</td>\n",
       "      <td>0.0</td>\n",
       "      <td>0.0</td>\n",
       "      <td>0.0</td>\n",
       "      <td>0.669707</td>\n",
       "      <td>0.0</td>\n",
       "      <td>100</td>\n",
       "    </tr>\n",
       "    <tr>\n",
       "      <th>Berne</th>\n",
       "      <td>2018.0</td>\n",
       "      <td>30.516313</td>\n",
       "      <td>11.717910</td>\n",
       "      <td>0.671415</td>\n",
       "      <td>22.328775</td>\n",
       "      <td>26.760869</td>\n",
       "      <td>0.0</td>\n",
       "      <td>0.0</td>\n",
       "      <td>0.0</td>\n",
       "      <td>6.172897</td>\n",
       "      <td>...</td>\n",
       "      <td>0.0</td>\n",
       "      <td>0.0</td>\n",
       "      <td>0.0</td>\n",
       "      <td>0.0</td>\n",
       "      <td>0.0</td>\n",
       "      <td>0.0</td>\n",
       "      <td>0.0</td>\n",
       "      <td>0.912781</td>\n",
       "      <td>0.0</td>\n",
       "      <td>100</td>\n",
       "    </tr>\n",
       "    <tr>\n",
       "      <th>Lucerne</th>\n",
       "      <td>2015.0</td>\n",
       "      <td>38.741267</td>\n",
       "      <td>21.039516</td>\n",
       "      <td>30.862513</td>\n",
       "      <td>11.848915</td>\n",
       "      <td>24.115646</td>\n",
       "      <td>0.0</td>\n",
       "      <td>0.0</td>\n",
       "      <td>0.0</td>\n",
       "      <td>0.199143</td>\n",
       "      <td>...</td>\n",
       "      <td>0.0</td>\n",
       "      <td>0.0</td>\n",
       "      <td>0.0</td>\n",
       "      <td>0.0</td>\n",
       "      <td>0.0</td>\n",
       "      <td>0.0</td>\n",
       "      <td>0.0</td>\n",
       "      <td>0.036129</td>\n",
       "      <td>0.0</td>\n",
       "      <td>100</td>\n",
       "    </tr>\n",
       "    <tr>\n",
       "      <th>Uri</th>\n",
       "      <td>2016.0</td>\n",
       "      <td>61.989056</td>\n",
       "      <td>26.856698</td>\n",
       "      <td>31.298814</td>\n",
       "      <td>12.984966</td>\n",
       "      <td>24.053191</td>\n",
       "      <td>0.0</td>\n",
       "      <td>0.0</td>\n",
       "      <td>0.0</td>\n",
       "      <td>0.000000</td>\n",
       "      <td>...</td>\n",
       "      <td>0.0</td>\n",
       "      <td>0.0</td>\n",
       "      <td>0.0</td>\n",
       "      <td>0.0</td>\n",
       "      <td>0.0</td>\n",
       "      <td>0.0</td>\n",
       "      <td>0.0</td>\n",
       "      <td>2.428270</td>\n",
       "      <td>0.0</td>\n",
       "      <td>100</td>\n",
       "    </tr>\n",
       "    <tr>\n",
       "      <th>Schwytz</th>\n",
       "      <td>2016.0</td>\n",
       "      <td>37.747088</td>\n",
       "      <td>21.628996</td>\n",
       "      <td>27.167707</td>\n",
       "      <td>12.925363</td>\n",
       "      <td>33.115090</td>\n",
       "      <td>0.0</td>\n",
       "      <td>0.0</td>\n",
       "      <td>0.0</td>\n",
       "      <td>0.304428</td>\n",
       "      <td>...</td>\n",
       "      <td>0.0</td>\n",
       "      <td>0.0</td>\n",
       "      <td>0.0</td>\n",
       "      <td>0.0</td>\n",
       "      <td>0.0</td>\n",
       "      <td>0.0</td>\n",
       "      <td>0.0</td>\n",
       "      <td>1.513578</td>\n",
       "      <td>0.0</td>\n",
       "      <td>100</td>\n",
       "    </tr>\n",
       "  </tbody>\n",
       "</table>\n",
       "<p>5 rows × 33 columns</p>\n",
       "</div>"
      ],
      "text/plain": [
       "         Année électorale  Participation        PLR        PDC         PS  \\\n",
       "canton                                                                      \n",
       "Zurich             2015.0      32.652497  17.327820   4.878712  19.716444   \n",
       "Berne              2018.0      30.516313  11.717910   0.671415  22.328775   \n",
       "Lucerne            2015.0      38.741267  21.039516  30.862513  11.848915   \n",
       "Uri                2016.0      61.989056  26.856698  31.298814  12.984966   \n",
       "Schwytz            2016.0      37.747088  21.628996  27.167707  12.925363   \n",
       "\n",
       "               UDC  Dém.  PLS  AdI       PEV  ...    PSL  Lega  MCR   LS   JB  \\\n",
       "canton                                        ...                               \n",
       "Zurich   30.023215   0.0  0.0  0.0  4.271767  ...    0.0   0.0  0.0  0.0  0.0   \n",
       "Berne    26.760869   0.0  0.0  0.0  6.172897  ...    0.0   0.0  0.0  0.0  0.0   \n",
       "Lucerne  24.115646   0.0  0.0  0.0  0.199143  ...    0.0   0.0  0.0  0.0  0.0   \n",
       "Uri      24.053191   0.0  0.0  0.0  0.000000  ...    0.0   0.0  0.0  0.0  0.0   \n",
       "Schwytz  33.115090   0.0  0.0  0.0  0.304428  ...    0.0   0.0  0.0  0.0  0.0   \n",
       "\n",
       "         Front  Grut    Autres    K  Total  \n",
       "canton                                      \n",
       "Zurich     0.0   0.0  0.669707  0.0    100  \n",
       "Berne      0.0   0.0  0.912781  0.0    100  \n",
       "Lucerne    0.0   0.0  0.036129  0.0    100  \n",
       "Uri        0.0   0.0  2.428270  0.0    100  \n",
       "Schwytz    0.0   0.0  1.513578  0.0    100  \n",
       "\n",
       "[5 rows x 33 columns]"
      ]
     },
     "execution_count": 118,
     "metadata": {},
     "output_type": "execute_result"
    }
   ],
   "source": [
    "df = pd.read_excel(data_folder + 'voters.xls', sheet_name='actuel (2014-2018)', header=[2])\n",
    "\n",
    "# Set index to canton name\n",
    "df = df.set_index('Unnamed: 0')\n",
    "df.index.name = \"canton\"\n",
    "\n",
    "# The dataframe has a few empty columns with titles containing the word \"Unnamed\", let's delete those.\n",
    "df = df[df.filter(regex='^(?!Unnamed)').columns]\n",
    "\n",
    "#First two lines contain junk\n",
    "df = df.iloc[2:]\n",
    "\n",
    "# We don't want the end of the file which is the document footer.\n",
    "df = df.iloc[:30]\n",
    "\n",
    "# There are also a few blank rows in the excel files which we need to remove\n",
    "df = df[df.index.isnull() == False]\n",
    "\n",
    "# Rreplace all nan values with 0, as in 0% votes.\n",
    "df = df.fillna(0)\n",
    "\n",
    "# remove paranthesis that is contained in some indexes and in some col\n",
    "df.index = df.index.map(lambda x: x[:x.find(')') - 2].strip() if x.find(')') != -1 else x.strip())\n",
    "df.columns = df.columns.map(lambda x: x[:x.find(')') - 2].strip() if x.find(')') != -1 else x.strip())\n",
    "\n",
    "df.head()"
   ]
  },
  {
   "cell_type": "markdown",
   "metadata": {},
   "source": [
    "Let's make a quick sanity check on the dataframe. There are 26 cantons in Switzerland and hence our dataframe\n",
    "should have 26 rows"
   ]
  },
  {
   "cell_type": "code",
   "execution_count": 119,
   "metadata": {},
   "outputs": [
    {
     "data": {
      "text/plain": [
       "26"
      ]
     },
     "execution_count": 119,
     "metadata": {},
     "output_type": "execute_result"
    }
   ],
   "source": [
    "df.shape[0]"
   ]
  },
  {
   "cell_type": "markdown",
   "metadata": {},
   "source": [
    "The index of the dataframe is the name of the canton, it should be unique since there are no two cantons with the same name."
   ]
  },
  {
   "cell_type": "code",
   "execution_count": 120,
   "metadata": {},
   "outputs": [
    {
     "data": {
      "text/plain": [
       "True"
      ]
     },
     "execution_count": 120,
     "metadata": {},
     "output_type": "execute_result"
    }
   ],
   "source": [
    "df.index.is_unique"
   ]
  },
  {
   "cell_type": "markdown",
   "metadata": {},
   "source": [
    " Each row should sum up to 100!"
   ]
  },
  {
   "cell_type": "code",
   "execution_count": 121,
   "metadata": {},
   "outputs": [
    {
     "data": {
      "text/plain": [
       "False"
      ]
     },
     "execution_count": 121,
     "metadata": {},
     "output_type": "execute_result"
    }
   ],
   "source": [
    "vote_cols = df.iloc[:, 2:-1]\n",
    "row_sums = np.sum(vote_cols, axis=1)\n",
    "epsilon = 10e-6\n",
    "rows = row_sums.apply(lambda x: x > 100 - epsilon and x < 100 + epsilon)\n",
    "np.all(rows)"
   ]
  },
  {
   "cell_type": "code",
   "execution_count": 122,
   "metadata": {},
   "outputs": [
    {
     "name": "stdout",
     "output_type": "stream",
     "text": [
      "Number of rows which sum up to 100: 24\n",
      "Number of rows which does not sum up to 100: 2\n"
     ]
    }
   ],
   "source": [
    "number_of_correct_rows = row_sums[rows==True].shape[0]\n",
    "number_of_incorrect_rows = row_sums[rows==False].shape[0]\n",
    "print(\"Number of rows which sum up to 100: \" + str(number_of_correct_rows))\n",
    "print(\"Number of rows which does not sum up to 100: \" + str(number_of_incorrect_rows))"
   ]
  },
  {
   "cell_type": "code",
   "execution_count": 123,
   "metadata": {},
   "outputs": [
    {
     "name": "stdout",
     "output_type": "stream",
     "text": [
      "Number of rows with a row sum of 0: 2\n"
     ]
    }
   ],
   "source": [
    "zero_rows = row_sums.apply(lambda x: x == 0)\n",
    "print(\"Number of rows with a row sum of 0: \" + str(rows[zero_rows].shape[0]))"
   ]
  },
  {
   "cell_type": "markdown",
   "metadata": {},
   "source": [
    "It appears that 24 rows in the file are complete while voting data from 2 canton is missing completly. \n",
    "\n",
    "The cantons where voting data is missing is:"
   ]
  },
  {
   "cell_type": "code",
   "execution_count": 124,
   "metadata": {},
   "outputs": [
    {
     "data": {
      "text/html": [
       "<div>\n",
       "<style scoped>\n",
       "    .dataframe tbody tr th:only-of-type {\n",
       "        vertical-align: middle;\n",
       "    }\n",
       "\n",
       "    .dataframe tbody tr th {\n",
       "        vertical-align: top;\n",
       "    }\n",
       "\n",
       "    .dataframe thead th {\n",
       "        text-align: right;\n",
       "    }\n",
       "</style>\n",
       "<table border=\"1\" class=\"dataframe\">\n",
       "  <thead>\n",
       "    <tr style=\"text-align: right;\">\n",
       "      <th></th>\n",
       "      <th>Année électorale</th>\n",
       "      <th>Participation</th>\n",
       "      <th>PLR</th>\n",
       "      <th>PDC</th>\n",
       "      <th>PS</th>\n",
       "      <th>UDC</th>\n",
       "      <th>Dém.</th>\n",
       "      <th>PLS</th>\n",
       "      <th>AdI</th>\n",
       "      <th>PEV</th>\n",
       "      <th>...</th>\n",
       "      <th>PSL</th>\n",
       "      <th>Lega</th>\n",
       "      <th>MCR</th>\n",
       "      <th>LS</th>\n",
       "      <th>JB</th>\n",
       "      <th>Front</th>\n",
       "      <th>Grut</th>\n",
       "      <th>Autres</th>\n",
       "      <th>K</th>\n",
       "      <th>Total</th>\n",
       "    </tr>\n",
       "    <tr>\n",
       "      <th>canton</th>\n",
       "      <th></th>\n",
       "      <th></th>\n",
       "      <th></th>\n",
       "      <th></th>\n",
       "      <th></th>\n",
       "      <th></th>\n",
       "      <th></th>\n",
       "      <th></th>\n",
       "      <th></th>\n",
       "      <th></th>\n",
       "      <th></th>\n",
       "      <th></th>\n",
       "      <th></th>\n",
       "      <th></th>\n",
       "      <th></th>\n",
       "      <th></th>\n",
       "      <th></th>\n",
       "      <th></th>\n",
       "      <th></th>\n",
       "      <th></th>\n",
       "      <th></th>\n",
       "    </tr>\n",
       "  </thead>\n",
       "  <tbody>\n",
       "    <tr>\n",
       "      <th>Appenzell Rh. Int.</th>\n",
       "      <td>2015.0</td>\n",
       "      <td>36.11126</td>\n",
       "      <td>0.0</td>\n",
       "      <td>0.0</td>\n",
       "      <td>0.0</td>\n",
       "      <td>0.0</td>\n",
       "      <td>0.0</td>\n",
       "      <td>0.0</td>\n",
       "      <td>0.0</td>\n",
       "      <td>0.0</td>\n",
       "      <td>...</td>\n",
       "      <td>0.0</td>\n",
       "      <td>0.0</td>\n",
       "      <td>0.0</td>\n",
       "      <td>0.0</td>\n",
       "      <td>0.0</td>\n",
       "      <td>0.0</td>\n",
       "      <td>0.0</td>\n",
       "      <td>0.0</td>\n",
       "      <td>0.0</td>\n",
       "      <td>…</td>\n",
       "    </tr>\n",
       "    <tr>\n",
       "      <th>Grisons</th>\n",
       "      <td>2018.0</td>\n",
       "      <td>0.00000</td>\n",
       "      <td>0.0</td>\n",
       "      <td>0.0</td>\n",
       "      <td>0.0</td>\n",
       "      <td>0.0</td>\n",
       "      <td>0.0</td>\n",
       "      <td>0.0</td>\n",
       "      <td>0.0</td>\n",
       "      <td>0.0</td>\n",
       "      <td>...</td>\n",
       "      <td>0.0</td>\n",
       "      <td>0.0</td>\n",
       "      <td>0.0</td>\n",
       "      <td>0.0</td>\n",
       "      <td>0.0</td>\n",
       "      <td>0.0</td>\n",
       "      <td>0.0</td>\n",
       "      <td>0.0</td>\n",
       "      <td>0.0</td>\n",
       "      <td>…</td>\n",
       "    </tr>\n",
       "  </tbody>\n",
       "</table>\n",
       "<p>2 rows × 33 columns</p>\n",
       "</div>"
      ],
      "text/plain": [
       "                    Année électorale  Participation  PLR  PDC   PS  UDC  Dém.  \\\n",
       "canton                                                                          \n",
       "Appenzell Rh. Int.            2015.0       36.11126  0.0  0.0  0.0  0.0   0.0   \n",
       "Grisons                       2018.0        0.00000  0.0  0.0  0.0  0.0   0.0   \n",
       "\n",
       "                    PLS  AdI  PEV  ...    PSL  Lega  MCR   LS   JB  Front  \\\n",
       "canton                             ...                                      \n",
       "Appenzell Rh. Int.  0.0  0.0  0.0  ...    0.0   0.0  0.0  0.0  0.0    0.0   \n",
       "Grisons             0.0  0.0  0.0  ...    0.0   0.0  0.0  0.0  0.0    0.0   \n",
       "\n",
       "                    Grut  Autres    K  Total  \n",
       "canton                                        \n",
       "Appenzell Rh. Int.   0.0     0.0  0.0      …  \n",
       "Grisons              0.0     0.0  0.0      …  \n",
       "\n",
       "[2 rows x 33 columns]"
      ]
     },
     "execution_count": 124,
     "metadata": {},
     "output_type": "execute_result"
    }
   ],
   "source": [
    "df[df.apply(lambda x: x[2:-1].sum() < 10e-6,axis=1)]"
   ]
  },
  {
   "cell_type": "markdown",
   "metadata": {},
   "source": [
    "### A)"
   ]
  },
  {
   "cell_type": "markdown",
   "metadata": {},
   "source": [
    "In this task and several others, we will need to color the 2 cantons with missing values black in order to indicate that data is missing for these two cantons. The following function will do just that and will be used throughout the assigment at several places."
   ]
  },
  {
   "cell_type": "code",
   "execution_count": 125,
   "metadata": {},
   "outputs": [],
   "source": [
    "def markCantonsWithMissingData(m, geo_json_data):\n",
    "    folium.TopoJson(\n",
    "    geo_json_data,\n",
    "    object_path='objects.cantons',\n",
    "    style_function=lambda feature: {\n",
    "        'fillOpacity': 1.0 if(feature['id'] == 'AI' or feature['id'] == \"GR\") else 0.0,\n",
    "        'fillColor' : 'black'\n",
    "        }\n",
    "    ).add_to(m)"
   ]
  },
  {
   "cell_type": "code",
   "execution_count": 126,
   "metadata": {},
   "outputs": [],
   "source": [
    "df_voters = df.copy()\n",
    "\n",
    "# We need to get the canton codes which is availible in cantons.csv\n",
    "cantons = pd.read_csv(data_folder + '/cantons.csv', index_col='Canton of')\n",
    "\n",
    "# The canton names in cantons.csv is in a different language compared to the canton names in df_voters.\n",
    "# However, the order of the cantons are identical between the two sources, we can therefore just extract\n",
    "# the canton code column and insert it as a new column in df_votes\n",
    "df_voters['code'] = cantons['Code'].tolist()\n",
    "\n",
    "# Create a folumn map and center it on Switzerland\n",
    "m = folium.Map(location=[46.94809, 7.44744], zoom_start=7)\n",
    "\n",
    "# Load overlay\n",
    "geo_path = data_folder + r'ch-cantons.topojson.json' \n",
    "geo_json_data = json.load(open(geo_path))\n",
    "\n",
    "# Remove the rows which correspond to the cantons with missing data\n",
    "df_voters_tmp = df_voters.query(\"canton!='Grisons' and canton!='Appenzell Rh. Int.'\")\n",
    "\n",
    "# Add the overlay to the map\n",
    "m.choropleth(geo_data=geo_json_data, \n",
    "             data=df_voters_tmp,\n",
    "             columns=['code','UDC'],\n",
    "             key_on='id',\n",
    "             topojson='objects.cantons',\n",
    "             fill_color='BuPu',\n",
    "             legend_name='Amount of votes for UDC (%)')\n",
    "\n",
    "\n",
    "# Add overlay in order to mark the cantons which has missing values\n",
    "markCantonsWithMissingData(m, geo_json_data)\n",
    "\n",
    "m.save('map_canton_porportions.html')"
   ]
  },
  {
   "cell_type": "code",
   "execution_count": 127,
   "metadata": {},
   "outputs": [
    {
     "data": {
      "text/html": [
       "<iframe src=map_canton_porportions.html width=100% height=600></iframe>"
      ],
      "text/plain": [
       "<IPython.core.display.HTML object>"
      ]
     },
     "metadata": {},
     "output_type": "display_data"
    }
   ],
   "source": [
    "display(HTML('<iframe src=' + 'map_canton_porportions.html' + ' width=100% height=600></iframe>'))"
   ]
  },
  {
   "cell_type": "markdown",
   "metadata": {},
   "source": [
    "**Cantons colored black are cantons where data is missing (Girgioni and Appentzell innerrhoden)**\n",
    "\n",
    "\n",
    "**It's easy to see in the above picture that UDC is more popular in the german speaking part compared to the french and italien speaking part. Ticino (which is the italian speaking canton) is the Canton where UDC has the lowest amount of voters. UDC seem to be more popular in the French compared to the Italian part but less popular than the german speaking part.**\n"
   ]
  },
  {
   "cell_type": "markdown",
   "metadata": {},
   "source": [
    "### B)"
   ]
  },
  {
   "cell_type": "markdown",
   "metadata": {},
   "source": [
    "#### Import and clean data"
   ]
  },
  {
   "cell_type": "code",
   "execution_count": 128,
   "metadata": {
    "scrolled": true
   },
   "outputs": [
    {
     "data": {
      "text/html": [
       "<div>\n",
       "<style scoped>\n",
       "    .dataframe tbody tr th:only-of-type {\n",
       "        vertical-align: middle;\n",
       "    }\n",
       "\n",
       "    .dataframe tbody tr th {\n",
       "        vertical-align: top;\n",
       "    }\n",
       "\n",
       "    .dataframe thead th {\n",
       "        text-align: right;\n",
       "    }\n",
       "</style>\n",
       "<table border=\"1\" class=\"dataframe\">\n",
       "  <thead>\n",
       "    <tr style=\"text-align: right;\">\n",
       "      <th></th>\n",
       "      <th>canton</th>\n",
       "      <th>population</th>\n",
       "      <th>total_voters</th>\n",
       "      <th>participation</th>\n",
       "    </tr>\n",
       "  </thead>\n",
       "  <tbody>\n",
       "    <tr>\n",
       "      <th>0</th>\n",
       "      <td>Zurich</td>\n",
       "      <td>907623.0</td>\n",
       "      <td>428837.0</td>\n",
       "      <td>47.248362</td>\n",
       "    </tr>\n",
       "    <tr>\n",
       "      <th>1</th>\n",
       "      <td>Berne</td>\n",
       "      <td>729203.0</td>\n",
       "      <td>357770.0</td>\n",
       "      <td>49.063155</td>\n",
       "    </tr>\n",
       "    <tr>\n",
       "      <th>2</th>\n",
       "      <td>Lucerne</td>\n",
       "      <td>271143.0</td>\n",
       "      <td>138096.0</td>\n",
       "      <td>50.931059</td>\n",
       "    </tr>\n",
       "    <tr>\n",
       "      <th>3</th>\n",
       "      <td>Uri</td>\n",
       "      <td>26414.0</td>\n",
       "      <td>15091.0</td>\n",
       "      <td>57.132581</td>\n",
       "    </tr>\n",
       "    <tr>\n",
       "      <th>4</th>\n",
       "      <td>Schwytz</td>\n",
       "      <td>102145.0</td>\n",
       "      <td>54857.0</td>\n",
       "      <td>53.705027</td>\n",
       "    </tr>\n",
       "  </tbody>\n",
       "</table>\n",
       "</div>"
      ],
      "text/plain": [
       "    canton  population  total_voters  participation\n",
       "0   Zurich    907623.0      428837.0      47.248362\n",
       "1    Berne    729203.0      357770.0      49.063155\n",
       "2  Lucerne    271143.0      138096.0      50.931059\n",
       "3      Uri     26414.0       15091.0      57.132581\n",
       "4  Schwytz    102145.0       54857.0      53.705027"
      ]
     },
     "execution_count": 128,
     "metadata": {},
     "output_type": "execute_result"
    }
   ],
   "source": [
    "df_number_of_voters = pd.read_excel(data_folder + 'national_council_elections.xlsx', \n",
    "                                    sheet_name='2015', \n",
    "                                    skiprows=8)\n",
    "df_number_of_voters.columns = ['canton', 'population', 'total_voters', 'participation']\n",
    "\n",
    "# Remove footer from excel file\n",
    "df_number_of_voters = df_number_of_voters.iloc[:26]\n",
    "\n",
    "# Remove suffixes from canton names.\n",
    "df_number_of_voters['canton'] = df_number_of_voters['canton'].map(lambda x: x[:x.find(')') - 2] if x.find(')') != -1 else x)\n",
    "\n",
    "# Three cantons has a slightly different name in the df_number_of_voters compared to df_voters, let's rename them!\n",
    "df_number_of_voters['canton'] = df_number_of_voters['canton'].apply(lambda x: 'St. Gall' if x == 'Saint-Gall' else x)\n",
    "df_number_of_voters['canton'] = df_number_of_voters['canton'].apply(lambda x: 'Appenzell Rh. Ext.' if x == 'Appenzell Rh.-Ext.' else x)\n",
    "df_number_of_voters['canton'] = df_number_of_voters['canton'].apply(lambda x: 'Appenzell Rh. Int.' if x == 'Appenzell Rh.-Int.' else x)\n",
    "\n",
    "df_number_of_voters.head()"
   ]
  },
  {
   "cell_type": "markdown",
   "metadata": {},
   "source": [
    "In order to get the total amount of votes for UDC, we need to join df_number_of_voters with df_voters"
   ]
  },
  {
   "cell_type": "code",
   "execution_count": 129,
   "metadata": {
    "scrolled": true
   },
   "outputs": [
    {
     "data": {
      "text/html": [
       "<div>\n",
       "<style scoped>\n",
       "    .dataframe tbody tr th:only-of-type {\n",
       "        vertical-align: middle;\n",
       "    }\n",
       "\n",
       "    .dataframe tbody tr th {\n",
       "        vertical-align: top;\n",
       "    }\n",
       "\n",
       "    .dataframe thead th {\n",
       "        text-align: right;\n",
       "    }\n",
       "</style>\n",
       "<table border=\"1\" class=\"dataframe\">\n",
       "  <thead>\n",
       "    <tr style=\"text-align: right;\">\n",
       "      <th></th>\n",
       "      <th>canton</th>\n",
       "      <th>population</th>\n",
       "      <th>total_voters</th>\n",
       "      <th>participation</th>\n",
       "      <th>Année électorale</th>\n",
       "      <th>Participation</th>\n",
       "      <th>PLR</th>\n",
       "      <th>PDC</th>\n",
       "      <th>PS</th>\n",
       "      <th>UDC</th>\n",
       "      <th>...</th>\n",
       "      <th>MCR</th>\n",
       "      <th>LS</th>\n",
       "      <th>JB</th>\n",
       "      <th>Front</th>\n",
       "      <th>Grut</th>\n",
       "      <th>Autres</th>\n",
       "      <th>K</th>\n",
       "      <th>Total</th>\n",
       "      <th>code</th>\n",
       "      <th>number_of_votes_udc</th>\n",
       "    </tr>\n",
       "  </thead>\n",
       "  <tbody>\n",
       "    <tr>\n",
       "      <th>0</th>\n",
       "      <td>Zurich</td>\n",
       "      <td>907623.0</td>\n",
       "      <td>428837.0</td>\n",
       "      <td>47.248362</td>\n",
       "      <td>2015.0</td>\n",
       "      <td>32.652497</td>\n",
       "      <td>17.327820</td>\n",
       "      <td>4.878712</td>\n",
       "      <td>19.716444</td>\n",
       "      <td>30.023215</td>\n",
       "      <td>...</td>\n",
       "      <td>0.000000</td>\n",
       "      <td>0.0</td>\n",
       "      <td>0.0</td>\n",
       "      <td>0.0</td>\n",
       "      <td>0.0</td>\n",
       "      <td>0.669707</td>\n",
       "      <td>0.0</td>\n",
       "      <td>100</td>\n",
       "      <td>ZH</td>\n",
       "      <td>128750</td>\n",
       "    </tr>\n",
       "    <tr>\n",
       "      <th>1</th>\n",
       "      <td>Berne</td>\n",
       "      <td>729203.0</td>\n",
       "      <td>357770.0</td>\n",
       "      <td>49.063155</td>\n",
       "      <td>2018.0</td>\n",
       "      <td>30.516313</td>\n",
       "      <td>11.717910</td>\n",
       "      <td>0.671415</td>\n",
       "      <td>22.328775</td>\n",
       "      <td>26.760869</td>\n",
       "      <td>...</td>\n",
       "      <td>0.000000</td>\n",
       "      <td>0.0</td>\n",
       "      <td>0.0</td>\n",
       "      <td>0.0</td>\n",
       "      <td>0.0</td>\n",
       "      <td>0.912781</td>\n",
       "      <td>0.0</td>\n",
       "      <td>100</td>\n",
       "      <td>BE</td>\n",
       "      <td>95742</td>\n",
       "    </tr>\n",
       "    <tr>\n",
       "      <th>2</th>\n",
       "      <td>Lucerne</td>\n",
       "      <td>271143.0</td>\n",
       "      <td>138096.0</td>\n",
       "      <td>50.931059</td>\n",
       "      <td>2015.0</td>\n",
       "      <td>38.741267</td>\n",
       "      <td>21.039516</td>\n",
       "      <td>30.862513</td>\n",
       "      <td>11.848915</td>\n",
       "      <td>24.115646</td>\n",
       "      <td>...</td>\n",
       "      <td>0.000000</td>\n",
       "      <td>0.0</td>\n",
       "      <td>0.0</td>\n",
       "      <td>0.0</td>\n",
       "      <td>0.0</td>\n",
       "      <td>0.036129</td>\n",
       "      <td>0.0</td>\n",
       "      <td>100</td>\n",
       "      <td>LU</td>\n",
       "      <td>33302</td>\n",
       "    </tr>\n",
       "    <tr>\n",
       "      <th>3</th>\n",
       "      <td>Uri</td>\n",
       "      <td>26414.0</td>\n",
       "      <td>15091.0</td>\n",
       "      <td>57.132581</td>\n",
       "      <td>2016.0</td>\n",
       "      <td>61.989056</td>\n",
       "      <td>26.856698</td>\n",
       "      <td>31.298814</td>\n",
       "      <td>12.984966</td>\n",
       "      <td>24.053191</td>\n",
       "      <td>...</td>\n",
       "      <td>0.000000</td>\n",
       "      <td>0.0</td>\n",
       "      <td>0.0</td>\n",
       "      <td>0.0</td>\n",
       "      <td>0.0</td>\n",
       "      <td>2.428270</td>\n",
       "      <td>0.0</td>\n",
       "      <td>100</td>\n",
       "      <td>UR</td>\n",
       "      <td>3629</td>\n",
       "    </tr>\n",
       "    <tr>\n",
       "      <th>4</th>\n",
       "      <td>Schwytz</td>\n",
       "      <td>102145.0</td>\n",
       "      <td>54857.0</td>\n",
       "      <td>53.705027</td>\n",
       "      <td>2016.0</td>\n",
       "      <td>37.747088</td>\n",
       "      <td>21.628996</td>\n",
       "      <td>27.167707</td>\n",
       "      <td>12.925363</td>\n",
       "      <td>33.115090</td>\n",
       "      <td>...</td>\n",
       "      <td>0.000000</td>\n",
       "      <td>0.0</td>\n",
       "      <td>0.0</td>\n",
       "      <td>0.0</td>\n",
       "      <td>0.0</td>\n",
       "      <td>1.513578</td>\n",
       "      <td>0.0</td>\n",
       "      <td>100</td>\n",
       "      <td>SZ</td>\n",
       "      <td>18165</td>\n",
       "    </tr>\n",
       "    <tr>\n",
       "      <th>5</th>\n",
       "      <td>Obwald</td>\n",
       "      <td>26244.0</td>\n",
       "      <td>15617.0</td>\n",
       "      <td>59.506935</td>\n",
       "      <td>2018.0</td>\n",
       "      <td>53.793314</td>\n",
       "      <td>17.174703</td>\n",
       "      <td>29.803630</td>\n",
       "      <td>15.090867</td>\n",
       "      <td>24.532303</td>\n",
       "      <td>...</td>\n",
       "      <td>0.000000</td>\n",
       "      <td>0.0</td>\n",
       "      <td>0.0</td>\n",
       "      <td>0.0</td>\n",
       "      <td>0.0</td>\n",
       "      <td>13.398497</td>\n",
       "      <td>0.0</td>\n",
       "      <td>100</td>\n",
       "      <td>OW</td>\n",
       "      <td>3831</td>\n",
       "    </tr>\n",
       "    <tr>\n",
       "      <th>6</th>\n",
       "      <td>Nidwald</td>\n",
       "      <td>30810.0</td>\n",
       "      <td>17971.0</td>\n",
       "      <td>58.328465</td>\n",
       "      <td>2018.0</td>\n",
       "      <td>54.921606</td>\n",
       "      <td>28.012430</td>\n",
       "      <td>26.750081</td>\n",
       "      <td>4.470053</td>\n",
       "      <td>25.916631</td>\n",
       "      <td>...</td>\n",
       "      <td>0.000000</td>\n",
       "      <td>0.0</td>\n",
       "      <td>0.0</td>\n",
       "      <td>0.0</td>\n",
       "      <td>0.0</td>\n",
       "      <td>1.446747</td>\n",
       "      <td>0.0</td>\n",
       "      <td>100</td>\n",
       "      <td>NW</td>\n",
       "      <td>4657</td>\n",
       "    </tr>\n",
       "    <tr>\n",
       "      <th>7</th>\n",
       "      <td>Glaris</td>\n",
       "      <td>26268.0</td>\n",
       "      <td>10890.0</td>\n",
       "      <td>41.457286</td>\n",
       "      <td>2018.0</td>\n",
       "      <td>29.489675</td>\n",
       "      <td>18.392812</td>\n",
       "      <td>9.400847</td>\n",
       "      <td>12.750408</td>\n",
       "      <td>25.275361</td>\n",
       "      <td>...</td>\n",
       "      <td>0.000000</td>\n",
       "      <td>0.0</td>\n",
       "      <td>0.0</td>\n",
       "      <td>0.0</td>\n",
       "      <td>0.0</td>\n",
       "      <td>1.803643</td>\n",
       "      <td>0.0</td>\n",
       "      <td>100</td>\n",
       "      <td>GL</td>\n",
       "      <td>2752</td>\n",
       "    </tr>\n",
       "    <tr>\n",
       "      <th>8</th>\n",
       "      <td>Zoug</td>\n",
       "      <td>74803.0</td>\n",
       "      <td>40200.0</td>\n",
       "      <td>53.741160</td>\n",
       "      <td>2014.0</td>\n",
       "      <td>42.939437</td>\n",
       "      <td>22.147887</td>\n",
       "      <td>26.783136</td>\n",
       "      <td>9.250912</td>\n",
       "      <td>23.631802</td>\n",
       "      <td>...</td>\n",
       "      <td>0.000000</td>\n",
       "      <td>0.0</td>\n",
       "      <td>0.0</td>\n",
       "      <td>0.0</td>\n",
       "      <td>0.0</td>\n",
       "      <td>1.579922</td>\n",
       "      <td>0.0</td>\n",
       "      <td>100</td>\n",
       "      <td>ZG</td>\n",
       "      <td>9499</td>\n",
       "    </tr>\n",
       "    <tr>\n",
       "      <th>9</th>\n",
       "      <td>Fribourg</td>\n",
       "      <td>196027.0</td>\n",
       "      <td>92462.0</td>\n",
       "      <td>47.167992</td>\n",
       "      <td>2016.0</td>\n",
       "      <td>39.302102</td>\n",
       "      <td>18.165508</td>\n",
       "      <td>23.707027</td>\n",
       "      <td>23.584309</td>\n",
       "      <td>19.717606</td>\n",
       "      <td>...</td>\n",
       "      <td>0.000000</td>\n",
       "      <td>0.0</td>\n",
       "      <td>0.0</td>\n",
       "      <td>0.0</td>\n",
       "      <td>0.0</td>\n",
       "      <td>3.973469</td>\n",
       "      <td>0.0</td>\n",
       "      <td>100</td>\n",
       "      <td>FR</td>\n",
       "      <td>18231</td>\n",
       "    </tr>\n",
       "    <tr>\n",
       "      <th>10</th>\n",
       "      <td>Soleure</td>\n",
       "      <td>177292.0</td>\n",
       "      <td>89049.0</td>\n",
       "      <td>50.227309</td>\n",
       "      <td>2017.0</td>\n",
       "      <td>35.346363</td>\n",
       "      <td>24.603659</td>\n",
       "      <td>18.928572</td>\n",
       "      <td>21.412308</td>\n",
       "      <td>19.734534</td>\n",
       "      <td>...</td>\n",
       "      <td>0.000000</td>\n",
       "      <td>0.0</td>\n",
       "      <td>0.0</td>\n",
       "      <td>0.0</td>\n",
       "      <td>0.0</td>\n",
       "      <td>0.203396</td>\n",
       "      <td>0.0</td>\n",
       "      <td>100</td>\n",
       "      <td>SO</td>\n",
       "      <td>17573</td>\n",
       "    </tr>\n",
       "    <tr>\n",
       "      <th>11</th>\n",
       "      <td>Bâle-Ville</td>\n",
       "      <td>113717.0</td>\n",
       "      <td>57308.0</td>\n",
       "      <td>50.395280</td>\n",
       "      <td>2016.0</td>\n",
       "      <td>41.659853</td>\n",
       "      <td>9.230169</td>\n",
       "      <td>5.852947</td>\n",
       "      <td>32.481128</td>\n",
       "      <td>14.297919</td>\n",
       "      <td>...</td>\n",
       "      <td>0.000000</td>\n",
       "      <td>0.0</td>\n",
       "      <td>0.0</td>\n",
       "      <td>0.0</td>\n",
       "      <td>0.0</td>\n",
       "      <td>2.587566</td>\n",
       "      <td>0.0</td>\n",
       "      <td>100</td>\n",
       "      <td>BS</td>\n",
       "      <td>8193</td>\n",
       "    </tr>\n",
       "    <tr>\n",
       "      <th>12</th>\n",
       "      <td>Bâle-Campagne</td>\n",
       "      <td>187863.0</td>\n",
       "      <td>87941.0</td>\n",
       "      <td>46.811240</td>\n",
       "      <td>2015.0</td>\n",
       "      <td>33.845621</td>\n",
       "      <td>19.029750</td>\n",
       "      <td>9.617786</td>\n",
       "      <td>21.995307</td>\n",
       "      <td>26.741611</td>\n",
       "      <td>...</td>\n",
       "      <td>0.000000</td>\n",
       "      <td>0.0</td>\n",
       "      <td>0.0</td>\n",
       "      <td>0.0</td>\n",
       "      <td>0.0</td>\n",
       "      <td>0.000000</td>\n",
       "      <td>0.0</td>\n",
       "      <td>100</td>\n",
       "      <td>BL</td>\n",
       "      <td>23516</td>\n",
       "    </tr>\n",
       "    <tr>\n",
       "      <th>13</th>\n",
       "      <td>Schaffhouse</td>\n",
       "      <td>51036.0</td>\n",
       "      <td>31969.0</td>\n",
       "      <td>62.640097</td>\n",
       "      <td>2016.0</td>\n",
       "      <td>53.909827</td>\n",
       "      <td>15.537288</td>\n",
       "      <td>3.668395</td>\n",
       "      <td>22.830538</td>\n",
       "      <td>35.072440</td>\n",
       "      <td>...</td>\n",
       "      <td>0.000000</td>\n",
       "      <td>0.0</td>\n",
       "      <td>0.0</td>\n",
       "      <td>0.0</td>\n",
       "      <td>0.0</td>\n",
       "      <td>0.000000</td>\n",
       "      <td>0.0</td>\n",
       "      <td>100</td>\n",
       "      <td>SH</td>\n",
       "      <td>11212</td>\n",
       "    </tr>\n",
       "    <tr>\n",
       "      <th>14</th>\n",
       "      <td>Appenzell Rh. Ext.</td>\n",
       "      <td>38498.0</td>\n",
       "      <td>18131.0</td>\n",
       "      <td>47.095953</td>\n",
       "      <td>2015.0</td>\n",
       "      <td>36.111260</td>\n",
       "      <td>35.526730</td>\n",
       "      <td>6.037578</td>\n",
       "      <td>11.475833</td>\n",
       "      <td>16.281936</td>\n",
       "      <td>...</td>\n",
       "      <td>0.000000</td>\n",
       "      <td>0.0</td>\n",
       "      <td>0.0</td>\n",
       "      <td>0.0</td>\n",
       "      <td>0.0</td>\n",
       "      <td>28.528551</td>\n",
       "      <td>0.0</td>\n",
       "      <td>100</td>\n",
       "      <td>AR</td>\n",
       "      <td>2952</td>\n",
       "    </tr>\n",
       "    <tr>\n",
       "      <th>15</th>\n",
       "      <td>Appenzell Rh. Int.</td>\n",
       "      <td>11565.0</td>\n",
       "      <td>4247.0</td>\n",
       "      <td>36.722871</td>\n",
       "      <td>2015.0</td>\n",
       "      <td>36.111260</td>\n",
       "      <td>0.000000</td>\n",
       "      <td>0.000000</td>\n",
       "      <td>0.000000</td>\n",
       "      <td>0.000000</td>\n",
       "      <td>...</td>\n",
       "      <td>0.000000</td>\n",
       "      <td>0.0</td>\n",
       "      <td>0.0</td>\n",
       "      <td>0.0</td>\n",
       "      <td>0.0</td>\n",
       "      <td>0.000000</td>\n",
       "      <td>0.0</td>\n",
       "      <td>…</td>\n",
       "      <td>AI</td>\n",
       "      <td>0</td>\n",
       "    </tr>\n",
       "    <tr>\n",
       "      <th>16</th>\n",
       "      <td>St. Gall</td>\n",
       "      <td>317969.0</td>\n",
       "      <td>147749.0</td>\n",
       "      <td>46.466479</td>\n",
       "      <td>2016.0</td>\n",
       "      <td>45.339739</td>\n",
       "      <td>20.257859</td>\n",
       "      <td>20.377449</td>\n",
       "      <td>15.966947</td>\n",
       "      <td>29.549176</td>\n",
       "      <td>...</td>\n",
       "      <td>0.000000</td>\n",
       "      <td>0.0</td>\n",
       "      <td>0.0</td>\n",
       "      <td>0.0</td>\n",
       "      <td>0.0</td>\n",
       "      <td>1.054452</td>\n",
       "      <td>0.0</td>\n",
       "      <td>100</td>\n",
       "      <td>SG</td>\n",
       "      <td>43658</td>\n",
       "    </tr>\n",
       "    <tr>\n",
       "      <th>17</th>\n",
       "      <td>Grisons</td>\n",
       "      <td>137126.0</td>\n",
       "      <td>63053.0</td>\n",
       "      <td>45.981798</td>\n",
       "      <td>2018.0</td>\n",
       "      <td>0.000000</td>\n",
       "      <td>0.000000</td>\n",
       "      <td>0.000000</td>\n",
       "      <td>0.000000</td>\n",
       "      <td>0.000000</td>\n",
       "      <td>...</td>\n",
       "      <td>0.000000</td>\n",
       "      <td>0.0</td>\n",
       "      <td>0.0</td>\n",
       "      <td>0.0</td>\n",
       "      <td>0.0</td>\n",
       "      <td>0.000000</td>\n",
       "      <td>0.0</td>\n",
       "      <td>…</td>\n",
       "      <td>GR</td>\n",
       "      <td>0</td>\n",
       "    </tr>\n",
       "    <tr>\n",
       "      <th>18</th>\n",
       "      <td>Argovie</td>\n",
       "      <td>414745.0</td>\n",
       "      <td>200147.0</td>\n",
       "      <td>48.257845</td>\n",
       "      <td>2016.0</td>\n",
       "      <td>32.805153</td>\n",
       "      <td>15.997428</td>\n",
       "      <td>12.103790</td>\n",
       "      <td>18.918913</td>\n",
       "      <td>31.937510</td>\n",
       "      <td>...</td>\n",
       "      <td>0.000000</td>\n",
       "      <td>0.0</td>\n",
       "      <td>0.0</td>\n",
       "      <td>0.0</td>\n",
       "      <td>0.0</td>\n",
       "      <td>0.207173</td>\n",
       "      <td>0.0</td>\n",
       "      <td>100</td>\n",
       "      <td>AG</td>\n",
       "      <td>63921</td>\n",
       "    </tr>\n",
       "    <tr>\n",
       "      <th>19</th>\n",
       "      <td>Thurgovie</td>\n",
       "      <td>167720.0</td>\n",
       "      <td>78192.0</td>\n",
       "      <td>46.620558</td>\n",
       "      <td>2016.0</td>\n",
       "      <td>30.376372</td>\n",
       "      <td>15.629292</td>\n",
       "      <td>13.395754</td>\n",
       "      <td>13.093600</td>\n",
       "      <td>32.555828</td>\n",
       "      <td>...</td>\n",
       "      <td>0.000000</td>\n",
       "      <td>0.0</td>\n",
       "      <td>0.0</td>\n",
       "      <td>0.0</td>\n",
       "      <td>0.0</td>\n",
       "      <td>0.000000</td>\n",
       "      <td>0.0</td>\n",
       "      <td>100</td>\n",
       "      <td>TG</td>\n",
       "      <td>25456</td>\n",
       "    </tr>\n",
       "    <tr>\n",
       "      <th>20</th>\n",
       "      <td>Tessin</td>\n",
       "      <td>218580.0</td>\n",
       "      <td>118855.0</td>\n",
       "      <td>54.375972</td>\n",
       "      <td>2015.0</td>\n",
       "      <td>62.265919</td>\n",
       "      <td>26.728596</td>\n",
       "      <td>18.583358</td>\n",
       "      <td>14.636514</td>\n",
       "      <td>4.286326</td>\n",
       "      <td>...</td>\n",
       "      <td>0.000000</td>\n",
       "      <td>0.0</td>\n",
       "      <td>0.0</td>\n",
       "      <td>0.0</td>\n",
       "      <td>0.0</td>\n",
       "      <td>4.062572</td>\n",
       "      <td>0.0</td>\n",
       "      <td>100</td>\n",
       "      <td>TI</td>\n",
       "      <td>5094</td>\n",
       "    </tr>\n",
       "    <tr>\n",
       "      <th>21</th>\n",
       "      <td>Vaud</td>\n",
       "      <td>428569.0</td>\n",
       "      <td>183970.0</td>\n",
       "      <td>42.926577</td>\n",
       "      <td>2017.0</td>\n",
       "      <td>38.924626</td>\n",
       "      <td>33.068194</td>\n",
       "      <td>2.213533</td>\n",
       "      <td>23.438908</td>\n",
       "      <td>15.842675</td>\n",
       "      <td>...</td>\n",
       "      <td>0.000000</td>\n",
       "      <td>0.0</td>\n",
       "      <td>0.0</td>\n",
       "      <td>0.0</td>\n",
       "      <td>0.0</td>\n",
       "      <td>3.411812</td>\n",
       "      <td>0.0</td>\n",
       "      <td>100</td>\n",
       "      <td>VD</td>\n",
       "      <td>29145</td>\n",
       "    </tr>\n",
       "    <tr>\n",
       "      <th>22</th>\n",
       "      <td>Valais</td>\n",
       "      <td>216041.0</td>\n",
       "      <td>129103.0</td>\n",
       "      <td>59.758564</td>\n",
       "      <td>2017.0</td>\n",
       "      <td>57.526502</td>\n",
       "      <td>20.150159</td>\n",
       "      <td>41.742451</td>\n",
       "      <td>10.451658</td>\n",
       "      <td>16.437539</td>\n",
       "      <td>...</td>\n",
       "      <td>0.000000</td>\n",
       "      <td>0.0</td>\n",
       "      <td>0.0</td>\n",
       "      <td>0.0</td>\n",
       "      <td>0.0</td>\n",
       "      <td>2.226560</td>\n",
       "      <td>0.0</td>\n",
       "      <td>100</td>\n",
       "      <td>VS</td>\n",
       "      <td>21221</td>\n",
       "    </tr>\n",
       "    <tr>\n",
       "      <th>23</th>\n",
       "      <td>Neuchâtel</td>\n",
       "      <td>111304.0</td>\n",
       "      <td>46510.0</td>\n",
       "      <td>41.786459</td>\n",
       "      <td>2017.0</td>\n",
       "      <td>33.441324</td>\n",
       "      <td>33.353683</td>\n",
       "      <td>2.680728</td>\n",
       "      <td>23.582051</td>\n",
       "      <td>11.489286</td>\n",
       "      <td>...</td>\n",
       "      <td>0.000000</td>\n",
       "      <td>0.0</td>\n",
       "      <td>0.0</td>\n",
       "      <td>0.0</td>\n",
       "      <td>0.0</td>\n",
       "      <td>0.000000</td>\n",
       "      <td>0.0</td>\n",
       "      <td>100</td>\n",
       "      <td>NE</td>\n",
       "      <td>5343</td>\n",
       "    </tr>\n",
       "    <tr>\n",
       "      <th>24</th>\n",
       "      <td>Genève</td>\n",
       "      <td>248915.0</td>\n",
       "      <td>106852.0</td>\n",
       "      <td>42.927104</td>\n",
       "      <td>2018.0</td>\n",
       "      <td>37.719442</td>\n",
       "      <td>25.183926</td>\n",
       "      <td>10.712970</td>\n",
       "      <td>15.299358</td>\n",
       "      <td>7.315683</td>\n",
       "      <td>...</td>\n",
       "      <td>9.432303</td>\n",
       "      <td>0.0</td>\n",
       "      <td>0.0</td>\n",
       "      <td>0.0</td>\n",
       "      <td>0.0</td>\n",
       "      <td>10.090401</td>\n",
       "      <td>0.0</td>\n",
       "      <td>100</td>\n",
       "      <td>GE</td>\n",
       "      <td>7816</td>\n",
       "    </tr>\n",
       "    <tr>\n",
       "      <th>25</th>\n",
       "      <td>Jura</td>\n",
       "      <td>51936.0</td>\n",
       "      <td>28185.0</td>\n",
       "      <td>54.268715</td>\n",
       "      <td>2015.0</td>\n",
       "      <td>50.570590</td>\n",
       "      <td>15.433764</td>\n",
       "      <td>26.784772</td>\n",
       "      <td>20.047550</td>\n",
       "      <td>11.980336</td>\n",
       "      <td>...</td>\n",
       "      <td>0.000000</td>\n",
       "      <td>0.0</td>\n",
       "      <td>0.0</td>\n",
       "      <td>0.0</td>\n",
       "      <td>0.0</td>\n",
       "      <td>1.800344</td>\n",
       "      <td>0.0</td>\n",
       "      <td>100</td>\n",
       "      <td>JU</td>\n",
       "      <td>3376</td>\n",
       "    </tr>\n",
       "  </tbody>\n",
       "</table>\n",
       "<p>26 rows × 39 columns</p>\n",
       "</div>"
      ],
      "text/plain": [
       "                canton  population  total_voters  participation  \\\n",
       "0               Zurich    907623.0      428837.0      47.248362   \n",
       "1                Berne    729203.0      357770.0      49.063155   \n",
       "2              Lucerne    271143.0      138096.0      50.931059   \n",
       "3                  Uri     26414.0       15091.0      57.132581   \n",
       "4              Schwytz    102145.0       54857.0      53.705027   \n",
       "5               Obwald     26244.0       15617.0      59.506935   \n",
       "6              Nidwald     30810.0       17971.0      58.328465   \n",
       "7               Glaris     26268.0       10890.0      41.457286   \n",
       "8                 Zoug     74803.0       40200.0      53.741160   \n",
       "9             Fribourg    196027.0       92462.0      47.167992   \n",
       "10             Soleure    177292.0       89049.0      50.227309   \n",
       "11          Bâle-Ville    113717.0       57308.0      50.395280   \n",
       "12       Bâle-Campagne    187863.0       87941.0      46.811240   \n",
       "13         Schaffhouse     51036.0       31969.0      62.640097   \n",
       "14  Appenzell Rh. Ext.     38498.0       18131.0      47.095953   \n",
       "15  Appenzell Rh. Int.     11565.0        4247.0      36.722871   \n",
       "16            St. Gall    317969.0      147749.0      46.466479   \n",
       "17             Grisons    137126.0       63053.0      45.981798   \n",
       "18             Argovie    414745.0      200147.0      48.257845   \n",
       "19           Thurgovie    167720.0       78192.0      46.620558   \n",
       "20              Tessin    218580.0      118855.0      54.375972   \n",
       "21                Vaud    428569.0      183970.0      42.926577   \n",
       "22              Valais    216041.0      129103.0      59.758564   \n",
       "23           Neuchâtel    111304.0       46510.0      41.786459   \n",
       "24              Genève    248915.0      106852.0      42.927104   \n",
       "25                Jura     51936.0       28185.0      54.268715   \n",
       "\n",
       "    Année électorale  Participation        PLR        PDC         PS  \\\n",
       "0             2015.0      32.652497  17.327820   4.878712  19.716444   \n",
       "1             2018.0      30.516313  11.717910   0.671415  22.328775   \n",
       "2             2015.0      38.741267  21.039516  30.862513  11.848915   \n",
       "3             2016.0      61.989056  26.856698  31.298814  12.984966   \n",
       "4             2016.0      37.747088  21.628996  27.167707  12.925363   \n",
       "5             2018.0      53.793314  17.174703  29.803630  15.090867   \n",
       "6             2018.0      54.921606  28.012430  26.750081   4.470053   \n",
       "7             2018.0      29.489675  18.392812   9.400847  12.750408   \n",
       "8             2014.0      42.939437  22.147887  26.783136   9.250912   \n",
       "9             2016.0      39.302102  18.165508  23.707027  23.584309   \n",
       "10            2017.0      35.346363  24.603659  18.928572  21.412308   \n",
       "11            2016.0      41.659853   9.230169   5.852947  32.481128   \n",
       "12            2015.0      33.845621  19.029750   9.617786  21.995307   \n",
       "13            2016.0      53.909827  15.537288   3.668395  22.830538   \n",
       "14            2015.0      36.111260  35.526730   6.037578  11.475833   \n",
       "15            2015.0      36.111260   0.000000   0.000000   0.000000   \n",
       "16            2016.0      45.339739  20.257859  20.377449  15.966947   \n",
       "17            2018.0       0.000000   0.000000   0.000000   0.000000   \n",
       "18            2016.0      32.805153  15.997428  12.103790  18.918913   \n",
       "19            2016.0      30.376372  15.629292  13.395754  13.093600   \n",
       "20            2015.0      62.265919  26.728596  18.583358  14.636514   \n",
       "21            2017.0      38.924626  33.068194   2.213533  23.438908   \n",
       "22            2017.0      57.526502  20.150159  41.742451  10.451658   \n",
       "23            2017.0      33.441324  33.353683   2.680728  23.582051   \n",
       "24            2018.0      37.719442  25.183926  10.712970  15.299358   \n",
       "25            2015.0      50.570590  15.433764  26.784772  20.047550   \n",
       "\n",
       "          UDC         ...                MCR   LS   JB  Front  Grut  \\\n",
       "0   30.023215         ...           0.000000  0.0  0.0    0.0   0.0   \n",
       "1   26.760869         ...           0.000000  0.0  0.0    0.0   0.0   \n",
       "2   24.115646         ...           0.000000  0.0  0.0    0.0   0.0   \n",
       "3   24.053191         ...           0.000000  0.0  0.0    0.0   0.0   \n",
       "4   33.115090         ...           0.000000  0.0  0.0    0.0   0.0   \n",
       "5   24.532303         ...           0.000000  0.0  0.0    0.0   0.0   \n",
       "6   25.916631         ...           0.000000  0.0  0.0    0.0   0.0   \n",
       "7   25.275361         ...           0.000000  0.0  0.0    0.0   0.0   \n",
       "8   23.631802         ...           0.000000  0.0  0.0    0.0   0.0   \n",
       "9   19.717606         ...           0.000000  0.0  0.0    0.0   0.0   \n",
       "10  19.734534         ...           0.000000  0.0  0.0    0.0   0.0   \n",
       "11  14.297919         ...           0.000000  0.0  0.0    0.0   0.0   \n",
       "12  26.741611         ...           0.000000  0.0  0.0    0.0   0.0   \n",
       "13  35.072440         ...           0.000000  0.0  0.0    0.0   0.0   \n",
       "14  16.281936         ...           0.000000  0.0  0.0    0.0   0.0   \n",
       "15   0.000000         ...           0.000000  0.0  0.0    0.0   0.0   \n",
       "16  29.549176         ...           0.000000  0.0  0.0    0.0   0.0   \n",
       "17   0.000000         ...           0.000000  0.0  0.0    0.0   0.0   \n",
       "18  31.937510         ...           0.000000  0.0  0.0    0.0   0.0   \n",
       "19  32.555828         ...           0.000000  0.0  0.0    0.0   0.0   \n",
       "20   4.286326         ...           0.000000  0.0  0.0    0.0   0.0   \n",
       "21  15.842675         ...           0.000000  0.0  0.0    0.0   0.0   \n",
       "22  16.437539         ...           0.000000  0.0  0.0    0.0   0.0   \n",
       "23  11.489286         ...           0.000000  0.0  0.0    0.0   0.0   \n",
       "24   7.315683         ...           9.432303  0.0  0.0    0.0   0.0   \n",
       "25  11.980336         ...           0.000000  0.0  0.0    0.0   0.0   \n",
       "\n",
       "       Autres    K  Total  code  number_of_votes_udc  \n",
       "0    0.669707  0.0    100    ZH               128750  \n",
       "1    0.912781  0.0    100    BE                95742  \n",
       "2    0.036129  0.0    100    LU                33302  \n",
       "3    2.428270  0.0    100    UR                 3629  \n",
       "4    1.513578  0.0    100    SZ                18165  \n",
       "5   13.398497  0.0    100    OW                 3831  \n",
       "6    1.446747  0.0    100    NW                 4657  \n",
       "7    1.803643  0.0    100    GL                 2752  \n",
       "8    1.579922  0.0    100    ZG                 9499  \n",
       "9    3.973469  0.0    100    FR                18231  \n",
       "10   0.203396  0.0    100    SO                17573  \n",
       "11   2.587566  0.0    100    BS                 8193  \n",
       "12   0.000000  0.0    100    BL                23516  \n",
       "13   0.000000  0.0    100    SH                11212  \n",
       "14  28.528551  0.0    100    AR                 2952  \n",
       "15   0.000000  0.0      …    AI                    0  \n",
       "16   1.054452  0.0    100    SG                43658  \n",
       "17   0.000000  0.0      …    GR                    0  \n",
       "18   0.207173  0.0    100    AG                63921  \n",
       "19   0.000000  0.0    100    TG                25456  \n",
       "20   4.062572  0.0    100    TI                 5094  \n",
       "21   3.411812  0.0    100    VD                29145  \n",
       "22   2.226560  0.0    100    VS                21221  \n",
       "23   0.000000  0.0    100    NE                 5343  \n",
       "24  10.090401  0.0    100    GE                 7816  \n",
       "25   1.800344  0.0    100    JU                 3376  \n",
       "\n",
       "[26 rows x 39 columns]"
      ]
     },
     "execution_count": 129,
     "metadata": {},
     "output_type": "execute_result"
    }
   ],
   "source": [
    "# Join with df_voters to get canton codes.\n",
    "df_number_of_voters = df_number_of_voters.join(df_voters, on='canton', how='inner')\n",
    "\n",
    "# Calculate the total amount of votes for UDC in each canton.\n",
    "df_number_of_voters['number_of_votes_udc'] = df_number_of_voters['total_voters'] * (df_number_of_voters['UDC']/100)\n",
    "df_number_of_voters['number_of_votes_udc'] = df_number_of_voters['number_of_votes_udc'].astype(int)\n",
    "\n",
    "df_number_of_voters"
   ]
  },
  {
   "cell_type": "markdown",
   "metadata": {},
   "source": [
    "Plot the amount of voters of UDC in a folium map:"
   ]
  },
  {
   "cell_type": "code",
   "execution_count": 130,
   "metadata": {},
   "outputs": [],
   "source": [
    "m = folium.Map(location=[46.94809, 7.44744], zoom_start=7)\n",
    "geo_path = data_folder + r'ch-cantons.topojson.json' \n",
    "geo_json_data = json.load(open(geo_path))\n",
    "\n",
    "# Remove the rows which correspond to the canton with missing values\n",
    "df_number_of_voters_tmp = df_number_of_voters.query(\"canton!='Grisons' and canton!='Appenzell Rh. Int.'\")\n",
    "\n",
    "# Plot\n",
    "m.choropleth(geo_data=geo_json_data, \n",
    "             data=df_number_of_voters_tmp,\n",
    "             columns=['code','number_of_votes_udc'],\n",
    "             key_on='id',\n",
    "             topojson='objects.cantons',\n",
    "             fill_color='BuPu',\n",
    "             legend_name='Total number of votes for UDC')\n",
    "\n",
    "\n",
    "# Add overlay in order to mark the cantons which has missing values\n",
    "markCantonsWithMissingData(m, geo_json_data)\n",
    "\n",
    "m.save('map_canton_absolute.html')"
   ]
  },
  {
   "cell_type": "code",
   "execution_count": 131,
   "metadata": {},
   "outputs": [
    {
     "data": {
      "text/html": [
       "<iframe src=map_canton_absolute.html width=100% height=600></iframe>"
      ],
      "text/plain": [
       "<IPython.core.display.HTML object>"
      ]
     },
     "metadata": {},
     "output_type": "display_data"
    }
   ],
   "source": [
    "display(HTML('<iframe src=' + 'map_canton_absolute.html' + ' width=100% height=600></iframe>'))"
   ]
  },
  {
   "cell_type": "markdown",
   "metadata": {},
   "source": [
    "**Cantons colored black are cantons where data is missing (Girgioni and Appentzell innerrhoden)**"
   ]
  },
  {
   "cell_type": "markdown",
   "metadata": {},
   "source": [
    "### C)"
   ]
  },
  {
   "cell_type": "markdown",
   "metadata": {},
   "source": [
    "The first plot (the one that shows %) is better for cantonal parliament elections since it clearly displays \n",
    "the percentage of votes UDC got in each canton which is what matters in cantonal parliament elections.\n",
    "\n",
    "None of maps are very informative in the case of national election with majority. The problem with the first map is that we only see porpotions of votes in each canton but nothing about the population of each canton. For instance, if one canton account for 90% of the total population of Switzerland, one party could get a high % of votes in only this canton and 0% in the rest and still win the election. This information is not reflected in the first plot. In order to make the first map more useful for national election with majority, it needs to be complemented with information about the total population of each canton. \n",
    "\n",
    "The issue with the second plot is that it says nothing about the total popluation of Switzerland and hence it's useless for someone who does not have this knowledge. If the total population of Switzerland would also be displayed in the map, then it would be more informative (assuming the reader of the map has basic math skills). However, it's still not ideal."
   ]
  },
  {
   "cell_type": "markdown",
   "metadata": {},
   "source": [
    "## Task 3: More socialism or more nationalism?\n",
    "\n",
    "In this section, we focus on two parties that are representative of the left and the right on the Swiss political spectrum. You will propose a way to visualize their influence over time and for each canton.\n",
    "\n",
    "__A)__ Take the two parties [`UDC`](https://en.wikipedia.org/wiki/Swiss_People%27s_Party) (Union démocratique du centre) and [`PS`](https://en.wikipedia.org/wiki/Social_Democratic_Party_of_Switzerland) (Parti socialiste suisse). For each canton, we define 'right lean' in a certain period as follows:\n",
    "\n",
    "$$\\frac{VoteShare_{UDC} - VoteShare_{PS}}{VoteShare_{UDC} + VoteShare_{PS}}$$  \n",
    "\n",
    "Visualize the right lean of each canton on the map. What conclusions can you draw this time? Can you observe the [röstigraben](https://en.wikipedia.org/wiki/R%C3%B6stigraben) ?\n",
    "\n",
    "__B)__ For each party, devise a way to visualize the difference between its 2014-2018 vote share (i.e. percentage) and its 2010-2013 vote share for each canton. Propose a way to visualize this evolution of the party over time, and justify your choices. There's no single correct answer, but you must reasonably explain your choices."
   ]
  },
  {
   "cell_type": "markdown",
   "metadata": {
    "collapsed": true
   },
   "source": [
    "### A)"
   ]
  },
  {
   "cell_type": "code",
   "execution_count": 132,
   "metadata": {},
   "outputs": [],
   "source": [
    "\n",
    "def right_leaning(canton):\n",
    "    right_lean = df_number_of_voters.loc[df_number_of_voters['code'] == canton, 'right_lean'].values[0]\n",
    "    if right_lean > 0:\n",
    "        return '#67a9cf'\n",
    "    else:\n",
    "        return '#ef8a62'\n",
    "\n",
    "# Calculate the voteshare of PS\n",
    "df_number_of_voters['number_of_votes_ps'] =  df_number_of_voters['total_voters'] * (df_number_of_voters['PS']/100)\n",
    "\n",
    "# Calculate the right lean quantity\n",
    "ps_votes = df_number_of_voters['number_of_votes_ps']\n",
    "udc_votes = df_number_of_voters['number_of_votes_udc'] \n",
    "df_number_of_voters['right_lean'] = (udc_votes - ps_votes) / (ps_votes + udc_votes)\n",
    "df_number_of_voters = df_number_of_voters.fillna(0)\n",
    "\n",
    "\n",
    "# Display map\n",
    "m = folium.Map(location=[46.94809, 7.44744], zoom_start=7)\n",
    "geo_path = data_folder + r'ch-cantons.topojson.json' \n",
    "geo_json_data = json.load(open(geo_path))\n",
    "folium.TopoJson(\n",
    "    geo_json_data,\n",
    "    object_path='objects.cantons',\n",
    "    style_function=lambda feature: {\n",
    "        'fillColor': right_leaning(feature['id']),\n",
    "        'color' : 'black',\n",
    "        'weight' : 2.0,\n",
    "        'dashArray' : '5, 5',\n",
    "        'fillOpacity': 0.7,\n",
    "\n",
    "        }\n",
    ").add_to(m)\n",
    "\n",
    "# Add overlay in order to mark the cantons which has missing values\n",
    "markCantonsWithMissingData(m, geo_json_data)\n",
    "\n",
    "m.save('map_right_lean.html')"
   ]
  },
  {
   "cell_type": "code",
   "execution_count": 133,
   "metadata": {},
   "outputs": [
    {
     "data": {
      "text/html": [
       "<iframe src=map_right_lean.html width=100% height=600></iframe>"
      ],
      "text/plain": [
       "<IPython.core.display.HTML object>"
      ]
     },
     "metadata": {},
     "output_type": "display_data"
    }
   ],
   "source": [
    "display(HTML('<iframe src=' + 'map_right_lean.html' + ' width=100% height=600></iframe>'))"
   ]
  },
  {
   "cell_type": "markdown",
   "metadata": {},
   "source": [
    "**You can clearly observe the röstigraben in the map. The german speaking part seem to be more right leaning compared to both the french and italian part of Switzerland. The only french speaking canton which has a positive right lean value is valais. The cantons colored in black are cantons where data is missing.**"
   ]
  },
  {
   "cell_type": "markdown",
   "metadata": {},
   "source": [
    "### B)"
   ]
  },
  {
   "cell_type": "markdown",
   "metadata": {},
   "source": [
    "We are going to import the 2010-2013 vote share data. We already have the 2014-2018 one from the previous tasks."
   ]
  },
  {
   "cell_type": "code",
   "execution_count": 135,
   "metadata": {},
   "outputs": [],
   "source": [
    "#data for 2014-2018 period\n",
    "df1 = df_voters.copy()\n",
    "\n",
    "#data for 2010-2013 period\n",
    "df2 = pd.read_excel(data_folder + 'voters.xls', sheet_name='2010-2013', header=[2])\n",
    "# Set correct index\n",
    "df2 = df2.set_index('Unnamed: 0')\n",
    "df2.index.name = \"canton\"\n",
    "\n",
    "df2 = df2[df2.filter(regex='^(?!Unnamed)').columns]\n",
    "#First two lines contain junk\n",
    "df2 = df2.iloc[2:]\n",
    "# We don't want the end of the file which is the document footer.\n",
    "df2 = df2.iloc[:30]\n",
    "# There are also a few blank rows in the excel files which we need to remove\n",
    "df2 = df2[df2.index.isnull() == False]\n",
    "# Rreplace all nan values with 0, as in 0% votes.\n",
    "df2 = df2.fillna(0)\n",
    "\n",
    "# remove paranthesis that is contained in some indexes and in some col\n",
    "df2.index = df2.index.map(lambda x: x[:x.find(')') - 2].strip() if x.find(')') != -1 else x.strip())\n",
    "df2.columns = df2.columns.map(lambda x: x[:x.find(')') - 2].strip() if x.find(')') != -1 else x.strip())"
   ]
  },
  {
   "cell_type": "markdown",
   "metadata": {},
   "source": [
    "As can be seen, pre-processing of 2010-2013 was the same as in previous tasks where we pre-processed the 2014-2018 data. \n",
    "\n",
    "We are going to calculate the change in vote share for both parties."
   ]
  },
  {
   "cell_type": "code",
   "execution_count": 136,
   "metadata": {},
   "outputs": [
    {
     "data": {
      "text/html": [
       "<div>\n",
       "<style scoped>\n",
       "    .dataframe tbody tr th:only-of-type {\n",
       "        vertical-align: middle;\n",
       "    }\n",
       "\n",
       "    .dataframe tbody tr th {\n",
       "        vertical-align: top;\n",
       "    }\n",
       "\n",
       "    .dataframe thead th {\n",
       "        text-align: right;\n",
       "    }\n",
       "</style>\n",
       "<table border=\"1\" class=\"dataframe\">\n",
       "  <thead>\n",
       "    <tr style=\"text-align: right;\">\n",
       "      <th></th>\n",
       "      <th>UDC_2018</th>\n",
       "      <th>PS_2018</th>\n",
       "      <th>code</th>\n",
       "      <th>UDC_2013</th>\n",
       "      <th>PS_2013</th>\n",
       "      <th>UDC_change</th>\n",
       "      <th>PS_change</th>\n",
       "    </tr>\n",
       "    <tr>\n",
       "      <th>canton</th>\n",
       "      <th></th>\n",
       "      <th></th>\n",
       "      <th></th>\n",
       "      <th></th>\n",
       "      <th></th>\n",
       "      <th></th>\n",
       "      <th></th>\n",
       "    </tr>\n",
       "  </thead>\n",
       "  <tbody>\n",
       "    <tr>\n",
       "      <th>Zurich</th>\n",
       "      <td>30.023215</td>\n",
       "      <td>19.716444</td>\n",
       "      <td>ZH</td>\n",
       "      <td>29.635552</td>\n",
       "      <td>19.317182</td>\n",
       "      <td>1.308102</td>\n",
       "      <td>2.066871</td>\n",
       "    </tr>\n",
       "    <tr>\n",
       "      <th>Berne</th>\n",
       "      <td>26.760869</td>\n",
       "      <td>22.328775</td>\n",
       "      <td>BE</td>\n",
       "      <td>26.621577</td>\n",
       "      <td>18.852832</td>\n",
       "      <td>0.523232</td>\n",
       "      <td>18.437243</td>\n",
       "    </tr>\n",
       "    <tr>\n",
       "      <th>Lucerne</th>\n",
       "      <td>24.115646</td>\n",
       "      <td>11.848915</td>\n",
       "      <td>LU</td>\n",
       "      <td>22.126508</td>\n",
       "      <td>10.964228</td>\n",
       "      <td>8.989840</td>\n",
       "      <td>8.068852</td>\n",
       "    </tr>\n",
       "    <tr>\n",
       "      <th>Uri</th>\n",
       "      <td>24.053191</td>\n",
       "      <td>12.984966</td>\n",
       "      <td>UR</td>\n",
       "      <td>24.629866</td>\n",
       "      <td>12.085318</td>\n",
       "      <td>-2.341368</td>\n",
       "      <td>7.444143</td>\n",
       "    </tr>\n",
       "    <tr>\n",
       "      <th>Schwytz</th>\n",
       "      <td>33.115090</td>\n",
       "      <td>12.925363</td>\n",
       "      <td>SZ</td>\n",
       "      <td>34.004523</td>\n",
       "      <td>12.381160</td>\n",
       "      <td>-2.615632</td>\n",
       "      <td>4.395413</td>\n",
       "    </tr>\n",
       "  </tbody>\n",
       "</table>\n",
       "</div>"
      ],
      "text/plain": [
       "          UDC_2018    PS_2018 code   UDC_2013    PS_2013  UDC_change  \\\n",
       "canton                                                                 \n",
       "Zurich   30.023215  19.716444   ZH  29.635552  19.317182    1.308102   \n",
       "Berne    26.760869  22.328775   BE  26.621577  18.852832    0.523232   \n",
       "Lucerne  24.115646  11.848915   LU  22.126508  10.964228    8.989840   \n",
       "Uri      24.053191  12.984966   UR  24.629866  12.085318   -2.341368   \n",
       "Schwytz  33.115090  12.925363   SZ  34.004523  12.381160   -2.615632   \n",
       "\n",
       "         PS_change  \n",
       "canton              \n",
       "Zurich    2.066871  \n",
       "Berne    18.437243  \n",
       "Lucerne   8.068852  \n",
       "Uri       7.444143  \n",
       "Schwytz   4.395413  "
      ]
     },
     "execution_count": 136,
     "metadata": {},
     "output_type": "execute_result"
    }
   ],
   "source": [
    "# remove all columns that we don't need\n",
    "# we leave the 'code' column in the first dataset since we are going to need it later for visualization\n",
    "df1 = df1[['UDC', 'PS', 'code']]\n",
    "df2 = df2[['UDC', 'PS']]\n",
    "\n",
    "# merge two datasets (2018 and 2013 one)\n",
    "df = pd.merge(df1, df2, on='canton', suffixes=['_2018', '_2013'])\n",
    "\n",
    "# calculate the change in vote share \n",
    "# we multiply by 100 to get the percentage of the change in vote share\n",
    "# (in range 0-100, where 100 means 100%)\n",
    "df['UDC_change'] = ((df['UDC_2018'] - df['UDC_2013']) / df['UDC_2013']) * 100\n",
    "df['PS_change'] = ((df['PS_2018'] - df['PS_2013']) / df['PS_2013']) * 100\n",
    "\n",
    "# set Nan values to 0 \n",
    "# (we must do this due to the two cantons for which we have no data)\n",
    "df = df.fillna(0)\n",
    "\n",
    "df.head()"
   ]
  },
  {
   "cell_type": "markdown",
   "metadata": {},
   "source": [
    "We have the percentage of the change in vote share for each party.\n",
    "\n",
    "Let's check the range of values for UDC."
   ]
  },
  {
   "cell_type": "code",
   "execution_count": 137,
   "metadata": {},
   "outputs": [
    {
     "data": {
      "image/png": "[encoded data removed]",
      "text/plain": [
       "<Figure size 432x288 with 1 Axes>"
      ]
     },
     "metadata": {
      "needs_background": "light"
     },
     "output_type": "display_data"
    }
   ],
   "source": [
    "plt.hist(df['UDC_change'])\n",
    "plt.xlabel('Change in vote share for UDC (%)')\n",
    "plt.ylabel('Frequency')\n",
    "plt.show()"
   ]
  },
  {
   "cell_type": "markdown",
   "metadata": {},
   "source": [
    "As we can see, the maximum gain in vote share (compared to last elections) for UDC is 40%, and the worst loss in vote share for UDC is 30%, but in most cantons there is little change.\n",
    "\n",
    "Now we can visualize the change in vote share for UDC for each canton."
   ]
  },
  {
   "cell_type": "code",
   "execution_count": 138,
   "metadata": {},
   "outputs": [],
   "source": [
    "# function for coloring the vote share change by canton\n",
    "# VOTE SH. CHANGE | COLOR\n",
    "#    -20% to -inf | red\n",
    "#    -5% to -20%  | light red\n",
    "#    -5% to +5%   | light yellow\n",
    "#    +5% to 20%   | light green\n",
    "#    +20% to inf  | green\n",
    "def coloring_function(canton, party):\n",
    "    # get vote share change\n",
    "    vs_change = df.loc[df['code'] == canton, party].values[0]\n",
    "    if vs_change < -20:\n",
    "        return '#d7191c'\n",
    "    elif vs_change < -5:\n",
    "        return '#fdae61'\n",
    "    elif vs_change < 5:\n",
    "        return '#ffffbf'\n",
    "    elif vs_change < 20:\n",
    "        return '#a6d96a'\n",
    "    else:\n",
    "        return '#1a9641'"
   ]
  },
  {
   "cell_type": "code",
   "execution_count": 139,
   "metadata": {
    "scrolled": true
   },
   "outputs": [],
   "source": [
    "m = folium.Map(location=[46.94809, 7.44744], zoom_start=7)\n",
    "geo_path = data_folder + r'ch-cantons.topojson.json' \n",
    "geo_json_data = json.load(open(geo_path))\n",
    "folium.TopoJson(\n",
    "    geo_json_data,\n",
    "    object_path='objects.cantons',\n",
    "    style_function=lambda feature: {\n",
    "        'fillColor': coloring_function(feature['id'], 'UDC_change'),\n",
    "        'color' : 'black',\n",
    "        'weight' : 2,\n",
    "        'dashArray' : '5, 5',\n",
    "        'fillOpacity': 0.7,\n",
    "        }\n",
    ").add_to(m)\n",
    "\n",
    "# Mark cantons with missing data\n",
    "markCantonsWithMissingData(m, geo_json_data)\n",
    "\n",
    "m.save('map_UDC_change.html')"
   ]
  },
  {
   "cell_type": "code",
   "execution_count": 140,
   "metadata": {},
   "outputs": [
    {
     "data": {
      "text/html": [
       "<iframe src=map_UDC_change.html width=100% height=600></iframe>"
      ],
      "text/plain": [
       "<IPython.core.display.HTML object>"
      ]
     },
     "metadata": {},
     "output_type": "display_data"
    }
   ],
   "source": [
    "display(HTML('<iframe src=' + 'map_UDC_change.html' + ' width=100% height=600></iframe>'))"
   ]
  },
  {
   "cell_type": "markdown",
   "metadata": {},
   "source": [
    "__color scheme__:\n",
    "**<span style=\"background-color:black;\">----<font color='#d7191c'> -20% to -inf <font color='#fdae61'> -20% to -5% <font color='#ffffbf'>-5% to 5% <font color='#a6d96a'>5% to 20% <font color='#1a9641'> 20% to inf <font color='#000000'>---</span>**   "
   ]
  },
  {
   "cell_type": "markdown",
   "metadata": {},
   "source": [
    "This map nicely shows change in vote share for each canton. As can be seen, change in UDC vote share by canton is mixed. Looking at the map, you can say that UDC should focus more on the French and Italian-speakng cantons, since most of the loss in vote share happened there.\n",
    "\n",
    "__However, if you compare this map to the map in task 2.A,__ you can see that the cantons in which UDC suffered worst loss (the French and Italian-speaking cantons) are actually the cantons where UDC generally has a low vote share. So even though they lost a bit of vote share there, it doesn't impact them so much considering their support in those cantons is small. UDC must choose: does it want to be a general Swiss party, or cater mostly to the German speaking part? The data tells us that for now, the latter is true.\n",
    "\n",
    "Let's check the range of values for PS."
   ]
  },
  {
   "cell_type": "code",
   "execution_count": 141,
   "metadata": {},
   "outputs": [
    {
     "data": {
      "image/png": "[encoded data removed]",
      "text/plain": [
       "<Figure size 432x288 with 1 Axes>"
      ]
     },
     "metadata": {
      "needs_background": "light"
     },
     "output_type": "display_data"
    }
   ],
   "source": [
    "plt.hist(df['PS_change'])\n",
    "plt.xlabel('Change in vote share for UDC (%)')\n",
    "plt.ylabel('Frequency')\n",
    "plt.show()"
   ]
  },
  {
   "cell_type": "markdown",
   "metadata": {},
   "source": [
    "As can be seen, PS suffered a minor loss (up to -10%) of vote share change in a lot of cantons, but also got some big increase in a minority of cantons."
   ]
  },
  {
   "cell_type": "code",
   "execution_count": 142,
   "metadata": {
    "scrolled": true
   },
   "outputs": [],
   "source": [
    "m = folium.Map(location=[46.94809, 7.44744], zoom_start=7)\n",
    "geo_path = data_folder + r'ch-cantons.topojson.json' \n",
    "geo_json_data = json.load(open(geo_path))\n",
    "folium.TopoJson(\n",
    "    geo_json_data,\n",
    "    object_path='objects.cantons',\n",
    "    style_function=lambda feature: {\n",
    "        'fillColor': coloring_function(feature['id'], 'PS_change'),\n",
    "        'color' : 'black',\n",
    "        'weight' : 2,\n",
    "        'dashArray' : '5, 5',\n",
    "        'fillOpacity': 0.7,\n",
    "        }\n",
    ").add_to(m)\n",
    "\n",
    "\n",
    "# Add overlay in order to mark the cantons which has missing values\n",
    "markCantonsWithMissingData(m, geo_json_data)\n",
    "\n",
    "m.save('map_PS_change.html')"
   ]
  },
  {
   "cell_type": "code",
   "execution_count": 143,
   "metadata": {},
   "outputs": [
    {
     "data": {
      "text/html": [
       "<iframe src=map_PS_change.html width=100% height=600></iframe>"
      ],
      "text/plain": [
       "<IPython.core.display.HTML object>"
      ]
     },
     "metadata": {},
     "output_type": "display_data"
    }
   ],
   "source": [
    "display(HTML('<iframe src=' + 'map_PS_change.html' + ' width=100% height=600></iframe>'))"
   ]
  },
  {
   "cell_type": "markdown",
   "metadata": {},
   "source": [
    "__color scheme__:\n",
    "**<span style=\"background-color:black;\">----<font color='#d7191c'> -20% to -inf <font color='#fdae61'> -20% to -5% <font color='#ffffbf'>-5% to 5% <font color='#a6d96a'>5% to 20% <font color='#1a9641'> 20% to inf <font color='#000000'>---</span>**     "
   ]
  },
  {
   "cell_type": "markdown",
   "metadata": {},
   "source": [
    "As can be seen, PS made most gain the central cantons, while it suffered losses in the most western cantons. On the other hand, in the east, the change was minimal.\n",
    "\n",
    "__To understand this map better__, let's also show the vote share of PS in the 2014-2018 election by each canton. "
   ]
  },
  {
   "cell_type": "code",
   "execution_count": 144,
   "metadata": {},
   "outputs": [
    {
     "data": {
      "text/html": [
       "<iframe src=map_canton_porportions.html width=100% height=600></iframe>"
      ],
      "text/plain": [
       "<IPython.core.display.HTML object>"
      ]
     },
     "metadata": {},
     "output_type": "display_data"
    }
   ],
   "source": [
    "display(HTML('<iframe src=' + 'map_canton_porportions.html' + ' width=100% height=600></iframe>'))"
   ]
  },
  {
   "cell_type": "markdown",
   "metadata": {},
   "source": [
    "Now that we have both the information about which cantons usually vote for PS, and in what cantons they made gains or suffered losses, we can concurr:\n",
    "- Cantons in which PS suffered gains and losses are the cantons __where PS usually has a large vote share__. We can guess that in some of those cantons PS member did something good so more people started to vote for it, while in some cantons they did bad so less people wanted to vote for it.\n",
    "- Cantons in which PS usually has __a small vote share__ did not change their opinion very much; considering PS is marginal in those cantons, there was nothing to be satisfied or dissatisfied about.\n"
   ]
  },
  {
   "cell_type": "markdown",
   "metadata": {
    "collapsed": true
   },
   "source": [
    "<font color='red'>\n",
    "Thank you for reading !"
   ]
  },
  {
   "cell_type": "code",
   "execution_count": null,
   "metadata": {},
   "outputs": [],
   "source": []
  },
  {
   "cell_type": "code",
   "execution_count": null,
   "metadata": {},
   "outputs": [],
   "source": []
  }
 ],
 "metadata": {
  "kernelspec": {
   "display_name": "Python [default]",
   "language": "python",
   "name": "python3"
  }
 },
 "nbformat": 4,
 "nbformat_minor": 2
}
