{
 "cells": [
  {
   "cell_type": "markdown",
   "metadata": {},
   "source": [
    "# Assignment 2: Voting Visualized"
   ]
  },
  {
   "cell_type": "markdown",
   "metadata": {},
   "source": [
    "## Background\n"
   ]
  },
  {
   "cell_type": "markdown",
   "metadata": {},
   "source": [
    "* Are you curious to know what the political leanings of the people of Switzerland are?\n",
    "* Do you wake up in a cold sweat, wondering which party won the last cantonal parliament election in Vaud?\n",
    "* Are you looking to learn all sorts of visualizations, including maps, in Python?\n",
    "If your answer to any of the above is yes, this assignment is just right for you. Otherwise, it's still an assignment, so we're terribly sorry.\n",
    "The chief aim of this assignment is to familiarize you with visualizations in Python, particularly maps, and also to give you some insight into how visualizations are to be interpreted. The data we will use is the data on Swiss cantonal parliament elections from 2007 to 2018, which contains, for each cantonal election in this time period, the voting percentages for each party and canton.\n",
    "For the visualization part, install [Folium](Folium) (_Hint: it is not available in your standard Anaconda environment, therefore search on the Web how to install it easily!_). Folium's README comes with very clear examples, and links to their own iPython Notebooks -- make good use of this information. For your own convenience, in this same directory you can already find one TopoJSON file, containing the geo-coordinates of the cantonal borders of Switzerland.\n",
    "One last, general reminder: back up any hypotheses and claims with data, since this is an important aspect of the course."
   ]
  },
  {
   "cell_type": "code",
   "execution_count": 3,
   "metadata": {
    "ExecuteTime": {
     "end_time": "2018-10-24T19:51:37.436235Z",
     "start_time": "2018-10-24T19:51:36.340131Z"
    }
   },
   "outputs": [
    {
     "data": {
      "text/html": [
       "<style>.container { width:95% !important; }</style>"
      ],
      "text/plain": [
       "<IPython.core.display.HTML object>"
      ]
     },
     "metadata": {},
     "output_type": "display_data"
    }
   ],
   "source": [
    "import numpy as np\n",
    "import pandas as pd\n",
    "import seaborn as sns\n",
    "\n",
    "# import pandas_profiling\n",
    "import folium\n",
    "from os.path import join\n",
    "import branca.colormap as cm\n",
    "\n",
    "from IPython.display import display\n",
    "\n",
    "# do not use %pylab, that inserts packages into the namespace\n",
    "%matplotlib inline\n",
    "import matplotlib.pyplot as plt\n",
    "\n",
    "import json\n",
    "from IPython.display import IFrame\n",
    "from folium.plugins import TimeSliderChoropleth\n",
    "from branca.utilities import split_six\n",
    "from IPython.display import display, HTML\n",
    "import requests\n",
    "from bs4 import BeautifulSoup\n",
    "\n",
    "def fix_layout(width:int=95):\n",
    "    from IPython.core.display import display, HTML\n",
    "    display(HTML('<style>.container { width:' + str(width) + '% !important; }</style>'))\n",
    "\n",
    "fix_layout()\n",
    "\n",
    "\n",
    "def group_and_count(df, groupby_column, with_pct=False, with_avg=False):\n",
    "    result = df.groupby(groupby_column).size().sort_values(ascending=False).reset_index().rename(columns={0: 'count'})\n",
    "    if with_pct:\n",
    "        result['count_pct'] = result['count'] / result['count'].sum()\n",
    "    if with_avg:\n",
    "        result['count_avg'] = result['count'].mean()\n",
    "    return result"
   ]
  },
  {
   "cell_type": "code",
   "execution_count": 4,
   "metadata": {
    "ExecuteTime": {
     "end_time": "2018-10-24T19:51:37.765493Z",
     "start_time": "2018-10-24T19:51:37.762835Z"
    }
   },
   "outputs": [
    {
     "ename": "SyntaxError",
     "evalue": "EOL while scanning string literal (<ipython-input-4-ac57f106a92b>, line 1)",
     "output_type": "error",
     "traceback": [
      "\u001b[1;36m  File \u001b[1;32m\"<ipython-input-4-ac57f106a92b>\"\u001b[1;36m, line \u001b[1;32m1\u001b[0m\n\u001b[1;33m    data_folder = 'D:\\python_workspace\\school\\AppliedDataAnalysis\\ADA2018-Homework\\homework-2-gjems_rahm_vold_ada_hw2\\02 - Visualisation\\data\\'\u001b[0m\n\u001b[1;37m                                                                                                                                               ^\u001b[0m\n\u001b[1;31mSyntaxError\u001b[0m\u001b[1;31m:\u001b[0m EOL while scanning string literal\n"
     ]
    }
   ],
   "source": [
    "data_folder = 'D:/python_workspace/school/AppliedDataAnalysis/ADA2018-Homework/homework-2-gjems_rahm_vold_ada_hw2/02 - Visualisation/data'"
   ]
  },
  {
   "cell_type": "markdown",
   "metadata": {},
   "source": [
    "## Task 1: Cartography and census\n",
    "__A)__ Display a Swiss map that has cantonal borders as well as the national borders. We provide a TopoJSON `data/ch-cantons.topojson.json` that contains the borders of the cantons.\n",
    "__B)__ Take the spreadsheet `data/communes_pop.xls`, collected from [admin.ch](https://www.bfs.admin.ch/bfs/fr/home/statistiques/catalogues-banques-donnees/tableaux.assetdetail.5886191.html), containing population figures for every commune. You can use [pd.read_excel()](https://pandas.pydata.org/pandas-docs/version/0.20/generated/pandas.read_excel.html) to read the file and to select specific sheets. Plot a histogram of the population counts and explain your observations. Do not use a log-scale plot for now. What does this histogram tell you about urban and rural communes in Switzerland? Are there any clear outliers on either side, and if so, which communes?\n",
    "__C)__ The figure below represents 4 types of histogram. At this stage, our distribution should look like Fig.(a). A common way to represent [power-laws](https://en.wikipedia.org/wiki/Power_law) is to use a histogram using a log-log scale  -- remember: the x-axis of an histogram is segmented in bins of equal sizes and y-values are the average of each bin. As shown in Fig.(b), small bins sizes might introduce artifacts. Fig.(b) and Fig.(c) are examples of histograms with two different bin sizes. Another great way to visualize such distribution is to use a cumulative representation, as show in Fig.(d), in which the y-axis represents the number of data points with values greater than y.\n",
    "Create the figures (b) and (d) using the data extracted for task 1B. For Fig.(b), represent two histograms using two different bin sizes and provide a brief description of the results. What does this tell you about the relationship between the two variables, namely the frequency of each bin and the value (i.e. population in case of the communal data) for each bin?\n",
    "<img src=\"plaw_crop.png\" style=\"width: 600px;\">\n",
    "The figure is extracted from [this paper](https://arxiv.org/pdf/cond-mat/0412004.pdf) that contains more information about this family of distributions."
   ]
  },
  {
   "cell_type": "markdown",
   "metadata": {},
   "source": [
    "__A)__ Display a Swiss map that has cantonal borders as well as the national borders. We provide a TopoJSON `data/ch-cantons.topojson.json` that contains the borders of the cantons."
   ]
  },
  {
   "cell_type": "code",
   "execution_count": 4,
   "metadata": {
    "ExecuteTime": {
     "end_time": "2018-10-24T19:51:39.359142Z",
     "start_time": "2018-10-24T19:51:39.343611Z"
    }
   },
   "outputs": [
    {
     "ename": "FileNotFoundError",
     "evalue": "[Errno 2] No such file or directory: './data//ch-cantons.topojson.json'",
     "output_type": "error",
     "traceback": [
      "\u001b[1;31m---------------------------------------------------------------------------\u001b[0m",
      "\u001b[1;31mFileNotFoundError\u001b[0m                         Traceback (most recent call last)",
      "\u001b[1;32m<ipython-input-4-b3282a4bda16>\u001b[0m in \u001b[0;36m<module>\u001b[1;34m()\u001b[0m\n\u001b[1;32m----> 1\u001b[1;33m \u001b[1;32mwith\u001b[0m \u001b[0mopen\u001b[0m\u001b[1;33m(\u001b[0m\u001b[0mdata_folder\u001b[0m \u001b[1;33m+\u001b[0m \u001b[1;34m'/ch-cantons.topojson.json'\u001b[0m\u001b[1;33m,\u001b[0m \u001b[1;34m'r'\u001b[0m\u001b[1;33m)\u001b[0m \u001b[1;32mas\u001b[0m \u001b[0mf\u001b[0m\u001b[1;33m:\u001b[0m\u001b[1;33m\u001b[0m\u001b[0m\n\u001b[0m\u001b[0;32m      2\u001b[0m     \u001b[0mch_cantons\u001b[0m \u001b[1;33m=\u001b[0m \u001b[0mjson\u001b[0m\u001b[1;33m.\u001b[0m\u001b[0mload\u001b[0m\u001b[1;33m(\u001b[0m\u001b[0mf\u001b[0m\u001b[1;33m)\u001b[0m\u001b[1;33m\u001b[0m\u001b[0m\n\u001b[0;32m      3\u001b[0m \u001b[1;33m\u001b[0m\u001b[0m\n\u001b[0;32m      4\u001b[0m \u001b[0mch_cantons\u001b[0m\u001b[1;33m.\u001b[0m\u001b[0mkeys\u001b[0m\u001b[1;33m(\u001b[0m\u001b[1;33m)\u001b[0m\u001b[1;33m\u001b[0m\u001b[0m\n",
      "\u001b[1;31mFileNotFoundError\u001b[0m: [Errno 2] No such file or directory: './data//ch-cantons.topojson.json'"
     ]
    }
   ],
   "source": [
    "with open(data_folder + '/ch-cantons.topojson.json', 'r') as f:\n",
    "    ch_cantons = json.load(f)\n",
    "\n",
    "ch_cantons.keys()"
   ]
  },
  {
   "cell_type": "code",
   "execution_count": null,
   "metadata": {
    "ExecuteTime": {
     "end_time": "2018-10-24T19:51:39.786785Z",
     "start_time": "2018-10-24T19:51:39.784136Z"
    }
   },
   "outputs": [],
   "source": [
    "topo_json_data = open(data_folder + '/ch-cantons.topojson.json', 'r')"
   ]
  },
  {
   "cell_type": "code",
   "execution_count": null,
   "metadata": {
    "ExecuteTime": {
     "end_time": "2018-10-24T19:51:40.270487Z",
     "start_time": "2018-10-24T19:51:40.204099Z"
    }
   },
   "outputs": [],
   "source": [
    "center_coord = {'lon': 46.8, 'lat': 8.3} # roughly the \"center\" of Switzerland\n",
    "\n",
    "default_map_values = {\n",
    "    \"location\": list(center_coord.values()),\n",
    "    \"zoom_start\": 8, # starting zoom when displaying map\n",
    "    \"min_zoom\": 7, # minimum available zoom for the displayed map\n",
    "    \"max_zoom\": 11, # maximum available zoom for the displayed map\n",
    "    \"control_scale\": 1, # adding a scale to the map\n",
    "}\n",
    "\n",
    "switzerland_map = folium.Map(**default_map_values)\n",
    "\n",
    "folium.TopoJson(\n",
    "    open(data_folder + '/ch-cantons.topojson.json', 'r'),\n",
    "    'objects.cantons',\n",
    "    name='topojson'\n",
    ").add_to(switzerland_map)\n",
    "\n",
    "switzerland_map"
   ]
  },
  {
   "cell_type": "markdown",
   "metadata": {},
   "source": [
    "__B)__ Take the spreadsheet `data/communes_pop.xls`, collected from [admin.ch](https://www.bfs.admin.ch/bfs/fr/home/statistiques/catalogues-banques-donnees/tableaux.assetdetail.5886191.html), containing population figures for every commune. You can use [pd.read_excel()](https://pandas.pydata.org/pandas-docs/version/0.20/generated/pandas.read_excel.html) to read the file and to select specific sheets. Plot a histogram of the population counts and explain your observations. Do not use a log-scale plot for now. What does this histogram tell you about urban and rural communes in Switzerland? Are there any clear outliers on either side, and if so, which communes?"
   ]
  },
  {
   "cell_type": "markdown",
   "metadata": {},
   "source": [
    "The xls file contains some header and footer lines but also redundant information for cantons and \"Bezirk\" that have to be removed for the further analysis as we only care for now of the municipality level. We notice that each line that is needed starts with a series of dots. These are the records that we consider for the following steps. Some changes are performed to clean the data. Names of communes are cleaned as they also contained dots and numbers."
   ]
  },
  {
   "cell_type": "code",
   "execution_count": null,
   "metadata": {
    "ExecuteTime": {
     "end_time": "2018-10-24T19:51:49.417945Z",
     "start_time": "2018-10-24T19:51:43.791880Z"
    }
   },
   "outputs": [],
   "source": [
    "population_counts = pd.read_excel(data_folder + '/communes_pop.xls', sheet_name='2017')"
   ]
  },
  {
   "cell_type": "code",
   "execution_count": null,
   "metadata": {
    "ExecuteTime": {
     "end_time": "2018-10-24T19:51:49.560622Z",
     "start_time": "2018-10-24T19:51:49.419739Z"
    }
   },
   "outputs": [],
   "source": [
    "communes_counts = population_counts[population_counts.iloc[:, 0].str.startswith('...').fillna(False)].iloc[:, [0, 1]]\n",
    "communes_counts.columns = ['commune', 'population']\n",
    "communes_counts['commune'] = communes_counts['commune'].replace({'\\.+\\d+ +': ''}, regex=True)"
   ]
  },
  {
   "cell_type": "markdown",
   "metadata": {},
   "source": [
    "Municipality size frequencies are shown on the following plot. We observe that small municipallities are very numerous whereas big municipalities are really rare. At first sight, the repartition seems to follow a power-law."
   ]
  },
  {
   "cell_type": "code",
   "execution_count": null,
   "metadata": {
    "ExecuteTime": {
     "end_time": "2018-10-24T19:51:49.983294Z",
     "start_time": "2018-10-24T19:51:49.563635Z"
    }
   },
   "outputs": [],
   "source": [
    "# Plot a histogram of population counts\n",
    "ax = communes_counts['population'].plot.hist(bins=100, rwidth=0.8, grid=True, figsize=(12,8), color='#86bf91')\n",
    "\n",
    "# Specifying title\n",
    "ax.set_title(\"Histogram of population counts (SIMULATION A)\", weight='bold', size=15)\n",
    "\n",
    "# Set x-axis label\n",
    "ax.set_xlabel(\"Population of Commune\", labelpad=20, weight='bold', size=12);\n",
    "\n",
    "# Set y-axis label\n",
    "ax.set_ylabel(\"Population count\", labelpad=20, weight='bold', size=12);"
   ]
  },
  {
   "cell_type": "markdown",
   "metadata": {},
   "source": [
    "As displayed right above, using regular bin sizes highlights the very high number of small municipalities. At the same time, the big municipalities are not visible as they are so rare. For example Zurich with a population of 400,000 is not displayed.    \n",
    "\n",
    "The plot above shows a normal histogram of population counts produced by binning them into bins of equal size (e.g. bin width 1, in this case number of equal-width bins is 100 and the span of x-axis values go to around 400 000. Therefore, the bin width is probably around 400 000/100 = 4 000). On the linear scales used this produces a nice smooth curve. This curve reminds on a letter L. Also, this plot does not use log-scale for now. **Simulated plot a)** \n",
    "  \n",
    "The following plot, however, uses the same data and is plotted using the \"logarithmic binning\". "
   ]
  },
  {
   "cell_type": "code",
   "execution_count": null,
   "metadata": {
    "ExecuteTime": {
     "end_time": "2018-10-24T19:52:01.600850Z",
     "start_time": "2018-10-24T19:52:01.408067Z"
    }
   },
   "outputs": [],
   "source": [
    "ax = communes_counts['population'].plot.hist(bins=np.logspace(np.log10(10**3), np.log10(10**5), 10), rwidth=0.8, grid=True, figsize=(12,8), color='#86bf91')\n",
    "\n",
    "# Specifying title\n",
    "ax.set_title(\"Histogram of population counts with Logarithmic Binning\", weight='bold', size=15)\n",
    "\n",
    "# Set x-axis label\n",
    "ax.set_xlabel(\"Population of Commune\", labelpad=20, weight='bold', size=12);\n",
    "\n",
    "# Set y-axis label\n",
    "ax.set_ylabel(\"Population count\", labelpad=20, weight='bold', size=12);"
   ]
  },
  {
   "cell_type": "markdown",
   "metadata": {},
   "source": [
    "From this plot above we can conclude that bins are small where there is a lot of datapoints. Therefore, there are a lot of communes with a small population (*rural community*), and there is a very few communes with a huge population (*urban community*). This could be concluded from the plot that was described previously (simulation of plot a) ). The more precise numbers are shown in the following tables:"
   ]
  },
  {
   "cell_type": "markdown",
   "metadata": {},
   "source": [
    "Let's have a look at the municipalities having extreme values contained in the lower 0.005 and the upper 0.995 quantile."
   ]
  },
  {
   "cell_type": "code",
   "execution_count": null,
   "metadata": {
    "ExecuteTime": {
     "end_time": "2018-10-24T19:52:03.953346Z",
     "start_time": "2018-10-24T19:52:03.931287Z"
    }
   },
   "outputs": [],
   "source": [
    "population_quantiles = communes_counts['population'].quantile([0.005, 0.995])\n",
    "display(communes_counts[communes_counts['population'] < population_quantiles.values[0]].sort_values(by='population', ascending=False))\n",
    "display(communes_counts[communes_counts['population'] > population_quantiles.values[1]].sort_values(by='population', ascending=False))"
   ]
  },
  {
   "cell_type": "markdown",
   "metadata": {},
   "source": [
    "The smallest municipalities are really small. The smallest is Corippo in Canton Ticino having only 14 inhabitants registered in 2017. There are 9 municipalities smaller than 50. There are 6 municipalities having over 100,000 inhabitants and the biggest is Zurich with a population of around 400,000 inhabitants. There is a much higher number of small municipalities than bigger ones."
   ]
  },
  {
   "cell_type": "markdown",
   "metadata": {},
   "source": [
    "The following table shows outliers, mostly on the rural side. All the municipalities are listed bellow:"
   ]
  },
  {
   "cell_type": "code",
   "execution_count": null,
   "metadata": {
    "ExecuteTime": {
     "end_time": "2018-10-24T19:52:05.359720Z",
     "start_time": "2018-10-24T19:52:05.345998Z"
    },
    "scrolled": true
   },
   "outputs": [],
   "source": [
    "communes_counts[(np.abs(communes_counts.population-communes_counts.population.mean()) > (3*communes_counts.population.std()))]"
   ]
  },
  {
   "cell_type": "code",
   "execution_count": null,
   "metadata": {
    "ExecuteTime": {
     "end_time": "2018-10-24T19:52:06.132417Z",
     "start_time": "2018-10-24T19:52:05.913585Z"
    }
   },
   "outputs": [],
   "source": [
    "ax = communes_counts[communes_counts['population'] < communes_counts['population'].quantile(0.995)].plot.hist(rwidth=0.8, grid=True, figsize=(12,8), color='#86bf91')\n",
    "\n",
    "# Specifying title\n",
    "ax.set_title('Histogram of population counts without extremes', weight='bold', size=15);\n",
    "\n",
    "# Set x-axis label\n",
    "ax.set_xlabel('Population of Commune', labelpad=20, weight='bold', size=12);\n",
    "\n",
    "# Set y-axis label\n",
    "ax.set_ylabel(\"Population count\", labelpad=20, weight='bold', size=12);"
   ]
  },
  {
   "cell_type": "markdown",
   "metadata": {},
   "source": [
    "Removing the low and high 0.005 quantiles, better enables to see this power-law shapped distribution. The extreme values behave even in a more extreme way than a power law."
   ]
  },
  {
   "cell_type": "markdown",
   "metadata": {},
   "source": [
    "In Switzerland we consider that cities must have at least 10,000 inhabitants to be considered as cities (see also [wikipedia](https://fr.wikipedia.org/wiki/Villes_de_Suisse)). With this definition we see that roughly half of the population is in the rural areas (not cities) and half is urban (cities). So the number of municipalities that are rural must be much greater than cities or big municipalities to make this possible. But let us check this hypothesis."
   ]
  },
  {
   "cell_type": "code",
   "execution_count": null,
   "metadata": {
    "ExecuteTime": {
     "end_time": "2018-10-24T19:52:08.565332Z",
     "start_time": "2018-10-24T19:52:08.538780Z"
    }
   },
   "outputs": [],
   "source": [
    "print('The total population of Switzerland using the dataset of year 2017 is approximately {:.1e} residents. The population distribution between rural and urban areas is shown on the following table.'.format(communes_counts['population'].sum()))\n",
    "tot_rural_municipality = len(communes_counts['population'][communes_counts['population']<10000])\n",
    "tot_urban_municipality = len(communes_counts['population'][communes_counts['population']>10000])\n",
    "tot_rural_inhabitants = communes_counts['population'][communes_counts['population']<10000].sum()\n",
    "tot_urban_inhabitants = communes_counts['population'][communes_counts['population']>10000].sum()\n",
    "pd.DataFrame([[tot_rural_municipality, tot_rural_inhabitants], [tot_urban_municipality,  tot_urban_inhabitants]], columns=['municipality', 'population'], index=['rural', 'urban'])"
   ]
  },
  {
   "cell_type": "markdown",
   "metadata": {
    "ExecuteTime": {
     "end_time": "2018-10-24T12:07:54.327909Z",
     "start_time": "2018-10-24T12:07:54.321437Z"
    }
   },
   "source": [
    "We observe that small municipalities that we consider as rural are very numerous. Municipalities having over 10,000 residents are more than 10 times less. But as they are bigger in population the total is quite similar for both rural and urban municipalities."
   ]
  },
  {
   "cell_type": "markdown",
   "metadata": {},
   "source": [
    "---"
   ]
  },
  {
   "cell_type": "markdown",
   "metadata": {},
   "source": [
    "__C)__ The figure below represents 4 types of histogram. At this stage, our distribution should look like Fig.(a). A common way to represent [power-laws](https://en.wikipedia.org/wiki/Power_law) is to use a histogram using a log-log scale  -- remember: the x-axis of an histogram is segmented in bins of equal sizes and y-values are the average of each bin. As shown in Fig.(b), small bins sizes might introduce artifacts. Fig.(b) and Fig.(c) are examples of histograms with two different bin sizes. Another great way to visualize such distribution is to use a cumulative representation, as show in Fig.(d), in which the y-axis represents the number of data points with values greater than y.  \n",
    "  \n",
    "Create the figures (b) and (d) using the data extracted for task 1B. For Fig.(b), represent two histograms using two different bin sizes and provide a brief description of the results. What does this tell you about the relationship between the two variables, namely the frequency of each bin and the value (i.e. population in case of the communal data) for each bin?"
   ]
  },
  {
   "cell_type": "markdown",
   "metadata": {},
   "source": [
    "**Answer:** To reveal the power-law form of the distribution it is better to plot the histogram on logarithmic scales. See the plot bellow:"
   ]
  },
  {
   "cell_type": "code",
   "execution_count": null,
   "metadata": {
    "ExecuteTime": {
     "end_time": "2018-10-24T19:52:11.402300Z",
     "start_time": "2018-10-24T19:52:10.456750Z"
    }
   },
   "outputs": [],
   "source": [
    "ax = communes_counts['population'].plot.hist(bins=100, loglog=True, rwidth =0.8, grid=True, figsize=(12,8), color='#86bf91')\n",
    "\n",
    "# setting the limit\n",
    "ax.set_xlim(5*10**3)\n",
    "\n",
    "# Specifying title\n",
    "ax.set_title(\"LogLog Histogram of population counts (SIMULATION B)\", weight='bold', size=15)\n",
    "\n",
    "# Set x-axis label\n",
    "ax.set_xlabel(\"Population of Commune\", labelpad=20, weight='bold', size=12);\n",
    "\n",
    "# Set y-axis label\n",
    "ax.set_ylabel(\"Population count\", labelpad=20, weight='bold', size=12);"
   ]
  },
  {
   "cell_type": "markdown",
   "metadata": {},
   "source": [
    "This plot is the simulation of the **plot b)**. When we do this for the current data we see the characteristic straight-line form of the power-law distribution. However, the plot is in some respects\n",
    "not a very good one. We can notice some artifacts in the tail of the plot that were mentioned in the task text. In particular the right-hand end of the distribution is noisy because of sampling errors. We can see that each bin only has a few samples in it, if any. It is nicely described in the provided paper. We cannot throw away the tail, so we are concentarting on creation of the new plot that has different bin sizes, simulation of the **plot c)**."
   ]
  },
  {
   "cell_type": "code",
   "execution_count": null,
   "metadata": {
    "ExecuteTime": {
     "end_time": "2018-10-24T19:52:14.567243Z",
     "start_time": "2018-10-24T19:52:14.136226Z"
    },
    "scrolled": false
   },
   "outputs": [],
   "source": [
    "ax = communes_counts['population'].plot.hist(bins=np.logspace(np.log10(10**3),np.log10(10**5), 10), loglog=True, rwidth =0.8, grid=True, figsize=(12,8), color='#86bf91')\n",
    "\n",
    "# setting the limit\n",
    "ax.set_xlim(5*10**3)\n",
    "\n",
    "# Specifying title\n",
    "ax.set_title(\"LogLog Histogram of population counts with Logarithmic binning (SIMULATION C)\", weight='bold', size=15)\n",
    "\n",
    "# Set x-axis label\n",
    "ax.set_xlabel(\"Population of Commune\", labelpad=20, weight='bold', size=12);\n",
    "\n",
    "# Set y-axis label\n",
    "ax.set_ylabel(\"Population count\", labelpad=20, weight='bold', size=12);"
   ]
  },
  {
   "cell_type": "markdown",
   "metadata": {},
   "source": [
    "We can notice that the representation of the individual bin on log scale appear equally spaces (equal width). The reason is that we are using logarithmic binning on a log-scale. As we can see, the straight-line power-law form of the histogram is now much clearer.  \n",
    "  \n",
    "Even with logarithmic binning there is still some noise in the tail, although it is sharply decreased. That is why we are moving to the simulation of **plot d)** which will show power-law data as a cumulative distribution."
   ]
  },
  {
   "cell_type": "code",
   "execution_count": null,
   "metadata": {
    "ExecuteTime": {
     "end_time": "2018-10-24T19:52:30.180263Z",
     "start_time": "2018-10-24T19:52:29.703973Z"
    },
    "scrolled": false
   },
   "outputs": [],
   "source": [
    "ax = communes_counts['population'].plot.hist(bins=np.logspace(np.log10(10**3),np.log10(10**6), 10), loglog=True, cumulative=-1, rwidth =0.8, grid=True, figsize=(12,8), color='#86bf91')\n",
    "\n",
    "# setting the limit\n",
    "ax.set_xlim((10**3, 4*10**5))\n",
    "ax.set_ylim((10**(0),3000))\n",
    "\n",
    "# Specifying title\n",
    "ax.set_title(\"LogLog Histogram of population counts with Logarithmic binning (SIMULATION D)\", weight='bold', size=15)\n",
    "\n",
    "# Set x-axis label\n",
    "ax.set_xlabel(\"Population of Commune\", labelpad=20, weight='bold', size=12);\n",
    "\n",
    "# Set y-axis label\n",
    "ax.set_ylabel(\"Population count where population value > Population of Commune value\", labelpad=20, weight='bold', size=12);"
   ]
  },
  {
   "cell_type": "markdown",
   "metadata": {},
   "source": [
    "This last plot shows power-law data as a cumulative distribution, and indeed we again see the tell-tale straight-line form of the power law, but with a shallower slope than before. In y-axis we have the number of datapoints that are greater than x. This plot is the simulation of the **plot d)**."
   ]
  },
  {
   "cell_type": "markdown",
   "metadata": {},
   "source": [
    "Can we get some more information from a cumulative plot?"
   ]
  },
  {
   "cell_type": "code",
   "execution_count": null,
   "metadata": {
    "ExecuteTime": {
     "end_time": "2018-10-24T19:52:32.102884Z",
     "start_time": "2018-10-24T19:52:31.743019Z"
    }
   },
   "outputs": [],
   "source": [
    "ax = communes_counts['population'].plot.hist(bins=np.logspace(np.log10(10**3), np.log10(4*10**5), 10), loglog=True, cumulative=True, rwidth =0.8, grid=True, figsize=(12,8), color='#86bf91')\n",
    "\n",
    "# Specifying title\n",
    "ax.set_title(\"LogLog Histogram of population counts with Logarithmic\\n binning and cummulation increasing\", weight='bold', size=15)\n",
    "\n",
    "# Set x-axis label\n",
    "ax.set_xlabel(\"Population of Commune\", labelpad=20, weight='bold', size=12);\n",
    "\n",
    "# Set y-axis label\n",
    "ax.set_ylabel(\"Population count where population \\nvalue > Population of Commune value\", labelpad=20, weight='bold', size=12);"
   ]
  },
  {
   "cell_type": "markdown",
   "metadata": {},
   "source": [
    "This cumulative histogram as displayed right above highlights the fact that smaller municipalities are much more numerous than bigger ones. Municipalities with over 100,000 are very few.\n",
    "We can also observe that the cumulative plot becomes more linear when using log binning as shown in the following graph. "
   ]
  },
  {
   "cell_type": "code",
   "execution_count": null,
   "metadata": {
    "ExecuteTime": {
     "end_time": "2018-10-24T19:52:33.627744Z",
     "start_time": "2018-10-24T19:52:33.330822Z"
    },
    "scrolled": false
   },
   "outputs": [],
   "source": [
    "ax = communes_counts['population'].plot.hist(bins=10, loglog=True, cumulative=True, rwidth =0.8, grid=True, figsize=(12,8), color='#86bf91')\n",
    "\n",
    "# Specifying title\n",
    "ax.set_title(\"LogLog Histogram of population counts with normal\\n binning and cummulation increasing\", weight='bold', size=15)\n",
    "\n",
    "# Set x-axis label\n",
    "ax.set_xlabel(\"Population of Commune\", labelpad=20, weight='bold', size=12);\n",
    "\n",
    "# Set y-axis label\n",
    "ax.set_ylabel(\"Population count where population \\nvalue > Population of Commune value\", labelpad=20, weight='bold', size=12);"
   ]
  },
  {
   "cell_type": "markdown",
   "metadata": {},
   "source": [
    "Playing with the bin size allows to transform the non-linear relation of the previous graph into a more linear one. This could for example ease the modelisation as we can easily define the line relating repartition of municipalities and their population."
   ]
  },
  {
   "cell_type": "markdown",
   "metadata": {},
   "source": [
    "---"
   ]
  },
  {
   "cell_type": "markdown",
   "metadata": {},
   "source": [
    "---"
   ]
  },
  {
   "cell_type": "markdown",
   "metadata": {},
   "source": [
    "## Task 2: Parties visualized\n",
    "\n",
    "We provide a spreadsheet, `data/voters.xls`, (again) collected from [admin.ch](https://www.bfs.admin.ch/bfs/fr/home/statistiques/politique/elections/conseil-national/force-partis.assetdetail.217195.html), which contains the percentage of voters for each party and for each canton. For the following task, we will focus on the period 2014-2018 (the first page of the spreadsheet). Please report any assumptions you make regarding outliers, missing values, etc. Notice that data is missing for two cantons, namely Appenzell Ausserrhoden and Graubünden, and your visualisations should include data for every other canton.  \n",
    "  \n",
    "__A)__ For the period 2014-2018 and for each canton, visualize, on the map, **the percentage of voters** in that canton who voted for the party [`UDC`](https://en.wikipedia.org/wiki/Swiss_People%27s_Party) (Union démocratique du centre). Does this party seem to be more popular in the German-speaking part, the French-speaking part, or the Italian-speaking part?\n",
    "  \n",
    "__B)__ For the same period, now visualize **the number of residents** in each canton who voted for UDC.\n",
    "  \n",
    "__C)__ Which one of the two visualizations above would be more informative in case of a national election with majority voting (i.e. when a party needs to have the largest number of citizens voting for it among all parties)? Which one is more informative for the cantonal parliament elections?\n",
    "  \n",
    "For part B, you can use the `data/national_council_elections.xslx` file ([guess where we got it from](https://www.bfs.admin.ch/bfs/fr/home/statistiques/politique/elections/conseil-national/participation.assetdetail.81625.html)) to have the voting-eligible population of each canton in 2015."
   ]
  },
  {
   "cell_type": "markdown",
   "metadata": {},
   "source": [
    "---"
   ]
  },
  {
   "cell_type": "markdown",
   "metadata": {},
   "source": [
    "__A)__ For the period 2014-2018 and for each canton, visualize, on the map, **the percentage of voters** in that canton who voted for the party [`UDC`](https://en.wikipedia.org/wiki/Swiss_People%27s_Party) (Union démocratique du centre). Does this party seem to be more popular in the German-speaking part, the French-speaking part, or the Italian-speaking part?"
   ]
  },
  {
   "cell_type": "markdown",
   "metadata": {},
   "source": [
    "Note that Appenzell Rh. Int. still votes with their hands, so we don't have data for this Canton."
   ]
  },
  {
   "cell_type": "markdown",
   "metadata": {},
   "source": [
    "Since we will clean this dataset for other sheets as well, in order not to repeat ourselves, we are creating a method for cleaning the dataset of voters."
   ]
  },
  {
   "cell_type": "code",
   "execution_count": null,
   "metadata": {
    "ExecuteTime": {
     "end_time": "2018-10-24T19:57:33.686573Z",
     "start_time": "2018-10-24T19:57:33.677844Z"
    }
   },
   "outputs": [],
   "source": [
    "def clean_voters_dataset(voters):\n",
    "    voters = voters.copy()\n",
    "    # remove NaN columns\n",
    "    voters.dropna(axis=1, how='all', inplace=True)  \n",
    "    # remove NaN rows\n",
    "    voters.dropna(axis=0, how='all', inplace=True)  \n",
    "\n",
    "    # change column names to readable ones\n",
    "    voters.rename({'Unnamed: 0':'city', 'Unnamed: 2':'year', 'Unnamed: 3':'participation', \n",
    "                   'Unnamed: 4':'PLR', 'Unnamed: 6':'PDC', 'Unnamed: 8':'PS', 'Unnamed: 10':'UDC', \n",
    "                   'Unnamed: 14':'PLS', 'Unnamed: 18':'PEV', 'Unnamed: 20':'PCS', 'Unnamed: 24':'PVL', \n",
    "                   'Unnamed: 26':'PBD', 'Unnamed: 28':'PST', 'Unnamed: 30':'PSA', 'Unnamed: 34':'PES', \n",
    "                   'Unnamed: 36':'AVF', 'Unnamed: 38':'Sol', 'Unnamed: 40':'DS', 'Unnamed: 44':'UDF', \n",
    "                   'Unnamed: 48':'Lega', 'Unnamed: 50':'MCR', 'Unnamed: 60':'others', 'Unnamed: 63':'total'}, \n",
    "                  axis='columns', inplace=True)\n",
    "\n",
    "    # remove numbers and parenthesis from strings like 'Appenzell Rh. Ext. 3) 10)'\n",
    "    def clean_city_name(city):\n",
    "        return ''.join([i for i in city if not i.isdigit() and i != \")\"]).strip()\n",
    "    voters.city = voters.city.apply(clean_city_name)\n",
    "\n",
    "    # setting IDs to be city codes, so we can easily use it with Topo JSON features\n",
    "    voters.set_index([['ZH', 'BE', 'LU', 'UR', 'SZ', 'OW', 'NW', 'GL', 'ZG', 'FR' ,'SO' ,'BS' ,'BL' ,\n",
    "                       'SH' ,'AR' ,'AI' ,'SG' ,'GR' ,'AG' ,'TG' ,'TI' ,'VD' ,'VS' ,'NE' ,'GE' ,'JU']], inplace=True)\n",
    "    voters.index.name = \"id\"\n",
    "    \n",
    "    return voters"
   ]
  },
  {
   "cell_type": "markdown",
   "metadata": {},
   "source": [
    "Read the data of voters:"
   ]
  },
  {
   "cell_type": "code",
   "execution_count": null,
   "metadata": {
    "ExecuteTime": {
     "end_time": "2018-10-24T19:57:47.687348Z",
     "start_time": "2018-10-24T19:57:47.609808Z"
    }
   },
   "outputs": [],
   "source": [
    "voters = clean_voters_dataset(pd.read_excel(data_folder + '/voters.xls', sheet_name='actuel (2014-2018)', skipfooter=55, skiprows=5, encoding='utf-8'))\n",
    "display(voters[:5])"
   ]
  },
  {
   "cell_type": "markdown",
   "metadata": {},
   "source": [
    "Now, plot the the percentage of voters for the UDC:"
   ]
  },
  {
   "cell_type": "code",
   "execution_count": null,
   "metadata": {
    "ExecuteTime": {
     "end_time": "2018-10-24T19:54:25.356802Z",
     "start_time": "2018-10-24T19:54:25.351447Z"
    }
   },
   "outputs": [],
   "source": [
    "# prepare colors for the map\n",
    "linear = cm.LinearColormap(\n",
    "    ['white', 'purple'],\n",
    "    vmin=0, vmax=40\n",
    ")\n",
    "\n",
    "def my_color_function(feature):\n",
    "    try:\n",
    "        voters_num = voters.loc[feature['id'], \"UDC\"]\n",
    "        if not np.isnan(voters_num):\n",
    "            return linear(voters_num)\n",
    "        else:\n",
    "            return '#d3d3d3'\n",
    "    except KeyError:\n",
    "        return '#d3d3d3'"
   ]
  },
  {
   "cell_type": "code",
   "execution_count": null,
   "metadata": {
    "ExecuteTime": {
     "end_time": "2018-10-24T19:54:29.694628Z",
     "start_time": "2018-10-24T19:54:29.542828Z"
    }
   },
   "outputs": [],
   "source": [
    "m = folium.Map(**default_map_values)\n",
    "\n",
    "folium.TopoJson(\n",
    "    open(data_folder + '/ch-cantons.topojson.json', 'r', encoding='utf-8'),\n",
    "    'objects.cantons',\n",
    "    name='topojson',\n",
    "    style_function=lambda feature: {\n",
    "        'fillColor': my_color_function(feature),\n",
    "        'color': 'black',\n",
    "        'weight': 2,\n",
    "        'dashArray': '5, 5',\n",
    "        'fillOpacity': 0.7\n",
    "    }\n",
    ").add_to(m)\n",
    "\n",
    "linear.caption = 'UDC SVP Voter percentage [%]'\n",
    "linear.add_to(m)\n",
    "\n",
    "m.save(join('plots', 'udc-svp_votes.folium.map.html'))"
   ]
  },
  {
   "cell_type": "code",
   "execution_count": null,
   "metadata": {
    "ExecuteTime": {
     "end_time": "2018-10-24T19:54:30.275495Z",
     "start_time": "2018-10-24T19:54:30.270046Z"
    }
   },
   "outputs": [],
   "source": [
    "m;\n",
    "IFrame(src='plots/udc-svp_votes.folium.map.html', width=1000, height=500)"
   ]
  },
  {
   "cell_type": "markdown",
   "metadata": {},
   "source": [
    "Link: [UDC SVP Votes](plots/udc-svp_votes.folium.map.html)"
   ]
  },
  {
   "cell_type": "markdown",
   "metadata": {},
   "source": [
    "We can see that there is a split in the country. The northern-eastern part, including the cantons who speak primarily German vote significantly higher for the UDC/SVP than the French or Italian speaking part. For Appenzell Innerrhoden and Graubünden we don't have data."
   ]
  },
  {
   "cell_type": "markdown",
   "metadata": {},
   "source": [
    "---"
   ]
  },
  {
   "cell_type": "markdown",
   "metadata": {},
   "source": [
    "__B)__ For the same period, now visualize **the number of residents** in each canton who voted for UDC.  \n",
    "\n",
    "  \n",
    "For part B, you can use the `data/national_council_elections.xslx` file ([guess where we got it from](https://www.bfs.admin.ch/bfs/fr/home/statistiques/politique/elections/conseil-national/participation.assetdetail.81625.html)) to have the voting-eligible population of each canton in 2015.\n"
   ]
  },
  {
   "cell_type": "code",
   "execution_count": null,
   "metadata": {
    "ExecuteTime": {
     "end_time": "2018-10-24T19:54:47.616496Z",
     "start_time": "2018-10-24T19:54:47.413626Z"
    }
   },
   "outputs": [],
   "source": [
    "soup = BeautifulSoup(requests.get('https://fr.wikipedia.org/wiki/Canton_(Suisse)').content, \"lxml\")\n",
    "\n",
    "s = soup.find('span', {'id': 'Donn.C3.A9es_cantonales'}).parent.fetchNextSiblings()[0]\n",
    "\n",
    "def parse_row(row):\n",
    "    abr = row.find('th').contents[0][:-1]\n",
    "    fields = row.findAll('td')[0]\n",
    "    french_name = fields.contents[0].contents[0]\n",
    "    german_name = french_name\n",
    "\n",
    "    c = fields.find('i')\n",
    "    if c is not None:\n",
    "        german_name = c.contents[0]\n",
    "\n",
    "    return abr, french_name, german_name\n",
    "\n",
    "\n",
    "cantons_names = pd.DataFrame((parse_row(row) for row in s.findAll('tr')[1:]), columns=('abr', 'french_spelling', 'german_spelling'))"
   ]
  },
  {
   "cell_type": "code",
   "execution_count": null,
   "metadata": {
    "ExecuteTime": {
     "end_time": "2018-10-24T19:54:48.056834Z",
     "start_time": "2018-10-24T19:54:47.991039Z"
    }
   },
   "outputs": [],
   "source": [
    "voters = pd.read_excel(data_folder + '/voters.xls', sheet_name='actuel (2014-2018)', skipfooter=55, skiprows=5)\n",
    "voters.dropna(axis=1, how='all', inplace=True)  # remove NaN columns\n",
    "voters.dropna(axis=0, how='all', inplace=True)  # remove NaN rows\n",
    "voters.rename({'Unnamed: 0':'canton', 'Unnamed: 2':'year', 'Unnamed: 3':'participation', 'Unnamed: 4':'PLR', 'Unnamed: 6':'PDC',\n",
    "       'Unnamed: 8':'PS', 'Unnamed: 10':'UDC', 'Unnamed: 14':'PLS', 'Unnamed: 18':'PEV',\n",
    "       'Unnamed: 20':'PCS', 'Unnamed: 24':'PVL', 'Unnamed: 26':'PBD', 'Unnamed: 28':'PST',\n",
    "       'Unnamed: 30':'PSA', 'Unnamed: 34':'PES', 'Unnamed: 36':'AVF', 'Unnamed: 38':'Sol',\n",
    "       'Unnamed: 40':'DS', 'Unnamed: 44':'UDF', 'Unnamed: 48':'Lega', 'Unnamed: 50':'MCR',\n",
    "       'Unnamed: 60':'others', 'Unnamed: 63':'total'}, axis='columns', inplace=True)\n",
    "voters['canton'] = voters['canton'].str.strip()\n",
    "\n",
    "# the power of manual doing stuff!\n",
    "\n",
    "def canton_name_fix(df):\n",
    "    df = df.copy()\n",
    "    df.loc[df['canton'] == 'Uri 1)', 'canton'] = 'Uri'\n",
    "    df.loc[df['canton'] == 'Grisons 5)', 'canton'] = 'Grisons'\n",
    "    df.loc[df['canton'] == 'Appenzell Rh. Ext. 3) 10)', 'canton'] = 'Appenzell Rhodes-Extérieures'\n",
    "    df.loc[df['canton'] == 'Appenzell Rh. Int. 4) 5)', 'canton'] = 'Appenzell Rhodes-Intérieures'\n",
    "    \n",
    "    return df\n",
    "\n",
    "voters = canton_name_fix(voters).merge(cantons_names, left_on='canton', right_on='french_spelling', how='left')"
   ]
  },
  {
   "cell_type": "code",
   "execution_count": null,
   "metadata": {
    "ExecuteTime": {
     "end_time": "2018-10-24T19:54:49.434592Z",
     "start_time": "2018-10-24T19:54:49.301995Z"
    },
    "scrolled": true
   },
   "outputs": [],
   "source": [
    "national_council_elections = pd.read_excel(data_folder + '/national_council_elections.xlsx', sheet_name='2015', skiprows=8, nrows=26)\n",
    "national_council_elections.columns = ['canton',  'nb_eligible_voters', 'nb_votes', 'participation']\n",
    "\n",
    "national_council_elections.loc[national_council_elections['canton'] == 'Glaris 1)', 'canton'] = 'Glaris'\n",
    "national_council_elections.loc[national_council_elections['canton'] == 'Uri 1)', 'canton'] = 'Uri'\n",
    "national_council_elections.loc[national_council_elections['canton'] == 'Obwald 1)', 'canton'] = 'Obwald'\n",
    "national_council_elections.loc[national_council_elections['canton'] == 'Nidwald 1)', 'canton'] = 'Nidwald'\n",
    "national_council_elections.loc[national_council_elections['canton'] == 'Appenzell Rh.-Ext. 1)', 'canton'] = 'Appenzell Rhodes-Extérieures'\n",
    "national_council_elections.loc[national_council_elections['canton'] == 'Appenzell Rh.-Int. 1)', 'canton'] = 'Appenzell Rhodes-Intérieures'\n",
    "\n",
    "national_council_elections['canton'] = national_council_elections['canton'].str.strip()\n",
    "\n",
    "cols_to_convert = national_council_elections.columns.drop('canton')\n",
    "national_council_elections[cols_to_convert] = national_council_elections[cols_to_convert].apply(pd.to_numeric)\n",
    "\n",
    "national_council_elections = national_council_elections.merge(cantons_names, left_on='canton', right_on='french_spelling', how='left').merge(voters[['canton', 'UDC']])\n",
    "national_council_elections['nb_udc_votes'] = national_council_elections['UDC'].fillna(0) / 100 * national_council_elections['nb_votes']\n",
    "\n",
    "# setting IDs to be city codes, so we can easily use it with Topo JSON features\n",
    "national_council_elections.set_index([['ZH', 'BE', 'LU', 'UR', 'SZ', 'OW', 'NW', 'GL', 'ZG', 'FR' ,'SO' ,'BS' ,'BL' ,\n",
    "                   'SH' ,'AR' ,'AI' ,'GR' ,'AG' ,'TG' ,'TI' ,'VD' ,'VS' ,'NE' ,'GE' ,'JU']], inplace=True)\n",
    "\n",
    "print(max(national_council_elections[\"nb_udc_votes\"]))\n",
    "national_council_elections.head()"
   ]
  },
  {
   "cell_type": "code",
   "execution_count": null,
   "metadata": {
    "ExecuteTime": {
     "end_time": "2018-10-24T19:54:54.729531Z",
     "start_time": "2018-10-24T19:54:54.723510Z"
    }
   },
   "outputs": [],
   "source": [
    "# prepare colors for the map\n",
    "linear = cm.LinearColormap(\n",
    "    ['white', 'purple'],\n",
    "    vmin=0, vmax=max(national_council_elections[\"nb_udc_votes\"])\n",
    ")\n",
    "\n",
    "def my_color_function(feature):\n",
    "    try:\n",
    "        nb_udc_votes_num = national_council_elections.loc[feature['id'], \"nb_udc_votes\"]\n",
    "        if not np.isnan(nb_udc_votes_num):\n",
    "            return linear(nb_udc_votes_num)\n",
    "        else:\n",
    "            return '#d3d3d3'\n",
    "    except KeyError:\n",
    "        return '#d3d3d3'"
   ]
  },
  {
   "cell_type": "code",
   "execution_count": null,
   "metadata": {
    "ExecuteTime": {
     "end_time": "2018-10-24T19:54:56.015975Z",
     "start_time": "2018-10-24T19:54:55.942831Z"
    }
   },
   "outputs": [],
   "source": [
    "m = folium.Map(**default_map_values)\n",
    "\n",
    "folium.TopoJson(\n",
    "    open(data_folder + '/ch-cantons.topojson.json', 'r', encoding='utf-8'),\n",
    "    'objects.cantons',\n",
    "    name='topojson',\n",
    "    style_function=lambda feature: {\n",
    "        'fillColor': my_color_function(feature),\n",
    "        'color': 'black',\n",
    "        'weight': 2,\n",
    "        'dashArray': '5, 5',\n",
    "        'fillOpacity': 0.7\n",
    "    }\n",
    ").add_to(m)\n",
    "\n",
    "linear.caption = 'UDC/SVP votes number of residents [%]'\n",
    "linear.add_to(m)\n",
    "\n",
    "m.save(join('plots', 'nb_residents.folium.map.html'))"
   ]
  },
  {
   "cell_type": "code",
   "execution_count": null,
   "metadata": {
    "ExecuteTime": {
     "end_time": "2018-10-24T19:54:58.879994Z",
     "start_time": "2018-10-24T19:54:58.872414Z"
    }
   },
   "outputs": [],
   "source": [
    "m;\n",
    "IFrame(src='plots/nb_residents.folium.map.html', width=1000, height=500)"
   ]
  },
  {
   "cell_type": "markdown",
   "metadata": {},
   "source": [
    "---"
   ]
  },
  {
   "cell_type": "markdown",
   "metadata": {},
   "source": [
    "__C)__ Which one of the two visualizations above would be more informative in case of a national election with majority voting (i.e. when a party needs to have the largest number of citizens voting for it among all parties)? Which one is more informative for the cantonal parliament elections?"
   ]
  },
  {
   "cell_type": "markdown",
   "metadata": {},
   "source": [
    "- Assuming that only the total number of votes counts towards an election the second one would be more informative for the national elections. Since cantons with large populations dominate smaller cantons.\n",
    "- For the cantonal parliament elections we would chose neither one. As the plots are generated for the national level, and are thus not really comparable. The percentage of voters however gives one more insight into the election outcome of each particular canton. Therefore our answer would be the first one.\n",
    "- Depending on the task however the absolute number of votes can still be valuable. For example if you want to target the region with a large number of votes. Assuming a constant convergence-rate regions with high number of voters would have the highest convergence and thus the highest impact."
   ]
  },
  {
   "cell_type": "markdown",
   "metadata": {},
   "source": [
    "## Task 3: More socialism or more nationalism?\n",
    "In this section, we focus on two parties that are representative of the left and the right on the Swiss political spectrum. You will propose a way to visualize their influence over time and for each canton.  \n",
    "\n",
    "__A)__ Take the two parties [`UDC`](https://en.wikipedia.org/wiki/Swiss_People%27s_Party) (Union démocratique du centre) and [`PS`](https://en.wikipedia.org/wiki/Social_Democratic_Party_of_Switzerland) (Parti socialiste suisse). For each canton, we define 'right lean' in a certain period as follows:  $$\\frac{VoteShare_{UDC} - VoteShare_{PS}}{VoteShare_{UDC} + VoteShare_{PS}}$$   Visualize the right lean of each canton on the map. What conclusions can you draw this time? Can you observe the [röstigraben](https://en.wikipedia.org/wiki/R%C3%B6stigraben) ?\n"
   ]
  },
  {
   "cell_type": "markdown",
   "metadata": {},
   "source": [
    "Read the voters data:"
   ]
  },
  {
   "cell_type": "code",
   "execution_count": null,
   "metadata": {
    "ExecuteTime": {
     "end_time": "2018-10-24T19:57:10.884638Z",
     "start_time": "2018-10-24T19:57:10.827892Z"
    }
   },
   "outputs": [],
   "source": [
    "voters = clean_voters_dataset(pd.read_excel(data_folder + '/voters.xls', sheet_name='actuel (2014-2018)', skipfooter=55, skiprows=5, encoding='utf-8'))"
   ]
  },
  {
   "cell_type": "markdown",
   "metadata": {},
   "source": [
    "Calculating the Right lean using the equation given:"
   ]
  },
  {
   "cell_type": "code",
   "execution_count": null,
   "metadata": {
    "ExecuteTime": {
     "end_time": "2018-10-24T19:57:12.282442Z",
     "start_time": "2018-10-24T19:57:12.247739Z"
    },
    "scrolled": true
   },
   "outputs": [],
   "source": [
    "# define new column (right lean) by using the given equation\n",
    "voters['right_lean'] = voters.apply(lambda row: (row['UDC'] - row['PS'])/(row['UDC'] + row['PS']), axis=1)\n",
    "voters.head()"
   ]
  },
  {
   "cell_type": "code",
   "execution_count": null,
   "metadata": {
    "ExecuteTime": {
     "end_time": "2018-10-24T19:55:37.701794Z",
     "start_time": "2018-10-24T19:55:37.697124Z"
    }
   },
   "outputs": [],
   "source": [
    "# prepare colors for the map\n",
    "linear = cm.LinearColormap(\n",
    "    ['green', 'yellow', 'red'],\n",
    "    vmin=-1, vmax=1\n",
    ")\n",
    "\n",
    "def my_color_function(feature):\n",
    "    try:\n",
    "        right_lean = voters[voters.right_lean.notnull()].at[feature['id'], \"right_lean\"]  # \"ZH\", \"right_lean\"\n",
    "        return linear(right_lean)\n",
    "    except KeyError:\n",
    "        return '#d3d3d3'"
   ]
  },
  {
   "cell_type": "code",
   "execution_count": null,
   "metadata": {
    "ExecuteTime": {
     "end_time": "2018-10-24T19:55:38.835443Z",
     "start_time": "2018-10-24T19:55:38.676014Z"
    }
   },
   "outputs": [],
   "source": [
    "m = folium.Map(**default_map_values, tiles='cartodbpositron')\n",
    "\n",
    "folium.TopoJson(\n",
    "    open(data_folder + '/ch-cantons.topojson.json', 'r', encoding='utf-8'),\n",
    "    'objects.cantons',\n",
    "    name='topojson',\n",
    "    style_function=lambda feature: {\n",
    "        'fillColor': my_color_function(feature),\n",
    "        'color': 'black',\n",
    "        'weight': 2,\n",
    "        'dashArray': '5, 5',\n",
    "        'fillOpacity': 0.7\n",
    "    }\n",
    ").add_to(m)\n",
    "\n",
    "linear.caption = 'Right Lean of Cantons'\n",
    "linear.add_to(m)\n",
    "\n",
    "m.save(join('plots', 'RightLean.html'))"
   ]
  },
  {
   "cell_type": "code",
   "execution_count": null,
   "metadata": {
    "ExecuteTime": {
     "end_time": "2018-10-24T19:55:40.091615Z",
     "start_time": "2018-10-24T19:55:40.087220Z"
    }
   },
   "outputs": [],
   "source": [
    "m;\n",
    "IFrame(src='plots/RightLean.html', width=1000, height=500)"
   ]
  },
  {
   "cell_type": "markdown",
   "metadata": {},
   "source": [
    "Link: [Right Lean Map](plots/RightLean.html)"
   ]
  },
  {
   "cell_type": "markdown",
   "metadata": {},
   "source": [
    "Right lean, or \"preserving the old order\" seems to be still a bit present on the west side (French side) of the Switzerland, as well as south part (Italian part) with canton TI. On the other hand, we can see that midle and east parts of Switzerland (German part) are directed in the oposite direction, leaning more to \"changing the old order into a new order\". And yes, you can observe röstigraben\n"
   ]
  },
  {
   "cell_type": "markdown",
   "metadata": {},
   "source": [
    "---"
   ]
  },
  {
   "cell_type": "markdown",
   "metadata": {},
   "source": [
    "__B)__  For each party, devise a way to visualize the difference between its 2014-2018 vote share (i.e. percentage) and its 2010-2013 vote share for each canton. Propose a way to visualize this evolution of the party over time, and justify your choices. There's no single correct answer, but you must reasonably explain your choices."
   ]
  },
  {
   "cell_type": "code",
   "execution_count": null,
   "metadata": {
    "ExecuteTime": {
     "end_time": "2018-10-24T19:58:06.226247Z",
     "start_time": "2018-10-24T19:58:06.115674Z"
    }
   },
   "outputs": [],
   "source": [
    "# 2014-2018 sheet\n",
    "voters_14_18 = clean_voters_dataset(pd.read_excel(data_folder + '/voters.xls', sheet_name='actuel (2014-2018)', skipfooter=55, skiprows=5, encoding='utf-8'))\n",
    "\n",
    "# 2010-2013 sheet\n",
    "voters_10_13 = clean_voters_dataset(pd.read_excel(data_folder + '/voters.xls', sheet_name='2010-2013', skipfooter=50, skiprows=5, encoding='utf-8'))"
   ]
  },
  {
   "cell_type": "code",
   "execution_count": null,
   "metadata": {
    "ExecuteTime": {
     "end_time": "2018-10-24T19:58:06.525173Z",
     "start_time": "2018-10-24T19:58:06.456859Z"
    }
   },
   "outputs": [],
   "source": [
    "display(voters_14_18[:10])\n",
    "display(voters_10_13[:10])"
   ]
  },
  {
   "cell_type": "markdown",
   "metadata": {},
   "source": [
    "The following code will describe two approaches to visualize a differece between 2014-2018 vote share (i.e. percentage) and its 2010-2013 vote share for each canton separately for each political party.\n",
    "1. The first way that is used is using a **time-slider map**. Time-slider will have two states, first in 2010 representing the first dataset values (from 2010-2013 excel sheet), second in 2014 representing the second dataset values (from 2014-2018 excel sheet). Color that is used is the same, just the shade differes depending on the percentage of votes.\n",
    "2. The second way of visualization is ploting a **map of difference** between these two time periods. For example, if the canton has the red color then it means that the number of votes for that party decreased more than 1% (<-1%) in 2018. On the other hand, if the canton is pained in green then it means that the number of votes increased more than 1% (>+1%) in comparison to the 2010-2013 period. Gray color is used for the values that are missing or cannot be compared since one of them is missing."
   ]
  },
  {
   "cell_type": "markdown",
   "metadata": {},
   "source": [
    "#### Time-Slider Map"
   ]
  },
  {
   "cell_type": "code",
   "execution_count": null,
   "metadata": {
    "ExecuteTime": {
     "end_time": "2018-10-24T19:58:12.462833Z",
     "start_time": "2018-10-24T19:58:12.457000Z"
    }
   },
   "outputs": [],
   "source": [
    "# prepare colors for the map\n",
    "linear = cm.LinearColormap(\n",
    "        ['#008080', 'white'],\n",
    "        vmin=0, vmax=42\n",
    "    )\n",
    "\n",
    "def my_color_function(voters, party, canton):\n",
    "    try:\n",
    "        if np.isnan(voters.at[canton, party]):\n",
    "            return '#d3d3d3'\n",
    "        return linear(voters.at[canton, party])\n",
    "    except KeyError:\n",
    "        return '#d3d3d3' \n",
    "    \n",
    "def create_styledata_for_party(party):    \n",
    "    styledata = {}\n",
    "    n_periods = 2  # 2010-2013 and 2014-2018\n",
    "\n",
    "    datetime_index = pd.date_range('2009', periods=n_periods, freq='4Y', closed='left')\n",
    "    dt_index_epochs = datetime_index.astype(int) // 10**9 + 10**5\n",
    "    dt_index = dt_index_epochs.astype('U10')\n",
    "\n",
    "    for canton in voters_10_13.index:\n",
    "        df = pd.DataFrame(\n",
    "            {'color': [ my_color_function(voters_14_18, party, canton), \n",
    "                        my_color_function(voters_10_13, party, canton)],\n",
    "             'opacity': [0.7, 0.7]},\n",
    "            index=list(dt_index)\n",
    "        )\n",
    "        styledata[canton] = df.to_dict('index')\n",
    "    \n",
    "    return styledata"
   ]
  },
  {
   "cell_type": "markdown",
   "metadata": {},
   "source": [
    "Conversion TopoJSON -> GeoJSON done using: http://jeffpaine.github.io/geojson-topojson/"
   ]
  },
  {
   "cell_type": "code",
   "execution_count": null,
   "metadata": {
    "ExecuteTime": {
     "end_time": "2018-10-24T19:58:15.461253Z",
     "start_time": "2018-10-24T19:58:15.457094Z"
    }
   },
   "outputs": [],
   "source": [
    "def timeslider_for_party(party):\n",
    "    m2 = folium.Map(**default_map_values, tiles='cartodbpositron')\n",
    "    \n",
    "    g1 = TimeSliderChoropleth(\n",
    "        json.load(open(data_folder + '/ch-cantons.geojson.json', 'r', encoding='utf-8')),\n",
    "        name='UDC',\n",
    "        styledict=create_styledata_for_party(party),\n",
    "    ).add_to(m2)\n",
    "\n",
    "    m2.save(join('plots', f'TimeSlider-{party}.html'))\n",
    "\n",
    "    return m2"
   ]
  },
  {
   "cell_type": "code",
   "execution_count": null,
   "metadata": {
    "ExecuteTime": {
     "end_time": "2018-10-24T19:59:22.241206Z",
     "start_time": "2018-10-24T19:59:21.866459Z"
    }
   },
   "outputs": [],
   "source": [
    "# check that you allow d3js...\n",
    "timeslider_for_party(\"UDC\");\n",
    "IFrame(src='plots/TimeSlider-UDC.html', width=1000, height=500)"
   ]
  },
  {
   "cell_type": "markdown",
   "metadata": {},
   "source": [
    "German part seems to become few shades darker. That means that they increased the percentage of votes for UDC during 2014-2018. Canton JU also seems that they have increased the percentage of voting for the UDC."
   ]
  },
  {
   "cell_type": "markdown",
   "metadata": {},
   "source": [
    "Link: [TimeSlider UDC](plots/TimeSlider-UDC.html)"
   ]
  },
  {
   "cell_type": "code",
   "execution_count": null,
   "metadata": {
    "ExecuteTime": {
     "end_time": "2018-10-24T19:59:31.295664Z",
     "start_time": "2018-10-24T19:59:31.018218Z"
    }
   },
   "outputs": [],
   "source": [
    "timeslider_for_party(\"PS\");\n",
    "IFrame(src='plots/TimeSlider-PS.html', width=1000, height=500)"
   ]
  },
  {
   "cell_type": "markdown",
   "metadata": {},
   "source": [
    "Link: [TimeSlider PS](plots/TimeSlider-PS.html)"
   ]
  },
  {
   "cell_type": "markdown",
   "metadata": {},
   "source": [
    "For PS party we can notice that on the French speaking part (VD, NE,) becomes a bit lighter shade. That means that percentage of votes for the party decreased in 2024-2028. On the other hand, canton BE becomes darker therefore the percentage of votes for PS increases. Canton AG also becomes a bit darker."
   ]
  },
  {
   "cell_type": "markdown",
   "metadata": {},
   "source": [
    "To be able to see the change, you would first really need to be concentrated on the map, but you can see it :)\n",
    "Since the difference can be hardly noticable, we created another way of visualizing this difference of votes that will be shown below."
   ]
  },
  {
   "cell_type": "markdown",
   "metadata": {},
   "source": [
    "For other political parties, we generated HTML files that can be found using the following links:"
   ]
  },
  {
   "cell_type": "code",
   "execution_count": null,
   "metadata": {
    "ExecuteTime": {
     "end_time": "2018-10-24T19:59:52.855597Z",
     "start_time": "2018-10-24T19:59:47.514298Z"
    }
   },
   "outputs": [],
   "source": [
    "for party in voters_14_18.columns[3:-1]:\n",
    "    timeslider_for_party(party)"
   ]
  },
  {
   "cell_type": "markdown",
   "metadata": {},
   "source": [
    "Timesliders (choose the party):\n",
    "- [TimeSlider AVF](plots/TimeSlider-AVF.html)\n",
    "- [TimeSlider DS](plots/TimeSlider-DS.html)\n",
    "- [TimeSlider Lega](plots/TimeSlider-Lega.html)\n",
    "- [TimeSlider MCR](plots/TimeSlider-MCR.html)\n",
    "- [TimeSlider others](plots/TimeSlider-others.html)\n",
    "- [TimeSlider PBD](plots/TimeSlider-PBD.html)\n",
    "- [TimeSlider PCS](plots/TimeSlider-PCS.html)\n",
    "- [TimeSlider PDC](plots/TimeSlider-PDC.html)\n",
    "- [TimeSlider PES](plots/TimeSlider-PES.html)\n",
    "- [TimeSlider PEV](plots/TimeSlider-PEV.html)\n",
    "- [TimeSlider PLR](plots/TimeSlider-PLR.html)\n",
    "- [TimeSlider PLS](plots/TimeSlider-PLS.html)\n",
    "- [TimeSlider PS](plots/TimeSlider-PS.html)\n",
    "- [TimeSlider PSA](plots/TimeSlider-PSA.html)\n",
    "- [TimeSlider PST](plots/TimeSlider-PST.html)\n",
    "- [TimeSlider PVL](plots/TimeSlider-PVL.html)\n",
    "- [TimeSlider Sol](plots/TimeSlider-Sol.html)\n",
    "- [TimeSlider UDC](plots/TimeSlider-UDC.html)\n",
    "- [TimeSlider UDF](plots/TimeSlider-UDF.html)"
   ]
  },
  {
   "cell_type": "markdown",
   "metadata": {},
   "source": [
    "#### Difference Map"
   ]
  },
  {
   "cell_type": "code",
   "execution_count": null,
   "metadata": {
    "ExecuteTime": {
     "end_time": "2018-10-24T19:59:52.861506Z",
     "start_time": "2018-10-24T19:59:52.857482Z"
    }
   },
   "outputs": [],
   "source": [
    "# prepare colors for the map\n",
    "linear = cm.LinearColormap(\n",
    "    ['red', 'yellow', 'green'],\n",
    "    vmin=-1, vmax=1    # just to see direction of change\n",
    ")\n",
    "\n",
    "def my_color_function2(feature, party):\n",
    "\n",
    "    def difference():\n",
    "        return voters_14_18[party].sub(voters_10_13[party], fill_value=0)\n",
    "    diff_val = difference()[feature['id']]\n",
    "\n",
    "    try:\n",
    "        if not np.isnan(diff_val):\n",
    "            return linear(diff_val)\n",
    "        else:\n",
    "            return '#d3d3d3'\n",
    "    except KeyError:\n",
    "        return '#d3d3d3'"
   ]
  },
  {
   "cell_type": "code",
   "execution_count": null,
   "metadata": {
    "ExecuteTime": {
     "end_time": "2018-10-24T19:59:52.898065Z",
     "start_time": "2018-10-24T19:59:52.863345Z"
    }
   },
   "outputs": [],
   "source": [
    "def difference_for_party(party):\n",
    "    m = folium.Map(**default_map_values, tiles='cartodbpositron')\n",
    "\n",
    "    folium.TopoJson(\n",
    "        open(data_folder + '/ch-cantons.topojson.json', 'r', encoding='utf-8'),\n",
    "        'objects.cantons',\n",
    "        name='topojson',\n",
    "        style_function=lambda feature: {\n",
    "            'fillColor': my_color_function2(feature, party),\n",
    "            'color': 'black',\n",
    "            'weight': 2,\n",
    "            'dashArray': '5, 5',\n",
    "            'fillOpacity': 0.7\n",
    "        }\n",
    "    ).add_to(m)\n",
    "\n",
    "    linear.caption = 'Difference in voting (-1 = decreased; +1 = increased)'\n",
    "    linear.add_to(m)\n",
    "\n",
    "    m.save(join('plots', f'Difference-{party}.html'))\n",
    "\n",
    "    return m"
   ]
  },
  {
   "cell_type": "code",
   "execution_count": null,
   "metadata": {
    "ExecuteTime": {
     "end_time": "2018-10-24T19:59:52.997042Z",
     "start_time": "2018-10-24T19:59:52.907786Z"
    }
   },
   "outputs": [],
   "source": [
    "difference_for_party(\"UDC\");\n",
    "IFrame(src='plots/Difference-UDC.html', width=1000, height=500)"
   ]
  },
  {
   "cell_type": "markdown",
   "metadata": {},
   "source": [
    "Link: [Difference UDC](plots/Difference-UDC.html)"
   ]
  },
  {
   "cell_type": "markdown",
   "metadata": {},
   "source": [
    "On this kind of map we can maybe say more easily whether the percentage of votes increased or decreased lately. In canton VD the percentage of votes for UDC decreased. In canton BE it stayed almost the same, and same for the canton AG. For canton GR we dont have data. Cantons on the east seem to increased their percentage of voting for UDC.\n",
    "In short, it seems that votes for democracy decreased on the west and increased on the east of Switzerland."
   ]
  },
  {
   "cell_type": "code",
   "execution_count": null,
   "metadata": {
    "ExecuteTime": {
     "end_time": "2018-10-24T19:59:53.626917Z",
     "start_time": "2018-10-24T19:59:53.525549Z"
    }
   },
   "outputs": [],
   "source": [
    "difference_for_party(\"PS\");\n",
    "IFrame(src='plots/Difference-PS.html', width=1000, height=500)"
   ]
  },
  {
   "cell_type": "markdown",
   "metadata": {},
   "source": [
    "The west side of Switzerland seems to decreased the percentage for voting for the PS, exept canton GE where they seems to increase their previous percentage. Also, the middle part of Switzerland seems to increase the percentage of votes for PS in comparison to previous years. The east of Switzerland seems to stay at the same percentage as it was in previous years.\n",
    "In short, it seems that votes for socializm decreased in west, increased in middle and north and stayed the same on the east side of Switzerland."
   ]
  },
  {
   "cell_type": "markdown",
   "metadata": {},
   "source": [
    "For other political parties, we generated HTML files that can be found using the following links:"
   ]
  },
  {
   "cell_type": "markdown",
   "metadata": {},
   "source": [
    "Link: [Difference UDC](plots/Difference-PS.html)"
   ]
  },
  {
   "cell_type": "code",
   "execution_count": null,
   "metadata": {
    "ExecuteTime": {
     "end_time": "2018-10-24T19:59:55.713297Z",
     "start_time": "2018-10-24T19:59:54.183122Z"
    }
   },
   "outputs": [],
   "source": [
    "for party in voters_14_18.columns[3:-1]:\n",
    "    difference_for_party(party)"
   ]
  },
  {
   "cell_type": "markdown",
   "metadata": {},
   "source": [
    "Differences (choose the party):\n",
    "- [Difference AVF](plots/Difference-AVF.html)\n",
    "- [Difference DS](plots/Difference-DS.html)\n",
    "- [Difference Lega](plots/Difference-Lega.html)\n",
    "- [Difference MCR](plots/Difference-MCR.html)\n",
    "- [Difference others](plots/Difference-others.html)\n",
    "- [Difference PBD](plots/Difference-PBD.html)\n",
    "- [Difference PCS](plots/Difference-PCS.html)\n",
    "- [Difference PDC](plots/Difference-PDC.html)\n",
    "- [Difference PES](plots/Difference-PES.html)\n",
    "- [Difference PEV](plots/Difference-PEV.html)\n",
    "- [Difference PLR](plots/Difference-PLR.html)\n",
    "- [Difference PLS](plots/Difference-PLS.html)\n",
    "- [Difference PS](plots/Difference-PS.html)\n",
    "- [Difference PSA](plots/Difference-PSA.html)\n",
    "- [Difference PST](plots/Difference-PST.html)\n",
    "- [Difference PVL](plots/Difference-PVL.html)\n",
    "- [Difference Sol](plots/Difference-Sol.html)\n",
    "- [Difference UDC](plots/Difference-UDC.html)\n",
    "- [Difference UDF](plots/Difference-UDF.html)"
   ]
  }
 ],
 "metadata": {
  "kernelspec": {
   "display_name": "Python [default]",
   "language": "python",
   "name": "python3"
  },
  "language_info": {
   "codemirror_mode": {
    "name": "ipython",
    "version": 3
   },
   "file_extension": ".py",
   "mimetype": "text/x-python",
   "name": "python",
   "nbconvert_exporter": "python",
   "pygments_lexer": "ipython3",
   "version": "3.7.0"
  },
  "toc": {
   "base_numbering": 1,
   "nav_menu": {},
   "number_sections": true,
   "sideBar": true,
   "skip_h1_title": false,
   "title_cell": "Table of Contents",
   "title_sidebar": "Contents",
   "toc_cell": false,
   "toc_position": {},
   "toc_section_display": true,
   "toc_window_display": false
  }
 },
 "nbformat": 4,
 "nbformat_minor": 1
}
