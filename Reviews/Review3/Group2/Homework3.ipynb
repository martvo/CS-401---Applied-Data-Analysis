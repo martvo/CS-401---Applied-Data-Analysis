{
 "cells": [
  {
   "cell_type": "markdown",
   "metadata": {},
   "source": [
    "# ADA 2018 - Homework 3\n",
    "\n",
    "\n",
    "\n",
    "## Undestanding the StackOverflow community\n",
    "\n",
    "\n",
    "Deadline: Nov 7th 2018, 23:59:59\n",
    "\n",
    "Submission link: Check channel homework-3-public"
   ]
  },
  {
   "cell_type": "markdown",
   "metadata": {},
   "source": [
    "StackOverflow is the most popular programming-related Q&A website. It serves as a platform for users to ask and answer questions and to vote questions and answers up or down. Users of StackOverflow can earn reputation points and \"badges\"; for example, a person is awarded 10 reputation points for receiving an \"up\" vote on an answer given to a question, and 5 points for the \"up\" vote on a question asked. Also, users receive badges for their valued contributions, which represents a kind of gamification of the traditional Q&A site. \n",
    "\n",
    "[Learn more about StackOverflow on Wikipedia](https://en.wikipedia.org/wiki/Stack_Overflow)\n",
    "\n",
    "----\n",
    "\n",
    "Dataset link:\n",
    "\n",
    "https://drive.google.com/open?id=1POlGjqzw9v_pZ_bUnXGihOgk45kbvNjB\n",
    "\n",
    "http://iccluster053.iccluster.epfl.ch/Posts.json.zip (mirror 1)\n",
    "\n",
    "https://iloveadatas.com/datasets/Posts.json.zip (mirror 2)\n",
    "\n",
    "Dataset description:\n",
    "\n",
    "* **Id**: Id of the post\n",
    "* **CreationDate**: Creation date of the post (String format)\n",
    "* **PostTypeId**: Type of post (Question = 1, Answer = 2)\n",
    "* **ParentId**: The id of the question. Only present if PostTypeId = 2\n",
    "* **Score**: Points assigned by the users\n",
    "* **Tags**: Tags of the question. Only present if PostTypeId = 1\n",
    "* **Title**: Only present if PostTypeId = 1\n",
    "* **ViewCount**: Only present if PostTypeId = 1\n",
    "\n",
    "The dataset format is JSON. Here are examples of a question and an answer:\n",
    "\n",
    "Question:\n",
    "```json\n",
    "{\n",
    "    \"Id\": 10130734,\n",
    "    \"CreationDate\": \"2012-04-12T19:51:25.793+02:00\",\n",
    "    \"PostTypeId\": 1,\n",
    "    \"Score\": 4,\n",
    "    \"Tags\": \"<python><pandas>\",\n",
    "    \"Title\": \"Best way to insert a new value\",\n",
    "    \"ViewCount\": 3803\n",
    "}\n",
    "```\n",
    "\n",
    "Answer:\n",
    "```json\n",
    "{  \n",
    "   \"CreationDate\":\"2010-10-26T03:19:05.063+02:00\",\n",
    "   \"Id\":4020440,\n",
    "   \"ParentId\":4020214,\n",
    "   \"PostTypeId\":2,\n",
    "   \"Score\":1\n",
    "}\n",
    "```\n",
    "\n",
    "----\n",
    "Useful resources:\n",
    "\n",
    "**Spark SQL, DataFrames and Datasets Guide**\n",
    "\n",
    "https://spark.apache.org/docs/latest/sql-programming-guide.html\n",
    "\n",
    "**Database schema documentation for the public data dump**\n",
    "\n",
    "https://meta.stackexchange.com/questions/2677/database-schema-documentation-for-the-public-data-dump-and-sede\n",
    "\n",
    "----\n",
    "\n",
    "**Note:** Use Spark where possible. Some computations can take more than 10 minutes on a common notebook. Consider to save partial results on disk."
   ]
  },
  {
   "cell_type": "code",
   "execution_count": 1,
   "metadata": {},
   "outputs": [],
   "source": [
    "import findspark\n",
    "findspark.init()\n",
    "import pyspark"
   ]
  },
  {
   "cell_type": "code",
   "execution_count": 2,
   "metadata": {},
   "outputs": [],
   "source": [
    "# Add your imports here\n",
    "import datetime\n",
    "import pandas as pd\n",
    "import numpy as np\n",
    "import scipy as sp\n",
    "import matplotlib.pyplot as plt\n",
    "import seaborn as sns\n",
    "from pyspark.sql import *\n",
    "import pyspark.sql.functions as F\n",
    "from pyspark.sql.types import FloatType\n",
    "spark = SparkSession.builder.getOrCreate()\n",
    "%matplotlib inline"
   ]
  },
  {
   "cell_type": "markdown",
   "metadata": {},
   "source": [
    "### Task A: Convert the dataset to a more convenient format\n",
    "As a warm-up task (and to avoid to warm up your laptop too much), load the dataset into a Spark dataframe, show the content, and save it in the _Parquet_ format. Use this step to convert the fields to a more convenient form.\n",
    "\n",
    "Answer the following questions:\n",
    "\n",
    "1. How many questions have been asked on StackOverflow?\n",
    "2. How many answers have been given?\n",
    "3. What is the percentage of questions with a score of 0?\n",
    "\n",
    "**Hint:** The next tasks involve a time difference. Consider storing time in numeric format."
   ]
  },
  {
   "cell_type": "code",
   "execution_count": 3,
   "metadata": {},
   "outputs": [],
   "source": [
    "# Load the data\n",
    "posts_df = spark.read.json(\"data/Posts.json\")"
   ]
  },
  {
   "cell_type": "code",
   "execution_count": 4,
   "metadata": {},
   "outputs": [
    {
     "name": "stdout",
     "output_type": "stream",
     "text": [
      "-RECORD 0--------------------------------------------------------------------\n",
      " CreationDate | 2010-10-26T03:17:55.603+02:00                                \n",
      " Id           | 4020437                                                      \n",
      " ParentId     | null                                                         \n",
      " PostTypeId   | 1                                                            \n",
      " Score        | 0                                                            \n",
      " Tags         | <asp.net-mvc><jquery-ui>                                     \n",
      " Title        | display jquery dialog till data is loaded                    \n",
      " ViewCount    | 510                                                          \n",
      "-RECORD 1--------------------------------------------------------------------\n",
      " CreationDate | 2010-10-26T03:18:17.873+02:00                                \n",
      " Id           | 4020438                                                      \n",
      " ParentId     | null                                                         \n",
      " PostTypeId   | 1                                                            \n",
      " Score        | 0                                                            \n",
      " Tags         | <javascript><html><css><dhtml>                               \n",
      " Title        | Why can only my most recently added page element be resized? \n",
      " ViewCount    | 62                                                           \n",
      "only showing top 2 rows\n",
      "\n",
      "root\n",
      " |-- CreationDate: string (nullable = true)\n",
      " |-- Id: long (nullable = true)\n",
      " |-- ParentId: long (nullable = true)\n",
      " |-- PostTypeId: long (nullable = true)\n",
      " |-- Score: long (nullable = true)\n",
      " |-- Tags: string (nullable = true)\n",
      " |-- Title: string (nullable = true)\n",
      " |-- ViewCount: long (nullable = true)\n",
      "\n"
     ]
    }
   ],
   "source": [
    "posts_df.show(2, truncate=False, vertical=True)\n",
    "posts_df.printSchema()"
   ]
  },
  {
   "cell_type": "code",
   "execution_count": 5,
   "metadata": {},
   "outputs": [
    {
     "name": "stdout",
     "output_type": "stream",
     "text": [
      "-RECORD 0----------------------------\n",
      " CreationDate | 2010-10-26 03:17:55  \n",
      " Id           | 4020437              \n",
      " ParentId     | null                 \n",
      " PostTypeId   | 1                    \n",
      " Score        | 0                    \n",
      " Tags         | <asp.net-mvc><jqu... \n",
      " Title        | display jquery di... \n",
      " ViewCount    | 510                  \n",
      "-RECORD 1----------------------------\n",
      " CreationDate | 2010-10-26 03:18:17  \n",
      " Id           | 4020438              \n",
      " ParentId     | null                 \n",
      " PostTypeId   | 1                    \n",
      " Score        | 0                    \n",
      " Tags         | <javascript><html... \n",
      " Title        | Why can only my m... \n",
      " ViewCount    | 62                   \n",
      "only showing top 2 rows\n",
      "\n",
      "root\n",
      " |-- CreationDate: timestamp (nullable = true)\n",
      " |-- Id: long (nullable = true)\n",
      " |-- ParentId: long (nullable = true)\n",
      " |-- PostTypeId: long (nullable = true)\n",
      " |-- Score: long (nullable = true)\n",
      " |-- Tags: string (nullable = true)\n",
      " |-- Title: string (nullable = true)\n",
      " |-- ViewCount: long (nullable = true)\n",
      "\n"
     ]
    }
   ],
   "source": [
    "# Convert the timestamp string to datetime object\n",
    "posts_df = posts_df.withColumn('CreationDate',F.to_timestamp(posts_df.CreationDate, \"yyy-MM-dd'T'HH:mm:ss.SSSXXX\"))\n",
    "posts_df.show(2, truncate=True, vertical=True)\n",
    "posts_df.printSchema()"
   ]
  },
  {
   "cell_type": "code",
   "execution_count": 6,
   "metadata": {},
   "outputs": [],
   "source": [
    "# Create a file for the questions only\n",
    "# We take off null columns (ParentId being always null for questions)\n",
    "questions_df = posts_df.filter(posts_df.PostTypeId==1)\n",
    "questions_df = questions_df.drop(\"PostTypeId\", \"ParentId\")\n",
    "questions_df.write.parquet(\"data/questions.parquet\")"
   ]
  },
  {
   "cell_type": "code",
   "execution_count": 7,
   "metadata": {},
   "outputs": [],
   "source": [
    "# Create a file for the answers only\n",
    "# We take off null columns (Tags, Title and ViewCount being always null for answers)\n",
    "answers_df = posts_df.filter(posts_df.PostTypeId==2)\n",
    "answers_df = answers_df.drop(\"PostTypeId\", \"Tags\", \"Title\", \"ViewCount\")\n",
    "answers_df.write.parquet(\"data/answers.parquet\")"
   ]
  },
  {
   "cell_type": "code",
   "execution_count": 8,
   "metadata": {},
   "outputs": [
    {
     "data": {
      "text/plain": [
       "DataFrame[CreationDate: timestamp, Id: bigint, ParentId: bigint, Score: bigint]"
      ]
     },
     "execution_count": 8,
     "metadata": {},
     "output_type": "execute_result"
    }
   ],
   "source": [
    "del posts_df\n",
    "questions_df.persist()\n",
    "answers_df.persist()"
   ]
  },
  {
   "cell_type": "markdown",
   "metadata": {},
   "source": [
    "#### 1. How many questions have been asked on StackOverflow?"
   ]
  },
  {
   "cell_type": "code",
   "execution_count": 9,
   "metadata": {},
   "outputs": [
    {
     "name": "stdout",
     "output_type": "stream",
     "text": [
      "15647060 questions have been asked on StackOverflow.\n"
     ]
    }
   ],
   "source": [
    "print(\"%d questions have been asked on StackOverflow.\" % questions_df.count())"
   ]
  },
  {
   "cell_type": "markdown",
   "metadata": {},
   "source": [
    "#### 2. How many answers have been given?"
   ]
  },
  {
   "cell_type": "code",
   "execution_count": 10,
   "metadata": {},
   "outputs": [
    {
     "name": "stdout",
     "output_type": "stream",
     "text": [
      "25192772 responses have been given on StackOverflow.\n"
     ]
    }
   ],
   "source": [
    "print(\"%d responses have been given on StackOverflow.\" % answers_df.count())"
   ]
  },
  {
   "cell_type": "markdown",
   "metadata": {},
   "source": [
    "#### 3. What is the percentage of questions with a score of 0?"
   ]
  },
  {
   "cell_type": "code",
   "execution_count": 11,
   "metadata": {},
   "outputs": [
    {
     "name": "stdout",
     "output_type": "stream",
     "text": [
      "The percentage of questions with a score of 0 is: 46.54%.\n"
     ]
    }
   ],
   "source": [
    "num_score_null = questions_df.filter(questions_df.Score==0).count()\n",
    "num_score_total = questions_df.count()\n",
    "percentage = num_score_null/num_score_total * 100\n",
    "print(\"The percentage of questions with a score of 0 is: %0.2f%%.\" % percentage)"
   ]
  },
  {
   "cell_type": "markdown",
   "metadata": {},
   "source": [
    "**Hint:** Load the dataset from the Parquet file for the next tasks."
   ]
  },
  {
   "cell_type": "code",
   "execution_count": 12,
   "metadata": {},
   "outputs": [],
   "source": [
    "questions_df = spark.read.load(\"data/questions.parquet\")\n",
    "answers_df = spark.read.load(\"data/answers.parquet\")\n",
    "\n",
    "# We create a lazily evaluated \"view\" to use Spark SQL\n",
    "questions_df.createOrReplaceTempView(\"questions\")\n",
    "answers_df.createOrReplaceTempView(\"answers\")"
   ]
  },
  {
   "cell_type": "markdown",
   "metadata": {},
   "source": [
    "### Task B: What are the 10 most popular tags?\n",
    "\n",
    "What are the most popular tags in StackOverflow? Use Spark to extract the information you need, and answer the following questions with Pandas and Matplotlib (or Seaborn):\n",
    "\n",
    "1. What is the proportion of tags that appear in fewer than 100 questions?\n",
    "2. Plot the distribution of the tag counts using an appropriate representation.\n",
    "3. Plot a bar chart with the number of questions for the 10 most popular tags.\n",
    "\n",
    "For each task describe your findings briefly."
   ]
  },
  {
   "cell_type": "code",
   "execution_count": 13,
   "metadata": {},
   "outputs": [
    {
     "name": "stdout",
     "output_type": "stream",
     "text": [
      "+--------+-------------------------------------------------------------------------+\n",
      "|Id      |Tags                                                                     |\n",
      "+--------+-------------------------------------------------------------------------+\n",
      "|45740348|<flash><react-native>                                                    |\n",
      "|45740355|<postgresql><formatting><plpgsql>                                        |\n",
      "|45740358|<python><websocket><python-asyncio>                                      |\n",
      "|45740363|<facebook><facebook-javascript-sdk><share><facebook-opengraph><opengraph>|\n",
      "|45740371|<mongodb><shell>                                                         |\n",
      "+--------+-------------------------------------------------------------------------+\n",
      "only showing top 5 rows\n",
      "\n"
     ]
    }
   ],
   "source": [
    "questions_df.select(\"Id\",\"Tags\").show(5, truncate=False)"
   ]
  },
  {
   "cell_type": "code",
   "execution_count": 14,
   "metadata": {},
   "outputs": [
    {
     "name": "stdout",
     "output_type": "stream",
     "text": [
      "+--------+-----------------------+\n",
      "|Id      |Tag                    |\n",
      "+--------+-----------------------+\n",
      "|45740348|flash                  |\n",
      "|45740348|react-native           |\n",
      "|45740355|postgresql             |\n",
      "|45740355|formatting             |\n",
      "|45740355|plpgsql                |\n",
      "|45740358|python                 |\n",
      "|45740358|websocket              |\n",
      "|45740358|python-asyncio         |\n",
      "|45740363|facebook               |\n",
      "|45740363|facebook-javascript-sdk|\n",
      "+--------+-----------------------+\n",
      "only showing top 10 rows\n",
      "\n"
     ]
    }
   ],
   "source": [
    "# We parse the tag column to get the information about each single tag\n",
    "q_tags = questions_df.withColumn(\"Tag\", F.explode(F.split(questions_df.Tags, \"><\"))).select(\"Id\", \"Tag\")\n",
    "\n",
    "# For the first \"<\" and the last \">\"\n",
    "q_tags = q_tags.withColumn(\"Tag\", F.regexp_replace(q_tags.Tag, \"<|>\", \"\"))\n",
    "q_tags.write.parquet(\"data/questions_tags.parquet\")\n",
    "q_tags.persist()\n",
    "q_tags.show(10, truncate=False)"
   ]
  },
  {
   "cell_type": "code",
   "execution_count": 15,
   "metadata": {},
   "outputs": [],
   "source": [
    "q_tags = spark.read.load(\"data/questions_tags.parquet\")"
   ]
  },
  {
   "cell_type": "markdown",
   "metadata": {},
   "source": [
    "#### 1) What is the proportion of tags that appear in fewer than 100 questions?"
   ]
  },
  {
   "cell_type": "code",
   "execution_count": 16,
   "metadata": {},
   "outputs": [],
   "source": [
    "# We create a lazily evaluated \"view\" to use Spark SQL\n",
    "q_tags.createOrReplaceTempView(\"q_tags\")\n",
    "\n",
    "tags_count = spark.sql(\"SELECT Tag, COUNT(Id) AS Count FROM q_tags GROUP BY Tag\")\n",
    "rare_tags_count = tags_count.filter(tags_count.Count < 100).count()\n",
    "total_tags_count = spark.sql(\"SELECT COUNT(DISTINCT Tag) AS TotalCount FROM q_tags\").first().TotalCount"
   ]
  },
  {
   "cell_type": "code",
   "execution_count": 17,
   "metadata": {},
   "outputs": [
    {
     "name": "stdout",
     "output_type": "stream",
     "text": [
      "The proportion of tags that appear in fewer than 100 questions is: 67.98%\n"
     ]
    }
   ],
   "source": [
    "print(\"The proportion of tags that appear in fewer than 100 questions is: {:.2f}%\"\n",
    "      .format((rare_tags_count / total_tags_count)*100))"
   ]
  },
  {
   "cell_type": "markdown",
   "metadata": {},
   "source": [
    "**Explanations**: This shows that more than two-thirds of all tags are rarely used. In other words, the same tags are often used."
   ]
  },
  {
   "cell_type": "markdown",
   "metadata": {},
   "source": [
    "#### 2) Plot the distribution of the tag counts using an appropriate representation."
   ]
  },
  {
   "cell_type": "code",
   "execution_count": 18,
   "metadata": {},
   "outputs": [
    {
     "data": {
      "text/html": [
       "<div>\n",
       "<style scoped>\n",
       "    .dataframe tbody tr th:only-of-type {\n",
       "        vertical-align: middle;\n",
       "    }\n",
       "\n",
       "    .dataframe tbody tr th {\n",
       "        vertical-align: top;\n",
       "    }\n",
       "\n",
       "    .dataframe thead th {\n",
       "        text-align: right;\n",
       "    }\n",
       "</style>\n",
       "<table border=\"1\" class=\"dataframe\">\n",
       "  <thead>\n",
       "    <tr style=\"text-align: right;\">\n",
       "      <th></th>\n",
       "      <th>Count</th>\n",
       "    </tr>\n",
       "  </thead>\n",
       "  <tbody>\n",
       "    <tr>\n",
       "      <th>count</th>\n",
       "      <td>5.299400e+04</td>\n",
       "    </tr>\n",
       "    <tr>\n",
       "      <th>mean</th>\n",
       "      <td>8.809450e+02</td>\n",
       "    </tr>\n",
       "    <tr>\n",
       "      <th>std</th>\n",
       "      <td>1.598885e+04</td>\n",
       "    </tr>\n",
       "    <tr>\n",
       "      <th>min</th>\n",
       "      <td>1.000000e+00</td>\n",
       "    </tr>\n",
       "    <tr>\n",
       "      <th>25%</th>\n",
       "      <td>1.000000e+01</td>\n",
       "    </tr>\n",
       "    <tr>\n",
       "      <th>50%</th>\n",
       "      <td>3.700000e+01</td>\n",
       "    </tr>\n",
       "    <tr>\n",
       "      <th>75%</th>\n",
       "      <td>1.570000e+02</td>\n",
       "    </tr>\n",
       "    <tr>\n",
       "      <th>max</th>\n",
       "      <td>1.585495e+06</td>\n",
       "    </tr>\n",
       "  </tbody>\n",
       "</table>\n",
       "</div>"
      ],
      "text/plain": [
       "              Count\n",
       "count  5.299400e+04\n",
       "mean   8.809450e+02\n",
       "std    1.598885e+04\n",
       "min    1.000000e+00\n",
       "25%    1.000000e+01\n",
       "50%    3.700000e+01\n",
       "75%    1.570000e+02\n",
       "max    1.585495e+06"
      ]
     },
     "execution_count": 18,
     "metadata": {},
     "output_type": "execute_result"
    }
   ],
   "source": [
    "tags_count_pd = tags_count.toPandas()\n",
    "tags_count_pd.describe()"
   ]
  },
  {
   "cell_type": "code",
   "execution_count": 19,
   "metadata": {},
   "outputs": [],
   "source": [
    "def plot_loglog_hist(x, xlabel, ylabel, title, bins=100):\n",
    "    hist, bins = np.histogram(x, bins=bins)\n",
    "    cumhist = np.flip(np.cumsum(np.flip(hist, 0)), 0)\n",
    "    f = plt.figure()\n",
    "    f.suptitle(title)\n",
    "    ax = plt.loglog(bins[1:], cumhist, marker=\".\")\n",
    "    plt.ylabel(ylabel)\n",
    "    plt.xlabel(xlabel) "
   ]
  },
  {
   "cell_type": "code",
   "execution_count": 20,
   "metadata": {},
   "outputs": [
    {
     "data": {
      "image/png": "[encoded data removed]",
      "text/plain": [
       "<Figure size 432x288 with 1 Axes>"
      ]
     },
     "metadata": {
      "needs_background": "light"
     },
     "output_type": "display_data"
    }
   ],
   "source": [
    "plot_loglog_hist(tags_count_pd.Count, \n",
    "                 \"n: tag occurences count\", \n",
    "                 \"Count of tags with occurences > n\",\n",
    "                 \"Cumulative distribution of tag frequency\",                 \n",
    "                 bins=1000)"
   ]
  },
  {
   "cell_type": "markdown",
   "metadata": {},
   "source": [
    "**Explanations**: We can see that the cumulative distribution follows a straight line (at least for 3e3 < n < 4e5). The drop at the begining highlight the fact that the majority of tags are rarely used (< 2e4 times). Then we have an exponential decay in the count of tags occurence, that is a lot of tags that appear in a small number of questions and a small proportion of them are very frequently used. This confirms the conclusion we made in the previous question."
   ]
  },
  {
   "cell_type": "markdown",
   "metadata": {},
   "source": [
    "#### 3) Plot a bar chart with the number of questions for the 10 most popular tags."
   ]
  },
  {
   "cell_type": "code",
   "execution_count": 21,
   "metadata": {},
   "outputs": [
    {
     "data": {
      "image/png": "[encoded data removed]",
      "text/plain": [
       "<Figure size 432x288 with 1 Axes>"
      ]
     },
     "metadata": {
      "needs_background": "light"
     },
     "output_type": "display_data"
    }
   ],
   "source": [
    "most_frequent_tags = tags_count_pd.sort_values(\"Count\").tail(10)\n",
    "_ = most_frequent_tags.plot.bar(\"Tag\", \"Count\", title=\"The 10 most frequent tags\")"
   ]
  },
  {
   "cell_type": "markdown",
   "metadata": {},
   "source": [
    "**Explanations**: From the most used tag (\"javascript\") to the 8th most used one (\"html\"), the proportion is divided by two. This implies that there are strong outliers in the tag frequency: here we are only comparing the 10 most used tags regarding the 52'994 that exist. Even among the top-used tags, some are far more used than other."
   ]
  },
  {
   "cell_type": "markdown",
   "metadata": {},
   "source": [
    "### Task C: View-score relation\n",
    "\n",
    "We want to investigate the correlation between the view count and the score of questions.\n",
    "\n",
    "1. Get the view count and score of the questions with tag ```random-effects``` and visualize the relation between these two variables using an appropriate plot.\n",
    "2. Are these two variables correlated? Use the Pearson coefficient to validate your hypothesis. Discuss your findings in detail.\n",
    "\n",
    "**Hint:** Inspect the data visually before drawing your conclusions."
   ]
  },
  {
   "cell_type": "markdown",
   "metadata": {},
   "source": [
    "#### 1. Get the view count and score of the questions with tag random-effects and visualize the relation between these two variables using an appropriate plot."
   ]
  },
  {
   "cell_type": "code",
   "execution_count": 22,
   "metadata": {},
   "outputs": [],
   "source": [
    "query=\"\"\"\n",
    "SELECT ViewCount, Score\n",
    "FROM questions q INNER JOIN q_tags t\n",
    "WHERE q.Id=t.Id AND t.Tag='random-effects'\n",
    "SORT BY ViewCount\n",
    "\"\"\"\n",
    "view_score = spark.sql(query).toPandas()"
   ]
  },
  {
   "cell_type": "code",
   "execution_count": 23,
   "metadata": {},
   "outputs": [
    {
     "data": {
      "text/html": [
       "<div>\n",
       "<style scoped>\n",
       "    .dataframe tbody tr th:only-of-type {\n",
       "        vertical-align: middle;\n",
       "    }\n",
       "\n",
       "    .dataframe tbody tr th {\n",
       "        vertical-align: top;\n",
       "    }\n",
       "\n",
       "    .dataframe thead th {\n",
       "        text-align: right;\n",
       "    }\n",
       "</style>\n",
       "<table border=\"1\" class=\"dataframe\">\n",
       "  <thead>\n",
       "    <tr style=\"text-align: right;\">\n",
       "      <th></th>\n",
       "      <th>ViewCount</th>\n",
       "      <th>Score</th>\n",
       "    </tr>\n",
       "  </thead>\n",
       "  <tbody>\n",
       "    <tr>\n",
       "      <th>count</th>\n",
       "      <td>100.000000</td>\n",
       "      <td>100.000000</td>\n",
       "    </tr>\n",
       "    <tr>\n",
       "      <th>mean</th>\n",
       "      <td>1191.830000</td>\n",
       "      <td>1.500000</td>\n",
       "    </tr>\n",
       "    <tr>\n",
       "      <th>std</th>\n",
       "      <td>5037.166977</td>\n",
       "      <td>4.154832</td>\n",
       "    </tr>\n",
       "    <tr>\n",
       "      <th>min</th>\n",
       "      <td>10.000000</td>\n",
       "      <td>-2.000000</td>\n",
       "    </tr>\n",
       "    <tr>\n",
       "      <th>25%</th>\n",
       "      <td>64.250000</td>\n",
       "      <td>0.000000</td>\n",
       "    </tr>\n",
       "    <tr>\n",
       "      <th>50%</th>\n",
       "      <td>179.000000</td>\n",
       "      <td>0.000000</td>\n",
       "    </tr>\n",
       "    <tr>\n",
       "      <th>75%</th>\n",
       "      <td>534.000000</td>\n",
       "      <td>1.000000</td>\n",
       "    </tr>\n",
       "    <tr>\n",
       "      <th>max</th>\n",
       "      <td>42678.000000</td>\n",
       "      <td>31.000000</td>\n",
       "    </tr>\n",
       "  </tbody>\n",
       "</table>\n",
       "</div>"
      ],
      "text/plain": [
       "          ViewCount       Score\n",
       "count    100.000000  100.000000\n",
       "mean    1191.830000    1.500000\n",
       "std     5037.166977    4.154832\n",
       "min       10.000000   -2.000000\n",
       "25%       64.250000    0.000000\n",
       "50%      179.000000    0.000000\n",
       "75%      534.000000    1.000000\n",
       "max    42678.000000   31.000000"
      ]
     },
     "execution_count": 23,
     "metadata": {},
     "output_type": "execute_result"
    }
   ],
   "source": [
    "view_score.describe()"
   ]
  },
  {
   "cell_type": "code",
   "execution_count": 24,
   "metadata": {},
   "outputs": [
    {
     "data": {
      "image/png": "[encoded data removed]",
      "text/plain": [
       "<Figure size 432x288 with 1 Axes>"
      ]
     },
     "metadata": {
      "needs_background": "light"
     },
     "output_type": "display_data"
    }
   ],
   "source": [
    "_ = view_score.plot.scatter(\"ViewCount\", \"Score\", s=20, alpha=0.3, title='Questions with tag \"random-effect\"')"
   ]
  },
  {
   "cell_type": "markdown",
   "metadata": {},
   "source": [
    "**Explanations**: The two outliers at ~25k and 40k views count prevents us to see if there is a correlation between the two variables."
   ]
  },
  {
   "cell_type": "code",
   "execution_count": 25,
   "metadata": {},
   "outputs": [
    {
     "data": {
      "image/png": "[encoded data removed]",
      "text/plain": [
       "<Figure size 432x288 with 1 Axes>"
      ]
     },
     "metadata": {
      "needs_background": "light"
     },
     "output_type": "display_data"
    }
   ],
   "source": [
    "_ = view_score[view_score.ViewCount<10000]\\\n",
    "    .plot.scatter(\"ViewCount\", \"Score\", s=20, alpha=0.3, title='Questions with tag \"random-effect\"')"
   ]
  },
  {
   "cell_type": "markdown",
   "metadata": {},
   "source": [
    "**Explanations**: Even without the two outliers, we can say that the variables are not correlated. The cluster of points for the score 0-2 accounts for a large proportion of the samples and there is no clear linear relation in it. We already know that the Pearson coefficient will be meaningless with this dataset because of the outliers."
   ]
  },
  {
   "cell_type": "markdown",
   "metadata": {},
   "source": [
    "#### 2. Are these two variables correlated? Use the Pearson coefficient to validate your hypothesis. Discuss your findings in detail."
   ]
  },
  {
   "cell_type": "code",
   "execution_count": 26,
   "metadata": {},
   "outputs": [
    {
     "name": "stdout",
     "output_type": "stream",
     "text": [
      "Pearson correlation=0.882 (with outliers)\n"
     ]
    }
   ],
   "source": [
    "r, _ = sp.stats.pearsonr(view_score.ViewCount, view_score.Score)\n",
    "print(\"Pearson correlation={:.3f} (with outliers)\".format(r))"
   ]
  },
  {
   "cell_type": "code",
   "execution_count": 27,
   "metadata": {},
   "outputs": [
    {
     "name": "stdout",
     "output_type": "stream",
     "text": [
      "Pearson correlation=0.439 (without points at ViewCount > 10000)\n"
     ]
    }
   ],
   "source": [
    "view_score_1 = view_score[view_score.ViewCount < 10000]\n",
    "r, pvalue = sp.stats.pearsonr(view_score_1.ViewCount, view_score_1.Score)\n",
    "print(\"Pearson correlation={:.3f} (without points at ViewCount > 10000)\".format(r, pvalue))"
   ]
  },
  {
   "cell_type": "markdown",
   "metadata": {},
   "source": [
    "**Explanations**: By removing only two outliers we have divided the Pearson correlation by two!\n",
    "This confirm that the Pearson correlation is applicable only if there are no outliers. "
   ]
  },
  {
   "cell_type": "markdown",
   "metadata": {},
   "source": [
    "### Task D: What are the tags with the fastest first answer?\n",
    "\n",
    "What are the tags that have the fastest response time from the community? We define the response time as the difference in seconds between the timestamps of the question and of the first answer received.\n",
    "\n",
    "1. Get the response time for the first answer of the questions with the tags ```python``` and ```java```.\n",
    "2. Plot the two distributions in an appropriate format. What do you observe? Describe your findings and discuss the following distribution properties: mean, median, standard deviation.\n",
    "3. We believe that the response time is lower for questions related to Python. Contradict or confirm this assumption by estimating the proper statistic with bootstrapping. Visualize the 95% confidence intervals with box plots and describe your findings.\n",
    "3. Repeat the first analysis (D1) by using the proper statistic to measure the response time for the tags that appear at least 5000 times. Plot the distribution of the 10 tags with the fastest response time.\n"
   ]
  },
  {
   "cell_type": "markdown",
   "metadata": {},
   "source": [
    "#### 1. Get the response time for the first answer of the questions with the tags python and java."
   ]
  },
  {
   "cell_type": "code",
   "execution_count": 28,
   "metadata": {},
   "outputs": [
    {
     "name": "stdout",
     "output_type": "stream",
     "text": [
      "root\n",
      " |-- CreationDate: timestamp (nullable = true)\n",
      " |-- Id: long (nullable = true)\n",
      " |-- ParentId: long (nullable = true)\n",
      " |-- Score: long (nullable = true)\n",
      "\n"
     ]
    }
   ],
   "source": [
    "answers_df.printSchema()"
   ]
  },
  {
   "cell_type": "code",
   "execution_count": 29,
   "metadata": {},
   "outputs": [
    {
     "name": "stdout",
     "output_type": "stream",
     "text": [
      "root\n",
      " |-- ParentId: long (nullable = true)\n",
      " |-- CreationDate: timestamp (nullable = true)\n",
      " |-- ResponseTime: long (nullable = true)\n",
      "\n",
      "+-------+--------------------+------------------+\n",
      "|summary|            ParentId|      ResponseTime|\n",
      "+-------+--------------------+------------------+\n",
      "|  count|            13582820|          13582820|\n",
      "|   mean|2.6039378621347997E7|1164881.1913124078|\n",
      "| stddev|1.4789156113105278E7| 7481559.416447088|\n",
      "|    min|                   6|        -184239128|\n",
      "|    max|            52134299|         303565136|\n",
      "+-------+--------------------+------------------+\n",
      "\n"
     ]
    }
   ],
   "source": [
    "# Get the first answer of each question\n",
    "tmp = answers_df.groupBy(\"ParentId\").agg(F.min('CreationDate').alias('CreationDate'))\n",
    "\n",
    "# Join the answer to its question\n",
    "tmp = tmp.join(\n",
    "    questions_df.select(questions_df.Id, questions_df.CreationDate.alias(\"QuestionDate\")), \n",
    "    on=[(questions_df.Id==answers_df.ParentId)]).drop(\"Id\")\n",
    "\n",
    "# Calculate the response time\n",
    "rt = tmp.withColumn(\"ResponseTime\", F.unix_timestamp(tmp.CreationDate)-F.unix_timestamp(tmp.QuestionDate))\\\n",
    "        .drop(\"QuestionDate\")\n",
    "    \n",
    "rt.persist()\n",
    "rt.printSchema()\n",
    "rt.describe().show()"
   ]
  },
  {
   "cell_type": "code",
   "execution_count": 30,
   "metadata": {},
   "outputs": [
    {
     "name": "stdout",
     "output_type": "stream",
     "text": [
      "Count of answers with negative ResponseTime = 36018\n"
     ]
    }
   ],
   "source": [
    "print(\"Count of answers with negative ResponseTime =\", rt.filter(rt.ResponseTime<=0).count())\n",
    "\n",
    "# Keep rows that have a positive response time\n",
    "rt = rt.filter(rt.ResponseTime>0)"
   ]
  },
  {
   "cell_type": "markdown",
   "metadata": {},
   "source": [
    "**Note:** we chose to remove the answers with an inconsistent ResponseTime that is less than or equals to 0. Apparently there is a problem with the timestamp in the dataset."
   ]
  },
  {
   "cell_type": "code",
   "execution_count": 31,
   "metadata": {},
   "outputs": [],
   "source": [
    "# Keep answer to question with the tags python or java\n",
    "java_python_rt = rt .select(rt.ParentId, rt.ResponseTime)\\\n",
    "                    .join(q_tags, on=[(rt.ParentId==q_tags.Id)])\\\n",
    "                    .filter(q_tags.Tag.isin(\"python\", \"java\"))\\\n",
    "                    .select(\"ParentId\", \"Tag\", \"ResponseTime\")"
   ]
  },
  {
   "cell_type": "code",
   "execution_count": 32,
   "metadata": {},
   "outputs": [],
   "source": [
    "java_python_rt.write.parquet(\"data/java_python_rt.parquet\")"
   ]
  },
  {
   "cell_type": "code",
   "execution_count": 33,
   "metadata": {},
   "outputs": [
    {
     "data": {
      "text/html": [
       "<div>\n",
       "<style scoped>\n",
       "    .dataframe tbody tr th:only-of-type {\n",
       "        vertical-align: middle;\n",
       "    }\n",
       "\n",
       "    .dataframe tbody tr th {\n",
       "        vertical-align: top;\n",
       "    }\n",
       "\n",
       "    .dataframe thead th {\n",
       "        text-align: right;\n",
       "    }\n",
       "</style>\n",
       "<table border=\"1\" class=\"dataframe\">\n",
       "  <thead>\n",
       "    <tr style=\"text-align: right;\">\n",
       "      <th></th>\n",
       "      <th>ParentId</th>\n",
       "      <th>Tag</th>\n",
       "      <th>ResponseTime</th>\n",
       "    </tr>\n",
       "  </thead>\n",
       "  <tbody>\n",
       "    <tr>\n",
       "      <th>0</th>\n",
       "      <td>2158</td>\n",
       "      <td>java</td>\n",
       "      <td>926</td>\n",
       "    </tr>\n",
       "    <tr>\n",
       "      <th>1</th>\n",
       "      <td>32586</td>\n",
       "      <td>java</td>\n",
       "      <td>3148</td>\n",
       "    </tr>\n",
       "    <tr>\n",
       "      <th>2</th>\n",
       "      <td>53027</td>\n",
       "      <td>python</td>\n",
       "      <td>256</td>\n",
       "    </tr>\n",
       "    <tr>\n",
       "      <th>3</th>\n",
       "      <td>150532</td>\n",
       "      <td>python</td>\n",
       "      <td>191</td>\n",
       "    </tr>\n",
       "    <tr>\n",
       "      <th>4</th>\n",
       "      <td>164105</td>\n",
       "      <td>java</td>\n",
       "      <td>2583</td>\n",
       "    </tr>\n",
       "  </tbody>\n",
       "</table>\n",
       "</div>"
      ],
      "text/plain": [
       "   ParentId     Tag  ResponseTime\n",
       "0      2158    java           926\n",
       "1     32586    java          3148\n",
       "2     53027  python           256\n",
       "3    150532  python           191\n",
       "4    164105    java          2583"
      ]
     },
     "execution_count": 33,
     "metadata": {},
     "output_type": "execute_result"
    }
   ],
   "source": [
    "java_python_rt = spark.read.load(\"data/java_python_rt.parquet\")\n",
    "java_python_pd = java_python_rt.toPandas()\n",
    "\n",
    "# Print the first five rows\n",
    "java_python_pd.head(5)"
   ]
  },
  {
   "cell_type": "markdown",
   "metadata": {},
   "source": [
    "#### 2. Plot the two distributions in an appropriate format. What do you observe? Describe your findings and discuss the following distribution properties: mean, median, standard deviation."
   ]
  },
  {
   "cell_type": "code",
   "execution_count": 34,
   "metadata": {},
   "outputs": [],
   "source": [
    "# Convert seconds to hours\n",
    "java_python_pd.ResponseTime = java_python_pd.ResponseTime.apply(lambda d: d/3600)\n",
    "\n",
    "java_rt = java_python_pd[java_python_pd.Tag==\"java\"].ResponseTime.values\n",
    "python_rt = java_python_pd[java_python_pd.Tag==\"python\"].ResponseTime.values"
   ]
  },
  {
   "cell_type": "code",
   "execution_count": 35,
   "metadata": {},
   "outputs": [
    {
     "data": {
      "image/png": "[encoded data removed]",
      "text/plain": [
       "<Figure size 576x432 with 1 Axes>"
      ]
     },
     "metadata": {
      "needs_background": "light"
     },
     "output_type": "display_data"
    }
   ],
   "source": [
    "plt.figure(figsize=(8,6))\n",
    "plt.hist([java_rt, python_rt], histtype=\"step\", bins=100, log=True, density=True, label=[\"Java\", \"Python\"])\n",
    "plt.xlabel(\"First response delay (in hours)\")\n",
    "plt.ylabel(\"Proportion\")\n",
    "_ = plt.legend()"
   ]
  },
  {
   "cell_type": "code",
   "execution_count": 36,
   "metadata": {},
   "outputs": [
    {
     "data": {
      "text/html": [
       "<div>\n",
       "<style scoped>\n",
       "    .dataframe tbody tr th:only-of-type {\n",
       "        vertical-align: middle;\n",
       "    }\n",
       "\n",
       "    .dataframe tbody tr th {\n",
       "        vertical-align: top;\n",
       "    }\n",
       "\n",
       "    .dataframe thead th {\n",
       "        text-align: right;\n",
       "    }\n",
       "</style>\n",
       "<table border=\"1\" class=\"dataframe\">\n",
       "  <thead>\n",
       "    <tr style=\"text-align: right;\">\n",
       "      <th></th>\n",
       "      <th>count</th>\n",
       "      <th>mean</th>\n",
       "      <th>std</th>\n",
       "      <th>min</th>\n",
       "      <th>25%</th>\n",
       "      <th>50%</th>\n",
       "      <th>75%</th>\n",
       "      <th>max</th>\n",
       "    </tr>\n",
       "    <tr>\n",
       "      <th>Tag</th>\n",
       "      <th></th>\n",
       "      <th></th>\n",
       "      <th></th>\n",
       "      <th></th>\n",
       "      <th></th>\n",
       "      <th></th>\n",
       "      <th></th>\n",
       "      <th></th>\n",
       "    </tr>\n",
       "  </thead>\n",
       "  <tbody>\n",
       "    <tr>\n",
       "      <th>java</th>\n",
       "      <td>1176818.0</td>\n",
       "      <td>277.465432</td>\n",
       "      <td>1981.406606</td>\n",
       "      <td>0.000278</td>\n",
       "      <td>0.110000</td>\n",
       "      <td>0.340000</td>\n",
       "      <td>2.670833</td>\n",
       "      <td>82926.862500</td>\n",
       "    </tr>\n",
       "    <tr>\n",
       "      <th>python</th>\n",
       "      <td>827848.0</td>\n",
       "      <td>273.254770</td>\n",
       "      <td>1919.007300</td>\n",
       "      <td>0.000278</td>\n",
       "      <td>0.118056</td>\n",
       "      <td>0.376944</td>\n",
       "      <td>2.661944</td>\n",
       "      <td>68460.423611</td>\n",
       "    </tr>\n",
       "  </tbody>\n",
       "</table>\n",
       "</div>"
      ],
      "text/plain": [
       "            count        mean          std       min       25%       50%  \\\n",
       "Tag                                                                        \n",
       "java    1176818.0  277.465432  1981.406606  0.000278  0.110000  0.340000   \n",
       "python   827848.0  273.254770  1919.007300  0.000278  0.118056  0.376944   \n",
       "\n",
       "             75%           max  \n",
       "Tag                             \n",
       "java    2.670833  82926.862500  \n",
       "python  2.661944  68460.423611  "
      ]
     },
     "execution_count": 36,
     "metadata": {},
     "output_type": "execute_result"
    }
   ],
   "source": [
    "java_python_pd.groupby(\"Tag\").describe()['ResponseTime']"
   ]
  },
  {
   "cell_type": "markdown",
   "metadata": {},
   "source": [
    "**Explanations**: We can observe that the distribution of the response time for the two languages are very similar. This is clear on the histogram and is confirmed with the very similar values for the mean, median and standard deviation. The standard deviation seems very large. Indeed (for java but same applies for python), the median is equal to 0.34 while the mean is equal to 277 hours. This shows that in most cases, answers are given very quickly (75% are given in less than 3 hours) but there are also clear outliers with response time being very large. "
   ]
  },
  {
   "cell_type": "markdown",
   "metadata": {
    "collapsed": true
   },
   "source": [
    "#### 3. We believe that the response time is lower for questions related to Python. Contradict or confirm this assumption by estimating the proper statistic with bootstrapping. Visualize the 95% confidence intervals with box plots and describe your findings."
   ]
  },
  {
   "cell_type": "code",
   "execution_count": 37,
   "metadata": {},
   "outputs": [],
   "source": [
    "def bootstrap(data, number_of_samples, estimator=np.median, t=1.96):\n",
    "    # take the samples and apply the function\n",
    "    results = [estimator(data[np.random.randint(0, len(data), size=len(data))]) for _ in range(number_of_samples)]\n",
    "    # compute the confidence interval\n",
    "    std = np.std(results)\n",
    "    mu = np.mean(results)\n",
    "    CI = (mu-std*t, mu+std*t)\n",
    "    return results, CI"
   ]
  },
  {
   "cell_type": "code",
   "execution_count": 38,
   "metadata": {},
   "outputs": [],
   "source": [
    "number_of_samples = 1000\n",
    "# we chose to bootstrap the median of the repsonse times because of the outliers\n",
    "java_medians, java_ci = bootstrap(java_rt, number_of_samples, estimator=np.median, t=1.962)\n",
    "python_medians, python_ci = bootstrap(python_rt, number_of_samples, estimator=np.median, t=1.962)"
   ]
  },
  {
   "cell_type": "code",
   "execution_count": 39,
   "metadata": {},
   "outputs": [
    {
     "data": {
      "image/png": "[encoded data removed]",
      "text/plain": [
       "<Figure size 432x288 with 1 Axes>"
      ]
     },
     "metadata": {
      "needs_background": "light"
     },
     "output_type": "display_data"
    }
   ],
   "source": [
    "fig1, ax = plt.subplots()\n",
    "ax.set_title('Medians (95% CI)')\n",
    "_ = ax.boxplot([java_medians, python_medians], \n",
    "                labels=[\"Java\", \"Python\"], \n",
    "                notch=True, conf_intervals=[java_ci, python_ci])"
   ]
  },
  {
   "cell_type": "markdown",
   "metadata": {},
   "source": [
    "**Explanations**: \n",
    "\n",
    "We computed the CI bounds with this formula: $\\textbf{CI}=[\\mu_\\bar{X}-t\\cdot\\sigma_\\bar{X}, \\ \\ \\mu_\\bar{X}+t\\cdot\\sigma_\\bar{X}]$, where $t=1.962$ given by the quantiles from the bootstrap distribution of the Student's t-test with 999 degrees of freedom for a 95% confidence interval\n",
    "\n",
    "First, we are sure at 95% confidence that the medians of the response for the two tags are indeed different as the two intervals don't overlap. Second, we can see that Python has a longer response time than Java which contradicts the assumption."
   ]
  },
  {
   "cell_type": "markdown",
   "metadata": {},
   "source": [
    "***4. Repeat the first analysis (D1) by using the proper statistic to measure the response time for the tags that appear at least 5000 times. Plot the distribution of the 10 tags with the fastest response time.***"
   ]
  },
  {
   "cell_type": "code",
   "execution_count": 40,
   "metadata": {
    "scrolled": true
   },
   "outputs": [],
   "source": [
    "# Keep only the tags that appear more than 5000 times \n",
    "tags_5000 = tags_count.filter(tags_count.Count>5000)\n",
    "qtag_5000 = tags_5000.join(q_tags, on=\"Tag\", how=\"inner\")"
   ]
  },
  {
   "cell_type": "code",
   "execution_count": 41,
   "metadata": {},
   "outputs": [
    {
     "name": "stdout",
     "output_type": "stream",
     "text": [
      "root\n",
      " |-- Tag: string (nullable = true)\n",
      " |-- rt_median: float (nullable = true)\n",
      " |-- rt_mean: double (nullable = true)\n",
      "\n"
     ]
    }
   ],
   "source": [
    "# spark.sql doesn't have a median function, so we created an udf one\n",
    "def median(values_list):\n",
    "    med = np.median(values_list)\n",
    "    return float(med)\n",
    "udf_median = F.udf(median, FloatType())\n",
    "\n",
    "# compute a new DF with median and mean of reponse time for each tags (see schema in cell output)\n",
    "tags_rt = rt.select(rt.ParentId, rt.ResponseTime)\\\n",
    "            .join(qtag_5000, on=[(rt.ParentId==qtag_5000.Id)])\\\n",
    "            .groupBy(\"Tag\")\\\n",
    "                .agg(udf_median(F.collect_list(F.col('ResponseTime'))).alias(\"rt_median\"),\n",
    "                    F.mean(F.col('ResponseTime')).alias(\"rt_mean\"))\n",
    "tags_rt.printSchema()"
   ]
  },
  {
   "cell_type": "code",
   "execution_count": 42,
   "metadata": {
    "scrolled": false
   },
   "outputs": [],
   "source": [
    "# Take the 10 fastest reponse time by using the MEDIAN\n",
    "tags_smallest_median = pd.DataFrame(tags_rt.select(\"Tag\", \"rt_median\").sort(tags_rt.rt_median.asc()).head(10))\n",
    "tags_smallest_median.columns = [\"Tag\", \"Median of response time\"]\n",
    "tags_smallest_median.set_index(\"Tag\", inplace=True)\n",
    "\n",
    "# Take the 10 fastest reponse time by using the MEAN\n",
    "tags_smallest_mean = pd.DataFrame(tags_rt.select(\"Tag\", \"rt_mean\").sort(tags_rt.rt_mean.asc()).head(10))\n",
    "tags_smallest_mean.columns = [\"Tag\", \"Mean of response time\"]\n",
    "tags_smallest_mean.set_index(\"Tag\", inplace=True)"
   ]
  },
  {
   "cell_type": "code",
   "execution_count": 43,
   "metadata": {},
   "outputs": [
    {
     "data": {
      "image/png": "[encoded data removed]",
      "text/plain": [
       "<Figure size 432x288 with 1 Axes>"
      ]
     },
     "metadata": {
      "needs_background": "light"
     },
     "output_type": "display_data"
    },
    {
     "data": {
      "image/png": "[encoded data removed]",
      "text/plain": [
       "<Figure size 432x288 with 1 Axes>"
      ]
     },
     "metadata": {
      "needs_background": "light"
     },
     "output_type": "display_data"
    }
   ],
   "source": [
    "# and create the barplot\n",
    "tags_smallest_median.plot.bar()\n",
    "_ = tags_smallest_mean.plot.bar()"
   ]
  },
  {
   "cell_type": "markdown",
   "metadata": {},
   "source": [
    "**Explanations**: We can see that the 10 tags that get the fastest responses are not the same if we take the median or the mean of the response times. This is due to the outliers that are present in this column and the fact that the median is more robust to outliers than the mean."
   ]
  },
  {
   "cell_type": "markdown",
   "metadata": {},
   "source": [
    "### Task E: What's up with PySpark?\n",
    "The number of questions asked regarding a specific topic reflect the public’s interest on it. We are interested on the popularity of PySpark. Compute and plot the number of questions with the ```pyspark``` tag for 30-day time intervals. Do you notice any trend over time? Is there any correlation between time and number of questions?\n"
   ]
  },
  {
   "cell_type": "code",
   "execution_count": 44,
   "metadata": {},
   "outputs": [
    {
     "name": "stdout",
     "output_type": "stream",
     "text": [
      "root\n",
      " |-- Id: long (nullable = true)\n",
      " |-- Tag: string (nullable = true)\n",
      "\n"
     ]
    }
   ],
   "source": [
    "q_tags.printSchema()"
   ]
  },
  {
   "cell_type": "code",
   "execution_count": 45,
   "metadata": {},
   "outputs": [
    {
     "name": "stdout",
     "output_type": "stream",
     "text": [
      "root\n",
      " |-- CreationDate: timestamp (nullable = true)\n",
      " |-- Id: long (nullable = true)\n",
      " |-- Score: long (nullable = true)\n",
      " |-- Tags: string (nullable = true)\n",
      " |-- Title: string (nullable = true)\n",
      " |-- ViewCount: long (nullable = true)\n",
      "\n"
     ]
    }
   ],
   "source": [
    "questions_df.printSchema()"
   ]
  },
  {
   "cell_type": "code",
   "execution_count": 46,
   "metadata": {},
   "outputs": [],
   "source": [
    "pyspark_questions = q_tags.filter(q_tags.Tag==\"pyspark\")"
   ]
  },
  {
   "cell_type": "code",
   "execution_count": 47,
   "metadata": {},
   "outputs": [],
   "source": [
    "pyspark_questions = pyspark_questions   .join(questions_df, on=[(pyspark_questions.Id==questions_df.Id)])\\\n",
    "                                        .select(\"CreationDate\")"
   ]
  },
  {
   "cell_type": "code",
   "execution_count": 48,
   "metadata": {},
   "outputs": [],
   "source": [
    "# split the year in two fields: year and month\n",
    "py_month_year = pyspark_questions.rdd.map(lambda row:\n",
    "    Row(year=row.CreationDate.year, month=row.CreationDate.month))"
   ]
  },
  {
   "cell_type": "code",
   "execution_count": 49,
   "metadata": {},
   "outputs": [],
   "source": [
    "# compute the count of question for each months\n",
    "py_month_year_df = py_month_year.toDF().toPandas()\n",
    "py_month_year_df = py_month_year_df.groupby([\"year\", \"month\"]).size()"
   ]
  },
  {
   "cell_type": "code",
   "execution_count": 50,
   "metadata": {},
   "outputs": [
    {
     "data": {
      "text/plain": [
       "Text(0.5, 1.0, 'PySpark questions over time')"
      ]
     },
     "execution_count": 50,
     "metadata": {},
     "output_type": "execute_result"
    },
    {
     "data": {
      "image/png": "[encoded data removed]",
      "text/plain": [
       "<Figure size 864x432 with 1 Axes>"
      ]
     },
     "metadata": {
      "needs_background": "light"
     },
     "output_type": "display_data"
    }
   ],
   "source": [
    "py_month_year_df.plot.bar(figsize=(12,6), color=\"royalblue\")\n",
    "# display a label every three months\n",
    "ticks = py_month_year_df.index.values[0::3]\n",
    "labels = [f\"{t[0]}-{t[1]:02d}\" for t in ticks]\n",
    "plt.xticks(range(0, py_month_year_df.shape[0], 3), labels)\n",
    "plt.xlabel(\"Date (year-month)\")\n",
    "plt.ylabel(\"Count\")\n",
    "plt.title(\"PySpark questions over time\")"
   ]
  },
  {
   "cell_type": "markdown",
   "metadata": {},
   "source": [
    "There is a clear rising popularity for pyspark on Stack overflow which starts almost when the first version of Spark was released ([Wikipedia page of Spark](https://fr.wikipedia.org/wiki/Apache_Spark)). There is also a clear, almost linear, relation between time and number of questions. The dataset has probably been collected at the start of September 2018 since the count of questions is very low for this month. \n",
    "\n",
    "Note: all the months are not represented between April and November 2014"
   ]
  }
 ],
 "metadata": {
  "kernelspec": {
   "display_name": "Python [default]",
   "language": "python",
   "name": "python3"
  },
  "language_info": {
   "codemirror_mode": {
    "name": "ipython",
    "version": 3
   },
   "file_extension": ".py",
   "mimetype": "text/x-python",
   "name": "python",
   "nbconvert_exporter": "python",
   "pygments_lexer": "ipython3",
   "version": "3.7.0"
  }
 },
 "nbformat": 4,
 "nbformat_minor": 2
}
