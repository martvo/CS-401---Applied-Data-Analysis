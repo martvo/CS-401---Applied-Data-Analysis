{
 "cells": [
  {
   "cell_type": "markdown",
   "metadata": {},
   "source": [
    "# ADA 2018 - Homework 3\n",
    "\n",
    "\n",
    "\n",
    "## Undestanding the StackOverflow community\n",
    "\n",
    "\n",
    "Deadline: Nov 7th 2018, 23:59:59\n",
    "\n",
    "Submission link: Check channel homework-3-public"
   ]
  },
  {
   "cell_type": "markdown",
   "metadata": {},
   "source": [
    "StackOverflow is the most popular programming-related Q&A website. It serves as a platform for users to ask and answer questions and to vote questions and answers up or down. Users of StackOverflow can earn reputation points and \"badges\"; for example, a person is awarded 10 reputation points for receiving an \"up\" vote on an answer given to a question, and 5 points for the \"up\" vote on a question asked. Also, users receive badges for their valued contributions, which represents a kind of gamification of the traditional Q&A site. \n",
    "\n",
    "[Learn more about StackOverflow on Wikipedia](https://en.wikipedia.org/wiki/Stack_Overflow)\n",
    "\n",
    "----\n",
    "\n",
    "Dataset link:\n",
    "\n",
    "https://drive.google.com/open?id=1POlGjqzw9v_pZ_bUnXGihOgk45kbvNjB\n",
    "\n",
    "http://iccluster053.iccluster.epfl.ch/Posts.json.zip (mirror 1)\n",
    "\n",
    "https://iloveadatas.com/datasets/Posts.json.zip (mirror 2)\n",
    "\n",
    "Dataset description:\n",
    "\n",
    "* **Id**: Id of the post\n",
    "* **CreationDate**: Creation date of the post (String format)\n",
    "* **PostTypeId**: Type of post (Question = 1, Answer = 2)\n",
    "* **ParentId**: The id of the question. Only present if PostTypeId = 2\n",
    "* **Score**: Points assigned by the users\n",
    "* **Tags**: Tags of the question. Only present if PostTypeId = 1\n",
    "* **Title**: Only present if PostTypeId = 1\n",
    "* **ViewCount**: Only present if PostTypeId = 1\n",
    "\n",
    "The dataset format is JSON. Here are examples of a question and an answer:\n",
    "\n",
    "Question:\n",
    "```json\n",
    "{\n",
    "    \"Id\": 10130734,\n",
    "    \"CreationDate\": \"2012-04-12T19:51:25.793+02:00\",\n",
    "    \"PostTypeId\": 1,\n",
    "    \"Score\": 4,\n",
    "    \"Tags\": \"<python><pandas>\",\n",
    "    \"Title\": \"Best way to insert a new value\",\n",
    "    \"ViewCount\": 3803\n",
    "}\n",
    "```\n",
    "\n",
    "Answer:\n",
    "```json\n",
    "{  \n",
    "   \"CreationDate\":\"2010-10-26T03:19:05.063+02:00\",\n",
    "   \"Id\":4020440,\n",
    "   \"ParentId\":4020214,\n",
    "   \"PostTypeId\":2,\n",
    "   \"Score\":1\n",
    "}\n",
    "```\n",
    "\n",
    "----\n",
    "Useful resources:\n",
    "\n",
    "**Spark SQL, DataFrames and Datasets Guide**\n",
    "\n",
    "https://spark.apache.org/docs/latest/sql-programming-guide.html\n",
    "\n",
    "**Database schema documentation for the public data dump**\n",
    "\n",
    "https://meta.stackexchange.com/questions/2677/database-schema-documentation-for-the-public-data-dump-and-sede\n",
    "\n",
    "----\n",
    "\n",
    "**Note:** Use Spark where possible. Some computations can take more than 10 minutes on a common notebook. Consider to save partial results on disk."
   ]
  },
  {
   "cell_type": "code",
   "execution_count": 1,
   "metadata": {},
   "outputs": [],
   "source": [
    "import datetime as dt\n",
    "import pandas as pd\n",
    "import numpy as np\n",
    "import scipy as sp\n",
    "import seaborn as sns\n",
    "import matplotlib\n",
    "import matplotlib.pyplot as plt\n",
    "%matplotlib inline\n",
    "\n",
    "import findspark\n",
    "findspark.init()\n",
    "\n",
    "import pyspark\n",
    "from pyspark.sql import *\n",
    "#for display of small numerical values.\n",
    "from decimal import Decimal\n",
    "\n",
    "from datetime import datetime\n",
    "import pyspark.sql.functions as func"
   ]
  },
  {
   "cell_type": "code",
   "execution_count": 2,
   "metadata": {},
   "outputs": [],
   "source": [
    "spark = SparkSession.builder.getOrCreate()"
   ]
  },
  {
   "cell_type": "markdown",
   "metadata": {},
   "source": [
    "### Task A: Convert the dataset to a more convenient format\n",
    "As a warm-up task (and to avoid to warm up your laptop too much), load the dataset into a Spark dataframe, show the content, and save it in the _Parquet_ format. Use this step to convert the fields to a more convenient form.\n",
    "\n",
    "Answer the following questions:\n",
    "\n",
    "1. How many questions have been asked on StackOverflow?\n",
    "2. How many answers have been given?\n",
    "3. What is the percentage of questions with a score of 0?\n",
    "\n",
    "**Hint:** The next tasks involve a time difference. Consider storing time in numeric format."
   ]
  },
  {
   "cell_type": "markdown",
   "metadata": {},
   "source": [
    "**Hint:** Load the dataset from the Parquet file for the next tasks."
   ]
  },
  {
   "cell_type": "markdown",
   "metadata": {},
   "source": [
    "##### Loading & Showing the Dataset"
   ]
  },
  {
   "cell_type": "code",
   "execution_count": 3,
   "metadata": {},
   "outputs": [],
   "source": [
    "posts_df = spark.read.json(\"data/Posts.json\")"
   ]
  },
  {
   "cell_type": "code",
   "execution_count": 4,
   "metadata": {},
   "outputs": [
    {
     "name": "stdout",
     "output_type": "stream",
     "text": [
      "+--------------------+-------+--------+----------+-----+--------------------+--------------------+---------+\n",
      "|        CreationDate|     Id|ParentId|PostTypeId|Score|                Tags|               Title|ViewCount|\n",
      "+--------------------+-------+--------+----------+-----+--------------------+--------------------+---------+\n",
      "|2010-10-26T03:17:...|4020437|    null|         1|    0|<asp.net-mvc><jqu...|display jquery di...|      510|\n",
      "|2010-10-26T03:18:...|4020438|    null|         1|    0|<javascript><html...|Why can only my m...|       62|\n",
      "|2010-10-26T03:19:...|4020440| 4020214|         2|    1|                null|                null|     null|\n",
      "|2010-10-26T03:19:...|4020441| 3938154|         2|    0|                null|                null|     null|\n",
      "|2010-10-26T03:20:...|4020443| 4020419|         2|  324|                null|                null|     null|\n",
      "|2010-10-26T03:20:...|4020444| 4020433|         2|    0|                null|                null|     null|\n",
      "|2010-10-26T03:21:...|4020445|    null|         1|    0|<c++><visual-stud...|Communicating ove...|     1170|\n",
      "|2010-10-26T03:21:...|4020447| 4020433|         2|    1|                null|                null|     null|\n",
      "|2010-10-26T03:21:...|4020448| 4020437|         2|    1|                null|                null|     null|\n",
      "|2010-10-26T03:21:...|4020449|    null|         1|    0|<c#><textbox><fil...|C# Text Box File ...|      845|\n",
      "|2010-10-26T03:21:...|4020450|    null|         1|    0|<php><wordpress><...|PHP image grab wh...|      761|\n",
      "|2010-10-26T03:21:...|4020451| 4020382|         2|    2|                null|                null|     null|\n",
      "|2010-10-26T03:22:...|4020452| 4020433|         2|    7|                null|                null|     null|\n",
      "|2010-10-26T03:22:...|4020453|    null|         1|    4|<objective-c><del...|Objective C - Str...|     1091|\n",
      "|2010-10-26T03:22:...|4020454| 4020433|         2|    2|                null|                null|     null|\n",
      "|2010-10-26T03:22:...|4020455| 1175258|         2|    5|                null|                null|     null|\n",
      "|2010-10-26T03:23:...|4020456|    null|         1|    2|       <c><pointers>|Changing pointer ...|     4143|\n",
      "|2010-10-26T03:23:...|4020457|    null|         1|    1|<flash><actionscr...|AS2 Center loadMo...|     1449|\n",
      "|2010-10-26T03:23:...|4020458| 4010166|         2|    1|                null|                null|     null|\n",
      "|2010-10-26T03:23:...|4020460|    null|         1|    3|<c#><asp.net><ima...|HTML email \"opens...|      544|\n",
      "+--------------------+-------+--------+----------+-----+--------------------+--------------------+---------+\n",
      "only showing top 20 rows\n",
      "\n"
     ]
    }
   ],
   "source": [
    "posts_df.show()"
   ]
  },
  {
   "cell_type": "markdown",
   "metadata": {},
   "source": [
    "##### Cleaning the Data"
   ]
  },
  {
   "cell_type": "code",
   "execution_count": 5,
   "metadata": {},
   "outputs": [
    {
     "name": "stdout",
     "output_type": "stream",
     "text": [
      "+--------------------+-------+--------+----------+-----+--------------------+--------------------+---------+\n",
      "|        CreationDate|     Id|ParentId|PostTypeId|Score|                Tags|               Title|ViewCount|\n",
      "+--------------------+-------+--------+----------+-----+--------------------+--------------------+---------+\n",
      "|2010-10-26 03:17:...|4020437|    null|         1|    0|<asp.net-mvc><jqu...|display jquery di...|      510|\n",
      "|2010-10-26 03:18:...|4020438|    null|         1|    0|<javascript><html...|Why can only my m...|       62|\n",
      "|2010-10-26 03:19:...|4020440| 4020214|         2|    1|                null|                null|     null|\n",
      "|2010-10-26 03:19:...|4020441| 3938154|         2|    0|                null|                null|     null|\n",
      "|2010-10-26 03:20:...|4020443| 4020419|         2|  324|                null|                null|     null|\n",
      "|2010-10-26 03:20:...|4020444| 4020433|         2|    0|                null|                null|     null|\n",
      "|2010-10-26 03:21:...|4020445|    null|         1|    0|<c++><visual-stud...|Communicating ove...|     1170|\n",
      "|2010-10-26 03:21:...|4020447| 4020433|         2|    1|                null|                null|     null|\n",
      "|2010-10-26 03:21:...|4020448| 4020437|         2|    1|                null|                null|     null|\n",
      "|2010-10-26 03:21:...|4020449|    null|         1|    0|<c#><textbox><fil...|C# Text Box File ...|      845|\n",
      "|2010-10-26 03:21:...|4020450|    null|         1|    0|<php><wordpress><...|PHP image grab wh...|      761|\n",
      "|2010-10-26 03:21:...|4020451| 4020382|         2|    2|                null|                null|     null|\n",
      "|2010-10-26 03:22:...|4020452| 4020433|         2|    7|                null|                null|     null|\n",
      "|2010-10-26 03:22:...|4020453|    null|         1|    4|<objective-c><del...|Objective C - Str...|     1091|\n",
      "|2010-10-26 03:22:...|4020454| 4020433|         2|    2|                null|                null|     null|\n",
      "|2010-10-26 03:22:...|4020455| 1175258|         2|    5|                null|                null|     null|\n",
      "|2010-10-26 03:23:...|4020456|    null|         1|    2|       <c><pointers>|Changing pointer ...|     4143|\n",
      "|2010-10-26 03:23:...|4020457|    null|         1|    1|<flash><actionscr...|AS2 Center loadMo...|     1449|\n",
      "|2010-10-26 03:23:...|4020458| 4010166|         2|    1|                null|                null|     null|\n",
      "|2010-10-26 03:23:...|4020460|    null|         1|    3|<c#><asp.net><ima...|HTML email \"opens...|      544|\n",
      "+--------------------+-------+--------+----------+-----+--------------------+--------------------+---------+\n",
      "only showing top 20 rows\n",
      "\n"
     ]
    }
   ],
   "source": [
    "# Transform timestamp into datetime values\n",
    "posts_df = posts_df.withColumn('CreationDate', posts_df['CreationDate'].cast(\"timestamp\"))\n",
    "\n",
    "posts_df.show()"
   ]
  },
  {
   "cell_type": "markdown",
   "metadata": {},
   "source": [
    "Moreover, we can see that the table has actually slightly different types of information depending on the 'PostTypeId' value. Therefore, it seems logical to split the dataframe into two tables: one for questions and one for answers. In order to do this, we can use the following lines:"
   ]
  },
  {
   "cell_type": "code",
   "execution_count": 6,
   "metadata": {},
   "outputs": [],
   "source": [
    "questions_df = posts_df.filter('PostTypeId == 1').select('CreationDate', 'Id', 'Score', 'Tags', 'Title', 'ViewCount')\n",
    "answers_df = posts_df.filter('PostTypeId == 2').select('CreationDate', 'Id', 'ParentId', 'Score')"
   ]
  },
  {
   "cell_type": "markdown",
   "metadata": {},
   "source": [
    "Now, our data is much cleaner."
   ]
  },
  {
   "cell_type": "code",
   "execution_count": 7,
   "metadata": {},
   "outputs": [
    {
     "name": "stdout",
     "output_type": "stream",
     "text": [
      "+--------------------+-------+-----+--------------------+--------------------+---------+\n",
      "|        CreationDate|     Id|Score|                Tags|               Title|ViewCount|\n",
      "+--------------------+-------+-----+--------------------+--------------------+---------+\n",
      "|2010-10-26 03:17:...|4020437|    0|<asp.net-mvc><jqu...|display jquery di...|      510|\n",
      "|2010-10-26 03:18:...|4020438|    0|<javascript><html...|Why can only my m...|       62|\n",
      "|2010-10-26 03:21:...|4020445|    0|<c++><visual-stud...|Communicating ove...|     1170|\n",
      "|2010-10-26 03:21:...|4020449|    0|<c#><textbox><fil...|C# Text Box File ...|      845|\n",
      "|2010-10-26 03:21:...|4020450|    0|<php><wordpress><...|PHP image grab wh...|      761|\n",
      "|2010-10-26 03:22:...|4020453|    4|<objective-c><del...|Objective C - Str...|     1091|\n",
      "|2010-10-26 03:23:...|4020456|    2|       <c><pointers>|Changing pointer ...|     4143|\n",
      "|2010-10-26 03:23:...|4020457|    1|<flash><actionscr...|AS2 Center loadMo...|     1449|\n",
      "|2010-10-26 03:23:...|4020460|    3|<c#><asp.net><ima...|HTML email \"opens...|      544|\n",
      "|2010-10-26 03:28:...|4020472|    0|<javascript><date...|    Date formatting?|      332|\n",
      "|2010-10-26 03:28:...|4020475|    0|    <zend-framework>|Problem with pass...|      921|\n",
      "|2010-10-26 03:29:...|4020476|    5|           <android>|How do I most eas...|     3698|\n",
      "|2010-10-26 03:29:...|4020478|   14|<java><xml><regex...|Disable all check...|    15859|\n",
      "|2010-10-26 03:29:...|4020480|   -1|              <java>|Java Beginner: Sc...|     6537|\n",
      "|2010-10-26 03:32:...|4020490|    0|         <html><css>|HTML layout issue...|       85|\n",
      "|2010-10-26 03:36:...|4020503|    1|<android><textvie...|How to change the...|     2277|\n",
      "|2010-10-26 03:36:...|4020504|    5| <jquery><uploadify>|How does Uploadif...|     1307|\n",
      "|2010-10-26 03:37:...|4020509|    0|<php><javascript>...|Prefix of my doma...|       79|\n",
      "|2010-10-26 03:38:...|4020513|    1|<c#><linq><unit-t...| Rhino Mock OfType<>|      268|\n",
      "|2010-10-26 03:38:...|4020515|    1|           <android>|can't use Http Po...|     1372|\n",
      "+--------------------+-------+-----+--------------------+--------------------+---------+\n",
      "only showing top 20 rows\n",
      "\n"
     ]
    }
   ],
   "source": [
    "questions_df.show()"
   ]
  },
  {
   "cell_type": "code",
   "execution_count": 8,
   "metadata": {},
   "outputs": [
    {
     "name": "stdout",
     "output_type": "stream",
     "text": [
      "+--------------------+-------+--------+-----+\n",
      "|        CreationDate|     Id|ParentId|Score|\n",
      "+--------------------+-------+--------+-----+\n",
      "|2010-10-26 03:19:...|4020440| 4020214|    1|\n",
      "|2010-10-26 03:19:...|4020441| 3938154|    0|\n",
      "|2010-10-26 03:20:...|4020443| 4020419|  324|\n",
      "|2010-10-26 03:20:...|4020444| 4020433|    0|\n",
      "|2010-10-26 03:21:...|4020447| 4020433|    1|\n",
      "|2010-10-26 03:21:...|4020448| 4020437|    1|\n",
      "|2010-10-26 03:21:...|4020451| 4020382|    2|\n",
      "|2010-10-26 03:22:...|4020452| 4020433|    7|\n",
      "|2010-10-26 03:22:...|4020454| 4020433|    2|\n",
      "|2010-10-26 03:22:...|4020455| 1175258|    5|\n",
      "|2010-10-26 03:23:...|4020458| 4010166|    1|\n",
      "|2010-10-26 03:23:...|4020461| 4006559|    0|\n",
      "|2010-10-26 03:24:...|4020462| 4018842|    2|\n",
      "|2010-10-26 03:25:...|4020463| 4020374|    7|\n",
      "|2010-10-26 03:27:...|4020466| 4020245|    3|\n",
      "|2010-10-26 03:27:...|4020467| 4019765|    1|\n",
      "|2010-10-26 03:27:...|4020468| 3964306|    0|\n",
      "|2010-10-26 03:28:...|4020470| 4020409|    2|\n",
      "|2010-10-26 03:28:...|4020471| 4020460|    3|\n",
      "|2010-10-26 03:28:...|4020474| 4020456|    1|\n",
      "+--------------------+-------+--------+-----+\n",
      "only showing top 20 rows\n",
      "\n"
     ]
    }
   ],
   "source": [
    "answers_df.show()"
   ]
  },
  {
   "cell_type": "markdown",
   "metadata": {},
   "source": [
    "##### Saving in Parquet Format"
   ]
  },
  {
   "cell_type": "code",
   "execution_count": 9,
   "metadata": {
    "scrolled": false
   },
   "outputs": [],
   "source": [
    "posts_df.write.mode('overwrite').parquet(\"posts.parquet\")\n",
    "questions_df.write.mode('overwrite').parquet(\"questions.parquet\")\n",
    "answers_df.write.mode('overwrite').parquet(\"answers.parquet\")"
   ]
  },
  {
   "cell_type": "code",
   "execution_count": 10,
   "metadata": {},
   "outputs": [],
   "source": [
    "posts_df = spark.read.load(\"posts.parquet\")\n",
    "questions_df = spark.read.load(\"questions.parquet\")\n",
    "answers_df = spark.read.load(\"answers.parquet\")"
   ]
  },
  {
   "cell_type": "markdown",
   "metadata": {},
   "source": [
    "##### Question 1\n",
    "\n",
    "> How many questions have been asked on StackOverflow?\n",
    "\n",
    "As we already split the dataframe into questions and answers, we can simply use the `count()` function to compute the count of items in the `questions_df` table."
   ]
  },
  {
   "cell_type": "code",
   "execution_count": 11,
   "metadata": {},
   "outputs": [
    {
     "name": "stdout",
     "output_type": "stream",
     "text": [
      "There are 15647060 questions on Stackoverflow\n"
     ]
    }
   ],
   "source": [
    "count_of_questions = questions_df.count()\n",
    "print(f'There are {count_of_questions} questions on Stackoverflow')"
   ]
  },
  {
   "cell_type": "markdown",
   "metadata": {},
   "source": [
    "##### Question 2\n",
    "\n",
    "> How many answers have been given?\n",
    "\n",
    "Same thing for the count of answers"
   ]
  },
  {
   "cell_type": "code",
   "execution_count": 12,
   "metadata": {},
   "outputs": [
    {
     "name": "stdout",
     "output_type": "stream",
     "text": [
      "There are 25192772 answers on Stackoverflow\n"
     ]
    }
   ],
   "source": [
    "count_of_answers = answers_df.count()\n",
    "print(f'There are {count_of_answers} answers on Stackoverflow')"
   ]
  },
  {
   "cell_type": "markdown",
   "metadata": {},
   "source": [
    "##### Question 3\n",
    "\n",
    "> What is the percentage of questions with a score of 0?\n",
    "\n",
    "Here, we can simply use `filter` before `count` to only look at the questions with a score of 0:"
   ]
  },
  {
   "cell_type": "code",
   "execution_count": 13,
   "metadata": {},
   "outputs": [
    {
     "name": "stdout",
     "output_type": "stream",
     "text": [
      "There are 46.544% questions with a score of 0.\n"
     ]
    }
   ],
   "source": [
    "count_of_questions_with_zero_score = questions_df.filter('Score == 0').count()\n",
    "percentage_of_questions_with_zero_score = count_of_questions_with_zero_score / count_of_questions * 100\n",
    "print(f'There are {percentage_of_questions_with_zero_score:.3f}% questions with a score of 0.')"
   ]
  },
  {
   "cell_type": "markdown",
   "metadata": {},
   "source": [
    "### Task B: What are the 10 most popular tags?\n",
    "\n",
    "What are the most popular tags in StackOverflow? Use Spark to extract the information you need, and answer the following questions with Pandas and Matplotlib (or Seaborn):\n",
    "\n",
    "1. What is the proportion of tags that appear in fewer than 100 questions?\n",
    "2. Plot the distribution of the tag counts using an appropriate representation.\n",
    "3. Plot a bar chart with the number of questions for the 10 most popular tags.\n",
    "\n",
    "For each task describe your findings briefly."
   ]
  },
  {
   "cell_type": "markdown",
   "metadata": {},
   "source": [
    "##### Question 1\n",
    "\n",
    "> What is the proportion of tags that appear in fewer than 100 questions?\n",
    "\n",
    "The first step towards answering this question would be to get a complete list of all tags available. Since the tags are joined as a single string in the `questions` dataframe, we will first need to use `flatMap` in order to extract them:"
   ]
  },
  {
   "cell_type": "code",
   "execution_count": 14,
   "metadata": {
    "scrolled": false
   },
   "outputs": [],
   "source": [
    "tags_df = questions_df.select('Id', 'Tags').rdd.flatMap(lambda row: [(row[0], tag) for tag in row[1][1:-1].split('><')]).toDF(['QuestionId', 'Tag'])\n",
    "tags_df.write.mode('overwrite').parquet(\"tags.parquet\")"
   ]
  },
  {
   "cell_type": "code",
   "execution_count": 15,
   "metadata": {},
   "outputs": [],
   "source": [
    "tags_df = spark.read.load(\"tags.parquet\")"
   ]
  },
  {
   "cell_type": "code",
   "execution_count": 16,
   "metadata": {},
   "outputs": [
    {
     "name": "stdout",
     "output_type": "stream",
     "text": [
      "+----------+--------------------+\n",
      "|QuestionId|                 Tag|\n",
      "+----------+--------------------+\n",
      "|  11410909|              c#-3.0|\n",
      "|  11410911|              jquery|\n",
      "|  11410914|                java|\n",
      "|  11410914|              ubuntu|\n",
      "|  11410914|noclassdeffounderror|\n",
      "|  11410914|            bluecove|\n",
      "|  11410920|          javascript|\n",
      "|  11410920|                 css|\n",
      "|  11410920|               html5|\n",
      "|  11410923|               shell|\n",
      "|  11410923|                 sed|\n",
      "|  11410923|             replace|\n",
      "|  11410925|           hibernate|\n",
      "|  11410930|          javascript|\n",
      "|  11410930|                ajax|\n",
      "|  11410931|          amazon-ec2|\n",
      "|  11410931|   amazon-cloudwatch|\n",
      "|  11410932|                 php|\n",
      "|  11410932|                 yii|\n",
      "|  11410932|      static-methods|\n",
      "+----------+--------------------+\n",
      "only showing top 20 rows\n",
      "\n"
     ]
    }
   ],
   "source": [
    "tags_df.show()"
   ]
  },
  {
   "cell_type": "markdown",
   "metadata": {},
   "source": [
    "Now, we can easily calculate the total number of unique tags, as well as the number of unique tags that appear in at least 100 questions."
   ]
  },
  {
   "cell_type": "code",
   "execution_count": 17,
   "metadata": {},
   "outputs": [],
   "source": [
    "count_of_tags = tags_df.select('Tag').distinct().count()"
   ]
  },
  {
   "cell_type": "code",
   "execution_count": 18,
   "metadata": {},
   "outputs": [],
   "source": [
    "# We will reuse this dataframe later on so we save it for now\n",
    "tags_count_df = tags_df.groupby('Tag').count()\n",
    "\n",
    "# Then we simply calculate the count of unpopular tags by filtering it\n",
    "count_of_unpopular_tags = tags_count_df.filter('count < 100').count()"
   ]
  },
  {
   "cell_type": "markdown",
   "metadata": {},
   "source": [
    "Then, as before, we can combine these two values to have a proportion."
   ]
  },
  {
   "cell_type": "code",
   "execution_count": 19,
   "metadata": {},
   "outputs": [
    {
     "name": "stdout",
     "output_type": "stream",
     "text": [
      "On StackOverflow, 67.979% of tags appear in fewer than 100 questions.\n"
     ]
    }
   ],
   "source": [
    "print(f'On StackOverflow, {(count_of_unpopular_tags / count_of_tags * 100):.3f}% of tags appear in fewer than 100 questions.')"
   ]
  },
  {
   "cell_type": "markdown",
   "metadata": {},
   "source": [
    "##### Question 2\n",
    "\n",
    "> Plot the distribution of the tag counts using an appropriate representation.\n",
    "\n",
    "When plotting directly as a histogram, there is a massive spike at 0 and nothing everywhere else. Therefore, a second and better attempt to view how the tags are distributed can be done using a log y-axis."
   ]
  },
  {
   "cell_type": "code",
   "execution_count": 20,
   "metadata": {},
   "outputs": [],
   "source": [
    "tags_count_pdf = tags_count_df.toPandas()"
   ]
  },
  {
   "cell_type": "code",
   "execution_count": 21,
   "metadata": {},
   "outputs": [
    {
     "data": {
      "image/png": "[encoded data removed]",
      "text/plain": [
       "<Figure size 432x288 with 1 Axes>"
      ]
     },
     "metadata": {
      "needs_background": "light"
     },
     "output_type": "display_data"
    }
   ],
   "source": [
    "res = tags_count_pdf.plot(kind='hist', bins=200, logy=True, title='Frequency of tag\\'s count', legend=False)\n",
    "res.get_xaxis().set_major_formatter(\n",
    "    matplotlib.ticker.FuncFormatter(lambda x, p: '%1.0fk' % (x*1e-3)))\n",
    "_ = res.set_xlabel('Tag count')"
   ]
  },
  {
   "cell_type": "markdown",
   "metadata": {},
   "source": [
    "When looking at this plot, it looks like it could form some kind of power law. (Very high number of small values and heavy tail). Let's look at a log-log plot to find out."
   ]
  },
  {
   "cell_type": "code",
   "execution_count": 22,
   "metadata": {},
   "outputs": [
    {
     "data": {
      "image/png": "[encoded data removed]",
      "text/plain": [
       "<Figure size 432x288 with 1 Axes>"
      ]
     },
     "metadata": {
      "needs_background": "light"
     },
     "output_type": "display_data"
    }
   ],
   "source": [
    "y, bins = np.histogram(tags_count_pdf['count'], bins=10)\n",
    "x = (bins[1:] + bins[:-1]) / 2\n",
    "_ = plt.loglog(x, y)"
   ]
  },
  {
   "cell_type": "markdown",
   "metadata": {},
   "source": [
    "Now, it is more evident that the tags count form a power law. Although the line is not perfectly straight, it is close enough."
   ]
  },
  {
   "cell_type": "markdown",
   "metadata": {},
   "source": [
    "##### Question 3\n",
    "\n",
    "> Plot a bar chart with the number of questions for the 10 most popular tags.\n",
    "\n",
    "This can also be done fairly easily as we already have a dataframe containing all the tags and their respective counts. We can simply use `nlargest` to select the top ones and create a nice plot with Seaborn."
   ]
  },
  {
   "cell_type": "code",
   "execution_count": 23,
   "metadata": {},
   "outputs": [
    {
     "data": {
      "image/png": "[encoded data removed]",
      "text/plain": [
       "<Figure size 432x288 with 1 Axes>"
      ]
     },
     "metadata": {
      "needs_background": "light"
     },
     "output_type": "display_data"
    }
   ],
   "source": [
    "# Select top 10 tags\n",
    "top_tags_pdf = tags_count_pdf.sort_values('count', ascending=False).nlargest(10, 'count')\n",
    "\n",
    "# Plot with Seaborn\n",
    "fig, ax = plt.subplots()\n",
    "ax.set_title('Top 10 Tags on StackOverflow', fontsize=15, fontweight='bold')\n",
    "\n",
    "ax.get_xaxis().set_major_formatter(\n",
    "    matplotlib.ticker.FuncFormatter(lambda x, p: '%1.0fk' % (x*1e-3)))\n",
    "sns.barplot(top_tags_pdf['count'], top_tags_pdf['Tag'], palette='Blues_r', ax=ax)\n",
    "ax.set(xlabel='Number of questions with Tag', ylabel='Tag name')\n",
    "_ = plt.xticks(rotation=45)"
   ]
  },
  {
   "cell_type": "markdown",
   "metadata": {},
   "source": [
    "### Task C: View-score relation\n",
    "\n",
    "We want to investigate the correlation between the view count and the score of questions.\n",
    "\n",
    "1. Get the view count and score of the questions with tag ```random-effects``` and visualize the relation between these two variables using an appropriate plot.\n",
    "2. Are these two variables correlated? Use the Pearson coefficient to validate your hypothesis. Discuss your findings in detail.\n",
    "\n",
    "**Hint:** Inspect the data visually before drawing your conclusions."
   ]
  },
  {
   "cell_type": "markdown",
   "metadata": {},
   "source": [
    "#### _Question 1_\n",
    "\n",
    "Reusing the previously computed dataframe containing single tags per question, we can filter out all questions id which are about the \"random-effects\" tag. "
   ]
  },
  {
   "cell_type": "code",
   "execution_count": 24,
   "metadata": {},
   "outputs": [
    {
     "name": "stdout",
     "output_type": "stream",
     "text": [
      "+----------+--------------+\n",
      "|QuestionId|           Tag|\n",
      "+----------+--------------+\n",
      "|  11072544|random-effects|\n",
      "|  28651843|random-effects|\n",
      "|  16467234|random-effects|\n",
      "|  12005766|random-effects|\n",
      "|  43062576|random-effects|\n",
      "|  42165908|random-effects|\n",
      "|  46942803|random-effects|\n",
      "|  47412967|random-effects|\n",
      "|  47502398|random-effects|\n",
      "|  43130292|random-effects|\n",
      "|  37361494|random-effects|\n",
      "|  49818923|random-effects|\n",
      "|  49819257|random-effects|\n",
      "|  51246155|random-effects|\n",
      "|  39232183|random-effects|\n",
      "|  49383437|random-effects|\n",
      "|  49248152|random-effects|\n",
      "|  49277430|random-effects|\n",
      "|  46526027|random-effects|\n",
      "|  51679728|random-effects|\n",
      "+----------+--------------+\n",
      "only showing top 20 rows\n",
      "\n"
     ]
    }
   ],
   "source": [
    "# Add your code and description here\n",
    "random_effects_df = tags_df.filter('Tag == \"random-effects\"')\n",
    "random_effects_df.show()"
   ]
  },
  {
   "cell_type": "markdown",
   "metadata": {},
   "source": [
    "In order to find the view count and score of each question, we need to fetch back each of those values for the questions id we obtained previously, this can be done with an inner join with the original questions dataframe."
   ]
  },
  {
   "cell_type": "code",
   "execution_count": 25,
   "metadata": {},
   "outputs": [
    {
     "name": "stdout",
     "output_type": "stream",
     "text": [
      "+---------+-----+\n",
      "|ViewCount|Score|\n",
      "+---------+-----+\n",
      "|      109|    0|\n",
      "|      970|    2|\n",
      "|      179|    0|\n",
      "|      264|    0|\n",
      "|      447|    2|\n",
      "|       56|    1|\n",
      "|       23|    0|\n",
      "|      495|    2|\n",
      "|     1027|    1|\n",
      "|       44|    1|\n",
      "|       51|    0|\n",
      "|       29|    0|\n",
      "|      732|    0|\n",
      "|      145|    1|\n",
      "|       12|    0|\n",
      "|      667|    0|\n",
      "|     5345|   -2|\n",
      "|      196|    0|\n",
      "|       16|    0|\n",
      "|    26339|   31|\n",
      "+---------+-----+\n",
      "only showing top 20 rows\n",
      "\n"
     ]
    }
   ],
   "source": [
    "#Adding aliases to the dataframe so the join method call is easier to read.\n",
    "tre = random_effects_df.alias('tre')\n",
    "tvcs = questions_df.select('Id', 'ViewCount', 'Score').alias('tvcs')\n",
    "join_res = tre.join(tvcs, tvcs.Id == tre.QuestionId).select('ViewCount', 'Score')\n",
    "join_res.show()"
   ]
  },
  {
   "cell_type": "markdown",
   "metadata": {},
   "source": [
    ">Get the view count and score of the questions with tag random-effects and visualize the relation between these two variables using an appropriate plot.\n",
    "\n",
    "The best way to visualise a possible correlation between those two variables, would be to produce a scatterplot, at it display rawly the data as unique points on 2D space."
   ]
  },
  {
   "cell_type": "code",
   "execution_count": 26,
   "metadata": {},
   "outputs": [],
   "source": [
    "viewcount_score = join_res.toPandas()"
   ]
  },
  {
   "cell_type": "code",
   "execution_count": 27,
   "metadata": {},
   "outputs": [
    {
     "data": {
      "text/plain": [
       "<matplotlib.axes._subplots.AxesSubplot at 0x7f504c27b198>"
      ]
     },
     "execution_count": 27,
     "metadata": {},
     "output_type": "execute_result"
    },
    {
     "data": {
      "image/png": "[encoded data removed]",
      "text/plain": [
       "<Figure size 432x288 with 1 Axes>"
      ]
     },
     "metadata": {
      "needs_background": "light"
     },
     "output_type": "display_data"
    }
   ],
   "source": [
    "viewcount_score.plot(kind='scatter',x='ViewCount', y='Score', title='View count and score of SO questions with \"random-effects\" tag')"
   ]
  },
  {
   "cell_type": "markdown",
   "metadata": {},
   "source": [
    "Most of the data is concentred around a view count of 0, and it is hard to see any correlation with such distribution, taking the log of the x-axis might help better scatter the data :"
   ]
  },
  {
   "cell_type": "code",
   "execution_count": 28,
   "metadata": {},
   "outputs": [
    {
     "data": {
      "text/plain": [
       "<matplotlib.axes._subplots.AxesSubplot at 0x7f5047d8f278>"
      ]
     },
     "execution_count": 28,
     "metadata": {},
     "output_type": "execute_result"
    },
    {
     "data": {
      "image/png": "[encoded data removed]",
      "text/plain": [
       "<Figure size 432x288 with 1 Axes>"
      ]
     },
     "metadata": {
      "needs_background": "light"
     },
     "output_type": "display_data"
    }
   ],
   "source": [
    "viewcount_score.plot(kind='scatter',x='ViewCount', y='Score', logx=True, title='View count and score of SO questions with \"random-effects\" tag')"
   ]
  },
  {
   "cell_type": "markdown",
   "metadata": {},
   "source": [
    "#### _Question 2_"
   ]
  },
  {
   "cell_type": "code",
   "execution_count": 29,
   "metadata": {},
   "outputs": [],
   "source": [
    "def display_pearson(df, x, y):\n",
    "    corr_coeff, p_value = sp.stats.pearsonr(df[x], df[y])\n",
    "    print(\"The correlation coefficient is : %.3f with p-value %.2E\"%(corr_coeff, Decimal(p_value)))"
   ]
  },
  {
   "cell_type": "code",
   "execution_count": 30,
   "metadata": {},
   "outputs": [
    {
     "name": "stdout",
     "output_type": "stream",
     "text": [
      "The correlation coefficient is : 0.882 with p-value 8.01E-34\n"
     ]
    }
   ],
   "source": [
    "display_pearson(viewcount_score, 'ViewCount', 'Score')"
   ]
  },
  {
   "cell_type": "markdown",
   "metadata": {},
   "source": [
    "> Are these two variables correlated? Use the Pearson coefficient to validate your hypothesis. Discuss your findings in detail.\n",
    "\n",
    "The pearson coefficient close to one, and the p-value absurdly small seem to imply both variables are highly correlated. However, visually it does not really seem that the score really increases as the view count, because most questions obtain a score close to 0 in the range view count of 10 to 1'000. The high correlation might be a byproduct of the questions with both high score and view count."
   ]
  },
  {
   "cell_type": "code",
   "execution_count": 31,
   "metadata": {},
   "outputs": [
    {
     "name": "stdout",
     "output_type": "stream",
     "text": [
      "The correlation coefficient is : 0.439 with p-value 6.00E-06\n"
     ]
    }
   ],
   "source": [
    "display_pearson(viewcount_score[viewcount_score.Score < 10], 'ViewCount', 'Score')"
   ]
  },
  {
   "cell_type": "markdown",
   "metadata": {},
   "source": [
    "Indeed, filtering out the outliers gives us a much smaller pearson coefficient with still a small p-value, indicating both variables are only moderately related.\n",
    "Therefore, for the \"random-effects\" tag, unless extremely high, the view count does not really guarantees a high score. "
   ]
  },
  {
   "cell_type": "markdown",
   "metadata": {},
   "source": [
    "### Task D: What are the tags with the fastest first answer?\n",
    "\n",
    "What are the tags that have the fastest response time from the community? We define the response time as the difference in seconds between the timestamps of the question and of the first answer received.\n",
    "\n",
    "1. Get the response time for the first answer of the questions with the tags ```python``` and ```java```.\n",
    "2. Plot the two distributions in an appropriate format. What do you observe? Describe your findings and discuss the following distribution properties: mean, median, standard deviation.\n",
    "3. We believe that the response time is lower for questions related to Python (compare to Java). Contradict or confirm this assumption by estimating the proper statistic with bootstrapping. Visualize the 95% confidence intervals with box plots and describe your findings.\n",
    "3. Repeat the first analysis (D1) by using the proper statistic to measure the response time for the tags that appear at least 5000 times. Plot the distribution of the 10 tags with the fastest response time.\n"
   ]
  },
  {
   "cell_type": "markdown",
   "metadata": {},
   "source": [
    "### Question 1:"
   ]
  },
  {
   "cell_type": "markdown",
   "metadata": {},
   "source": [
    "> Get the response time for the first answer of the questions with the tags ```python``` and ```java```."
   ]
  },
  {
   "cell_type": "markdown",
   "metadata": {},
   "source": [
    "First, we need to compute the first response time for each questions"
   ]
  },
  {
   "cell_type": "code",
   "execution_count": 32,
   "metadata": {},
   "outputs": [],
   "source": [
    "# Select columns of interest from the questions data set\n",
    "questions_info = questions_df.select(questions_df['CreationDate'], questions_df['Id'].alias('QuestionId'), questions_df['Tags'])\n",
    "\n",
    "# Select columns of interest form the answers data set\n",
    "answers_info = answers_df.select(answers_df['CreationDate'], answers_df['ParentId'])\n",
    "\n",
    "# In the just computed answers set, select the lowest creation date for each question id\n",
    "min_answers_dates = answers_info.groupBy(\"ParentId\").agg(func.min(\"CreationDate\").alias(\"FirstAnswerDate\"))\n",
    "\n",
    "# Join the questions set and the min_answers_dates set just computed to match the questions and answers.\n",
    "# Questions having currently no answers are discarded.\n",
    "questions_answers_tag_times = questions_info.join(min_answers_dates, min_answers_dates.ParentId == questions_info.QuestionId) \\\n",
    "                            .select('CreationDate', 'FirstAnswerDate', 'Tags')\n",
    "\n",
    "# Compute the first response time for each questions\n",
    "tags_response_time = questions_answers_tag_times.withColumn('ResponseTime', \\\n",
    "                                       func.unix_timestamp('FirstAnswerDate', \"yyyy-MM-dd'T'HH:mm:ss.SSS\") \\\n",
    "                                          - func.unix_timestamp('CreationDate', \"yyyy-MM-dd'T'HH:mm:ss.SSS\")) \\\n",
    "                                        .select('Tags', 'ResponseTime')\n",
    "\n",
    "# Save result\n",
    "tags_response_time.write.mode('overwrite').parquet(\"tags_response_time.parquet\")"
   ]
  },
  {
   "cell_type": "markdown",
   "metadata": {},
   "source": [
    "Load the saved data"
   ]
  },
  {
   "cell_type": "code",
   "execution_count": 33,
   "metadata": {},
   "outputs": [],
   "source": [
    "# Load saved result\n",
    "tags_response_time = spark.read.load(\"tags_response_time.parquet\")"
   ]
  },
  {
   "cell_type": "code",
   "execution_count": 34,
   "metadata": {
    "scrolled": false
   },
   "outputs": [],
   "source": [
    "# Flatten the tags\n",
    "flat_tags_resp_time_rdd = tags_response_time.rdd.map(lambda d: (('>' + d.Tags + '<').split('><')[1:-1], d[1])) \\\n",
    "                                                .flatMap(lambda d: [(lang, d[1]) for lang in d[0]])\n",
    "\n",
    "# Group response times by tags\n",
    "flat_tags_resp_time_pd_df = flat_tags_resp_time_rdd.groupByKey().toDF(['tags', 'times']).toPandas()"
   ]
  },
  {
   "cell_type": "markdown",
   "metadata": {},
   "source": [
    "Now, we discard values with a response time smaller than 0"
   ]
  },
  {
   "cell_type": "code",
   "execution_count": 35,
   "metadata": {},
   "outputs": [],
   "source": [
    "# Select response times that are greater than or equal to 0\n",
    "clean_times = flat_tags_resp_time_pd_df['times'].map(lambda d: [val for val in d[0] if val >= 0])\n",
    "\n",
    "# Select response times that are lower than 0\n",
    "times_error = flat_tags_resp_time_pd_df['times'].map(lambda d: [err for err in d[0] if err < 0])\n",
    "\n",
    "# Counts the number of response times that are lower than 0\n",
    "nb_times_error = times_error.map(lambda d: len(d))\n",
    "\n",
    "# Store information into new dataframe\n",
    "tag_time_pd_df = flat_tags_resp_time_pd_df.copy()\n",
    "tag_time_pd_df['times'] = clean_times\n",
    "tag_time_pd_df['errors'] = times_error\n",
    "tag_time_pd_df['nb_errors'] = nb_times_error"
   ]
  },
  {
   "cell_type": "markdown",
   "metadata": {},
   "source": [
    "Here we display the information we just computed:"
   ]
  },
  {
   "cell_type": "code",
   "execution_count": 36,
   "metadata": {
    "scrolled": true
   },
   "outputs": [
    {
     "data": {
      "text/html": [
       "<div>\n",
       "<style scoped>\n",
       "    .dataframe tbody tr th:only-of-type {\n",
       "        vertical-align: middle;\n",
       "    }\n",
       "\n",
       "    .dataframe tbody tr th {\n",
       "        vertical-align: top;\n",
       "    }\n",
       "\n",
       "    .dataframe thead th {\n",
       "        text-align: right;\n",
       "    }\n",
       "</style>\n",
       "<table border=\"1\" class=\"dataframe\">\n",
       "  <thead>\n",
       "    <tr style=\"text-align: right;\">\n",
       "      <th></th>\n",
       "      <th>tags</th>\n",
       "      <th>times</th>\n",
       "      <th>errors</th>\n",
       "      <th>nb_errors</th>\n",
       "    </tr>\n",
       "  </thead>\n",
       "  <tbody>\n",
       "    <tr>\n",
       "      <th>0</th>\n",
       "      <td>svn</td>\n",
       "      <td>[2668, 3120, 219, 18183, 753, 274, 1878, 97265...</td>\n",
       "      <td>[-172172]</td>\n",
       "      <td>1</td>\n",
       "    </tr>\n",
       "    <tr>\n",
       "      <th>1</th>\n",
       "      <td>aptana</td>\n",
       "      <td>[2668, 48648, 2569790, 4443, 4394, 25947, 1354...</td>\n",
       "      <td>[]</td>\n",
       "      <td>0</td>\n",
       "    </tr>\n",
       "    <tr>\n",
       "      <th>2</th>\n",
       "      <td>subclipse</td>\n",
       "      <td>[2668, 1807, 1013, 323, 1582, 2159, 72539, 341...</td>\n",
       "      <td>[]</td>\n",
       "      <td>0</td>\n",
       "    </tr>\n",
       "    <tr>\n",
       "      <th>3</th>\n",
       "      <td>vector-graphics</td>\n",
       "      <td>[672, 52644, 148532, 336, 4682735, 4665, 1226,...</td>\n",
       "      <td>[]</td>\n",
       "      <td>0</td>\n",
       "    </tr>\n",
       "    <tr>\n",
       "      <th>4</th>\n",
       "      <td>asp.net-mvc</td>\n",
       "      <td>[432, 209, 181, 204, 158, 703, 458, 163, 1123,...</td>\n",
       "      <td>[-2735, -407]</td>\n",
       "      <td>2</td>\n",
       "    </tr>\n",
       "  </tbody>\n",
       "</table>\n",
       "</div>"
      ],
      "text/plain": [
       "              tags                                              times  \\\n",
       "0              svn  [2668, 3120, 219, 18183, 753, 274, 1878, 97265...   \n",
       "1           aptana  [2668, 48648, 2569790, 4443, 4394, 25947, 1354...   \n",
       "2        subclipse  [2668, 1807, 1013, 323, 1582, 2159, 72539, 341...   \n",
       "3  vector-graphics  [672, 52644, 148532, 336, 4682735, 4665, 1226,...   \n",
       "4      asp.net-mvc  [432, 209, 181, 204, 158, 703, 458, 163, 1123,...   \n",
       "\n",
       "          errors  nb_errors  \n",
       "0      [-172172]          1  \n",
       "1             []          0  \n",
       "2             []          0  \n",
       "3             []          0  \n",
       "4  [-2735, -407]          2  "
      ]
     },
     "execution_count": 36,
     "metadata": {},
     "output_type": "execute_result"
    }
   ],
   "source": [
    "tag_time_pd_df.head()"
   ]
  },
  {
   "cell_type": "markdown",
   "metadata": {},
   "source": [
    "We observe that some response time are negative, which means that the first answer to a question has beend posted before the question was even posted. This is clearly not possible and an error. Therefore, we remove those values from the response times.\n",
    "\n",
    "Our hypothesis about this kind of errors is that for some questions, the creation date has been replaced mistakingly by the last edition date of the question, therefore leading to negative response time for some answers."
   ]
  },
  {
   "cell_type": "code",
   "execution_count": 37,
   "metadata": {},
   "outputs": [],
   "source": [
    "def get_tag_times(tag_name):\n",
    "    \"\"\"Extract the information of the given tag from the tag_time_pdf_df table\"\"\"\n",
    "    \n",
    "    # Select tag row\n",
    "    tag_row = tag_time_pd_df[tag_time_pd_df['tags'] == tag_name]\n",
    "    \n",
    "    # Extract corresponding information\n",
    "    times = pd.DataFrame(tag_row['times'].values[0], columns=['times'])\n",
    "    errors = pd.DataFrame(tag_row['errors'].values[0], columns=['times'])\n",
    "    percentage_errors = tag_row['nb_errors'] / (times.shape[0] + tag_row['nb_errors'])\n",
    "    return times, errors, percentage_errors"
   ]
  },
  {
   "cell_type": "code",
   "execution_count": 38,
   "metadata": {
    "scrolled": true
   },
   "outputs": [
    {
     "name": "stdout",
     "output_type": "stream",
     "text": [
      "Python error percentage: 0.000030\n",
      "Java error percentage: 0.000050\n"
     ]
    }
   ],
   "source": [
    "# Get information related to python questions\n",
    "python_times, python_errors, python_percent_err = get_tag_times('python')\n",
    "\n",
    "# Get information related to java questions\n",
    "java_times, java_errors, java_percent_err = get_tag_times('java')\n",
    "\n",
    "print('Python error percentage: %f' % python_percent_err)\n",
    "print('Java error percentage: %f' % java_percent_err)"
   ]
  },
  {
   "cell_type": "markdown",
   "metadata": {},
   "source": [
    "Notice that the number of value discarded compared to the number of values kept is tiny and our results will not be influenced by this."
   ]
  },
  {
   "cell_type": "code",
   "execution_count": 39,
   "metadata": {},
   "outputs": [
    {
     "name": "stdout",
     "output_type": "stream",
     "text": [
      "For Python, number of response time smaller than 10 seconds: 2308\n"
     ]
    }
   ],
   "source": [
    "print(\"For %s, number of response time smaller than 10 seconds: %d\" % ('Python', python_times[python_times['times'] <= 10]['times'].shape[0]))"
   ]
  },
  {
   "cell_type": "code",
   "execution_count": 40,
   "metadata": {},
   "outputs": [
    {
     "name": "stdout",
     "output_type": "stream",
     "text": [
      "For Java, number of response time smaller than 10 seconds: 2235\n"
     ]
    }
   ],
   "source": [
    "print(\"For %s, number of response time smaller than 10 seconds: %d\" % ('Java', java_times[java_times['times'] <= 10]['times'].shape[0]))"
   ]
  },
  {
   "cell_type": "markdown",
   "metadata": {},
   "source": [
    "Notice also that some answer times are very small. We do not discard them even though it is very unlikely that some questions were answered as soon as they were posted."
   ]
  },
  {
   "cell_type": "markdown",
   "metadata": {},
   "source": [
    "We now display the response time values for python and java, as asked:"
   ]
  },
  {
   "cell_type": "code",
   "execution_count": 41,
   "metadata": {},
   "outputs": [
    {
     "data": {
      "text/html": [
       "<div>\n",
       "<style scoped>\n",
       "    .dataframe tbody tr th:only-of-type {\n",
       "        vertical-align: middle;\n",
       "    }\n",
       "\n",
       "    .dataframe tbody tr th {\n",
       "        vertical-align: top;\n",
       "    }\n",
       "\n",
       "    .dataframe thead th {\n",
       "        text-align: right;\n",
       "    }\n",
       "</style>\n",
       "<table border=\"1\" class=\"dataframe\">\n",
       "  <thead>\n",
       "    <tr style=\"text-align: right;\">\n",
       "      <th></th>\n",
       "      <th>0</th>\n",
       "      <th>1</th>\n",
       "      <th>2</th>\n",
       "      <th>3</th>\n",
       "      <th>4</th>\n",
       "      <th>5</th>\n",
       "      <th>6</th>\n",
       "      <th>7</th>\n",
       "      <th>8</th>\n",
       "      <th>9</th>\n",
       "      <th>...</th>\n",
       "      <th>830125</th>\n",
       "      <th>830126</th>\n",
       "      <th>830127</th>\n",
       "      <th>830128</th>\n",
       "      <th>830129</th>\n",
       "      <th>830130</th>\n",
       "      <th>830131</th>\n",
       "      <th>830132</th>\n",
       "      <th>830133</th>\n",
       "      <th>830134</th>\n",
       "    </tr>\n",
       "  </thead>\n",
       "  <tbody>\n",
       "    <tr>\n",
       "      <th>times</th>\n",
       "      <td>580</td>\n",
       "      <td>2533</td>\n",
       "      <td>1680</td>\n",
       "      <td>183</td>\n",
       "      <td>1262</td>\n",
       "      <td>67</td>\n",
       "      <td>2877</td>\n",
       "      <td>512</td>\n",
       "      <td>19518</td>\n",
       "      <td>13088</td>\n",
       "      <td>...</td>\n",
       "      <td>179</td>\n",
       "      <td>840</td>\n",
       "      <td>259492</td>\n",
       "      <td>219</td>\n",
       "      <td>87722</td>\n",
       "      <td>149</td>\n",
       "      <td>1240</td>\n",
       "      <td>8033</td>\n",
       "      <td>19617</td>\n",
       "      <td>1063</td>\n",
       "    </tr>\n",
       "  </tbody>\n",
       "</table>\n",
       "<p>1 rows × 830135 columns</p>\n",
       "</div>"
      ],
      "text/plain": [
       "       0       1       2       3       4       5       6       7       8       \\\n",
       "times     580    2533    1680     183    1262      67    2877     512   19518   \n",
       "\n",
       "       9        ...    830125  830126  830127  830128  830129  830130  830131  \\\n",
       "times   13088   ...       179     840  259492     219   87722     149    1240   \n",
       "\n",
       "       830132  830133  830134  \n",
       "times    8033   19617    1063  \n",
       "\n",
       "[1 rows x 830135 columns]"
      ]
     },
     "execution_count": 41,
     "metadata": {},
     "output_type": "execute_result"
    }
   ],
   "source": [
    "python_times.T"
   ]
  },
  {
   "cell_type": "code",
   "execution_count": 42,
   "metadata": {},
   "outputs": [
    {
     "data": {
      "text/html": [
       "<div>\n",
       "<style scoped>\n",
       "    .dataframe tbody tr th:only-of-type {\n",
       "        vertical-align: middle;\n",
       "    }\n",
       "\n",
       "    .dataframe tbody tr th {\n",
       "        vertical-align: top;\n",
       "    }\n",
       "\n",
       "    .dataframe thead th {\n",
       "        text-align: right;\n",
       "    }\n",
       "</style>\n",
       "<table border=\"1\" class=\"dataframe\">\n",
       "  <thead>\n",
       "    <tr style=\"text-align: right;\">\n",
       "      <th></th>\n",
       "      <th>0</th>\n",
       "      <th>1</th>\n",
       "      <th>2</th>\n",
       "      <th>3</th>\n",
       "      <th>4</th>\n",
       "      <th>5</th>\n",
       "      <th>6</th>\n",
       "      <th>7</th>\n",
       "      <th>8</th>\n",
       "      <th>9</th>\n",
       "      <th>...</th>\n",
       "      <th>1179001</th>\n",
       "      <th>1179002</th>\n",
       "      <th>1179003</th>\n",
       "      <th>1179004</th>\n",
       "      <th>1179005</th>\n",
       "      <th>1179006</th>\n",
       "      <th>1179007</th>\n",
       "      <th>1179008</th>\n",
       "      <th>1179009</th>\n",
       "      <th>1179010</th>\n",
       "    </tr>\n",
       "  </thead>\n",
       "  <tbody>\n",
       "    <tr>\n",
       "      <th>times</th>\n",
       "      <td>131</td>\n",
       "      <td>1683</td>\n",
       "      <td>118</td>\n",
       "      <td>417</td>\n",
       "      <td>802</td>\n",
       "      <td>212</td>\n",
       "      <td>227</td>\n",
       "      <td>835</td>\n",
       "      <td>155</td>\n",
       "      <td>1243047</td>\n",
       "      <td>...</td>\n",
       "      <td>301</td>\n",
       "      <td>309</td>\n",
       "      <td>3219</td>\n",
       "      <td>2765</td>\n",
       "      <td>959</td>\n",
       "      <td>708</td>\n",
       "      <td>5716</td>\n",
       "      <td>573</td>\n",
       "      <td>71438</td>\n",
       "      <td>2857</td>\n",
       "    </tr>\n",
       "  </tbody>\n",
       "</table>\n",
       "<p>1 rows × 1179011 columns</p>\n",
       "</div>"
      ],
      "text/plain": [
       "       0        1        2        3        4        5        6        7        \\\n",
       "times      131     1683      118      417      802      212      227      835   \n",
       "\n",
       "       8        9         ...     1179001  1179002  1179003  1179004  1179005  \\\n",
       "times      155  1243047   ...         301      309     3219     2765      959   \n",
       "\n",
       "       1179006  1179007  1179008  1179009  1179010  \n",
       "times      708     5716      573    71438     2857  \n",
       "\n",
       "[1 rows x 1179011 columns]"
      ]
     },
     "execution_count": 42,
     "metadata": {},
     "output_type": "execute_result"
    }
   ],
   "source": [
    "java_times.T"
   ]
  },
  {
   "cell_type": "markdown",
   "metadata": {},
   "source": [
    "### Question 2:"
   ]
  },
  {
   "cell_type": "markdown",
   "metadata": {},
   "source": [
    "> Plot the two distributions in an appropriate format. What do you observe? Describe your findings and discuss the following distribution properties: mean, median, standard deviation."
   ]
  },
  {
   "cell_type": "markdown",
   "metadata": {},
   "source": [
    "First, we compute the tags distribution properties for all the tags."
   ]
  },
  {
   "cell_type": "code",
   "execution_count": 43,
   "metadata": {},
   "outputs": [],
   "source": [
    "def tag_distrib_properties(tags_time_df):\n",
    "    \"\"\"Compute the mean, standard deviation and median of the response times for each tag\"\"\"\n",
    "    times = tags_time_df['times']\n",
    "    properties = times.apply(lambda d: (np.mean(d), np.std(d), np.median(d)))\n",
    "    return pd.DataFrame.from_records(list(properties.values), columns=['mean', 'std', 'median'], index=tags_time_df.tags.values)"
   ]
  },
  {
   "cell_type": "code",
   "execution_count": 44,
   "metadata": {
    "scrolled": true
   },
   "outputs": [
    {
     "data": {
      "text/html": [
       "<div>\n",
       "<style scoped>\n",
       "    .dataframe tbody tr th:only-of-type {\n",
       "        vertical-align: middle;\n",
       "    }\n",
       "\n",
       "    .dataframe tbody tr th {\n",
       "        vertical-align: top;\n",
       "    }\n",
       "\n",
       "    .dataframe thead th {\n",
       "        text-align: right;\n",
       "    }\n",
       "</style>\n",
       "<table border=\"1\" class=\"dataframe\">\n",
       "  <thead>\n",
       "    <tr style=\"text-align: right;\">\n",
       "      <th></th>\n",
       "      <th>mean</th>\n",
       "      <th>std</th>\n",
       "      <th>median</th>\n",
       "    </tr>\n",
       "  </thead>\n",
       "  <tbody>\n",
       "    <tr>\n",
       "      <th>svn</th>\n",
       "      <td>1.465979e+06</td>\n",
       "      <td>8.851508e+06</td>\n",
       "      <td>2458.0</td>\n",
       "    </tr>\n",
       "    <tr>\n",
       "      <th>aptana</th>\n",
       "      <td>4.174952e+06</td>\n",
       "      <td>1.318566e+07</td>\n",
       "      <td>52577.0</td>\n",
       "    </tr>\n",
       "    <tr>\n",
       "      <th>subclipse</th>\n",
       "      <td>8.992946e+05</td>\n",
       "      <td>6.407923e+06</td>\n",
       "      <td>4687.0</td>\n",
       "    </tr>\n",
       "    <tr>\n",
       "      <th>vector-graphics</th>\n",
       "      <td>2.295169e+06</td>\n",
       "      <td>1.088313e+07</td>\n",
       "      <td>7585.0</td>\n",
       "    </tr>\n",
       "    <tr>\n",
       "      <th>asp.net-mvc</th>\n",
       "      <td>8.920512e+05</td>\n",
       "      <td>6.393655e+06</td>\n",
       "      <td>1715.0</td>\n",
       "    </tr>\n",
       "  </tbody>\n",
       "</table>\n",
       "</div>"
      ],
      "text/plain": [
       "                         mean           std   median\n",
       "svn              1.465979e+06  8.851508e+06   2458.0\n",
       "aptana           4.174952e+06  1.318566e+07  52577.0\n",
       "subclipse        8.992946e+05  6.407923e+06   4687.0\n",
       "vector-graphics  2.295169e+06  1.088313e+07   7585.0\n",
       "asp.net-mvc      8.920512e+05  6.393655e+06   1715.0"
      ]
     },
     "execution_count": 44,
     "metadata": {},
     "output_type": "execute_result"
    }
   ],
   "source": [
    "# Compute the tags distribution basic properties\n",
    "tags_properties = tag_distrib_properties(tag_time_pd_df)\n",
    "\n",
    "# Display the first rows\n",
    "tags_properties.head()"
   ]
  },
  {
   "cell_type": "markdown",
   "metadata": {},
   "source": [
    "Now, we plot the response time distribution for the tags \"python\" and \"java\"."
   ]
  },
  {
   "cell_type": "code",
   "execution_count": 45,
   "metadata": {
    "scrolled": true
   },
   "outputs": [
    {
     "data": {
      "image/png": "[encoded data removed]",
      "text/plain": [
       "<Figure size 720x288 with 2 Axes>"
      ]
     },
     "metadata": {
      "needs_background": "light"
     },
     "output_type": "display_data"
    }
   ],
   "source": [
    "fig, (ax1,ax2) = plt.subplots(1,2, figsize=(10,4))\n",
    "python_times.plot(kind='hist', bins=100, legend=False, ax=ax1)\n",
    "ax1.set_title('Python response times')\n",
    "ax1.set_xlabel('Response time [s]')\n",
    "\n",
    "java_times.plot(kind='hist', bins=100, legend=False, ax=ax2)\n",
    "ax2.set_title('Java response times')\n",
    "ax2.set_xlabel('Response time [s]')\n",
    "\n",
    "plt.tight_layout()"
   ]
  },
  {
   "cell_type": "markdown",
   "metadata": {},
   "source": [
    "These plots are not really readable and they do look alike. We observe that a lot of response time seem to be rather small. However, we notice that the x-axis is of magnitude order 1e8, which is huge. This makes the plot even less readable.\n",
    "\n",
    "To circumvent this problem, we plot the same distributions, but with a log y-axis."
   ]
  },
  {
   "cell_type": "code",
   "execution_count": 46,
   "metadata": {
    "scrolled": true
   },
   "outputs": [
    {
     "data": {
      "image/png": "[encoded data removed]",
      "text/plain": [
       "<Figure size 720x288 with 2 Axes>"
      ]
     },
     "metadata": {
      "needs_background": "light"
     },
     "output_type": "display_data"
    }
   ],
   "source": [
    "fig, (ax1,ax2) = plt.subplots(1,2, figsize=(10,4))\n",
    "python_times.plot(kind='hist', bins=100, logy=True, legend=False, ax=ax1)\n",
    "ax1.set_title('Python response times')\n",
    "ax1.set_xlabel('Response time [s]')\n",
    "\n",
    "java_times.plot(kind='hist', bins=100, logy=True, legend=False, ax=ax2)\n",
    "ax2.set_title('Java response times')\n",
    "ax2.set_xlabel('Response time [s]')\n",
    "\n",
    "plt.tight_layout()"
   ]
  },
  {
   "cell_type": "markdown",
   "metadata": {},
   "source": [
    "The plots are now more readable than before, but still hard to read. We notice that the two distributions still look alike as they both display a lot of rather small values and a few big values.\n",
    "\n",
    "The distributions look like they could follow power laws. We draw again the plot this time taking the log of both axis in order to visually detect a power law behavior."
   ]
  },
  {
   "cell_type": "code",
   "execution_count": 47,
   "metadata": {},
   "outputs": [],
   "source": [
    "def loglog_hist(values, title, xlabel, ylabel, ax, bins=10):\n",
    "    \"\"\"Plot a the line of a loglog histogram\"\"\"\n",
    "    y, bins = np.histogram(values, bins=bins)\n",
    "    x = (bins[1:] + bins[:-1]) / 2\n",
    "    ax.loglog(x, y)\n",
    "    ax.set_title(title)\n",
    "    ax.set_xlabel(xlabel)\n",
    "    ax.set_ylabel(ylabel)"
   ]
  },
  {
   "cell_type": "code",
   "execution_count": 48,
   "metadata": {
    "scrolled": false
   },
   "outputs": [
    {
     "data": {
      "image/png": "[encoded data removed]",
      "text/plain": [
       "<Figure size 720x288 with 2 Axes>"
      ]
     },
     "metadata": {
      "needs_background": "light"
     },
     "output_type": "display_data"
    }
   ],
   "source": [
    "fig, (ax1,ax2) = plt.subplots(1,2, figsize=(10,4))\n",
    "loglog_hist(python_times['times'].values, 'Python first answer response time', 'Response time [s]', 'Number of occurrences', ax1)\n",
    "loglog_hist(java_times['times'].values, 'Java first answer response time', 'Response time [s]', 'Number of occurrences', ax2)"
   ]
  },
  {
   "cell_type": "markdown",
   "metadata": {},
   "source": [
    "The plots are now a little bit more readable. For both distributions, the graphs almost draw a straight line. Therefore, it is highly possible that both of those distributions follow power laws."
   ]
  },
  {
   "cell_type": "markdown",
   "metadata": {},
   "source": [
    "As asked, we know display the basic properties of the two distributions of interest."
   ]
  },
  {
   "cell_type": "code",
   "execution_count": 49,
   "metadata": {
    "scrolled": false
   },
   "outputs": [
    {
     "data": {
      "text/html": [
       "<div>\n",
       "<style scoped>\n",
       "    .dataframe tbody tr th:only-of-type {\n",
       "        vertical-align: middle;\n",
       "    }\n",
       "\n",
       "    .dataframe tbody tr th {\n",
       "        vertical-align: top;\n",
       "    }\n",
       "\n",
       "    .dataframe thead th {\n",
       "        text-align: right;\n",
       "    }\n",
       "</style>\n",
       "<table border=\"1\" class=\"dataframe\">\n",
       "  <thead>\n",
       "    <tr style=\"text-align: right;\">\n",
       "      <th></th>\n",
       "      <th>mean</th>\n",
       "      <th>std</th>\n",
       "      <th>median</th>\n",
       "    </tr>\n",
       "  </thead>\n",
       "  <tbody>\n",
       "    <tr>\n",
       "      <th>python</th>\n",
       "      <td>981007.055443</td>\n",
       "      <td>6.899092e+06</td>\n",
       "      <td>1347.0</td>\n",
       "    </tr>\n",
       "    <tr>\n",
       "      <th>java</th>\n",
       "      <td>997017.613388</td>\n",
       "      <td>7.126554e+06</td>\n",
       "      <td>1218.0</td>\n",
       "    </tr>\n",
       "  </tbody>\n",
       "</table>\n",
       "</div>"
      ],
      "text/plain": [
       "                 mean           std  median\n",
       "python  981007.055443  6.899092e+06  1347.0\n",
       "java    997017.613388  7.126554e+06  1218.0"
      ]
     },
     "execution_count": 49,
     "metadata": {},
     "output_type": "execute_result"
    }
   ],
   "source": [
    "tags_properties.loc[['python', 'java']]"
   ]
  },
  {
   "cell_type": "markdown",
   "metadata": {},
   "source": [
    "We notice the following:\n",
    "1. Python has a lower mean than Java. This means that in average, people seems to respond faster to python related questions. However, we have to be careful not to draw conclusions too fast as the mean is very sensitive to outliers.\n",
    "2. Python has a lower standard deviation than Java. This means that the variation of response times around the mean is smaller for Python than for Java.\n",
    "3. Python has a higher median than Java. Half of the questions related to python are answered in less than 1347 seconds and half of the questions related to java are answered in less than 1218 seconds. Therefore, from this statistic, it is possible that java questions are answered in general faster than python questions, even though the java average is bigger than the python average"
   ]
  },
  {
   "cell_type": "markdown",
   "metadata": {},
   "source": [
    "### Question 3"
   ]
  },
  {
   "cell_type": "markdown",
   "metadata": {},
   "source": [
    "> We believe that the response time is lower for questions related to Python (compare to Java). Contradict or confirm this assumption by estimating the proper statistic with bootstrapping. Visualize the 95% confidence intervals with box plots and describe your findings."
   ]
  },
  {
   "cell_type": "markdown",
   "metadata": {},
   "source": [
    "We define here a function to perform bootstrapping on the data"
   ]
  },
  {
   "cell_type": "code",
   "execution_count": 50,
   "metadata": {},
   "outputs": [],
   "source": [
    "def bootstrap(data, sample_nb, funs={'mean': np.mean, 'std': np.std, 'median': np.median}):\n",
    "    \"\"\"Generate statistics for data using bootstrapping\"\"\"\n",
    "    \n",
    "    funs_results = {}\n",
    "    \n",
    "    # Initialize arrays\n",
    "    for key in funs.keys():\n",
    "        funs_results.setdefault(key, np.zeros(sample_nb))\n",
    "    \n",
    "    # Compute result values of given functions for each bootstrap\n",
    "    for i in range(sample_nb):\n",
    "        sample = np.random.choice(data, data.shape[0], replace=True)\n",
    "        for key, value in funs_results.items():\n",
    "            value[i] = funs[key](sample)\n",
    "            funs_results[key] = value\n",
    "            \n",
    "    # Compute mean and standard deviation of bootstrap samples for all functions\n",
    "    for key, value in funs_results.items():\n",
    "        mean_value = np.mean(value)\n",
    "        std_value = np.std(value)\n",
    "        funs_results[key] = (mean_value, std_value, value)\n",
    "        \n",
    "    return funs_results"
   ]
  },
  {
   "cell_type": "markdown",
   "metadata": {},
   "source": [
    "We define here a function to compute the confidence interval and overlaps"
   ]
  },
  {
   "cell_type": "code",
   "execution_count": 51,
   "metadata": {},
   "outputs": [],
   "source": [
    "def CI_intervals_overlapping(tag1_data, tag2_data, alpha=0.05):\n",
    "    \"\"\"Calculate confidence intervals of the data and check for overlapping\"\"\"\n",
    "    \n",
    "    # Compute 95% confidence interval for tag1\n",
    "    tag1_CI = (np.quantile(tag1_data, alpha/2), np.quantile(tag1_data, 1 - alpha/2))\n",
    "    (lower_tag1, upper_tag1) = tag1_CI\n",
    "    \n",
    "    # Compute 95% confidence interval for tag2\n",
    "    tag2_CI = (np.quantile(tag2_data, alpha/2), np.quantile(tag2_data, 1 - alpha/2))\n",
    "    (lower_tag2, upper_tag2) = tag2_CI\n",
    "    \n",
    "    # Check if tag1 confidence interval overlaps with tag2 confidence interval\n",
    "    overlapping = not ((lower_tag2 < lower_tag1 and upper_tag2 < lower_tag1)  \\\n",
    "                    or \\\n",
    "                    (lower_tag1 < lower_tag2 and upper_tag1 < lower_tag2))\n",
    "    \n",
    "    return tag1_CI, tag2_CI, overlapping"
   ]
  },
  {
   "cell_type": "markdown",
   "metadata": {},
   "source": [
    "We compute the bootstrap statistics:"
   ]
  },
  {
   "cell_type": "code",
   "execution_count": 52,
   "metadata": {},
   "outputs": [],
   "source": [
    "python_bootstrap = bootstrap(python_times['times'].values, 1000)\n",
    "java_bootstrap = bootstrap(java_times['times'].values, 1000)"
   ]
  },
  {
   "cell_type": "markdown",
   "metadata": {},
   "source": [
    "First, we analyze the mean of the two distributions:"
   ]
  },
  {
   "cell_type": "code",
   "execution_count": 53,
   "metadata": {
    "scrolled": true
   },
   "outputs": [
    {
     "data": {
      "image/png": "[encoded data removed]",
      "text/plain": [
       "<Figure size 1440x288 with 3 Axes>"
      ]
     },
     "metadata": {
      "needs_background": "light"
     },
     "output_type": "display_data"
    }
   ],
   "source": [
    "fig, (ax1,ax2,ax3) = plt.subplots(1,3, figsize=(20,4))\n",
    "ax1.hist(python_bootstrap['mean'][2])\n",
    "ax1.set_title('Python mean response time distribution')\n",
    "ax1.set_xlabel('Response time [s]')\n",
    "\n",
    "ax2.hist(java_bootstrap['mean'][2])\n",
    "ax2.set_title('Java mean response time distribution')\n",
    "ax2.set_xlabel('Response time [s]')\n",
    "\n",
    "ax3.boxplot([python_bootstrap['mean'][2], java_bootstrap['mean'][2]], vert=False)\n",
    "ax3.set_title('Python and Java mean distribution')\n",
    "ax3.set_xlabel('Response time [s]')\n",
    "ax3.set_yticklabels(['Python', 'Java'])\n",
    "\n",
    "plt.tight_layout()"
   ]
  },
  {
   "cell_type": "code",
   "execution_count": 54,
   "metadata": {},
   "outputs": [
    {
     "name": "stdout",
     "output_type": "stream",
     "text": [
      "Python mean CI: (965883.3895032133, 995723.4148444228)\n",
      "Java mean CI: (982978.5063381513, 1010302.1301591757)\n",
      "Mean CIs overlapping: True\n"
     ]
    }
   ],
   "source": [
    "python_mean_CI, java_mean_CI, mean_overlapping = CI_intervals_overlapping(python_bootstrap['mean'][2], \\\n",
    "                                                                          java_bootstrap['mean'][2])\n",
    "print(f'Python mean CI: {python_mean_CI}')\n",
    "print(f'Java mean CI: {java_mean_CI}')\n",
    "print(f'Mean CIs overlapping: {mean_overlapping}')"
   ]
  },
  {
   "cell_type": "markdown",
   "metadata": {},
   "source": [
    "We notice here that the confidence intervals of both distributions overlap. Therefore, we cannot conclude that the mean average response time for Python is lower than the mean average response time for Java. The box plots gives us the same information. So based on the overlapping confidence interval, we would reject the hypotheses that Python related questions have a lower response time than Java related questions."
   ]
  },
  {
   "cell_type": "markdown",
   "metadata": {},
   "source": [
    "Second, we analyze the standard deviation of the two distributions:"
   ]
  },
  {
   "cell_type": "code",
   "execution_count": 55,
   "metadata": {
    "scrolled": false
   },
   "outputs": [
    {
     "data": {
      "image/png": "[encoded data removed]",
      "text/plain": [
       "<Figure size 1440x288 with 3 Axes>"
      ]
     },
     "metadata": {
      "needs_background": "light"
     },
     "output_type": "display_data"
    }
   ],
   "source": [
    "fig, (ax1,ax2,ax3) = plt.subplots(1,3, figsize=(20,4))\n",
    "ax1.hist(python_bootstrap['std'][2])\n",
    "ax1.set_title('Python standard deviation response times distribution')\n",
    "ax1.set_xlabel('Response time [s]')\n",
    "\n",
    "ax2.hist(java_bootstrap['std'][2])\n",
    "ax2.set_title('Java standard deviation response times distribution')\n",
    "ax2.set_xlabel('Response time [s]')\n",
    "\n",
    "ax3.boxplot([python_bootstrap['std'][2], java_bootstrap['std'][2]], vert=False)\n",
    "ax3.set_title('Python and Java standard deviation distribution')\n",
    "ax3.set_xlabel('Response time [s]')\n",
    "ax3.set_yticklabels(['Python', 'Java'])\n",
    "\n",
    "plt.tight_layout()"
   ]
  },
  {
   "cell_type": "code",
   "execution_count": 56,
   "metadata": {
    "scrolled": true
   },
   "outputs": [
    {
     "name": "stdout",
     "output_type": "stream",
     "text": [
      "Python standard deviation CI: (6794876.902714843, 6995766.930631068)\n",
      "Java standard deviation CI: (7031894.013117907, 7228242.1548353955)\n",
      "Standard deviation CIs overlapping: False\n"
     ]
    }
   ],
   "source": [
    "python_std_CI, java_std_CI, std_overlapping = CI_intervals_overlapping(python_bootstrap['std'][2], \\\n",
    "                                                                          java_bootstrap['std'][2])\n",
    "print(f'Python standard deviation CI: {python_std_CI}')\n",
    "print(f'Java standard deviation CI: {java_std_CI}')\n",
    "print(f'Standard deviation CIs overlapping: {std_overlapping}')"
   ]
  },
  {
   "cell_type": "markdown",
   "metadata": {},
   "source": [
    "Although the distributions seem to overlap, the numerical values proves us they do not. This is hard to see in the boxplots as the 0.025 quantile and 0.975 quantile are not displayed on the boxplot. \n",
    "\n",
    "Although the two confidence intervals do not overlap, it is hard to conclude anything the difference about the speed of first response for the Python and Java tags as the standard deviation is a measure of the variation of the data. Therefore, we conclude here from the non overlapping that the two distributions almost surely do not have the same standard deviation."
   ]
  },
  {
   "cell_type": "markdown",
   "metadata": {},
   "source": [
    "Third, we analyze the median of the two distributions:"
   ]
  },
  {
   "cell_type": "code",
   "execution_count": 57,
   "metadata": {
    "scrolled": false
   },
   "outputs": [
    {
     "data": {
      "image/png": "[encoded data removed]",
      "text/plain": [
       "<Figure size 1440x288 with 3 Axes>"
      ]
     },
     "metadata": {
      "needs_background": "light"
     },
     "output_type": "display_data"
    }
   ],
   "source": [
    "fig, (ax1,ax2,ax3) = plt.subplots(1,3, figsize=(20,4))\n",
    "ax1.hist(python_bootstrap['median'][2])\n",
    "ax1.set_title('Python median response times distribution')\n",
    "ax1.set_xlabel('Response time [s]')\n",
    "\n",
    "ax2.hist(java_bootstrap['median'][2])\n",
    "ax2.set_title('Java median response times distribution')\n",
    "ax2.set_xlabel('Response time [s]')\n",
    "\n",
    "ax3.boxplot([python_bootstrap['median'][2], java_bootstrap['median'][2]], vert=False)\n",
    "ax3.set_title('Python and Java median distribution')\n",
    "ax3.set_xlabel('Response time [s]')\n",
    "ax3.set_yticklabels(['Python', 'Java'])\n",
    "\n",
    "plt.tight_layout()"
   ]
  },
  {
   "cell_type": "code",
   "execution_count": 58,
   "metadata": {},
   "outputs": [
    {
     "name": "stdout",
     "output_type": "stream",
     "text": [
      "Python mean median: 1346.898\n",
      "Java mean median: 1217.956\n",
      "Python median CI: (1340.0, 1355.0)\n",
      "Java median CI: (1212.0, 1224.0)\n",
      "Median CIs overlapping: False\n"
     ]
    }
   ],
   "source": [
    "python_median_CI, java_median_CI, median_overlapping = CI_intervals_overlapping(python_bootstrap['median'][2], \\\n",
    "                                                                          java_bootstrap['median'][2])\n",
    "python_mean_median = python_bootstrap['median'][0]\n",
    "java_mean_median = java_bootstrap['median'][0]\n",
    "print(f'Python mean median: {python_mean_median}')\n",
    "print(f'Java mean median: {java_mean_median}')\n",
    "print(f'Python median CI: {python_median_CI}')\n",
    "print(f'Java median CI: {java_median_CI}')\n",
    "print(f'Median CIs overlapping: {median_overlapping}')"
   ]
  },
  {
   "cell_type": "markdown",
   "metadata": {},
   "source": [
    "Here, we notice that the confidence intervals of the two distributions do not overlap at all. Although the 0.025 quantile and 0.975 quantile are not displayed on the boxplot, we can clearly see that the two median distributions do not overlap and are far apart.\n",
    "\n",
    "From these median observations and based on the non overlapping confidence intervals, it is pretty sure that the Python and Java response time distributions do not have the same median. Also, based on the mean value of the median, Java seems to have a faster response time for at least half of the questions related to it compared to Python. From this statistic, we would therefore reject the hypothesis that the Python response time is lower than the Java response time."
   ]
  },
  {
   "cell_type": "markdown",
   "metadata": {},
   "source": [
    "#### Overall conclusion\n",
    "Based on the different statistics we measured, it is not that easy to confirm or reject the hypotheses that the Python response time is lower than the Java response time.\n",
    "However, based on our previous arguments about the median and mean response time, we would reject the hypotheses.\n",
    "\n",
    "Finally, it is important to mention that as these two distributions seem to be governed by power laws, there might exist other more useful metrics to measure their difference. It is unclear wether using the mean or median is relevant in this case."
   ]
  },
  {
   "cell_type": "markdown",
   "metadata": {},
   "source": [
    "### Question 4"
   ]
  },
  {
   "cell_type": "markdown",
   "metadata": {},
   "source": [
    "> Repeat the first analysis (D1) by using the proper statistic to measure the response time for the tags that appear at least 5000 times. Plot the distribution of the 10 tags with the fastest response time."
   ]
  },
  {
   "cell_type": "markdown",
   "metadata": {},
   "source": [
    "We select the tags appearing in at least 5000 questions"
   ]
  },
  {
   "cell_type": "code",
   "execution_count": 59,
   "metadata": {},
   "outputs": [],
   "source": [
    "# Select tags of interest (with at least 5000 occurrences)\n",
    "frequent_tags_filter = tag_time_pd_df['times'].map(lambda d: len(d)) >= 5000\n",
    "frequent_tags_properties = tags_properties[frequent_tags_filter.values]"
   ]
  },
  {
   "cell_type": "markdown",
   "metadata": {},
   "source": [
    "We select the 10 top tags for the statistic of interest"
   ]
  },
  {
   "cell_type": "code",
   "execution_count": 60,
   "metadata": {},
   "outputs": [],
   "source": [
    "# Select 10 top tags with the fastest response time based on the mean statistic\n",
    "tags_mean_10_smallest = frequent_tags_properties['mean'].nsmallest(10)\n",
    "\n",
    "# Select 10 top tags with the fastest response time based on the median statistic\n",
    "tags_median_10_smallest = frequent_tags_properties['median'].nsmallest(10)"
   ]
  },
  {
   "cell_type": "markdown",
   "metadata": {},
   "source": [
    "We now plot the top 10 tags with the fastest response time using the two statistics of interest:"
   ]
  },
  {
   "cell_type": "code",
   "execution_count": 61,
   "metadata": {
    "scrolled": false
   },
   "outputs": [
    {
     "data": {
      "image/png": "[encoded data removed]",
      "text/plain": [
       "<Figure size 1440x720 with 2 Axes>"
      ]
     },
     "metadata": {
      "needs_background": "light"
     },
     "output_type": "display_data"
    }
   ],
   "source": [
    "fig, (ax1,ax2) = plt.subplots(1,2, figsize=(20,10))\n",
    "tags_mean_10_smallest.plot(kind='barh', ax=ax1)\n",
    "ax1.set_title('Mean response times ranking')\n",
    "ax1.set_xlabel('Response time [s]')\n",
    "ax1.set_ylabel('Tag')\n",
    "\n",
    "tags_median_10_smallest.plot(kind='barh', ax=ax2)\n",
    "ax2.set_title('Median response times ranking')\n",
    "ax2.set_xlabel('Response time [s]')\n",
    "ax2.set_ylabel('Tag')\n",
    "plt.tight_layout()"
   ]
  },
  {
   "cell_type": "code",
   "execution_count": 62,
   "metadata": {},
   "outputs": [
    {
     "data": {
      "text/plain": [
       "{'int', 'pointers'}"
      ]
     },
     "execution_count": 62,
     "metadata": {},
     "output_type": "execute_result"
    }
   ],
   "source": [
    "set(tags_mean_10_smallest.index.values).intersection(set(tags_median_10_smallest.index.values))"
   ]
  },
  {
   "cell_type": "markdown",
   "metadata": {},
   "source": [
    "We observe that based on the statistic we decide to use, the top 10 tags with the fastest response time are almost all different. Only the tag \"int\" and the tag \"pointers\" appears in both tops 10 tags with fastest response time."
   ]
  },
  {
   "cell_type": "markdown",
   "metadata": {},
   "source": [
    "### Task E: What's up with PySpark?\n",
    "The number of questions asked regarding a specific topic reflect the public’s interest on it. We are interested on the popularity of PySpark. Compute and plot the number of questions with the ```pyspark``` tag for 30-day time intervals. Do you notice any trend over time? Is there any correlation between time and number of questions?\n"
   ]
  },
  {
   "cell_type": "markdown",
   "metadata": {},
   "source": [
    "Similars steps as the one done in task C can be accomplished in order to retrieve all the questions regarding pyspark (i.e. filtering the tag, joining them with the questions and keeping only relevant columns) : "
   ]
  },
  {
   "cell_type": "code",
   "execution_count": 63,
   "metadata": {},
   "outputs": [
    {
     "name": "stdout",
     "output_type": "stream",
     "text": [
      "+--------------------+\n",
      "|        CreationDate|\n",
      "+--------------------+\n",
      "|2015-04-22 22:49:...|\n",
      "|2015-08-25 19:55:...|\n",
      "|2015-09-16 12:28:...|\n",
      "|2015-10-16 14:48:...|\n",
      "|2015-12-28 13:12:...|\n",
      "|2016-03-09 18:13:...|\n",
      "|2016-03-18 07:19:...|\n",
      "|2016-04-01 06:37:...|\n",
      "|2016-04-19 00:14:...|\n",
      "|2016-04-19 20:27:...|\n",
      "|2016-04-22 17:07:...|\n",
      "|2016-04-25 07:42:...|\n",
      "|2016-05-03 17:36:...|\n",
      "|2016-05-10 19:35:...|\n",
      "|2016-05-17 08:04:...|\n",
      "|2016-05-31 21:54:...|\n",
      "|2016-06-26 17:04:...|\n",
      "|2016-09-14 14:31:...|\n",
      "|2016-09-17 18:10:...|\n",
      "|2016-10-15 17:47:...|\n",
      "+--------------------+\n",
      "only showing top 20 rows\n",
      "\n"
     ]
    }
   ],
   "source": [
    "pys_tag = tags_df.filter('Tag == \"pyspark\"')\n",
    "q_df = questions_df.select('Id', 'CreationDate')\n",
    "pyspark_questions = pys_tag.join(q_df, q_df.Id==pys_tag.QuestionId).select('CreationDate')\n",
    "pyspark_questions.show()"
   ]
  },
  {
   "cell_type": "markdown",
   "metadata": {},
   "source": [
    "In order to count all questions happening on intervals of 30 days, we need to retrieve the most recent question about pyspark of the dataset, which will give us a starting point upon which 30 days interval will be built on to count the questions.\n",
    "\n",
    "The maximum date value is used instead of the minimum date for the following reason: \n",
    "\n",
    "If the range of time between the max and minimum date is not a multiple of 30, we will inevitably get some questions matched to a time interval of less than 30 days. \n",
    "In other word, If we choose to start counting 30 days time interval starting from the minimum/first date, then the last 30 day time interval will feature the max/last date (probably the date at which the dataset was dumped) likely in the middle of the interval, and no other question after that point. We can't predict the future, so questions might have been asked after that point, however we know the past, so we can assume that no questions were asked about pyspark before the first date (assumption confirmed later as the earliest post happens around the release time of Spark). Thus, if the first question falls in the middle of a 30 day interval, this will not miscompute how much questions were asked on the current 30 day, as we are sure no question were asked before this date on the interval."
   ]
  },
  {
   "cell_type": "code",
   "execution_count": 64,
   "metadata": {},
   "outputs": [],
   "source": [
    "max_date = pyspark_questions.select(func.max(\"CreationDate\")).first()"
   ]
  },
  {
   "cell_type": "markdown",
   "metadata": {},
   "source": [
    "We will now use simple datetime arithmetic in order to match each date to the last day of its corresponding 30 day time interval. Thus we will be able to group all indentical dates and obtain a count for each of the 30 day interval."
   ]
  },
  {
   "cell_type": "code",
   "execution_count": 65,
   "metadata": {},
   "outputs": [
    {
     "data": {
      "text/plain": [
       "2014-04-26 03:37:35.220     1\n",
       "2014-08-24 03:37:35.220     1\n",
       "2014-10-23 03:37:35.220     2\n",
       "2014-11-22 03:37:35.220     6\n",
       "2014-12-22 03:37:35.220     1\n",
       "2015-01-21 03:37:35.220     6\n",
       "2015-02-20 03:37:35.220    15\n",
       "2015-03-22 03:37:35.220    27\n",
       "2015-04-21 03:37:35.220    45\n",
       "2015-05-21 03:37:35.220    56\n",
       "Name: question_number, dtype: int64"
      ]
     },
     "execution_count": 65,
     "metadata": {},
     "output_type": "execute_result"
    }
   ],
   "source": [
    "def to_first_day_in_30_day_bin(curr_date, max_date):\n",
    "    '''\n",
    "    Using datetime operations, this function will according to the max_date given, match curr_date\n",
    "    to the closest day that is in a multiple of 30 days before max_date.\n",
    "    \n",
    "    For example, if we have as max_date the 2nd of February 2002 (02/02/2000), and as curr_date\n",
    "    the first of January 2000 (01/01/2000), it will transform the latter into the date which is \n",
    "    30 day before the former, i.e. the 3rd of January :\n",
    "    to_first_day_in_230_day_bin(datetime(2000, 1, 1), datetime(2000,2,2)) == datetime(2000, 1, 3)\n",
    "    '''\n",
    "    return max_date - dt.timedelta((((max_date-curr_date)/30).days * 30), 0, 0)\n",
    "        \n",
    "dates_count_dict = dict(pyspark_questions.rdd.map(lambda row: to_first_day_in_30_day_bin(row[0], max_date[0])).countByValue())\n",
    "dates_count_serie = pd.Series(dates_count_dict, name='question_number').sort_index()\n",
    "dates_count_serie.head(10)"
   ]
  },
  {
   "cell_type": "markdown",
   "metadata": {},
   "source": [
    "We used pandas Series to store the counted number of question per interval of 30 day in order to later use the nice plotting function offered from the library.\n",
    "\n",
    "However before plotting, we need to adress the fact that 30-day intervals with 0 questions are not present in our Series (which is logical, since absence of question were not counted by countByValue). This happenend in our case. As it is observable above, there were no question about pyspark on the months of May, June, July and September 2014, thus their corresponding 30 day interval are missing from our Series. We need to add them with the count of 0, so the plot produced by the Series won't suffer from non-linear time index."
   ]
  },
  {
   "cell_type": "code",
   "execution_count": 66,
   "metadata": {},
   "outputs": [
    {
     "data": {
      "text/plain": [
       "2014-04-26 03:37:35.220    1\n",
       "2014-05-26 03:37:35.220    0\n",
       "2014-06-25 03:37:35.220    0\n",
       "2014-07-25 03:37:35.220    0\n",
       "2014-08-24 03:37:35.220    1\n",
       "2014-09-23 03:37:35.220    0\n",
       "2014-10-23 03:37:35.220    2\n",
       "2014-11-22 03:37:35.220    6\n",
       "2014-12-22 03:37:35.220    1\n",
       "2015-01-21 03:37:35.220    6\n",
       "Name: question_number, dtype: int64"
      ]
     },
     "execution_count": 66,
     "metadata": {},
     "output_type": "execute_result"
    }
   ],
   "source": [
    "def generate_missing_months(left_date, right_date, mm_dict):\n",
    "    '''\n",
    "    will generate all missing 30 day intervals between the two date given as parameters\n",
    "    Not all month last 30 days, but for simplicity, the term \"month\" is used here interchangeably\n",
    "    with the term \"30 days interval\"\n",
    "    \n",
    "    Parameters\n",
    "    __________\n",
    "    left_date : the earliest of the two date to check\n",
    "    right_date : the most recent of the two dates\n",
    "    mm_dict : dict in which the missing month are added to with a count value of 0.\n",
    "    \n",
    "    '''\n",
    "    thirty_day_delta = dt.timedelta(30, 0 , 0)\n",
    "    day_diff = (right_date - left_date).days\n",
    "    if day_diff > 30:\n",
    "        nmb_missing_month = int(np.floor(day_diff/30))\n",
    "        start_date = left_date\n",
    "        for n in range(1, nmb_missing_month):\n",
    "            start_date += thirty_day_delta\n",
    "            mm_dict[start_date] = 0    \n",
    "    #if the day diff is <= 30, then no need to generate a missing 30 day time interval.\n",
    "\n",
    "\n",
    "missing_month_dict = {}\n",
    "for d1, d2 in zip(dates_count_serie.index[:-1], dates_count_serie.index[1:]):\n",
    "    generate_missing_months(d1, d2, missing_month_dict)\n",
    "\n",
    "#we then append simply convert our dict of missing month into \n",
    "dates_count_serie = dates_count_serie.append(pd.Series(missing_month_dict, name='question_number')).sort_index()\n",
    "dates_count_serie.head(10)"
   ]
  },
  {
   "cell_type": "markdown",
   "metadata": {},
   "source": [
    "Now that the missing 30 days interval were added back to the panda Series, we can finally plot the result:"
   ]
  },
  {
   "cell_type": "code",
   "execution_count": 67,
   "metadata": {},
   "outputs": [
    {
     "data": {
      "text/plain": [
       "<matplotlib.axes._subplots.AxesSubplot at 0x7f4ffc619e80>"
      ]
     },
     "execution_count": 67,
     "metadata": {},
     "output_type": "execute_result"
    },
    {
     "data": {
      "image/png": "[encoded data removed]",
      "text/plain": [
       "<Figure size 1296x576 with 1 Axes>"
      ]
     },
     "metadata": {
      "needs_background": "light"
     },
     "output_type": "display_data"
    }
   ],
   "source": [
    "dates_count_serie.plot(kind='line', title='Number of StackOverflow questions bearing the \"pyspark\" tag through time', figsize=(18,8))"
   ]
  },
  {
   "cell_type": "markdown",
   "metadata": {},
   "source": [
    "According to [Spark's wikipedia page](https://en.wikipedia.org/wiki/Apache_Spark), the library initial release was on May 2014, which is corroborated by the plot, as the first question about the pyspark was recorded at the end of April 2014. \n",
    "\n",
    "> Do you notice any trend over time?\n",
    "\n",
    "The tag seems to have gained more and more popularatiy as the number of question steadily increases as the months pass. Visually, after a slow start, Spark seems to have started trending around mid 2015, only one year after the first release.\n",
    "\n",
    "> Is there any correlation between time and number of questions?\n",
    "\n",
    "The visual result seems to imply a high correlation between number of questions and time. We can compute the Pearson coefficient in order to have some mathematically confirmation about a possible correlation:"
   ]
  },
  {
   "cell_type": "code",
   "execution_count": 68,
   "metadata": {},
   "outputs": [
    {
     "name": "stdout",
     "output_type": "stream",
     "text": [
      "The correlation coefficient is : 0.976 with p-value 3.43E-36\n"
     ]
    }
   ],
   "source": [
    "#the Pearson formula expect numerical values to detect a correlation between two variables,\n",
    "#so we will reset the index of the series of date count to get a numerical index of the months\n",
    "#which will constitutes the first variable of the correlation computation\n",
    "mnumber_qnumber = pd.DataFrame(dates_count_serie).reset_index().rename({'index':'date'}, axis=1).reset_index().rename({'index':'month_number'}, axis=1)\n",
    "display_pearson(mnumber_qnumber, 'month_number', 'question_number')"
   ]
  },
  {
   "cell_type": "markdown",
   "metadata": {},
   "source": [
    "The correlation coefficient being almost 1, and the p-value absurdly close to 0 confirms our intuition that time and number of question about pyspark are correlated."
   ]
  }
 ],
 "metadata": {
  "kernelspec": {
   "display_name": "Python [default]",
   "language": "python",
   "name": "python3"
  },
  "language_info": {
   "codemirror_mode": {
    "name": "ipython",
    "version": 3
   },
   "file_extension": ".py",
   "mimetype": "text/x-python",
   "name": "python",
   "nbconvert_exporter": "python",
   "pygments_lexer": "ipython3",
   "version": "3.7.0"
  }
 },
 "nbformat": 4,
 "nbformat_minor": 2
}
